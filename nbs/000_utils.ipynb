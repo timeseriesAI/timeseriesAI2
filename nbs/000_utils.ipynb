{
 "cells": [
  {
   "cell_type": "code",
   "execution_count": 71,
   "metadata": {
    "ExecuteTime": {
     "end_time": "2020-03-30T07:14:01.200170Z",
     "start_time": "2020-03-30T07:14:01.115834Z"
    }
   },
   "outputs": [],
   "source": [
    "# default_exp utils"
   ]
  },
  {
   "cell_type": "markdown",
   "metadata": {},
   "source": [
    "# Utilities\n",
    "\n",
    "> Helper functions used throughout the library not related to timeseries data."
   ]
  },
  {
   "cell_type": "code",
   "execution_count": 72,
   "metadata": {
    "ExecuteTime": {
     "end_time": "2020-03-30T07:14:01.289118Z",
     "start_time": "2020-03-30T07:14:01.215969Z"
    }
   },
   "outputs": [
    {
     "data": {
      "text/html": [
       "<style>.container { width:95% !important; }</style>"
      ],
      "text/plain": [
       "<IPython.core.display.HTML object>"
      ]
     },
     "metadata": {},
     "output_type": "display_data"
    }
   ],
   "source": [
    "#hide\n",
    "from nbdev.showdoc import *\n",
    "from IPython.display import display, HTML\n",
    "display(HTML(\"<style>.container { width:95% !important; }</style>\"))"
   ]
  },
  {
   "cell_type": "code",
   "execution_count": 73,
   "metadata": {
    "ExecuteTime": {
     "end_time": "2020-03-30T07:14:01.342847Z",
     "start_time": "2020-03-30T07:14:01.303074Z"
    }
   },
   "outputs": [],
   "source": [
    "#export\n",
    "from timeseries.imports import *"
   ]
  },
  {
   "cell_type": "code",
   "execution_count": 74,
   "metadata": {
    "ExecuteTime": {
     "end_time": "2020-03-30T07:14:05.245941Z",
     "start_time": "2020-03-30T07:14:01.356204Z"
    }
   },
   "outputs": [],
   "source": [
    "#export\n",
    "def ToTensor(o):\n",
    "    if isinstance(o, torch.Tensor): return o\n",
    "    elif isinstance(o, np.ndarray):  return torch.from_numpy(o)\n",
    "    assert False, f\"Can't convert {type(o)} to torch.Tensor\"\n",
    "\n",
    "\n",
    "def ToArray(o):\n",
    "    if isinstance(o, np.ndarray): return o\n",
    "    elif isinstance(o, torch.Tensor): return o.cpu().numpy()\n",
    "    assert False, f\"Can't convert {type(o)} to np.array\"\n",
    "\n",
    "\n",
    "def To3DTensor(o):\n",
    "    o = ToTensor(o)\n",
    "    if o.ndim == 3: return o\n",
    "    elif o.ndim == 1: return o[None, None]\n",
    "    elif o.ndim == 2: return o[:, None]\n",
    "    assert False, f'Please, review input dimensions {o.ndim}'\n",
    "\n",
    "\n",
    "def To2DTensor(o):\n",
    "    o = ToTensor(o)\n",
    "    if o.ndim == 2: return o\n",
    "    elif o.ndim == 1: return o[None]\n",
    "    elif o.ndim == 3: return torch.squeeze(o, 0)\n",
    "    assert False, f'Please, review input dimensions {o.ndim}'\n",
    "\n",
    "\n",
    "def To1DTensor(o):\n",
    "    o = ToTensor(o)\n",
    "    if o.ndim == 1: return o\n",
    "    elif o.ndim == 3: return torch.squeeze(o, 1)\n",
    "    if o.ndim == 2: return torch.squeeze(o, 0)\n",
    "    assert False, f'Please, review input dimensions {o.ndim}'\n",
    "\n",
    "\n",
    "def To3DArray(o):\n",
    "    o = ToArray(o)\n",
    "    if o.ndim == 3: return o\n",
    "    elif o.ndim == 1: return o[None, None]\n",
    "    elif o.ndim == 2: return o[:, None]\n",
    "    assert False, f'Please, review input dimensions {o.ndim}'\n",
    "\n",
    "\n",
    "def To2DArray(o):\n",
    "    o = ToArray(o)\n",
    "    if o.ndim == 2: return o\n",
    "    elif o.ndim == 1: return o[None]\n",
    "    elif o.ndim == 3: return np.squeeze(o, 0)\n",
    "    assert False, f'Please, review input dimensions {o.ndim}'\n",
    "\n",
    "\n",
    "def To1DArray(o):\n",
    "    o = ToArray(o)\n",
    "    if o.ndim == 1: return o\n",
    "    elif o.ndim == 3: o = np.squeeze(o, 1)\n",
    "    elif o.ndim == 2: o = np.squeeze(o, 0)\n",
    "    assert False, f'Please, review input dimensions {o.ndim}'\n",
    "    \n",
    "    \n",
    "def To3D(o):\n",
    "    if o.ndim == 3: return o\n",
    "    if isinstance(o, np.ndarray): return To3DArray(o)\n",
    "    if isinstance(o, torch.Tensor): return To3DTensor(o)\n",
    "    \n",
    "    \n",
    "def To2D(o):\n",
    "    if o.ndim == 2: return o\n",
    "    if isinstance(o, np.ndarray): return To2DArray(o)\n",
    "    if isinstance(o, torch.Tensor): return To2DTensor(o)\n",
    "    \n",
    "    \n",
    "def To1D(o):\n",
    "    if o.ndim == 1: return o\n",
    "    if isinstance(o, np.ndarray): return To1DArray(o)\n",
    "    if isinstance(o, torch.Tensor): return To1DTensor(o)\n",
    "    \n",
    "    \n",
    "def To2DPlus(o):\n",
    "    if o.ndim >= 2: return o\n",
    "    if isinstance(o, np.ndarray): return To2DArray(o)\n",
    "    elif isinstance(o, torch.Tensor): return To2DTensor(o)\n",
    "    \n",
    "    \n",
    "def To3DPlus(o):\n",
    "    if o.ndim >= 3: return o\n",
    "    if isinstance(o, np.ndarray): return To3DArray(o)\n",
    "    elif isinstance(o, torch.Tensor): return To3DTensor(o)\n",
    "    \n",
    "    \n",
    "def To2DPlusTensor(o):\n",
    "    return To2DPlus(ToTensor(o))\n",
    "\n",
    "\n",
    "def To2DPlusArray(o):\n",
    "    return To2DPlus(ToArray(o))\n",
    "\n",
    "\n",
    "def To3DPlusTensor(o):\n",
    "    return To3DPlus(ToTensor(o))\n",
    "\n",
    "\n",
    "def To3DPlusArray(o):\n",
    "    return To3DPlus(ToArray(o))\n",
    "\n",
    "\n",
    "def ToType(dtype):\n",
    "    def _to_type(o, dtype=dtype):\n",
    "        if o.dtype == dtype: return o\n",
    "        elif isinstance(o, torch.Tensor): o = o.to(dtype=dtype)\n",
    "        elif isinstance(o, np.ndarray): o = o.astype(dtype)\n",
    "        return o\n",
    "    return _to_type"
   ]
  },
  {
   "cell_type": "code",
   "execution_count": 75,
   "metadata": {
    "ExecuteTime": {
     "end_time": "2020-03-30T07:14:05.365954Z",
     "start_time": "2020-03-30T07:14:05.252502Z"
    }
   },
   "outputs": [],
   "source": [
    "a = np.random.rand(100).astype(np.float32)\n",
    "b = torch.from_numpy(a).float()\n",
    "test_eq(ToTensor(a), b)\n",
    "test_eq(a, ToArray(b))\n",
    "test_eq(To3DTensor(a).ndim, 3)\n",
    "test_eq(To2DTensor(a).ndim, 2)\n",
    "test_eq(To1DTensor(a).ndim, 1)\n",
    "test_eq(To3DArray(b).ndim, 3)\n",
    "test_eq(To2DArray(b).ndim, 2)\n",
    "test_eq(To1DArray(b).ndim, 1)"
   ]
  },
  {
   "cell_type": "code",
   "execution_count": 76,
   "metadata": {
    "ExecuteTime": {
     "end_time": "2020-03-30T07:14:05.387990Z",
     "start_time": "2020-03-30T07:14:05.371378Z"
    }
   },
   "outputs": [],
   "source": [
    "#export\n",
    "import math\n",
    "def bytes2size(size_bytes):\n",
    "    if size_bytes == 0: return \"0B\"\n",
    "    size_name = (\"B\", \"KB\", \"MB\", \"GB\", \"TB\", \"PB\", \"EB\", \"ZB\", \"YB\")\n",
    "    i = int(math.floor(math.log(size_bytes, 1024)))\n",
    "    p = math.pow(1024, i)\n",
    "    s = round(size_bytes / p, 2)\n",
    "    return \"%s %s\" % (s, size_name[i])\n",
    "\n",
    "def bytes2GB(bytes):\n",
    "    return round(bytes / math.pow(1024, 3), 2)"
   ]
  },
  {
   "cell_type": "code",
   "execution_count": 77,
   "metadata": {
    "ExecuteTime": {
     "end_time": "2020-03-30T07:14:05.411993Z",
     "start_time": "2020-03-30T07:14:05.393942Z"
    }
   },
   "outputs": [],
   "source": [
    "#export\n",
    "def delete_all_in_dir(tgt_dir:str, exception:Union[str, tuple]=None):\n",
    "    if exception is not None and len(L(exception)) > 1: exception = tuple(exception)\n",
    "    for file in os.listdir(tgt_dir):\n",
    "        if exception is not None and file.endswith(exception): continue\n",
    "        file_path = os.path.join(tgt_dir, file)\n",
    "        if os.path.isfile(file_path) or os.path.islink(file_path): os.unlink(file_path)\n",
    "        elif os.path.isdir(file_path): shutil.rmtree(file_path)"
   ]
  },
  {
   "cell_type": "code",
   "execution_count": 78,
   "metadata": {
    "ExecuteTime": {
     "end_time": "2020-03-30T07:14:05.432951Z",
     "start_time": "2020-03-30T07:14:05.424122Z"
    }
   },
   "outputs": [],
   "source": [
    "#export\n",
    "def reverse_dict(dictionary): \n",
    "    return {v: k for k, v in dictionary.items()}"
   ]
  },
  {
   "cell_type": "code",
   "execution_count": 79,
   "metadata": {
    "ExecuteTime": {
     "end_time": "2020-03-30T07:14:05.449079Z",
     "start_time": "2020-03-30T07:14:05.441127Z"
    }
   },
   "outputs": [],
   "source": [
    "#export\n",
    "def is_tuple(o): return isinstance(o, tuple)"
   ]
  },
  {
   "cell_type": "code",
   "execution_count": 80,
   "metadata": {
    "ExecuteTime": {
     "end_time": "2020-03-30T07:14:05.466750Z",
     "start_time": "2020-03-30T07:14:05.459453Z"
    }
   },
   "outputs": [],
   "source": [
    "#export\n",
    "def itemify(*o): return L(*o).zip()"
   ]
  },
  {
   "cell_type": "code",
   "execution_count": 81,
   "metadata": {
    "ExecuteTime": {
     "end_time": "2020-03-30T07:14:05.485775Z",
     "start_time": "2020-03-30T07:14:05.472523Z"
    }
   },
   "outputs": [],
   "source": [
    "#export\n",
    "def ifnotnone(a, b):\n",
    "    \"`a` if `a` is None else `b`\"\n",
    "    return a if a is None else b"
   ]
  },
  {
   "cell_type": "code",
   "execution_count": 82,
   "metadata": {
    "ExecuteTime": {
     "end_time": "2020-03-30T07:14:05.503862Z",
     "start_time": "2020-03-30T07:14:05.493203Z"
    }
   },
   "outputs": [],
   "source": [
    "#hide\n",
    "test_eq(ifnotnone(None, 2), None)\n",
    "test_eq(ifnotnone(1, 2), 2)"
   ]
  },
  {
   "cell_type": "code",
   "execution_count": 83,
   "metadata": {
    "ExecuteTime": {
     "end_time": "2020-03-30T07:14:05.520116Z",
     "start_time": "2020-03-30T07:14:05.511334Z"
    }
   },
   "outputs": [],
   "source": [
    "#export\n",
    "def ifnoneelse(a, b, c):\n",
    "    \"`b` if `a` is None else `c`\"\n",
    "    return b if a is None else c"
   ]
  },
  {
   "cell_type": "code",
   "execution_count": 84,
   "metadata": {
    "ExecuteTime": {
     "end_time": "2020-03-30T07:14:05.539548Z",
     "start_time": "2020-03-30T07:14:05.527551Z"
    }
   },
   "outputs": [],
   "source": [
    "#hide\n",
    "test_eq(ifnoneelse(None, 1, 2), 1)\n",
    "test_eq(ifnoneelse(1, 2, 3), 3)"
   ]
  },
  {
   "cell_type": "code",
   "execution_count": 85,
   "metadata": {
    "ExecuteTime": {
     "end_time": "2020-03-30T07:14:05.555167Z",
     "start_time": "2020-03-30T07:14:05.546078Z"
    }
   },
   "outputs": [],
   "source": [
    "#export\n",
    "# This is a convenience function will use later proposed by Thomas Capelle @tcapelle to be able to easily benchmark performance\n",
    "def cycle_dl(dl):\n",
    "    for x,y in iter(dl): pass"
   ]
  },
  {
   "cell_type": "code",
   "execution_count": 86,
   "metadata": {
    "ExecuteTime": {
     "end_time": "2020-03-30T07:14:05.572620Z",
     "start_time": "2020-03-30T07:14:05.562293Z"
    }
   },
   "outputs": [],
   "source": [
    "#export\n",
    "device = 'cuda' if torch.cuda.is_available() else 'cpu'\n",
    "defaults.device = device\n",
    "cpus = defaults.cpus"
   ]
  },
  {
   "cell_type": "code",
   "execution_count": 87,
   "metadata": {
    "ExecuteTime": {
     "end_time": "2020-03-30T07:14:08.516156Z",
     "start_time": "2020-03-30T07:14:05.581409Z"
    }
   },
   "outputs": [
    {
     "data": {
      "application/javascript": [
       "IPython.notebook.save_checkpoint()"
      ],
      "text/plain": [
       "<IPython.core.display.Javascript object>"
      ]
     },
     "metadata": {},
     "output_type": "display_data"
    },
    {
     "name": "stdout",
     "output_type": "stream",
     "text": [
      "\n",
      "Current notebook saved.\n",
      "\n",
      "Converted 000_utils.ipynb.\n",
      "Converted 001_core.ipynb.\n",
      "Converted 002_data.ipynb.\n",
      "Converted 100_layers.ipynb.\n",
      "Converted 101_ResNet.ipynb.\n",
      "Converted 102_InceptionTime.ipynb.\n",
      "Converted index.ipynb.\n",
      "\n",
      "core.py                        saved          1 s ago\n",
      "utils.py                       saved          1 s ago\n",
      "data.py                        saved          1 s ago\n",
      "ResNet.py                      saved          0 s ago\n",
      "InceptionTime.py               saved          0 s ago\n",
      "layers.py                      saved          0 s ago\n",
      "\n",
      "Total elapsed time 4 s\n",
      "30-03-2020 07:14:08\n"
     ]
    }
   ],
   "source": [
    "#hide\n",
    "from save_nb import *\n",
    "from nbdev.export import notebook2script\n",
    "save_nb()\n",
    "notebook2script()\n",
    "test_eq(last_saved() < 10, True)"
   ]
  },
  {
   "cell_type": "code",
   "execution_count": null,
   "metadata": {},
   "outputs": [],
   "source": []
  }
 ],
 "metadata": {
  "kernelspec": {
   "display_name": "Python 3",
   "language": "python",
   "name": "python3"
  },
  "language_info": {
   "codemirror_mode": {
    "name": "ipython",
    "version": 3
   },
   "file_extension": ".py",
   "mimetype": "text/x-python",
   "name": "python",
   "nbconvert_exporter": "python",
   "pygments_lexer": "ipython3",
   "version": "3.7.3"
  },
  "toc": {
   "base_numbering": 1,
   "nav_menu": {},
   "number_sections": true,
   "sideBar": true,
   "skip_h1_title": false,
   "title_cell": "Table of Contents",
   "title_sidebar": "Contents",
   "toc_cell": false,
   "toc_position": {},
   "toc_section_display": true,
   "toc_window_display": false
  }
 },
 "nbformat": 4,
 "nbformat_minor": 2
}

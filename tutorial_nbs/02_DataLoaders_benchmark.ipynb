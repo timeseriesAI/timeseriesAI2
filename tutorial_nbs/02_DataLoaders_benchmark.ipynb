{
 "cells": [
  {
   "cell_type": "markdown",
   "metadata": {
    "colab_type": "text",
    "id": "OgLseyaPzgYQ"
   },
   "source": [
    "## DataLoaders requirements:\n",
    "\n",
    "* Use X and y\n",
    "* In memory or on disk np.arrays\n",
    "* Use item tfms and/ or batch tfms\n",
    "* Show batch (with tfms)\n",
    "* Good performance\n",
    "* Slice the dataset \n",
    "* Pass batch tfms"
   ]
  },
  {
   "cell_type": "markdown",
   "metadata": {},
   "source": [
    "### Prepare environment"
   ]
  },
  {
   "cell_type": "code",
   "execution_count": 1,
   "metadata": {
    "ExecuteTime": {
     "end_time": "2020-04-01T06:17:35.861420Z",
     "start_time": "2020-04-01T06:17:35.768482Z"
    },
    "colab": {
     "base_uri": "https://localhost:8080/",
     "height": 1000
    },
    "colab_type": "code",
    "id": "50AbdakXzgYW",
    "outputId": "b8522b85-4d97-4e77-9047-a10322633d82"
   },
   "outputs": [],
   "source": [
    "import sys\n",
    "import os\n",
    "ISCOLAB = 'google.colab' in sys.modules\n",
    "if ISCOLAB:\n",
    "    if not os.path.isdir('/content/timeseriesAI2'):\n",
    "        !pip install git+https://github.com/fastai/fastai2 \n",
    "        !pip install git+https://github.com/fastai/fastcore \n",
    "        !pip install pyunpack\n",
    "        !pip install sktime\n",
    "        !git clone https://github.com/timeseriesAI/timeseriesAI2.git\n",
    "        %cd timeseriesAI2\n",
    "    else: \n",
    "        path = !pwd\n",
    "        if path != ['/content/timeseriesAI2']: \n",
    "            %cd timeseriesAI2\n",
    "        !pwd"
   ]
  },
  {
   "cell_type": "code",
   "execution_count": 2,
   "metadata": {
    "ExecuteTime": {
     "end_time": "2020-04-01T06:17:35.897312Z",
     "start_time": "2020-04-01T06:17:35.868091Z"
    },
    "colab": {
     "base_uri": "https://localhost:8080/",
     "height": 16
    },
    "colab_type": "code",
    "id": "hxrQqzUrzgYk",
    "outputId": "a9cfe0da-ed26-46df-9913-fa500fb0e987"
   },
   "outputs": [
    {
     "data": {
      "text/html": [
       "<style>.container {width:95% !important; }</style>"
      ],
      "text/plain": [
       "<IPython.core.display.HTML object>"
      ]
     },
     "metadata": {},
     "output_type": "display_data"
    }
   ],
   "source": [
    "from IPython.display import display, HTML\n",
    "display(HTML(\"<style>.container {width:95% !important; }</style>\"))"
   ]
  },
  {
   "cell_type": "code",
   "execution_count": 3,
   "metadata": {
    "ExecuteTime": {
     "end_time": "2020-04-01T06:17:56.980249Z",
     "start_time": "2020-04-01T06:17:35.905553Z"
    },
    "colab": {},
    "colab_type": "code",
    "id": "UBGyly6qzgY1"
   },
   "outputs": [],
   "source": [
    "from fastai2.torch_core import *\n",
    "from fastai2.data.all import *\n",
    "from fastai2.learner import *\n",
    "from fastai2.metrics import *\n",
    "from fastai2.callback.all import *"
   ]
  },
  {
   "cell_type": "code",
   "execution_count": 4,
   "metadata": {
    "ExecuteTime": {
     "end_time": "2020-04-01T06:17:57.139425Z",
     "start_time": "2020-04-01T06:17:56.987511Z"
    },
    "colab": {},
    "colab_type": "code",
    "id": "8Zon6wfxzgZC"
   },
   "outputs": [],
   "source": [
    "from timeseries.imports import *\n",
    "from timeseries.utils import *\n",
    "from timeseries.data import *\n",
    "from timeseries.core import *\n",
    "from timeseries.models import *"
   ]
  },
  {
   "cell_type": "code",
   "execution_count": 5,
   "metadata": {
    "ExecuteTime": {
     "end_time": "2020-04-01T06:17:57.159202Z",
     "start_time": "2020-04-01T06:17:57.146383Z"
    },
    "colab": {},
    "colab_type": "code",
    "id": "dd9-XiqKzgZP"
   },
   "outputs": [],
   "source": [
    "def cycle_dl(dl):\n",
    "    for x,y in iter(dl): pass"
   ]
  },
  {
   "cell_type": "code",
   "execution_count": 6,
   "metadata": {
    "ExecuteTime": {
     "end_time": "2020-04-01T06:18:00.976131Z",
     "start_time": "2020-04-01T06:17:57.171882Z"
    },
    "colab": {},
    "colab_type": "code",
    "id": "r8AWsx0LzgZc"
   },
   "outputs": [],
   "source": [
    "if not os.path.exists('../data'): os.makedirs('../data')\n",
    "    \n",
    "X_1000_2_10_in_memory = np.random.rand(1000, 2, 10).astype('float32')\n",
    "np.save('../data/X_1000_2_10.npy', X_1000_2_10_in_memory)\n",
    "X_1000_2_10_on_disk = np.load('../data/X_1000_2_10.npy', mmap_mode='r')\n",
    "\n",
    "X_1000_20_100_in_memory = np.random.rand(1000, 20, 100).astype('float32')\n",
    "np.save('../data/X_1000_20_100.npy', X_1000_20_100_in_memory)\n",
    "X_1000_20_100_on_disk = np.load('../data/X_1000_20_100.npy', mmap_mode='r')\n",
    "\n",
    "X_1000_200_10_in_memory = np.random.rand(1000, 200, 10).astype('float32')\n",
    "np.save('../data/X_1000_200_10.npy', X_1000_200_10_in_memory)\n",
    "X_1000_200_10_on_disk = np.load('../data/X_1000_200_10.npy', mmap_mode='r')\n",
    "\n",
    "X_1000_2_1000_in_memory = np.random.rand(1000, 2, 1000).astype('float32')\n",
    "np.save('../data/X_1000_2_1000.npy', X_1000_2_1000_in_memory)\n",
    "X_1000_2_1000_on_disk = np.load('../data/X_1000_2_1000.npy', mmap_mode='r')\n",
    "\n",
    "X_100_20_1000_in_memory = np.random.rand(100, 20, 1000).astype('float32')\n",
    "np.save('../data/X_100_20_1000.npy', X_100_20_1000_in_memory)\n",
    "X_100_20_1000_on_disk = np.load('../data/X_100_20_1000.npy', mmap_mode='r')\n",
    "\n",
    "X_1000_20_1000_in_memory = np.random.rand(1000, 20, 1000).astype('float32')\n",
    "np.save('../data/X_1000_20_1000.npy', X_1000_2_1000_in_memory)\n",
    "X_1000_20_1000_on_disk = np.load('../data/X_1000_20_1000.npy', mmap_mode='r')\n",
    "\n",
    "X_10000_2_10_in_memory = np.random.rand(10000, 2, 10).astype('float32')\n",
    "np.save('../data/X_10000_2_10.npy', X_10000_2_10_in_memory)\n",
    "X_10000_2_10_on_disk = np.load('../data/X_10000_2_10.npy', mmap_mode='r')\n",
    "\n",
    "# StarLight valid like\n",
    "X_1000_1_1024_in_memory = np.random.rand(1000, 1, 1024).astype('float32')\n",
    "np.save('../data/X_1000_1_1024.npy', X_1000_1_1024_in_memory)\n",
    "X_1000_1_1024_on_disk = np.load('../data/X_1000_1_1024.npy', mmap_mode='r')\n",
    "\n",
    "X_8236_1_1024_in_memory = np.random.rand(8236, 1, 1024).astype('float32')\n",
    "np.save('../data/X_8236_1_1024.npy', X_8236_1_1024_in_memory)\n",
    "X_8236_1_1024_on_disk = np.load('../data/X_8236_1_1024.npy', mmap_mode='r')\n",
    "\n",
    "X_starlight_in_memory = concat(X_1000_1_1024_in_memory, X_8236_1_1024_in_memory)\n",
    "np.save('../data/X_starlight.npy', X_starlight_in_memory)\n",
    "X_starlight_on_disk = np.load('../data/X_starlight.npy', mmap_mode='r')\n",
    "splits = (L(list(np.arange(len(X_1000_1_1024_in_memory)))), \n",
    "          L(list(np.arange(len(X_1000_1_1024_in_memory), len(X_starlight_in_memory)))))\n",
    "\n",
    "y_100 = np.random.randint(0, 10, 100)\n",
    "y_1000 = np.random.randint(0, 10, 1000)\n",
    "y_10000 = np.random.randint(0, 10, 10000)\n",
    "y_8236 = np.random.randint(0, 10, 8236)\n",
    "y_starlight = concat(y_1000, y_8236)\n",
    "\n",
    "Xs_in_memory = [X_1000_20_100_in_memory, X_1000_200_10_in_memory, X_1000_2_1000_in_memory, \n",
    "               X_100_20_1000_in_memory, X_1000_20_1000_in_memory, X_10000_2_10_in_memory, X_8236_1_1024_in_memory]\n",
    "Xs_on_disk = [X_1000_20_100_on_disk, X_1000_200_10_on_disk, X_1000_2_1000_on_disk, \n",
    "               X_100_20_1000_on_disk, X_1000_20_1000_on_disk, X_10000_2_10_on_disk, X_8236_1_1024_on_disk]\n",
    "ys = [y_1000, y_1000, y_1000, y_100, y_1000, y_10000, y_8236]"
   ]
  },
  {
   "cell_type": "markdown",
   "metadata": {
    "colab_type": "text",
    "heading_collapsed": true,
    "id": "E3gSPS5-zgZp"
   },
   "source": [
    "### Native Pytorch dataloader"
   ]
  },
  {
   "cell_type": "code",
   "execution_count": 7,
   "metadata": {
    "ExecuteTime": {
     "end_time": "2020-04-01T06:18:01.002627Z",
     "start_time": "2020-04-01T06:18:00.981827Z"
    },
    "colab": {},
    "colab_type": "code",
    "hidden": true,
    "id": "-EuJnFAqzgZs"
   },
   "outputs": [],
   "source": [
    "# Native Pytorch\n",
    "class NumpyDataset(torch.utils.data.Dataset):\n",
    "    def __init__(self, X, y=None, sel_vars=None, sel_steps=None):\n",
    "        self.X, self.y = X, y\n",
    "        self.sel_vars =  slice(None) if sel_vars is None else sel_vars\n",
    "        self.sel_steps =  slice(None) if sel_steps is None else sel_steps\n",
    "\n",
    "    def __getitem__(self, idx):\n",
    "        return (self.X[idx, self.sel_vars, self.sel_steps], ) if self.y is None \\\n",
    "        else (self.X[idx, self.sel_vars, self.sel_steps], self.y[idx])\n",
    "\n",
    "    def __len__(self):\n",
    "        return len(self.X)"
   ]
  },
  {
   "cell_type": "code",
   "execution_count": 8,
   "metadata": {
    "ExecuteTime": {
     "end_time": "2020-04-01T06:18:28.456084Z",
     "start_time": "2020-04-01T06:18:01.014748Z"
    },
    "colab": {
     "base_uri": "https://localhost:8080/",
     "height": 407
    },
    "colab_type": "code",
    "hidden": true,
    "id": "bgGqG61dzgZ7",
    "outputId": "b6b1ce48-9293-4b8e-faf6-1bc2521592ac"
   },
   "outputs": [
    {
     "name": "stdout",
     "output_type": "stream",
     "text": [
      "shape: (1000, 20, 100)        numel:    2,000,000\n",
      "31.7 ms ± 1.1 ms per loop (mean ± std. dev. of 7 runs, 10 loops each)\n",
      "\n",
      "shape: (1000, 200, 10)        numel:    2,000,000\n",
      "35.9 ms ± 2.53 ms per loop (mean ± std. dev. of 7 runs, 10 loops each)\n",
      "\n",
      "shape: (1000, 2, 1000)        numel:    2,000,000\n",
      "35.6 ms ± 3.34 ms per loop (mean ± std. dev. of 7 runs, 10 loops each)\n",
      "\n",
      "shape: (100, 20, 1000)        numel:    2,000,000\n",
      "9.37 ms ± 270 µs per loop (mean ± std. dev. of 7 runs, 100 loops each)\n",
      "\n",
      "shape: (1000, 20, 1000)       numel:   20,000,000\n",
      "85.1 ms ± 4.65 ms per loop (mean ± std. dev. of 7 runs, 10 loops each)\n",
      "\n",
      "shape: (10000, 2, 10)         numel:      200,000\n",
      "312 ms ± 22.5 ms per loop (mean ± std. dev. of 7 runs, 1 loop each)\n",
      "\n",
      "shape: (8236, 1, 1024)        numel:    8,433,664\n",
      "251 ms ± 9.42 ms per loop (mean ± std. dev. of 7 runs, 1 loop each)\n",
      "\n"
     ]
    }
   ],
   "source": [
    "for x_, y_ in zip(Xs_in_memory, ys):\n",
    "    ds    = NumpyDataset(x_, y_)\n",
    "    dl    = torch.utils.data.DataLoader(dataset=ds, batch_size=128)\n",
    "    print(f'shape: {str(x_.shape):20}   numel: {len(x_.ravel()):12,}')\n",
    "    %timeit cycle_dl(dl)\n",
    "    print()"
   ]
  },
  {
   "cell_type": "code",
   "execution_count": 9,
   "metadata": {
    "ExecuteTime": {
     "end_time": "2020-04-01T06:18:32.832495Z",
     "start_time": "2020-04-01T06:18:28.466231Z"
    },
    "colab": {
     "base_uri": "https://localhost:8080/",
     "height": 123
    },
    "colab_type": "code",
    "hidden": true,
    "id": "AUEJYKLQzgaI",
    "outputId": "55fc98cc-ca0a-4892-c4fa-8cb0a275333e"
   },
   "outputs": [
    {
     "name": "stdout",
     "output_type": "stream",
     "text": [
      "shape: (8236, 1, 1024)        numel:    8,433,664   bs: 128\n",
      "274 ms ± 36.4 ms per loop (mean ± std. dev. of 7 runs, 1 loop each)\n",
      "\n",
      "shape: (8236, 1, 1024)        numel:    8,433,664   bs: 1280\n",
      "250 ms ± 9.22 ms per loop (mean ± std. dev. of 7 runs, 1 loop each)\n",
      "\n"
     ]
    }
   ],
   "source": [
    "# test larger batch size\n",
    "x_ = X_8236_1_1024_in_memory\n",
    "y_ = y_8236\n",
    "ds    = NumpyDataset(x_, y_)\n",
    "dl    = torch.utils.data.DataLoader(dataset=ds, batch_size=128)\n",
    "xb,yb = next(iter(dl))\n",
    "print(f'shape: {str(x_.shape):20}   numel: {len(x_.ravel()):12,}   bs: {len(xb)}')\n",
    "%timeit cycle_dl(dl)\n",
    "print()\n",
    "\n",
    "ds    = NumpyDataset(x_, y_)\n",
    "dl    = torch.utils.data.DataLoader(dataset=ds, batch_size=1280)\n",
    "xb,yb = next(iter(dl))\n",
    "print(f'shape: {str(x_.shape):20}   numel: {len(x_.ravel()):12,}   bs: {len(xb)}')\n",
    "%timeit cycle_dl(dl)\n",
    "print()"
   ]
  },
  {
   "cell_type": "markdown",
   "metadata": {
    "colab_type": "text",
    "hidden": true,
    "id": "0SzWXRpizgaT"
   },
   "source": [
    "**Key learning:** \n",
    "\n",
    "The number of dimensions or length of the time series doesn't have a significant impact on dataloader's performance. \n",
    "\n",
    "Performance is mostly determined by the number of samples, not the number of batches."
   ]
  },
  {
   "cell_type": "markdown",
   "metadata": {
    "colab_type": "text",
    "hidden": true,
    "id": "zRDHp64hzgaU"
   },
   "source": [
    "Pytorch native dataloader is pretty fast, although it misses these 3 requirements: \n",
    "\n",
    "* In memory or on disk np.arrays\n",
    "* Use item tfms and/ or batch tfms\n",
    "* Show batch (with tfms)\n",
    "\n",
    "I'll modify the default_collate to allow np.memmap as well. This shouldn't have any impact on performance."
   ]
  },
  {
   "cell_type": "code",
   "execution_count": 10,
   "metadata": {
    "ExecuteTime": {
     "end_time": "2020-04-01T06:18:32.859268Z",
     "start_time": "2020-04-01T06:18:32.840079Z"
    },
    "colab": {},
    "colab_type": "code",
    "hidden": true,
    "id": "UtnbR2DtzgaX"
   },
   "outputs": [],
   "source": [
    "def dataloader(dataset,\n",
    "               batch_size=1,\n",
    "               shuffle=False,\n",
    "               sampler=None,\n",
    "               batch_sampler=None,\n",
    "               num_workers=0,\n",
    "               collate_fn=np_collate,\n",
    "               pin_memory=False,\n",
    "               drop_last=False,\n",
    "               timeout=0,\n",
    "               worker_init_fn=None,\n",
    "               multiprocessing_context=None):\n",
    "\n",
    "    return torch.utils.data.DataLoader(\n",
    "        dataset,\n",
    "        batch_size=batch_size,\n",
    "        shuffle=shuffle,\n",
    "        sampler=sampler,\n",
    "        batch_sampler=batch_sampler,\n",
    "        num_workers=num_workers,\n",
    "        collate_fn=collate_fn,\n",
    "        pin_memory=pin_memory,\n",
    "        drop_last=drop_last,\n",
    "        timeout=timeout,\n",
    "        worker_init_fn=worker_init_fn,\n",
    "        multiprocessing_context=multiprocessing_context)\n",
    "\n",
    "\n",
    "NumpyDataset.dataloader = dataloader"
   ]
  },
  {
   "cell_type": "code",
   "execution_count": 11,
   "metadata": {
    "ExecuteTime": {
     "end_time": "2020-04-01T06:18:39.989409Z",
     "start_time": "2020-04-01T06:18:32.866088Z"
    },
    "colab": {
     "base_uri": "https://localhost:8080/",
     "height": 176
    },
    "colab_type": "code",
    "hidden": true,
    "id": "enkCmYoizgag",
    "outputId": "29978a96-d335-4d12-e84e-09aac4e0f57a"
   },
   "outputs": [
    {
     "name": "stdout",
     "output_type": "stream",
     "text": [
      "shape: (8236, 1, 1024)        numel:    8,433,664   bs: 128\n",
      "278 ms ± 15.6 ms per loop (mean ± std. dev. of 7 runs, 1 loop each)\n",
      "\n",
      "shape: (8236, 1, 1024)        numel:    8,433,664   bs: 128\n",
      "240 ms ± 1.9 ms per loop (mean ± std. dev. of 7 runs, 1 loop each)\n",
      "\n",
      "shape: (8236, 1, 1024)        numel:    8,433,664   bs: 128\n",
      "354 ms ± 14.7 ms per loop (mean ± std. dev. of 7 runs, 1 loop each)\n",
      "\n"
     ]
    }
   ],
   "source": [
    "# test in memory vs on disk arrays\n",
    "x_ = X_8236_1_1024_in_memory\n",
    "y_ = y_8236\n",
    "ds    = NumpyDataset(x_, y_)\n",
    "dl    = torch.utils.data.DataLoader(dataset=ds, batch_size=128)\n",
    "xb,yb = next(iter(dl))\n",
    "print(f'shape: {str(x_.shape):20}   numel: {len(x_.ravel()):12,}   bs: {len(xb)}')\n",
    "%timeit cycle_dl(dl)\n",
    "print()\n",
    "\n",
    "x_ = X_8236_1_1024_in_memory\n",
    "y_ = y_8236\n",
    "ds    = NumpyDataset(x_, y_)\n",
    "dl    = ds.dataloader(batch_size=128)\n",
    "xb,yb = next(iter(dl))\n",
    "print(f'shape: {str(x_.shape):20}   numel: {len(x_.ravel()):12,}   bs: {len(xb)}')\n",
    "%timeit cycle_dl(dl)\n",
    "print()\n",
    "\n",
    "x_ = X_8236_1_1024_on_disk\n",
    "y_ = y_8236\n",
    "ds    = NumpyDataset(x_, y_)\n",
    "dl    = ds.dataloader(batch_size=128)\n",
    "xb,yb = next(iter(dl))\n",
    "print(f'shape: {str(x_.shape):20}   numel: {len(x_.ravel()):12,}   bs: {len(xb)}')\n",
    "%timeit cycle_dl(dl)\n",
    "print()"
   ]
  },
  {
   "cell_type": "markdown",
   "metadata": {
    "colab_type": "text",
    "hidden": true,
    "id": "SfkGLV0Mzgar"
   },
   "source": [
    "**Key learnings:**\n",
    "\n",
    "- The updated collate function (that allows memmap conversion into a tensor) doesn't negetively impact performance when used with np.ndarrays\n",
    "\n",
    "- data is on disk is 40% slower than in memory, so it's better to pass data in memory if possible. However, performance is still good with data on disk.\n",
    "\n",
    "\n",
    "So we can now meet 3 of the requirements, but cannot still use tfms or show_batch."
   ]
  },
  {
   "cell_type": "code",
   "execution_count": 12,
   "metadata": {
    "ExecuteTime": {
     "end_time": "2020-04-01T06:18:40.018261Z",
     "start_time": "2020-04-01T06:18:39.996155Z"
    },
    "colab": {},
    "colab_type": "code",
    "hidden": true,
    "id": "6WSYjYkKzgat"
   },
   "outputs": [],
   "source": [
    "#conversion to TS tensor\n",
    "class TSDataset(torch.utils.data.Dataset):\n",
    "    def __init__(self, X, y=None):\n",
    "        self.X, self.y = X, y\n",
    "        \n",
    "    def __getitem__(self, idx):\n",
    "        if self.y is None: return (self.X[idx], )\n",
    "        else: return (TSTensor(self.X[idx]), self.y[idx])\n",
    "\n",
    "    def __len__(self):\n",
    "        return len(self.X)\n",
    "    \n",
    "TSDataset.dataloader = dataloader"
   ]
  },
  {
   "cell_type": "code",
   "execution_count": 13,
   "metadata": {
    "ExecuteTime": {
     "end_time": "2020-04-01T06:18:46.892160Z",
     "start_time": "2020-04-01T06:18:40.027365Z"
    },
    "colab": {
     "base_uri": "https://localhost:8080/",
     "height": 123
    },
    "colab_type": "code",
    "hidden": true,
    "id": "F1XPFlzszga2",
    "outputId": "9feb94ec-5e2e-4954-85b9-b6f5be2f6a17"
   },
   "outputs": [
    {
     "name": "stdout",
     "output_type": "stream",
     "text": [
      "shape: (8236, 1, 1024)        numel:    8,433,664   bs: 128\n",
      "368 ms ± 28 ms per loop (mean ± std. dev. of 7 runs, 1 loop each)\n",
      "\n",
      "shape: (8236, 1, 1024)        numel:    8,433,664   bs: 128\n",
      "470 ms ± 24 ms per loop (mean ± std. dev. of 7 runs, 1 loop each)\n",
      "\n"
     ]
    }
   ],
   "source": [
    "# Prior conversion to TSTensor\n",
    "x_ = X_8236_1_1024_on_disk\n",
    "y_ = y_8236\n",
    "\n",
    "ds    = NumpyDataset(x_, y_)\n",
    "dl    = ds.dataloader(batch_size=128)\n",
    "xb,yb = next(iter(dl))\n",
    "print(f'shape: {str(x_.shape):20}   numel: {len(x_.ravel()):12,}   bs: {len(xb)}')\n",
    "%timeit cycle_dl(dl)\n",
    "print()\n",
    "\n",
    "ds    = TSDataset(x_, y_)\n",
    "dl    = ds.dataloader(batch_size=128)\n",
    "xb,yb = next(iter(dl))\n",
    "print(f'shape: {str(x_.shape):20}   numel: {len(x_.ravel()):12,}   bs: {len(xb)}')\n",
    "%timeit cycle_dl(dl)\n",
    "print()"
   ]
  },
  {
   "cell_type": "markdown",
   "metadata": {
    "colab_type": "text",
    "hidden": true,
    "id": "f1_pSoRTzga9"
   },
   "source": [
    "Conversion to TSTensor makes it is 30-40% slower, so it doesn't seem useful."
   ]
  },
  {
   "cell_type": "markdown",
   "metadata": {
    "colab_type": "text",
    "heading_collapsed": true,
    "id": "zyTcTo19zga_"
   },
   "source": [
    "### Factory method"
   ]
  },
  {
   "cell_type": "code",
   "execution_count": 14,
   "metadata": {
    "ExecuteTime": {
     "end_time": "2020-04-01T06:19:18.829202Z",
     "start_time": "2020-04-01T06:18:46.899778Z"
    },
    "colab": {
     "base_uri": "https://localhost:8080/",
     "height": 52
    },
    "colab_type": "code",
    "hidden": true,
    "id": "D6XHxrm5zgbB",
    "outputId": "ca82b0aa-c85b-48e1-e948-28510717d908"
   },
   "outputs": [
    {
     "name": "stdout",
     "output_type": "stream",
     "text": [
      "shape: (9236, 1, 1024)        numel:    9,457,664   bs: 128\n",
      "3.55 s ± 217 ms per loop (mean ± std. dev. of 7 runs, 1 loop each)\n"
     ]
    }
   ],
   "source": [
    "x_ = X_starlight_in_memory\n",
    "y_ = y_starlight\n",
    "dls = TSDataLoaders.from_numpy(x_, y_, splitter=IndexSplitter(splits[1]), bs=64, val_bs=128)\n",
    "xb,yb = next(iter(dls.valid))\n",
    "print(f'shape: {str(x_.shape):20}   numel: {len(x_.ravel()):12,}   bs: {len(xb)}')\n",
    "%timeit cycle_dl(dls.valid)"
   ]
  },
  {
   "cell_type": "markdown",
   "metadata": {
    "colab_type": "text",
    "heading_collapsed": true,
    "id": "5W20Hp3lzgbJ"
   },
   "source": [
    "### Datablock"
   ]
  },
  {
   "cell_type": "code",
   "execution_count": 15,
   "metadata": {
    "ExecuteTime": {
     "end_time": "2020-04-01T06:19:44.996693Z",
     "start_time": "2020-04-01T06:19:18.835412Z"
    },
    "colab": {
     "base_uri": "https://localhost:8080/",
     "height": 52
    },
    "colab_type": "code",
    "hidden": true,
    "id": "_MjnPG5TzgbL",
    "outputId": "d475f4f0-176c-4560-ced9-490e7e3aaa57"
   },
   "outputs": [
    {
     "name": "stdout",
     "output_type": "stream",
     "text": [
      "shape: (9236, 1, 1024)        numel:    9,457,664   bs: 128\n",
      "3.16 s ± 145 ms per loop (mean ± std. dev. of 7 runs, 1 loop each)\n"
     ]
    }
   ],
   "source": [
    "x_ = X_starlight_in_memory\n",
    "y_ = y_starlight\n",
    "getters = [ItemGetter(0), ItemGetter(1)]\n",
    "dblock = DataBlock(blocks=(TSTensorBlock, CategoryBlock),\n",
    "                   getters=getters,\n",
    "                   splitter=IndexSplitter(splits[1]),\n",
    "                   item_tfms=None,\n",
    "                   batch_tfms=None)\n",
    "source = itemify(x_, y_)\n",
    "dls = dblock.dataloaders(source, bs=64, val_bs=128)\n",
    "xb,yb = next(iter(dls.valid))\n",
    "print(f'shape: {str(x_.shape):20}   numel: {len(x_.ravel()):12,}   bs: {len(xb)}')\n",
    "%timeit cycle_dl(dls.valid)"
   ]
  },
  {
   "cell_type": "markdown",
   "metadata": {
    "colab_type": "text",
    "id": "Hb5m-6oNzgbU"
   },
   "source": [
    "### Datasets + DataLoaders"
   ]
  },
  {
   "cell_type": "code",
   "execution_count": 74,
   "metadata": {
    "ExecuteTime": {
     "end_time": "2020-04-01T06:56:33.970292Z",
     "start_time": "2020-04-01T06:56:33.892550Z"
    },
    "colab": {},
    "colab_type": "code",
    "id": "pbEgcgXazgbV"
   },
   "outputs": [],
   "source": [
    "class NumpyDatasets(FilteredBase):\n",
    "    \"A dataset that creates a tuple from each `tfms`, passed thru `item_tfms`\"\n",
    "    def __init__(self, X=None, y=None, items=None, tfms=None, tls=None, n_inp=None, dl_type=None, preprocess=False, **kwargs):\n",
    "        super().__init__(dl_type=dl_type)\n",
    "\n",
    "        #New 4 lines of code\n",
    "        if tls is None:\n",
    "            if items is None: items = itemify(X,) if y is None else itemify(X,y)\n",
    "            assert (tfms is None or len(items[0]) == len(tfms)), f\"n_tfms ({len(tfms)}) doesn't match n_items ({len(items[0])})\"\n",
    "            tfms = None if tfms is None else [[ItemGetter(i)] + L(tfms[i]) for i in range(len(items[0]))]\n",
    "        \n",
    "        self.tls = L(tls if tls else [TfmdLists(items, t, **kwargs) for t in L(ifnone(tfms,[None]))])\n",
    "        self.n_inp = (1 if len(self.tls)==1 else len(self.tls)-1) if n_inp is None else n_inp\n",
    "        \n",
    "        if preprocess: self.ptls = itemify([tl[:] for tl in self.tls])\n",
    "        else: self.ptls = self.tls\n",
    "        self.preprocess = preprocess\n",
    "\n",
    "    def __getitem__(self, it):\n",
    "        if self.preprocess: res = self.ptls[it]\n",
    "        else: res = tuple([tl[it] for tl in self.tls])\n",
    "        return res if is_indexer(it) else list(zip(*res))\n",
    "\n",
    "    def __getattr__(self,k): return gather_attrs(self, k, 'tls')\n",
    "    def __dir__(self): return super().__dir__() + gather_attr_names(self, 'tls')\n",
    "    def __len__(self): return len(self.tls[0])\n",
    "    def __iter__(self): return (self[i] for i in range(len(self)))\n",
    "    def __repr__(self): return coll_repr(self)\n",
    "    def decode(self, o, full=True): return tuple(tl.decode(o_, full=full) for o_,tl in zip(o,tuplify(self.tls, match=o)))\n",
    "    def subset(self, i): return type(self)(tls=L(tl.subset(i) for tl in self.tls), n_inp=self.n_inp, preprocess=self.preprocess)\n",
    "    def _new(self, *args, X=None, y=None, items=None, **kwargs): return super()._new(X=X, y=y, items=items, tfms=self.tfms, \n",
    "                                                                                     do_setup=False, **kwargs)\n",
    "    def overlapping_splits(self): return self.tls[0].overlapping_splits()\n",
    "    @property\n",
    "    def splits(self): return self.tls[0].splits\n",
    "    @property\n",
    "    def split_idx(self): return self.tls[0].tfms.split_idx\n",
    "    @property\n",
    "    def items(self): return self.tls[0].items\n",
    "    @items.setter\n",
    "    def items(self, v):\n",
    "        for tl in self.tls: tl.items = v\n",
    "\n",
    "    def show(self, o, ctx=None, **kwargs):\n",
    "        for o_,tl in zip(o,self.tls): ctx = tl.show(o_, ctx=ctx, **kwargs)\n",
    "        return ctx\n",
    "\n",
    "    def new_empty(self):\n",
    "        tls = [tl._new([], split_idx=tl.split_idx) for tl in self.tls]\n",
    "        return type(self)(tls=tls, n_inp=self.n_inp)\n",
    "\n",
    "    @contextmanager\n",
    "    def set_split_idx(self, i):\n",
    "        old_split_idx = self.split_idx\n",
    "        for tl in self.tls: tl.tfms.split_idx = i\n",
    "        yield self\n",
    "        for tl in self.tls: tl.tfms.split_idx = old_split_idx"
   ]
  },
  {
   "cell_type": "code",
   "execution_count": 17,
   "metadata": {
    "ExecuteTime": {
     "end_time": "2020-04-01T06:20:07.499220Z",
     "start_time": "2020-04-01T06:19:45.095941Z"
    },
    "colab": {
     "base_uri": "https://localhost:8080/",
     "height": 52
    },
    "colab_type": "code",
    "id": "VwjJSDLpzgbg",
    "outputId": "41dc10ce-ae2e-408c-faf0-5ec20b13dc59"
   },
   "outputs": [
    {
     "name": "stdout",
     "output_type": "stream",
     "text": [
      "shape: (9236, 1, 1024)        numel:    9,457,664   bs: 64\n",
      "2.7 s ± 50.1 ms per loop (mean ± std. dev. of 7 runs, 1 loop each)\n"
     ]
    }
   ],
   "source": [
    "x_ = X_starlight_in_memory\n",
    "y_ = y_starlight\n",
    "\n",
    "tfms  = [[ToTSTensor], [Categorize()]]\n",
    "dsets = NumpyDatasets(x_, y_, tfms=tfms, splits=splits)\n",
    "dls   = DataLoaders.from_dsets(dsets.train, dsets.valid, bs=32, val_bs=128)\n",
    "xb,yb = next(iter(dls.valid))\n",
    "print(f'shape: {str(x_.shape):20}   numel: {len(x_.ravel()):12,}   bs: {len(xb)}')\n",
    "%timeit cycle_dl(dls.valid)"
   ]
  },
  {
   "cell_type": "markdown",
   "metadata": {
    "colab_type": "text",
    "id": "UA5wdwfQzgbn"
   },
   "source": [
    "**Key insights:**\n",
    "\n",
    "- Both factory method, datablock API and NumpyDatasets + DataLoaders are all very slow compared to native Pytorch.\n",
    "- Fastai misses these requirements:\n",
    "\n",
    "    * In memory or on disk np.arrays\n",
    "    * Good performance"
   ]
  },
  {
   "cell_type": "markdown",
   "metadata": {
    "colab_type": "text",
    "id": "95nJdTM1zgbo"
   },
   "source": [
    "### Hybrid approach"
   ]
  },
  {
   "cell_type": "markdown",
   "metadata": {
    "colab_type": "text",
    "id": "hOTvr16Hzgbq"
   },
   "source": [
    "This approach was suggested by Sylvain Gugger [here](https://forums.fast.ai/t/datablock-with-numpy-input/64848/2?u=oguiza):\n",
    "\n",
    "\n",
    "\"You can create a DataLoaders object from regular PyTorch datasets (though all the visualization methods like show_batch and show_results will fail).\""
   ]
  },
  {
   "cell_type": "code",
   "execution_count": 18,
   "metadata": {
    "colab": {
     "base_uri": "https://localhost:8080/",
     "height": 52
    },
    "colab_type": "code",
    "id": "cX_B0TU1zgbs",
    "outputId": "34ab23c2-5ead-4aad-9ac9-c7785b8e9f03"
   },
   "outputs": [
    {
     "name": "stdout",
     "output_type": "stream",
     "text": [
      "shape: (8236, 1, 1024)        numel:    8,433,664   bs: 128\n",
      "1 loop, best of 3: 798 ms per loop\n"
     ]
    }
   ],
   "source": [
    "x_ = X_1000_1_1024_in_memory\n",
    "y_ = y_1000\n",
    "train_ds = NumpyDataset(x_, y_)\n",
    "\n",
    "x_ = X_8236_1_1024_in_memory\n",
    "y_ = y_8236\n",
    "valid_ds = NumpyDataset(x_, y_)\n",
    "dls = DataLoaders.from_dsets(train_ds, valid_ds, batch_size=128)\n",
    "xb,yb = next(iter(dls.valid))\n",
    "print(f'shape: {str(x_.shape):20}   numel: {len(x_.ravel()):12,}   bs: {len(xb)}')\n",
    "%timeit cycle_dl(dls.valid)"
   ]
  },
  {
   "cell_type": "code",
   "execution_count": 0,
   "metadata": {
    "colab": {},
    "colab_type": "code",
    "id": "7QNh7V0xzgb0"
   },
   "outputs": [],
   "source": [
    "class TSDataset(torch.utils.data.Dataset):\n",
    "    def __init__(self, X, y=None, sel_vars=None, sel_steps=None):\n",
    "        self.X, self.y = X, y\n",
    "        self.sel_vars =  slice(None) if sel_vars is None else sel_vars\n",
    "        self.sel_steps =  slice(None) if sel_steps is None else sel_steps\n",
    "\n",
    "    def __getitem__(self, idx):\n",
    "        return (TSTensor(self.X[idx, self.sel_vars, self.sel_steps], )) if self.y is None \\\n",
    "        else (TSTensor(self.X[idx, self.sel_vars, self.sel_steps]), self.y[idx])\n",
    "\n",
    "    def __len__(self):\n",
    "        return len(self.X)"
   ]
  },
  {
   "cell_type": "code",
   "execution_count": 20,
   "metadata": {
    "colab": {
     "base_uri": "https://localhost:8080/",
     "height": 52
    },
    "colab_type": "code",
    "id": "p4-k-Ch5zgb8",
    "outputId": "27bec5d4-3099-4092-8e00-732029420571"
   },
   "outputs": [
    {
     "name": "stdout",
     "output_type": "stream",
     "text": [
      "shape: (8236, 1, 1024)        numel:    8,433,664   bs: 128\n",
      "1 loop, best of 3: 918 ms per loop\n"
     ]
    }
   ],
   "source": [
    "x_ = X_1000_1_1024_on_disk\n",
    "y_ = y_1000\n",
    "train_ds = TSDataset(x_, y_)\n",
    "\n",
    "x_ = X_8236_1_1024_on_disk\n",
    "y_ = y_8236\n",
    "valid_ds = TSDataset(x_, y_)\n",
    "dls = DataLoaders.from_dsets(train_ds, valid_ds, batch_size=128)\n",
    "xb,yb = next(iter(dls.valid))\n",
    "print(f'shape: {str(x_.shape):20}   numel: {len(x_.ravel()):12,}   bs: {len(xb)}')\n",
    "%timeit cycle_dl(dls.valid)"
   ]
  },
  {
   "cell_type": "markdown",
   "metadata": {
    "colab_type": "text",
    "id": "z4k8euvNzgcC"
   },
   "source": [
    "This approach is certainly **much faster** than the default fastai v2. \n",
    "\n",
    "TSDataset has the additional benefit that allows you to use data on disk.\n",
    "\n",
    "However, it's still slower than Pytorch dl. I've found a way to speed this up substantially though:"
   ]
  },
  {
   "cell_type": "code",
   "execution_count": 21,
   "metadata": {
    "colab": {
     "base_uri": "https://localhost:8080/",
     "height": 52
    },
    "colab_type": "code",
    "id": "FgSnLtN3zgcE",
    "outputId": "a4c608bd-cdc1-4279-a380-0b53b1bdccd5"
   },
   "outputs": [
    {
     "name": "stdout",
     "output_type": "stream",
     "text": [
      "shape: (8236, 1, 1024)        numel:    8,433,664   bs: 128\n",
      "10 loops, best of 3: 53.4 ms per loop\n"
     ]
    }
   ],
   "source": [
    "x_ = X_1000_1_1024_in_memory\n",
    "y_ = y_1000\n",
    "\n",
    "train_ds = NumpyDataset(x_, y_)\n",
    "train_dl = DataLoader(train_ds, bs=128, shuffle=True, drop_last=True)\n",
    "\n",
    "x_ = X_8236_1_1024_in_memory\n",
    "y_ = y_8236\n",
    "\n",
    "valid_ds = NumpyDataset(x_, y_)\n",
    "valid_dl = DataLoader(valid_ds, bs=128)\n",
    "\n",
    "dls   = DataLoaders(train_dl, valid_dl)\n",
    "xb,yb = next(iter(dls.valid))\n",
    "print(f'shape: {str(x_.shape):20}   numel: {len(x_.ravel()):12,}   bs: {len(xb)}')\n",
    "%timeit cycle_dl(dls.valid)"
   ]
  },
  {
   "cell_type": "markdown",
   "metadata": {
    "colab_type": "text",
    "id": "_v7X5SwzzgcM"
   },
   "source": [
    "This is **very fast** (similar to Pytorch native dataloader), but it has at least a couple problems: \n",
    "\n",
    "* it doesn't allow us to use show_batch. \n",
    "* it doesn't allow us to pass an array on disk\n",
    "\n",
    "Let's see how if we can fix that."
   ]
  },
  {
   "cell_type": "code",
   "execution_count": 94,
   "metadata": {
    "ExecuteTime": {
     "end_time": "2020-04-01T07:05:46.416864Z",
     "start_time": "2020-04-01T07:05:46.342288Z"
    },
    "colab": {},
    "colab_type": "code",
    "id": "L7V6ElFZzgcN"
   },
   "outputs": [],
   "source": [
    "class FloatTensor(TensorBase):\n",
    "    '''Returns a tensor of type float.int32 and class IntTensor'''\n",
    "    def __new__(cls, o, dtype=torch.float32, **kwargs): \n",
    "        res = tensor(o, dtype=dtype)\n",
    "        res.__class__ = cls\n",
    "        res._meta = kwargs\n",
    "        return res\n",
    "    \n",
    "    def __getitem__(self, idx):\n",
    "        res = super().__getitem__(idx)\n",
    "        return retain_type(res, self)\n",
    "\n",
    "    def __repr__(self):\n",
    "        if self.ndim == 0: return str(self.item())\n",
    "        else: return f'IntTensor(len:{len(self)})'\n",
    "\n",
    "    def show(self, ax=None, ctx=None, **kwargs):\n",
    "        ax = ifnone(ax,ctx)\n",
    "        if ax is None: fig, ax = plt.subplots(**kwargs)\n",
    "        ax.axis(xmin=0, xmax=self.shape[-1] - 1)\n",
    "        ax.set_title(self, weight='bold')\n",
    "        plt.tight_layout()\n",
    "        return ax\n",
    "\n",
    "class IntTensor(TensorBase):\n",
    "    '''Returns a tensor of type torch.int64 and class IntTensor'''\n",
    "    def __new__(cls, o, dtype=torch.int64, **kwargs): \n",
    "        res = tensor(o, dtype=dtype)\n",
    "        res.__class__ = cls\n",
    "        res._meta = kwargs\n",
    "        return res\n",
    "    \n",
    "    def __getitem__(self, idx):\n",
    "        res = super().__getitem__(idx)\n",
    "        return retain_type(res, self)\n",
    "\n",
    "    def __repr__(self):\n",
    "        if self.ndim == 0: return str(self.item())\n",
    "        else: return f'IntTensor(len:{len(self)})'\n",
    "\n",
    "    def show(self, ax=None, ctx=None, **kwargs):\n",
    "        ax = ifnone(ax,ctx)\n",
    "        if ax is None: fig, ax = plt.subplots(**kwargs)\n",
    "        ax.axis(xmin=0, xmax=self.shape[-1] - 1)\n",
    "        ax.set_title(self, weight='bold')\n",
    "        plt.tight_layout()\n",
    "        return ax\n",
    "\n",
    "\n",
    "class TSDataset(torch.utils.data.Dataset):\n",
    "    def __init__(self, X, y=None, y_class=IntTensor, sel_vars=None, sel_steps=None):\n",
    "        self.X, self.y = X, y\n",
    "        self.y_class = y_class\n",
    "        self.sel_vars =  slice(None) if sel_vars is None else sel_vars\n",
    "        self.sel_steps =  slice(None) if sel_steps is None else sel_steps\n",
    "        \n",
    "    def __getitem__(self, idx):\n",
    "        if self.y is None:  return (TSTensor(self.X[idx, self.sel_vars, self.sel_steps]), )\n",
    "        else:  return (TSTensor(self.X[idx, self.sel_vars, self.sel_steps]), self.y_class(self.y[idx]))\n",
    "\n",
    "    def __len__(self):\n",
    "        return len(self.X)\n",
    "\n",
    "    def __len__(self):\n",
    "        return len(self.X)\n",
    "\n",
    "    \n",
    "class TSDataLoaders(DataLoaders):\n",
    "    @delegates(plt.subplots)\n",
    "    def show_batch(self, b=None, max_n=9, nrows=3, ncols=3, figsize=(12, 10), **kwargs):\n",
    "        if b is None: b = self.one_batch()\n",
    "        db = self.decode_batch(b, max_n=max_n)\n",
    "        if nrows is None:\n",
    "            sqrt = math.sqrt(len(db))\n",
    "            rows = min(math.ceil(sqrt), len(db))\n",
    "        if ncols is None: ncols = len(db) // rnows\n",
    "        fig, axs = plt.subplots(nrows=nrows, ncols=ncols, figsize=figsize,  **kwargs)\n",
    "        for tup, ax in zip(db[:nrows ** 2], [axs] if nrows == 1 else axs.flatten()):\n",
    "            show_tuple(tup, ax=ax)\n",
    "        plt.tight_layout()\n",
    "        \n",
    "    @delegates(plt.subplots)\n",
    "    def show_batch(self, b=None, max_n=9, nrows=3, ncols=3, figsize=(12, 10), **kwargs):\n",
    "        if b is None: b = self.one_batch()\n",
    "#         b = self.decode_batch(b, max_n=max_n)\n",
    "        b = L(zip(*b))\n",
    "        if nrows is None: \n",
    "            sqrt = math.sqrt(len(b))\n",
    "            rows = min(math.ceil(sqrt), len(b)) \n",
    "        if ncols is None: ncols = len(b) // rnows\n",
    "        fig, axs = plt.subplots(nrows=nrows, ncols=ncols, figsize=figsize,  **kwargs)\n",
    "        for tup, ax in zip(b[:nrows ** 2], [axs] if nrows == 1 else axs.flatten()): \n",
    "            show_tuple(tup, ax=ax)\n",
    "        plt.tight_layout()"
   ]
  },
  {
   "cell_type": "code",
   "execution_count": 83,
   "metadata": {
    "ExecuteTime": {
     "end_time": "2020-04-01T06:59:45.303803Z",
     "start_time": "2020-04-01T06:59:37.893242Z"
    },
    "colab": {
     "base_uri": "https://localhost:8080/",
     "height": 52
    },
    "colab_type": "code",
    "id": "grG6211dzgcX",
    "outputId": "97c345f7-be15-43dd-d06f-46ae2911857d"
   },
   "outputs": [
    {
     "name": "stdout",
     "output_type": "stream",
     "text": [
      "shape: (8236, 1, 1024)        numel:    8,433,664   bs: 128\n",
      "916 ms ± 3.82 ms per loop (mean ± std. dev. of 7 runs, 1 loop each)\n"
     ]
    }
   ],
   "source": [
    "x_ = X_1000_1_1024_on_disk\n",
    "y_ = y_1000\n",
    "\n",
    "train_ds = TSDataset(x_, y_)\n",
    "train_dl = DataLoader(train_ds, bs=128, shuffle=True, drop_last=True)\n",
    "\n",
    "x_ = X_8236_1_1024_on_disk\n",
    "y_ = y_8236\n",
    "\n",
    "valid_ds = TSDataset(x_, y_)\n",
    "valid_dl = DataLoader(valid_ds, bs=128)\n",
    "\n",
    "dls   = TSDataLoaders(train_dl, valid_dl)\n",
    "xb,yb = next(iter(dls.valid))\n",
    "print(f'shape: {str(x_.shape):20}   numel: {len(x_.ravel()):12,}   bs: {len(xb)}')\n",
    "%timeit cycle_dl(dls.valid)"
   ]
  },
  {
   "cell_type": "code",
   "execution_count": 36,
   "metadata": {
    "colab": {
     "base_uri": "https://localhost:8080/",
     "height": 728
    },
    "colab_type": "code",
    "id": "Wk23da9Mzgce",
    "outputId": "db9a2731-fb31-415b-a426-2255c665375e"
   },
   "outputs": [
    {
     "data": {
      "image/png": "[encoded data removed]",
      "text/plain": [
       "<Figure size 864x720 with 9 Axes>"
      ]
     },
     "metadata": {
      "tags": []
     },
     "output_type": "display_data"
    }
   ],
   "source": [
    "dls.show_batch()"
   ]
  },
  {
   "cell_type": "markdown",
   "metadata": {},
   "source": [
    "## Sandbox"
   ]
  },
  {
   "cell_type": "code",
   "execution_count": 100,
   "metadata": {
    "ExecuteTime": {
     "end_time": "2020-04-01T07:08:57.110887Z",
     "start_time": "2020-04-01T07:08:57.088981Z"
    }
   },
   "outputs": [],
   "source": [
    "class TSDataLoader(DataLoaders):\n",
    "    @delegates(plt.subplots)\n",
    "    def show_batch(self, b=None, max_n=9, nrows=3, ncols=3, figsize=(12, 10), **kwargs):\n",
    "        if b is None: b = self.one_batch()\n",
    "        db = self.decode_batch(b, max_n=max_n)\n",
    "        if nrows is None:\n",
    "            sqrt = math.sqrt(len(db))\n",
    "            rows = min(math.ceil(sqrt), len(db))\n",
    "        if ncols is None: ncols = len(db) // rnows\n",
    "        fig, axs = plt.subplots(nrows=nrows, ncols=ncols, figsize=figsize,  **kwargs)\n",
    "        for tup, ax in zip(db[:nrows ** 2], [axs] if nrows == 1 else axs.flatten()):\n",
    "            show_tuple(tup, ax=ax)\n",
    "        plt.tight_layout()"
   ]
  },
  {
   "cell_type": "code",
   "execution_count": null,
   "metadata": {},
   "outputs": [],
   "source": [
    "x_ = X_starlight_in_memory\n",
    "y_ = y_starlight\n",
    "\n",
    "tfms  = [[], [Categorize()]]\n",
    "dsets = NumpyDatasets(x_, y_, tfms=tfms, splits=splits, preprocess=True)\n",
    "train_ds = dsets.train\n",
    "valid_ds = dsets.valid\n",
    "print(train_ds[0])"
   ]
  },
  {
   "cell_type": "code",
   "execution_count": null,
   "metadata": {},
   "outputs": [],
   "source": [
    "train_dl = TfmdDL(train_ds, bs=128, shuffle=True, drop_last=True)\n",
    "valid_dl = TfmdDL(valid_ds, bs=128)\n",
    "dls   = DataLoaders(train_dl, valid_dl)\n",
    "xb,yb = next(iter(dls.valid))\n",
    "print(f'shape: {str(x_.shape):20}   numel: {len(x_.ravel()):12,}   batch: {xb.shape}')\n",
    "%timeit cycle_dl(dls.valid)"
   ]
  },
  {
   "cell_type": "code",
   "execution_count": 104,
   "metadata": {
    "ExecuteTime": {
     "end_time": "2020-04-01T07:09:56.377694Z",
     "start_time": "2020-04-01T07:09:55.601631Z"
    }
   },
   "outputs": [
    {
     "name": "stdout",
     "output_type": "stream",
     "text": [
      "shape: (9236, 1, 1024)        numel:    9,457,664   batch: torch.Size([128, 1, 1024])\n"
     ]
    },
    {
     "name": "stderr",
     "output_type": "stream",
     "text": [
      "Unhandled exception in thread started by <bound method Thread._bootstrap of <Thread(QueueFeederThread, started daemon 123145585680384)>>\n"
     ]
    },
    {
     "ename": "RuntimeError",
     "evalue": "DataLoader worker (pid 14393) is killed by signal: Unknown signal: 0. ",
     "output_type": "error",
     "traceback": [
      "\u001b[0;31m---------------------------------------------------------------------------\u001b[0m",
      "\u001b[0;31mRuntimeError\u001b[0m                              Traceback (most recent call last)",
      "\u001b[0;32m<ipython-input-104-dfb326092b68>\u001b[0m in \u001b[0;36m<module>\u001b[0;34m\u001b[0m\n\u001b[1;32m      4\u001b[0m \u001b[0mxb\u001b[0m\u001b[0;34m,\u001b[0m\u001b[0myb\u001b[0m \u001b[0;34m=\u001b[0m \u001b[0mnext\u001b[0m\u001b[0;34m(\u001b[0m\u001b[0miter\u001b[0m\u001b[0;34m(\u001b[0m\u001b[0mdls\u001b[0m\u001b[0;34m.\u001b[0m\u001b[0mvalid\u001b[0m\u001b[0;34m)\u001b[0m\u001b[0;34m)\u001b[0m\u001b[0;34m\u001b[0m\u001b[0;34m\u001b[0m\u001b[0m\n\u001b[1;32m      5\u001b[0m \u001b[0mprint\u001b[0m\u001b[0;34m(\u001b[0m\u001b[0;34mf'shape: {str(x_.shape):20}   numel: {len(x_.ravel()):12,}   batch: {xb.shape}'\u001b[0m\u001b[0;34m)\u001b[0m\u001b[0;34m\u001b[0m\u001b[0;34m\u001b[0m\u001b[0m\n\u001b[0;32m----> 6\u001b[0;31m \u001b[0mget_ipython\u001b[0m\u001b[0;34m(\u001b[0m\u001b[0;34m)\u001b[0m\u001b[0;34m.\u001b[0m\u001b[0mrun_line_magic\u001b[0m\u001b[0;34m(\u001b[0m\u001b[0;34m'timeit'\u001b[0m\u001b[0;34m,\u001b[0m \u001b[0;34m'cycle_dl(dls.valid)'\u001b[0m\u001b[0;34m)\u001b[0m\u001b[0;34m\u001b[0m\u001b[0;34m\u001b[0m\u001b[0m\n\u001b[0m",
      "\u001b[0;32m~/anaconda3/lib/python3.7/site-packages/IPython/core/interactiveshell.py\u001b[0m in \u001b[0;36mrun_line_magic\u001b[0;34m(self, magic_name, line, _stack_depth)\u001b[0m\n\u001b[1;32m   2312\u001b[0m                 \u001b[0mkwargs\u001b[0m\u001b[0;34m[\u001b[0m\u001b[0;34m'local_ns'\u001b[0m\u001b[0;34m]\u001b[0m \u001b[0;34m=\u001b[0m \u001b[0msys\u001b[0m\u001b[0;34m.\u001b[0m\u001b[0m_getframe\u001b[0m\u001b[0;34m(\u001b[0m\u001b[0mstack_depth\u001b[0m\u001b[0;34m)\u001b[0m\u001b[0;34m.\u001b[0m\u001b[0mf_locals\u001b[0m\u001b[0;34m\u001b[0m\u001b[0;34m\u001b[0m\u001b[0m\n\u001b[1;32m   2313\u001b[0m             \u001b[0;32mwith\u001b[0m \u001b[0mself\u001b[0m\u001b[0;34m.\u001b[0m\u001b[0mbuiltin_trap\u001b[0m\u001b[0;34m:\u001b[0m\u001b[0;34m\u001b[0m\u001b[0;34m\u001b[0m\u001b[0m\n\u001b[0;32m-> 2314\u001b[0;31m                 \u001b[0mresult\u001b[0m \u001b[0;34m=\u001b[0m \u001b[0mfn\u001b[0m\u001b[0;34m(\u001b[0m\u001b[0;34m*\u001b[0m\u001b[0margs\u001b[0m\u001b[0;34m,\u001b[0m \u001b[0;34m**\u001b[0m\u001b[0mkwargs\u001b[0m\u001b[0;34m)\u001b[0m\u001b[0;34m\u001b[0m\u001b[0;34m\u001b[0m\u001b[0m\n\u001b[0m\u001b[1;32m   2315\u001b[0m             \u001b[0;32mreturn\u001b[0m \u001b[0mresult\u001b[0m\u001b[0;34m\u001b[0m\u001b[0;34m\u001b[0m\u001b[0m\n\u001b[1;32m   2316\u001b[0m \u001b[0;34m\u001b[0m\u001b[0m\n",
      "\u001b[0;32m</Users/nacho/anaconda3/lib/python3.7/site-packages/decorator.py:decorator-gen-60>\u001b[0m in \u001b[0;36mtimeit\u001b[0;34m(self, line, cell, local_ns)\u001b[0m\n",
      "\u001b[0;32m~/anaconda3/lib/python3.7/site-packages/IPython/core/magic.py\u001b[0m in \u001b[0;36m<lambda>\u001b[0;34m(f, *a, **k)\u001b[0m\n\u001b[1;32m    185\u001b[0m     \u001b[0;31m# but it's overkill for just that one bit of state.\u001b[0m\u001b[0;34m\u001b[0m\u001b[0;34m\u001b[0m\u001b[0;34m\u001b[0m\u001b[0m\n\u001b[1;32m    186\u001b[0m     \u001b[0;32mdef\u001b[0m \u001b[0mmagic_deco\u001b[0m\u001b[0;34m(\u001b[0m\u001b[0marg\u001b[0m\u001b[0;34m)\u001b[0m\u001b[0;34m:\u001b[0m\u001b[0;34m\u001b[0m\u001b[0;34m\u001b[0m\u001b[0m\n\u001b[0;32m--> 187\u001b[0;31m         \u001b[0mcall\u001b[0m \u001b[0;34m=\u001b[0m \u001b[0;32mlambda\u001b[0m \u001b[0mf\u001b[0m\u001b[0;34m,\u001b[0m \u001b[0;34m*\u001b[0m\u001b[0ma\u001b[0m\u001b[0;34m,\u001b[0m \u001b[0;34m**\u001b[0m\u001b[0mk\u001b[0m\u001b[0;34m:\u001b[0m \u001b[0mf\u001b[0m\u001b[0;34m(\u001b[0m\u001b[0;34m*\u001b[0m\u001b[0ma\u001b[0m\u001b[0;34m,\u001b[0m \u001b[0;34m**\u001b[0m\u001b[0mk\u001b[0m\u001b[0;34m)\u001b[0m\u001b[0;34m\u001b[0m\u001b[0;34m\u001b[0m\u001b[0m\n\u001b[0m\u001b[1;32m    188\u001b[0m \u001b[0;34m\u001b[0m\u001b[0m\n\u001b[1;32m    189\u001b[0m         \u001b[0;32mif\u001b[0m \u001b[0mcallable\u001b[0m\u001b[0;34m(\u001b[0m\u001b[0marg\u001b[0m\u001b[0;34m)\u001b[0m\u001b[0;34m:\u001b[0m\u001b[0;34m\u001b[0m\u001b[0;34m\u001b[0m\u001b[0m\n",
      "\u001b[0;32m~/anaconda3/lib/python3.7/site-packages/IPython/core/magics/execution.py\u001b[0m in \u001b[0;36mtimeit\u001b[0;34m(self, line, cell, local_ns)\u001b[0m\n\u001b[1;32m   1156\u001b[0m             \u001b[0;32mfor\u001b[0m \u001b[0mindex\u001b[0m \u001b[0;32min\u001b[0m \u001b[0mrange\u001b[0m\u001b[0;34m(\u001b[0m\u001b[0;36m0\u001b[0m\u001b[0;34m,\u001b[0m \u001b[0;36m10\u001b[0m\u001b[0;34m)\u001b[0m\u001b[0;34m:\u001b[0m\u001b[0;34m\u001b[0m\u001b[0;34m\u001b[0m\u001b[0m\n\u001b[1;32m   1157\u001b[0m                 \u001b[0mnumber\u001b[0m \u001b[0;34m=\u001b[0m \u001b[0;36m10\u001b[0m \u001b[0;34m**\u001b[0m \u001b[0mindex\u001b[0m\u001b[0;34m\u001b[0m\u001b[0;34m\u001b[0m\u001b[0m\n\u001b[0;32m-> 1158\u001b[0;31m                 \u001b[0mtime_number\u001b[0m \u001b[0;34m=\u001b[0m \u001b[0mtimer\u001b[0m\u001b[0;34m.\u001b[0m\u001b[0mtimeit\u001b[0m\u001b[0;34m(\u001b[0m\u001b[0mnumber\u001b[0m\u001b[0;34m)\u001b[0m\u001b[0;34m\u001b[0m\u001b[0;34m\u001b[0m\u001b[0m\n\u001b[0m\u001b[1;32m   1159\u001b[0m                 \u001b[0;32mif\u001b[0m \u001b[0mtime_number\u001b[0m \u001b[0;34m>=\u001b[0m \u001b[0;36m0.2\u001b[0m\u001b[0;34m:\u001b[0m\u001b[0;34m\u001b[0m\u001b[0;34m\u001b[0m\u001b[0m\n\u001b[1;32m   1160\u001b[0m                     \u001b[0;32mbreak\u001b[0m\u001b[0;34m\u001b[0m\u001b[0;34m\u001b[0m\u001b[0m\n",
      "\u001b[0;32m~/anaconda3/lib/python3.7/site-packages/IPython/core/magics/execution.py\u001b[0m in \u001b[0;36mtimeit\u001b[0;34m(self, number)\u001b[0m\n\u001b[1;32m    167\u001b[0m         \u001b[0mgc\u001b[0m\u001b[0;34m.\u001b[0m\u001b[0mdisable\u001b[0m\u001b[0;34m(\u001b[0m\u001b[0;34m)\u001b[0m\u001b[0;34m\u001b[0m\u001b[0;34m\u001b[0m\u001b[0m\n\u001b[1;32m    168\u001b[0m         \u001b[0;32mtry\u001b[0m\u001b[0;34m:\u001b[0m\u001b[0;34m\u001b[0m\u001b[0;34m\u001b[0m\u001b[0m\n\u001b[0;32m--> 169\u001b[0;31m             \u001b[0mtiming\u001b[0m \u001b[0;34m=\u001b[0m \u001b[0mself\u001b[0m\u001b[0;34m.\u001b[0m\u001b[0minner\u001b[0m\u001b[0;34m(\u001b[0m\u001b[0mit\u001b[0m\u001b[0;34m,\u001b[0m \u001b[0mself\u001b[0m\u001b[0;34m.\u001b[0m\u001b[0mtimer\u001b[0m\u001b[0;34m)\u001b[0m\u001b[0;34m\u001b[0m\u001b[0;34m\u001b[0m\u001b[0m\n\u001b[0m\u001b[1;32m    170\u001b[0m         \u001b[0;32mfinally\u001b[0m\u001b[0;34m:\u001b[0m\u001b[0;34m\u001b[0m\u001b[0;34m\u001b[0m\u001b[0m\n\u001b[1;32m    171\u001b[0m             \u001b[0;32mif\u001b[0m \u001b[0mgcold\u001b[0m\u001b[0;34m:\u001b[0m\u001b[0;34m\u001b[0m\u001b[0;34m\u001b[0m\u001b[0m\n",
      "\u001b[0;32m<magic-timeit>\u001b[0m in \u001b[0;36minner\u001b[0;34m(_it, _timer)\u001b[0m\n",
      "\u001b[0;32m<ipython-input-5-88ebb988fd4a>\u001b[0m in \u001b[0;36mcycle_dl\u001b[0;34m(dl)\u001b[0m\n\u001b[1;32m      1\u001b[0m \u001b[0;32mdef\u001b[0m \u001b[0mcycle_dl\u001b[0m\u001b[0;34m(\u001b[0m\u001b[0mdl\u001b[0m\u001b[0;34m)\u001b[0m\u001b[0;34m:\u001b[0m\u001b[0;34m\u001b[0m\u001b[0;34m\u001b[0m\u001b[0m\n\u001b[0;32m----> 2\u001b[0;31m     \u001b[0;32mfor\u001b[0m \u001b[0mx\u001b[0m\u001b[0;34m,\u001b[0m\u001b[0my\u001b[0m \u001b[0;32min\u001b[0m \u001b[0miter\u001b[0m\u001b[0;34m(\u001b[0m\u001b[0mdl\u001b[0m\u001b[0;34m)\u001b[0m\u001b[0;34m:\u001b[0m \u001b[0;32mpass\u001b[0m\u001b[0;34m\u001b[0m\u001b[0;34m\u001b[0m\u001b[0m\n\u001b[0m",
      "\u001b[0;32m~/anaconda3/lib/python3.7/site-packages/fastai2/data/load.py\u001b[0m in \u001b[0;36m__iter__\u001b[0;34m(self)\u001b[0m\n\u001b[1;32m     95\u001b[0m         \u001b[0mself\u001b[0m\u001b[0;34m.\u001b[0m\u001b[0mrandomize\u001b[0m\u001b[0;34m(\u001b[0m\u001b[0;34m)\u001b[0m\u001b[0;34m\u001b[0m\u001b[0;34m\u001b[0m\u001b[0m\n\u001b[1;32m     96\u001b[0m         \u001b[0mself\u001b[0m\u001b[0;34m.\u001b[0m\u001b[0mbefore_iter\u001b[0m\u001b[0;34m(\u001b[0m\u001b[0;34m)\u001b[0m\u001b[0;34m\u001b[0m\u001b[0;34m\u001b[0m\u001b[0m\n\u001b[0;32m---> 97\u001b[0;31m         \u001b[0;32mfor\u001b[0m \u001b[0mb\u001b[0m \u001b[0;32min\u001b[0m \u001b[0m_loaders\u001b[0m\u001b[0;34m[\u001b[0m\u001b[0mself\u001b[0m\u001b[0;34m.\u001b[0m\u001b[0mfake_l\u001b[0m\u001b[0;34m.\u001b[0m\u001b[0mnum_workers\u001b[0m\u001b[0;34m==\u001b[0m\u001b[0;36m0\u001b[0m\u001b[0;34m]\u001b[0m\u001b[0;34m(\u001b[0m\u001b[0mself\u001b[0m\u001b[0;34m.\u001b[0m\u001b[0mfake_l\u001b[0m\u001b[0;34m)\u001b[0m\u001b[0;34m:\u001b[0m\u001b[0;34m\u001b[0m\u001b[0;34m\u001b[0m\u001b[0m\n\u001b[0m\u001b[1;32m     98\u001b[0m             \u001b[0;32mif\u001b[0m \u001b[0mself\u001b[0m\u001b[0;34m.\u001b[0m\u001b[0mdevice\u001b[0m \u001b[0;32mis\u001b[0m \u001b[0;32mnot\u001b[0m \u001b[0;32mNone\u001b[0m\u001b[0;34m:\u001b[0m \u001b[0mb\u001b[0m \u001b[0;34m=\u001b[0m \u001b[0mto_device\u001b[0m\u001b[0;34m(\u001b[0m\u001b[0mb\u001b[0m\u001b[0;34m,\u001b[0m \u001b[0mself\u001b[0m\u001b[0;34m.\u001b[0m\u001b[0mdevice\u001b[0m\u001b[0;34m)\u001b[0m\u001b[0;34m\u001b[0m\u001b[0;34m\u001b[0m\u001b[0m\n\u001b[1;32m     99\u001b[0m             \u001b[0;32myield\u001b[0m \u001b[0mself\u001b[0m\u001b[0;34m.\u001b[0m\u001b[0mafter_batch\u001b[0m\u001b[0;34m(\u001b[0m\u001b[0mb\u001b[0m\u001b[0;34m)\u001b[0m\u001b[0;34m\u001b[0m\u001b[0;34m\u001b[0m\u001b[0m\n",
      "\u001b[0;32m~/anaconda3/lib/python3.7/site-packages/torch/utils/data/dataloader.py\u001b[0m in \u001b[0;36m__init__\u001b[0;34m(self, loader)\u001b[0m\n\u001b[1;32m    744\u001b[0m         \u001b[0;31m# prime the prefetch loop\u001b[0m\u001b[0;34m\u001b[0m\u001b[0;34m\u001b[0m\u001b[0;34m\u001b[0m\u001b[0m\n\u001b[1;32m    745\u001b[0m         \u001b[0;32mfor\u001b[0m \u001b[0m_\u001b[0m \u001b[0;32min\u001b[0m \u001b[0mrange\u001b[0m\u001b[0;34m(\u001b[0m\u001b[0;36m2\u001b[0m \u001b[0;34m*\u001b[0m \u001b[0mself\u001b[0m\u001b[0;34m.\u001b[0m\u001b[0m_num_workers\u001b[0m\u001b[0;34m)\u001b[0m\u001b[0;34m:\u001b[0m\u001b[0;34m\u001b[0m\u001b[0;34m\u001b[0m\u001b[0m\n\u001b[0;32m--> 746\u001b[0;31m             \u001b[0mself\u001b[0m\u001b[0;34m.\u001b[0m\u001b[0m_try_put_index\u001b[0m\u001b[0;34m(\u001b[0m\u001b[0;34m)\u001b[0m\u001b[0;34m\u001b[0m\u001b[0;34m\u001b[0m\u001b[0m\n\u001b[0m\u001b[1;32m    747\u001b[0m \u001b[0;34m\u001b[0m\u001b[0m\n\u001b[1;32m    748\u001b[0m     \u001b[0;32mdef\u001b[0m \u001b[0m_try_get_data\u001b[0m\u001b[0;34m(\u001b[0m\u001b[0mself\u001b[0m\u001b[0;34m,\u001b[0m \u001b[0mtimeout\u001b[0m\u001b[0;34m=\u001b[0m\u001b[0m_utils\u001b[0m\u001b[0;34m.\u001b[0m\u001b[0mMP_STATUS_CHECK_INTERVAL\u001b[0m\u001b[0;34m)\u001b[0m\u001b[0;34m:\u001b[0m\u001b[0;34m\u001b[0m\u001b[0;34m\u001b[0m\u001b[0m\n",
      "\u001b[0;32m~/anaconda3/lib/python3.7/site-packages/torch/utils/data/dataloader.py\u001b[0m in \u001b[0;36m_try_put_index\u001b[0;34m(self)\u001b[0m\n\u001b[1;32m    870\u001b[0m             \u001b[0;32mreturn\u001b[0m\u001b[0;34m\u001b[0m\u001b[0;34m\u001b[0m\u001b[0m\n\u001b[1;32m    871\u001b[0m \u001b[0;34m\u001b[0m\u001b[0m\n\u001b[0;32m--> 872\u001b[0;31m         \u001b[0mself\u001b[0m\u001b[0;34m.\u001b[0m\u001b[0m_index_queues\u001b[0m\u001b[0;34m[\u001b[0m\u001b[0mworker_queue_idx\u001b[0m\u001b[0;34m]\u001b[0m\u001b[0;34m.\u001b[0m\u001b[0mput\u001b[0m\u001b[0;34m(\u001b[0m\u001b[0;34m(\u001b[0m\u001b[0mself\u001b[0m\u001b[0;34m.\u001b[0m\u001b[0m_send_idx\u001b[0m\u001b[0;34m,\u001b[0m \u001b[0mindex\u001b[0m\u001b[0;34m)\u001b[0m\u001b[0;34m)\u001b[0m\u001b[0;34m\u001b[0m\u001b[0;34m\u001b[0m\u001b[0m\n\u001b[0m\u001b[1;32m    873\u001b[0m         \u001b[0mself\u001b[0m\u001b[0;34m.\u001b[0m\u001b[0m_task_info\u001b[0m\u001b[0;34m[\u001b[0m\u001b[0mself\u001b[0m\u001b[0;34m.\u001b[0m\u001b[0m_send_idx\u001b[0m\u001b[0;34m]\u001b[0m \u001b[0;34m=\u001b[0m \u001b[0;34m(\u001b[0m\u001b[0mworker_queue_idx\u001b[0m\u001b[0;34m,\u001b[0m\u001b[0;34m)\u001b[0m\u001b[0;34m\u001b[0m\u001b[0;34m\u001b[0m\u001b[0m\n\u001b[1;32m    874\u001b[0m         \u001b[0mself\u001b[0m\u001b[0;34m.\u001b[0m\u001b[0m_tasks_outstanding\u001b[0m \u001b[0;34m+=\u001b[0m \u001b[0;36m1\u001b[0m\u001b[0;34m\u001b[0m\u001b[0;34m\u001b[0m\u001b[0m\n",
      "\u001b[0;32m~/anaconda3/lib/python3.7/multiprocessing/queues.py\u001b[0m in \u001b[0;36mput\u001b[0;34m(self, obj, block, timeout)\u001b[0m\n\u001b[1;32m     85\u001b[0m         \u001b[0;32mwith\u001b[0m \u001b[0mself\u001b[0m\u001b[0;34m.\u001b[0m\u001b[0m_notempty\u001b[0m\u001b[0;34m:\u001b[0m\u001b[0;34m\u001b[0m\u001b[0;34m\u001b[0m\u001b[0m\n\u001b[1;32m     86\u001b[0m             \u001b[0;32mif\u001b[0m \u001b[0mself\u001b[0m\u001b[0;34m.\u001b[0m\u001b[0m_thread\u001b[0m \u001b[0;32mis\u001b[0m \u001b[0;32mNone\u001b[0m\u001b[0;34m:\u001b[0m\u001b[0;34m\u001b[0m\u001b[0;34m\u001b[0m\u001b[0m\n\u001b[0;32m---> 87\u001b[0;31m                 \u001b[0mself\u001b[0m\u001b[0;34m.\u001b[0m\u001b[0m_start_thread\u001b[0m\u001b[0;34m(\u001b[0m\u001b[0;34m)\u001b[0m\u001b[0;34m\u001b[0m\u001b[0;34m\u001b[0m\u001b[0m\n\u001b[0m\u001b[1;32m     88\u001b[0m             \u001b[0mself\u001b[0m\u001b[0;34m.\u001b[0m\u001b[0m_buffer\u001b[0m\u001b[0;34m.\u001b[0m\u001b[0mappend\u001b[0m\u001b[0;34m(\u001b[0m\u001b[0mobj\u001b[0m\u001b[0;34m)\u001b[0m\u001b[0;34m\u001b[0m\u001b[0;34m\u001b[0m\u001b[0m\n\u001b[1;32m     89\u001b[0m             \u001b[0mself\u001b[0m\u001b[0;34m.\u001b[0m\u001b[0m_notempty\u001b[0m\u001b[0;34m.\u001b[0m\u001b[0mnotify\u001b[0m\u001b[0;34m(\u001b[0m\u001b[0;34m)\u001b[0m\u001b[0;34m\u001b[0m\u001b[0;34m\u001b[0m\u001b[0m\n",
      "\u001b[0;32m~/anaconda3/lib/python3.7/multiprocessing/queues.py\u001b[0m in \u001b[0;36m_start_thread\u001b[0;34m(self)\u001b[0m\n\u001b[1;32m    168\u001b[0m \u001b[0;34m\u001b[0m\u001b[0m\n\u001b[1;32m    169\u001b[0m         \u001b[0mdebug\u001b[0m\u001b[0;34m(\u001b[0m\u001b[0;34m'doing self._thread.start()'\u001b[0m\u001b[0;34m)\u001b[0m\u001b[0;34m\u001b[0m\u001b[0;34m\u001b[0m\u001b[0m\n\u001b[0;32m--> 170\u001b[0;31m         \u001b[0mself\u001b[0m\u001b[0;34m.\u001b[0m\u001b[0m_thread\u001b[0m\u001b[0;34m.\u001b[0m\u001b[0mstart\u001b[0m\u001b[0;34m(\u001b[0m\u001b[0;34m)\u001b[0m\u001b[0;34m\u001b[0m\u001b[0;34m\u001b[0m\u001b[0m\n\u001b[0m\u001b[1;32m    171\u001b[0m         \u001b[0mdebug\u001b[0m\u001b[0;34m(\u001b[0m\u001b[0;34m'... done self._thread.start()'\u001b[0m\u001b[0;34m)\u001b[0m\u001b[0;34m\u001b[0m\u001b[0;34m\u001b[0m\u001b[0m\n\u001b[1;32m    172\u001b[0m \u001b[0;34m\u001b[0m\u001b[0m\n",
      "\u001b[0;32m~/anaconda3/lib/python3.7/threading.py\u001b[0m in \u001b[0;36mstart\u001b[0;34m(self)\u001b[0m\n\u001b[1;32m    845\u001b[0m             \u001b[0m_limbo\u001b[0m\u001b[0;34m[\u001b[0m\u001b[0mself\u001b[0m\u001b[0;34m]\u001b[0m \u001b[0;34m=\u001b[0m \u001b[0mself\u001b[0m\u001b[0;34m\u001b[0m\u001b[0;34m\u001b[0m\u001b[0m\n\u001b[1;32m    846\u001b[0m         \u001b[0;32mtry\u001b[0m\u001b[0;34m:\u001b[0m\u001b[0;34m\u001b[0m\u001b[0;34m\u001b[0m\u001b[0m\n\u001b[0;32m--> 847\u001b[0;31m             \u001b[0m_start_new_thread\u001b[0m\u001b[0;34m(\u001b[0m\u001b[0mself\u001b[0m\u001b[0;34m.\u001b[0m\u001b[0m_bootstrap\u001b[0m\u001b[0;34m,\u001b[0m \u001b[0;34m(\u001b[0m\u001b[0;34m)\u001b[0m\u001b[0;34m)\u001b[0m\u001b[0;34m\u001b[0m\u001b[0;34m\u001b[0m\u001b[0m\n\u001b[0m\u001b[1;32m    848\u001b[0m         \u001b[0;32mexcept\u001b[0m \u001b[0mException\u001b[0m\u001b[0;34m:\u001b[0m\u001b[0;34m\u001b[0m\u001b[0;34m\u001b[0m\u001b[0m\n\u001b[1;32m    849\u001b[0m             \u001b[0;32mwith\u001b[0m \u001b[0m_active_limbo_lock\u001b[0m\u001b[0;34m:\u001b[0m\u001b[0;34m\u001b[0m\u001b[0;34m\u001b[0m\u001b[0m\n",
      "\u001b[0;32m~/anaconda3/lib/python3.7/site-packages/torch/utils/data/_utils/signal_handling.py\u001b[0m in \u001b[0;36mhandler\u001b[0;34m(signum, frame)\u001b[0m\n\u001b[1;32m     64\u001b[0m         \u001b[0;31m# This following call uses `waitid` with WNOHANG from C side. Therefore,\u001b[0m\u001b[0;34m\u001b[0m\u001b[0;34m\u001b[0m\u001b[0;34m\u001b[0m\u001b[0m\n\u001b[1;32m     65\u001b[0m         \u001b[0;31m# Python can still get and update the process status successfully.\u001b[0m\u001b[0;34m\u001b[0m\u001b[0;34m\u001b[0m\u001b[0;34m\u001b[0m\u001b[0m\n\u001b[0;32m---> 66\u001b[0;31m         \u001b[0m_error_if_any_worker_fails\u001b[0m\u001b[0;34m(\u001b[0m\u001b[0;34m)\u001b[0m\u001b[0;34m\u001b[0m\u001b[0;34m\u001b[0m\u001b[0m\n\u001b[0m\u001b[1;32m     67\u001b[0m         \u001b[0;32mif\u001b[0m \u001b[0mprevious_handler\u001b[0m \u001b[0;32mis\u001b[0m \u001b[0;32mnot\u001b[0m \u001b[0;32mNone\u001b[0m\u001b[0;34m:\u001b[0m\u001b[0;34m\u001b[0m\u001b[0;34m\u001b[0m\u001b[0m\n\u001b[1;32m     68\u001b[0m             \u001b[0mprevious_handler\u001b[0m\u001b[0;34m(\u001b[0m\u001b[0msignum\u001b[0m\u001b[0;34m,\u001b[0m \u001b[0mframe\u001b[0m\u001b[0;34m)\u001b[0m\u001b[0;34m\u001b[0m\u001b[0;34m\u001b[0m\u001b[0m\n",
      "\u001b[0;31mRuntimeError\u001b[0m: DataLoader worker (pid 14393) is killed by signal: Unknown signal: 0. "
     ]
    }
   ],
   "source": [
    "train_dl = DataLoader(train_ds, bs=128, shuffle=True, drop_last=True)\n",
    "valid_dl = DataLoader(valid_ds, bs=128)\n",
    "dls   = TSDataLoaders(train_dl, valid_dl)\n",
    "xb,yb = next(iter(dls.valid))\n",
    "print(f'shape: {str(x_.shape):20}   numel: {len(x_.ravel()):12,}   batch: {xb.shape}')\n",
    "%timeit cycle_dl(dls.valid)"
   ]
  },
  {
   "cell_type": "code",
   "execution_count": 102,
   "metadata": {
    "ExecuteTime": {
     "end_time": "2020-04-01T07:09:26.868270Z",
     "start_time": "2020-04-01T07:09:26.786228Z"
    }
   },
   "outputs": [
    {
     "ename": "AttributeError",
     "evalue": "decode_batch",
     "output_type": "error",
     "traceback": [
      "\u001b[0;31m---------------------------------------------------------------------------\u001b[0m",
      "\u001b[0;31mAttributeError\u001b[0m                            Traceback (most recent call last)",
      "\u001b[0;32m<ipython-input-102-5daaf142c9e7>\u001b[0m in \u001b[0;36m<module>\u001b[0;34m\u001b[0m\n\u001b[0;32m----> 1\u001b[0;31m \u001b[0mdls\u001b[0m\u001b[0;34m.\u001b[0m\u001b[0mtrain\u001b[0m\u001b[0;34m.\u001b[0m\u001b[0mshow_batch\u001b[0m\u001b[0;34m(\u001b[0m\u001b[0;34m)\u001b[0m\u001b[0;34m\u001b[0m\u001b[0;34m\u001b[0m\u001b[0m\n\u001b[0m",
      "\u001b[0;32m<ipython-input-100-2344ff96b9cb>\u001b[0m in \u001b[0;36mshow_batch\u001b[0;34m(self, b, max_n, nrows, ncols, figsize, **kwargs)\u001b[0m\n\u001b[1;32m      3\u001b[0m     \u001b[0;32mdef\u001b[0m \u001b[0mshow_batch\u001b[0m\u001b[0;34m(\u001b[0m\u001b[0mself\u001b[0m\u001b[0;34m,\u001b[0m \u001b[0mb\u001b[0m\u001b[0;34m=\u001b[0m\u001b[0;32mNone\u001b[0m\u001b[0;34m,\u001b[0m \u001b[0mmax_n\u001b[0m\u001b[0;34m=\u001b[0m\u001b[0;36m9\u001b[0m\u001b[0;34m,\u001b[0m \u001b[0mnrows\u001b[0m\u001b[0;34m=\u001b[0m\u001b[0;36m3\u001b[0m\u001b[0;34m,\u001b[0m \u001b[0mncols\u001b[0m\u001b[0;34m=\u001b[0m\u001b[0;36m3\u001b[0m\u001b[0;34m,\u001b[0m \u001b[0mfigsize\u001b[0m\u001b[0;34m=\u001b[0m\u001b[0;34m(\u001b[0m\u001b[0;36m12\u001b[0m\u001b[0;34m,\u001b[0m \u001b[0;36m10\u001b[0m\u001b[0;34m)\u001b[0m\u001b[0;34m,\u001b[0m \u001b[0;34m**\u001b[0m\u001b[0mkwargs\u001b[0m\u001b[0;34m)\u001b[0m\u001b[0;34m:\u001b[0m\u001b[0;34m\u001b[0m\u001b[0;34m\u001b[0m\u001b[0m\n\u001b[1;32m      4\u001b[0m         \u001b[0;32mif\u001b[0m \u001b[0mb\u001b[0m \u001b[0;32mis\u001b[0m \u001b[0;32mNone\u001b[0m\u001b[0;34m:\u001b[0m \u001b[0mb\u001b[0m \u001b[0;34m=\u001b[0m \u001b[0mself\u001b[0m\u001b[0;34m.\u001b[0m\u001b[0mone_batch\u001b[0m\u001b[0;34m(\u001b[0m\u001b[0;34m)\u001b[0m\u001b[0;34m\u001b[0m\u001b[0;34m\u001b[0m\u001b[0m\n\u001b[0;32m----> 5\u001b[0;31m         \u001b[0mdb\u001b[0m \u001b[0;34m=\u001b[0m \u001b[0mself\u001b[0m\u001b[0;34m.\u001b[0m\u001b[0mdecode_batch\u001b[0m\u001b[0;34m(\u001b[0m\u001b[0mb\u001b[0m\u001b[0;34m,\u001b[0m \u001b[0mmax_n\u001b[0m\u001b[0;34m=\u001b[0m\u001b[0mmax_n\u001b[0m\u001b[0;34m)\u001b[0m\u001b[0;34m\u001b[0m\u001b[0;34m\u001b[0m\u001b[0m\n\u001b[0m\u001b[1;32m      6\u001b[0m         \u001b[0;32mif\u001b[0m \u001b[0mnrows\u001b[0m \u001b[0;32mis\u001b[0m \u001b[0;32mNone\u001b[0m\u001b[0;34m:\u001b[0m\u001b[0;34m\u001b[0m\u001b[0;34m\u001b[0m\u001b[0m\n\u001b[1;32m      7\u001b[0m             \u001b[0msqrt\u001b[0m \u001b[0;34m=\u001b[0m \u001b[0mmath\u001b[0m\u001b[0;34m.\u001b[0m\u001b[0msqrt\u001b[0m\u001b[0;34m(\u001b[0m\u001b[0mlen\u001b[0m\u001b[0;34m(\u001b[0m\u001b[0mdb\u001b[0m\u001b[0;34m)\u001b[0m\u001b[0;34m)\u001b[0m\u001b[0;34m\u001b[0m\u001b[0;34m\u001b[0m\u001b[0m\n",
      "\u001b[0;32m~/anaconda3/lib/python3.7/site-packages/fastcore/foundation.py\u001b[0m in \u001b[0;36m__getattr__\u001b[0;34m(self, k)\u001b[0m\n\u001b[1;32m    228\u001b[0m         \u001b[0;32mif\u001b[0m \u001b[0mself\u001b[0m\u001b[0;34m.\u001b[0m\u001b[0m_component_attr_filter\u001b[0m\u001b[0;34m(\u001b[0m\u001b[0mk\u001b[0m\u001b[0;34m)\u001b[0m\u001b[0;34m:\u001b[0m\u001b[0;34m\u001b[0m\u001b[0;34m\u001b[0m\u001b[0m\n\u001b[1;32m    229\u001b[0m             \u001b[0mattr\u001b[0m \u001b[0;34m=\u001b[0m \u001b[0mgetattr\u001b[0m\u001b[0;34m(\u001b[0m\u001b[0mself\u001b[0m\u001b[0;34m,\u001b[0m\u001b[0mself\u001b[0m\u001b[0;34m.\u001b[0m\u001b[0m_default\u001b[0m\u001b[0;34m,\u001b[0m\u001b[0;32mNone\u001b[0m\u001b[0;34m)\u001b[0m\u001b[0;34m\u001b[0m\u001b[0;34m\u001b[0m\u001b[0m\n\u001b[0;32m--> 230\u001b[0;31m             \u001b[0;32mif\u001b[0m \u001b[0mattr\u001b[0m \u001b[0;32mis\u001b[0m \u001b[0;32mnot\u001b[0m \u001b[0;32mNone\u001b[0m\u001b[0;34m:\u001b[0m \u001b[0;32mreturn\u001b[0m \u001b[0mgetattr\u001b[0m\u001b[0;34m(\u001b[0m\u001b[0mattr\u001b[0m\u001b[0;34m,\u001b[0m\u001b[0mk\u001b[0m\u001b[0;34m)\u001b[0m\u001b[0;34m\u001b[0m\u001b[0;34m\u001b[0m\u001b[0m\n\u001b[0m\u001b[1;32m    231\u001b[0m         \u001b[0;32mraise\u001b[0m \u001b[0mAttributeError\u001b[0m\u001b[0;34m(\u001b[0m\u001b[0mk\u001b[0m\u001b[0;34m)\u001b[0m\u001b[0;34m\u001b[0m\u001b[0;34m\u001b[0m\u001b[0m\n\u001b[1;32m    232\u001b[0m     \u001b[0;32mdef\u001b[0m \u001b[0m__dir__\u001b[0m\u001b[0;34m(\u001b[0m\u001b[0mself\u001b[0m\u001b[0;34m)\u001b[0m\u001b[0;34m:\u001b[0m \u001b[0;32mreturn\u001b[0m \u001b[0mcustom_dir\u001b[0m\u001b[0;34m(\u001b[0m\u001b[0mself\u001b[0m\u001b[0;34m,\u001b[0m\u001b[0mself\u001b[0m\u001b[0;34m.\u001b[0m\u001b[0m_dir\u001b[0m\u001b[0;34m(\u001b[0m\u001b[0;34m)\u001b[0m\u001b[0;34m)\u001b[0m\u001b[0;34m\u001b[0m\u001b[0;34m\u001b[0m\u001b[0m\n",
      "\u001b[0;32m<ipython-input-74-70b99eeea70e>\u001b[0m in \u001b[0;36m__getattr__\u001b[0;34m(self, k)\u001b[0m\n\u001b[1;32m     22\u001b[0m         \u001b[0;32mreturn\u001b[0m \u001b[0mres\u001b[0m \u001b[0;32mif\u001b[0m \u001b[0mis_indexer\u001b[0m\u001b[0;34m(\u001b[0m\u001b[0mit\u001b[0m\u001b[0;34m)\u001b[0m \u001b[0;32melse\u001b[0m \u001b[0mlist\u001b[0m\u001b[0;34m(\u001b[0m\u001b[0mzip\u001b[0m\u001b[0;34m(\u001b[0m\u001b[0;34m*\u001b[0m\u001b[0mres\u001b[0m\u001b[0;34m)\u001b[0m\u001b[0;34m)\u001b[0m\u001b[0;34m\u001b[0m\u001b[0;34m\u001b[0m\u001b[0m\n\u001b[1;32m     23\u001b[0m \u001b[0;34m\u001b[0m\u001b[0m\n\u001b[0;32m---> 24\u001b[0;31m     \u001b[0;32mdef\u001b[0m \u001b[0m__getattr__\u001b[0m\u001b[0;34m(\u001b[0m\u001b[0mself\u001b[0m\u001b[0;34m,\u001b[0m\u001b[0mk\u001b[0m\u001b[0;34m)\u001b[0m\u001b[0;34m:\u001b[0m \u001b[0;32mreturn\u001b[0m \u001b[0mgather_attrs\u001b[0m\u001b[0;34m(\u001b[0m\u001b[0mself\u001b[0m\u001b[0;34m,\u001b[0m \u001b[0mk\u001b[0m\u001b[0;34m,\u001b[0m \u001b[0;34m'tls'\u001b[0m\u001b[0;34m)\u001b[0m\u001b[0;34m\u001b[0m\u001b[0;34m\u001b[0m\u001b[0m\n\u001b[0m\u001b[1;32m     25\u001b[0m     \u001b[0;32mdef\u001b[0m \u001b[0m__dir__\u001b[0m\u001b[0;34m(\u001b[0m\u001b[0mself\u001b[0m\u001b[0;34m)\u001b[0m\u001b[0;34m:\u001b[0m \u001b[0;32mreturn\u001b[0m \u001b[0msuper\u001b[0m\u001b[0;34m(\u001b[0m\u001b[0;34m)\u001b[0m\u001b[0;34m.\u001b[0m\u001b[0m__dir__\u001b[0m\u001b[0;34m(\u001b[0m\u001b[0;34m)\u001b[0m \u001b[0;34m+\u001b[0m \u001b[0mgather_attr_names\u001b[0m\u001b[0;34m(\u001b[0m\u001b[0mself\u001b[0m\u001b[0;34m,\u001b[0m \u001b[0;34m'tls'\u001b[0m\u001b[0;34m)\u001b[0m\u001b[0;34m\u001b[0m\u001b[0;34m\u001b[0m\u001b[0m\n\u001b[1;32m     26\u001b[0m     \u001b[0;32mdef\u001b[0m \u001b[0m__len__\u001b[0m\u001b[0;34m(\u001b[0m\u001b[0mself\u001b[0m\u001b[0;34m)\u001b[0m\u001b[0;34m:\u001b[0m \u001b[0;32mreturn\u001b[0m \u001b[0mlen\u001b[0m\u001b[0;34m(\u001b[0m\u001b[0mself\u001b[0m\u001b[0;34m.\u001b[0m\u001b[0mtls\u001b[0m\u001b[0;34m[\u001b[0m\u001b[0;36m0\u001b[0m\u001b[0;34m]\u001b[0m\u001b[0;34m)\u001b[0m\u001b[0;34m\u001b[0m\u001b[0;34m\u001b[0m\u001b[0m\n",
      "\u001b[0;32m~/anaconda3/lib/python3.7/site-packages/fastcore/transform.py\u001b[0m in \u001b[0;36mgather_attrs\u001b[0;34m(o, k, nm)\u001b[0m\n\u001b[1;32m    151\u001b[0m     \u001b[0matt\u001b[0m \u001b[0;34m=\u001b[0m \u001b[0mgetattr\u001b[0m\u001b[0;34m(\u001b[0m\u001b[0mo\u001b[0m\u001b[0;34m,\u001b[0m\u001b[0mnm\u001b[0m\u001b[0;34m)\u001b[0m\u001b[0;34m\u001b[0m\u001b[0;34m\u001b[0m\u001b[0m\n\u001b[1;32m    152\u001b[0m     \u001b[0mres\u001b[0m \u001b[0;34m=\u001b[0m \u001b[0;34m[\u001b[0m\u001b[0mt\u001b[0m \u001b[0;32mfor\u001b[0m \u001b[0mt\u001b[0m \u001b[0;32min\u001b[0m \u001b[0matt\u001b[0m\u001b[0;34m.\u001b[0m\u001b[0mattrgot\u001b[0m\u001b[0;34m(\u001b[0m\u001b[0mk\u001b[0m\u001b[0;34m)\u001b[0m \u001b[0;32mif\u001b[0m \u001b[0mt\u001b[0m \u001b[0;32mis\u001b[0m \u001b[0;32mnot\u001b[0m \u001b[0;32mNone\u001b[0m\u001b[0;34m]\u001b[0m\u001b[0;34m\u001b[0m\u001b[0;34m\u001b[0m\u001b[0m\n\u001b[0;32m--> 153\u001b[0;31m     \u001b[0;32mif\u001b[0m \u001b[0;32mnot\u001b[0m \u001b[0mres\u001b[0m\u001b[0;34m:\u001b[0m \u001b[0;32mraise\u001b[0m \u001b[0mAttributeError\u001b[0m\u001b[0;34m(\u001b[0m\u001b[0mk\u001b[0m\u001b[0;34m)\u001b[0m\u001b[0;34m\u001b[0m\u001b[0;34m\u001b[0m\u001b[0m\n\u001b[0m\u001b[1;32m    154\u001b[0m     \u001b[0;32mreturn\u001b[0m \u001b[0mres\u001b[0m\u001b[0;34m[\u001b[0m\u001b[0;36m0\u001b[0m\u001b[0;34m]\u001b[0m \u001b[0;32mif\u001b[0m \u001b[0mlen\u001b[0m\u001b[0;34m(\u001b[0m\u001b[0mres\u001b[0m\u001b[0;34m)\u001b[0m\u001b[0;34m==\u001b[0m\u001b[0;36m1\u001b[0m \u001b[0;32melse\u001b[0m \u001b[0mL\u001b[0m\u001b[0;34m(\u001b[0m\u001b[0mres\u001b[0m\u001b[0;34m)\u001b[0m\u001b[0;34m\u001b[0m\u001b[0;34m\u001b[0m\u001b[0m\n\u001b[1;32m    155\u001b[0m \u001b[0;34m\u001b[0m\u001b[0m\n",
      "\u001b[0;31mAttributeError\u001b[0m: decode_batch"
     ]
    }
   ],
   "source": [
    "dls.train.show_batch()"
   ]
  },
  {
   "cell_type": "code",
   "execution_count": 77,
   "metadata": {
    "ExecuteTime": {
     "end_time": "2020-04-01T06:57:12.775075Z",
     "start_time": "2020-04-01T06:57:09.736639Z"
    }
   },
   "outputs": [
    {
     "name": "stdout",
     "output_type": "stream",
     "text": [
      "3.71 µs ± 6.94 ns per loop (mean ± std. dev. of 7 runs, 100000 loops each)\n"
     ]
    }
   ],
   "source": [
    "%timeit valid_ds[0]"
   ]
  },
  {
   "cell_type": "code",
   "execution_count": 78,
   "metadata": {
    "ExecuteTime": {
     "end_time": "2020-04-01T06:57:19.713751Z",
     "start_time": "2020-04-01T06:57:17.018389Z"
    },
    "colab": {},
    "colab_type": "code",
    "id": "e4VVgLna1kx-"
   },
   "outputs": [
    {
     "name": "stdout",
     "output_type": "stream",
     "text": [
      "shape: (9236, 1, 1024)        numel:    9,457,664   bs: 128\n",
      "331 ms ± 1.15 ms per loop (mean ± std. dev. of 7 runs, 1 loop each)\n"
     ]
    }
   ],
   "source": []
  },
  {
   "cell_type": "code",
   "execution_count": 81,
   "metadata": {
    "ExecuteTime": {
     "end_time": "2020-04-01T06:58:56.387519Z",
     "start_time": "2020-04-01T06:58:41.349983Z"
    }
   },
   "outputs": [
    {
     "name": "stdout",
     "output_type": "stream",
     "text": [
      "shape: (9236, 1, 1024)        numel:    9,457,664   bs: 64\n",
      "1.02 s ± 6.64 ms per loop (mean ± std. dev. of 7 runs, 1 loop each)\n"
     ]
    }
   ],
   "source": [
    "dls   = DataLoaders.from_dsets(dsets.train, dsets.valid, bs=128)\n",
    "xb,yb = next(iter(dls.valid))\n",
    "print(f'shape: {str(x_.shape):20}   numel: {len(x_.ravel()):12,}   bs: {len(xb)}')\n",
    "%timeit cycle_dl(dls.valid)"
   ]
  },
  {
   "cell_type": "code",
   "execution_count": null,
   "metadata": {},
   "outputs": [],
   "source": []
  },
  {
   "cell_type": "code",
   "execution_count": null,
   "metadata": {},
   "outputs": [],
   "source": []
  },
  {
   "cell_type": "code",
   "execution_count": null,
   "metadata": {},
   "outputs": [],
   "source": []
  },
  {
   "cell_type": "code",
   "execution_count": 57,
   "metadata": {
    "ExecuteTime": {
     "end_time": "2020-04-01T06:38:50.361648Z",
     "start_time": "2020-04-01T06:38:27.980862Z"
    }
   },
   "outputs": [
    {
     "name": "stdout",
     "output_type": "stream",
     "text": [
      "shape: (9236, 1, 1024)        numel:    9,457,664   bs: 128\n",
      "171 ms ± 467 µs per loop (mean ± std. dev. of 7 runs, 10 loops each)\n"
     ]
    }
   ],
   "source": [
    "x_ = X_starlight_in_memory\n",
    "y_ = y_starlight\n",
    "\n",
    "\n",
    "tfms  = [[ToTSTensor], [Categorize()]]\n",
    "dsets = NumpyDatasets(x_, y_, tfms=tfms, splits=splits, preprocess=True)\n",
    "train_ds = itemify([tl[:] for tl in dsets.train.tls])\n",
    "valid_ds = itemify([tl[:] for tl in dsets.valid.tls])\n",
    "train_dl = DataLoader(train_ds, bs=128, shuffle=True, drop_last=True)\n",
    "valid_dl = DataLoader(valid_ds, bs=128)\n",
    "dls   = DataLoaders(train_dl, valid_dl)\n",
    "xb,yb = next(iter(dls.valid))\n",
    "print(f'shape: {str(x_.shape):20}   numel: {len(x_.ravel()):12,}   bs: {len(xb)}')\n",
    "%timeit cycle_dl(dls.valid)"
   ]
  },
  {
   "cell_type": "code",
   "execution_count": 33,
   "metadata": {
    "ExecuteTime": {
     "end_time": "2020-04-01T06:30:19.284157Z",
     "start_time": "2020-04-01T06:30:11.719875Z"
    }
   },
   "outputs": [
    {
     "name": "stdout",
     "output_type": "stream",
     "text": [
      "932 µs ± 30.5 µs per loop (mean ± std. dev. of 7 runs, 1000 loops each)\n"
     ]
    }
   ],
   "source": [
    "%timeit valid_ds[0]"
   ]
  },
  {
   "cell_type": "code",
   "execution_count": 56,
   "metadata": {
    "ExecuteTime": {
     "end_time": "2020-04-01T06:37:50.555740Z",
     "start_time": "2020-04-01T06:37:48.661172Z"
    }
   },
   "outputs": [
    {
     "name": "stdout",
     "output_type": "stream",
     "text": [
      "2.3 µs ± 4.83 ns per loop (mean ± std. dev. of 7 runs, 100000 loops each)\n"
     ]
    }
   ],
   "source": [
    "%timeit valid_ds[0]"
   ]
  },
  {
   "cell_type": "code",
   "execution_count": 52,
   "metadata": {
    "ExecuteTime": {
     "end_time": "2020-04-01T06:36:00.006385Z",
     "start_time": "2020-04-01T06:35:58.898711Z"
    }
   },
   "outputs": [],
   "source": [
    "ptls = itemify([tl[:] for tl in train_ds.tls])"
   ]
  },
  {
   "cell_type": "code",
   "execution_count": 53,
   "metadata": {
    "ExecuteTime": {
     "end_time": "2020-04-01T06:36:09.377688Z",
     "start_time": "2020-04-01T06:36:09.367901Z"
    }
   },
   "outputs": [
    {
     "data": {
      "text/plain": [
       "(TSTensor(vars:1, len:1024), TensorCategory(1))"
      ]
     },
     "execution_count": 53,
     "metadata": {},
     "output_type": "execute_result"
    }
   ],
   "source": [
    "ptls[0]"
   ]
  },
  {
   "cell_type": "code",
   "execution_count": 54,
   "metadata": {
    "ExecuteTime": {
     "end_time": "2020-04-01T06:36:13.205903Z",
     "start_time": "2020-04-01T06:36:11.325801Z"
    }
   },
   "outputs": [
    {
     "name": "stdout",
     "output_type": "stream",
     "text": [
      "2.29 µs ± 6.51 ns per loop (mean ± std. dev. of 7 runs, 100000 loops each)\n"
     ]
    }
   ],
   "source": [
    "%timeit ptls[0]"
   ]
  },
  {
   "cell_type": "code",
   "execution_count": 34,
   "metadata": {
    "ExecuteTime": {
     "end_time": "2020-04-01T06:30:46.167777Z",
     "start_time": "2020-04-01T06:30:41.919423Z"
    }
   },
   "outputs": [
    {
     "name": "stdout",
     "output_type": "stream",
     "text": [
      "50.4 µs ± 4.85 µs per loop (mean ± std. dev. of 7 runs, 10000 loops each)\n"
     ]
    }
   ],
   "source": [
    "x_ = X_1000_1_1024_on_disk\n",
    "y_ = y_1000\n",
    "\n",
    "train_ds = TSDataset(x_, y_)\n",
    "train_dl = DataLoader(train_ds, bs=128, shuffle=True, drop_last=True)\n",
    "\n",
    "x_ = X_8236_1_1024_on_disk\n",
    "y_ = y_8236\n",
    "\n",
    "valid_ds2 = TSDataset(x_, y_)\n",
    "valid_dl2 = DataLoader(valid_ds2, bs=128)\n",
    "%timeit valid_ds2[0]"
   ]
  },
  {
   "cell_type": "code",
   "execution_count": null,
   "metadata": {},
   "outputs": [],
   "source": [
    "x_ = X_1000_1_1024_on_disk\n",
    "y_ = y_1000\n",
    "\n",
    "train_ds = TSDataset(x_, y_)\n",
    "train_dl = DataLoader(train_ds, bs=128, shuffle=True, drop_last=True)\n",
    "\n",
    "x_ = X_8236_1_1024_on_disk\n",
    "y_ = y_8236\n",
    "\n",
    "valid_ds = TSDataset(x_, y_)\n",
    "valid_dl = DataLoader(valid_ds, bs=128)\n",
    "\n",
    "dls   = TSDataLoaders(train_dl, valid_dl)\n",
    "xb,yb = next(iter(dls.valid))\n",
    "print(f'shape: {str(x_.shape):20}   numel: {len(x_.ravel()):12,}   bs: {len(xb)}')\n",
    "%timeit cycle_dl(dls.valid)"
   ]
  },
  {
   "cell_type": "code",
   "execution_count": 60,
   "metadata": {
    "ExecuteTime": {
     "end_time": "2020-04-01T06:44:10.056058Z",
     "start_time": "2020-04-01T06:43:52.692661Z"
    }
   },
   "outputs": [],
   "source": [
    "tfms  = [[ToTSTensor], [Categorize()]]\n",
    "dsets = NumpyDatasets(x_, y_, tfms=tfms, splits=splits)\n",
    "train_ds = dsets.train\n",
    "valid_ds = dsets.valid"
   ]
  },
  {
   "cell_type": "code",
   "execution_count": null,
   "metadata": {},
   "outputs": [],
   "source": []
  }
 ],
 "metadata": {
  "accelerator": "GPU",
  "colab": {
   "name": "02_DataLoaders_benchmark_WORK_IN_PROGRESS.ipynb",
   "provenance": []
  },
  "kernelspec": {
   "display_name": "Python 3",
   "language": "python",
   "name": "python3"
  },
  "language_info": {
   "codemirror_mode": {
    "name": "ipython",
    "version": 3
   },
   "file_extension": ".py",
   "mimetype": "text/x-python",
   "name": "python",
   "nbconvert_exporter": "python",
   "pygments_lexer": "ipython3",
   "version": "3.7.3"
  },
  "toc": {
   "base_numbering": 1,
   "nav_menu": {},
   "number_sections": true,
   "sideBar": true,
   "skip_h1_title": false,
   "title_cell": "Table of Contents",
   "title_sidebar": "Contents",
   "toc_cell": false,
   "toc_position": {},
   "toc_section_display": true,
   "toc_window_display": false
  }
 },
 "nbformat": 4,
 "nbformat_minor": 1
}

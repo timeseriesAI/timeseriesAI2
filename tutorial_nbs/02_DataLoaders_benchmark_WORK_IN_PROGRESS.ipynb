{
 "cells": [
  {
   "cell_type": "markdown",
   "metadata": {},
   "source": [
    "## DataLoaders requirements:\n",
    "\n",
    "* Use X and y\n",
    "* In memory or on disk np.arrays\n",
    "* Use item tfms and/ or batch tfms\n",
    "* Show batch (with tfms)\n",
    "* Good performance\n",
    "* Slice the dataset \n",
    "* Pass batch tfms"
   ]
  },
  {
   "cell_type": "code",
   "execution_count": 1,
   "metadata": {
    "ExecuteTime": {
     "end_time": "2020-03-31T17:23:13.276212Z",
     "start_time": "2020-03-31T17:23:13.183823Z"
    }
   },
   "outputs": [],
   "source": [
    "import sys\n",
    "import os\n",
    "ISCOLAB = 'google.colab' in sys.modules\n",
    "if ISCOLAB:\n",
    "    if not os.path.isdir('/content/timeseriesAI2'):\n",
    "        !pip install git+https://github.com/fastai/fastai2 \n",
    "        !pip install git+https://github.com/fastai/fastcore \n",
    "        !pip install pyunpack\n",
    "        !pip install sktime\n",
    "        !git clone https://github.com/timeseriesAI/timeseriesAI2.git\n",
    "        %cd timeseriesAI2\n",
    "    else: \n",
    "        path = !pwd\n",
    "        if path != ['/content/timeseriesAI2']: \n",
    "            %cd timeseriesAI2\n",
    "        !pwd"
   ]
  },
  {
   "cell_type": "code",
   "execution_count": 2,
   "metadata": {
    "ExecuteTime": {
     "end_time": "2020-03-31T17:23:14.045023Z",
     "start_time": "2020-03-31T17:23:14.015166Z"
    }
   },
   "outputs": [
    {
     "data": {
      "text/html": [
       "<style>.container {width:95% !important; }</style>"
      ],
      "text/plain": [
       "<IPython.core.display.HTML object>"
      ]
     },
     "metadata": {},
     "output_type": "display_data"
    }
   ],
   "source": [
    "from IPython.display import display, HTML\n",
    "display(HTML(\"<style>.container {width:95% !important; }</style>\"))"
   ]
  },
  {
   "cell_type": "code",
   "execution_count": 3,
   "metadata": {
    "ExecuteTime": {
     "end_time": "2020-03-31T17:23:29.482523Z",
     "start_time": "2020-03-31T17:23:15.567446Z"
    }
   },
   "outputs": [],
   "source": [
    "from fastai2.torch_core import *\n",
    "from fastai2.data.all import *\n",
    "from fastai2.learner import *\n",
    "from fastai2.metrics import *\n",
    "from fastai2.callback.all import *"
   ]
  },
  {
   "cell_type": "code",
   "execution_count": 4,
   "metadata": {
    "ExecuteTime": {
     "end_time": "2020-03-31T17:23:29.614113Z",
     "start_time": "2020-03-31T17:23:29.489163Z"
    }
   },
   "outputs": [],
   "source": [
    "from timeseries.imports import *\n",
    "from timeseries.utils import *\n",
    "from timeseries.data import *\n",
    "from timeseries.core import *\n",
    "from timeseries.models import *"
   ]
  },
  {
   "cell_type": "code",
   "execution_count": 5,
   "metadata": {
    "ExecuteTime": {
     "end_time": "2020-03-31T17:23:29.629352Z",
     "start_time": "2020-03-31T17:23:29.621390Z"
    }
   },
   "outputs": [],
   "source": [
    "def cycle_dl(dl):\n",
    "    for x,y in iter(dl): pass"
   ]
  },
  {
   "cell_type": "code",
   "execution_count": 6,
   "metadata": {
    "ExecuteTime": {
     "end_time": "2020-03-31T17:23:33.327154Z",
     "start_time": "2020-03-31T17:23:29.635964Z"
    }
   },
   "outputs": [],
   "source": [
    "if not os.path.exists('../data'): os.makedirs('../data')\n",
    "    \n",
    "X_1000_2_10_in_memory = np.random.rand(1000, 2, 10).astype('float32')\n",
    "np.save('../data/X_1000_2_10.npy', X_1000_2_10_in_memory)\n",
    "X_1000_2_10_on_disk = np.load('../data/X_1000_2_10.npy', mmap_mode='r')\n",
    "\n",
    "X_1000_20_100_in_memory = np.random.rand(1000, 20, 100).astype('float32')\n",
    "np.save('../data/X_1000_20_100.npy', X_1000_20_100_in_memory)\n",
    "X_1000_20_100_on_disk = np.load('../data/X_1000_20_100.npy', mmap_mode='r')\n",
    "\n",
    "X_1000_200_10_in_memory = np.random.rand(1000, 200, 10).astype('float32')\n",
    "np.save('../data/X_1000_200_10.npy', X_1000_200_10_in_memory)\n",
    "X_1000_200_10_on_disk = np.load('../data/X_1000_200_10.npy', mmap_mode='r')\n",
    "\n",
    "X_1000_2_1000_in_memory = np.random.rand(1000, 2, 1000).astype('float32')\n",
    "np.save('../data/X_1000_2_1000.npy', X_1000_2_1000_in_memory)\n",
    "X_1000_2_1000_on_disk = np.load('../data/X_1000_2_1000.npy', mmap_mode='r')\n",
    "\n",
    "X_100_20_1000_in_memory = np.random.rand(100, 20, 1000).astype('float32')\n",
    "np.save('../data/X_100_20_1000.npy', X_100_20_1000_in_memory)\n",
    "X_100_20_1000_on_disk = np.load('../data/X_100_20_1000.npy', mmap_mode='r')\n",
    "\n",
    "X_1000_20_1000_in_memory = np.random.rand(1000, 20, 1000).astype('float32')\n",
    "np.save('../data/X_1000_20_1000.npy', X_1000_2_1000_in_memory)\n",
    "X_1000_20_1000_on_disk = np.load('../data/X_1000_20_1000.npy', mmap_mode='r')\n",
    "\n",
    "X_10000_2_10_in_memory = np.random.rand(10000, 2, 10).astype('float32')\n",
    "np.save('../data/X_10000_2_10.npy', X_10000_2_10_in_memory)\n",
    "X_10000_2_10_on_disk = np.load('../data/X_10000_2_10.npy', mmap_mode='r')\n",
    "\n",
    "# StarLight valid like\n",
    "X_1000_1_1024_in_memory = np.random.rand(1000, 1, 1024).astype('float32')\n",
    "np.save('../data/X_1000_1_1024.npy', X_1000_1_1024_in_memory)\n",
    "X_1000_1_1024_on_disk = np.load('../data/X_1000_1_1024.npy', mmap_mode='r')\n",
    "\n",
    "X_8236_1_1024_in_memory = np.random.rand(8236, 1, 1024).astype('float32')\n",
    "np.save('../data/X_8236_1_1024.npy', X_8236_1_1024_in_memory)\n",
    "X_8236_1_1024_on_disk = np.load('../data/X_8236_1_1024.npy', mmap_mode='r')\n",
    "\n",
    "X_starlight_in_memory = concat(X_1000_1_1024_in_memory, X_8236_1_1024_in_memory)\n",
    "np.save('../data/X_starlight.npy', X_starlight_in_memory)\n",
    "X_starlight_on_disk = np.load('../data/X_starlight.npy', mmap_mode='r')\n",
    "splits = (L(list(np.arange(len(X_1000_1_1024_in_memory)))), \n",
    "          L(list(np.arange(len(X_1000_1_1024_in_memory), len(X_starlight_in_memory)))))\n",
    "\n",
    "y_100 = np.random.randint(0, 10, 100)\n",
    "y_1000 = np.random.randint(0, 10, 1000)\n",
    "y_10000 = np.random.randint(0, 10, 10000)\n",
    "y_8236 = np.random.randint(0, 10, 8236)\n",
    "y_starlight = concat(y_1000, y_8236)\n",
    "\n",
    "Xs_in_memory = [X_1000_20_100_in_memory, X_1000_200_10_in_memory, X_1000_2_1000_in_memory, \n",
    "               X_100_20_1000_in_memory, X_1000_20_1000_in_memory, X_10000_2_10_in_memory, X_8236_1_1024_in_memory]\n",
    "Xs_on_disk = [X_1000_20_100_on_disk, X_1000_200_10_on_disk, X_1000_2_1000_on_disk, \n",
    "               X_100_20_1000_on_disk, X_1000_20_1000_on_disk, X_10000_2_10_on_disk, X_8236_1_1024_on_disk]\n",
    "ys = [y_1000, y_1000, y_1000, y_100, y_1000, y_10000, y_8236]"
   ]
  },
  {
   "cell_type": "markdown",
   "metadata": {
    "heading_collapsed": true
   },
   "source": [
    "### Native Pytorch dataloader"
   ]
  },
  {
   "cell_type": "code",
   "execution_count": 7,
   "metadata": {
    "ExecuteTime": {
     "end_time": "2020-03-31T17:23:33.362649Z",
     "start_time": "2020-03-31T17:23:33.334080Z"
    },
    "hidden": true
   },
   "outputs": [],
   "source": [
    "# Native Pytorch\n",
    "class NumpyDataset(torch.utils.data.Dataset):\n",
    "    def __init__(self, X, y=None, sel_vars=None, sel_steps=None):\n",
    "        self.X, self.y = X, y\n",
    "        self.sel_vars =  slice(None) if sel_vars is None else sel_vars\n",
    "        self.sel_steps =  slice(None) if sel_steps is None else sel_steps\n",
    "\n",
    "    def __getitem__(self, idx):\n",
    "        return (self.X[idx, self.sel_vars, self.sel_steps], ) if self.y is None \\\n",
    "        else (self.X[idx, self.sel_vars, self.sel_steps], self.y[idx])\n",
    "\n",
    "    def __len__(self):\n",
    "        return len(self.X)"
   ]
  },
  {
   "cell_type": "code",
   "execution_count": 8,
   "metadata": {
    "ExecuteTime": {
     "end_time": "2020-03-31T17:24:00.377429Z",
     "start_time": "2020-03-31T17:23:33.371602Z"
    },
    "hidden": true
   },
   "outputs": [
    {
     "name": "stdout",
     "output_type": "stream",
     "text": [
      "shape: (1000, 20, 100)        numel:    2,000,000\n",
      "40.8 ms ± 7.45 ms per loop (mean ± std. dev. of 7 runs, 10 loops each)\n",
      "\n",
      "shape: (1000, 200, 10)        numel:    2,000,000\n",
      "34.8 ms ± 2.19 ms per loop (mean ± std. dev. of 7 runs, 10 loops each)\n",
      "\n",
      "shape: (1000, 2, 1000)        numel:    2,000,000\n",
      "33.3 ms ± 2.76 ms per loop (mean ± std. dev. of 7 runs, 10 loops each)\n",
      "\n",
      "shape: (100, 20, 1000)        numel:    2,000,000\n",
      "8.49 ms ± 31.2 µs per loop (mean ± std. dev. of 7 runs, 100 loops each)\n",
      "\n",
      "shape: (1000, 20, 1000)       numel:   20,000,000\n",
      "79 ms ± 1.99 ms per loop (mean ± std. dev. of 7 runs, 10 loops each)\n",
      "\n",
      "shape: (10000, 2, 10)         numel:      200,000\n",
      "340 ms ± 32.8 ms per loop (mean ± std. dev. of 7 runs, 1 loop each)\n",
      "\n",
      "shape: (8236, 1, 1024)        numel:    8,433,664\n",
      "247 ms ± 2.88 ms per loop (mean ± std. dev. of 7 runs, 1 loop each)\n",
      "\n"
     ]
    }
   ],
   "source": [
    "for x_, y_ in zip(Xs_in_memory, ys):\n",
    "    ds    = NumpyDataset(x_, y_)\n",
    "    dl    = torch.utils.data.DataLoader(dataset=ds, batch_size=128)\n",
    "    print(f'shape: {str(x_.shape):20}   numel: {len(x_.ravel()):12,}')\n",
    "    %timeit cycle_dl(dl)\n",
    "    print()"
   ]
  },
  {
   "cell_type": "code",
   "execution_count": 9,
   "metadata": {
    "ExecuteTime": {
     "end_time": "2020-03-31T17:24:04.967509Z",
     "start_time": "2020-03-31T17:24:00.385097Z"
    },
    "hidden": true
   },
   "outputs": [
    {
     "name": "stdout",
     "output_type": "stream",
     "text": [
      "shape: (8236, 1, 1024)        numel:    8,433,664   bs: 128\n",
      "280 ms ± 51.4 ms per loop (mean ± std. dev. of 7 runs, 1 loop each)\n",
      "\n",
      "shape: (8236, 1, 1024)        numel:    8,433,664   bs: 1280\n",
      "275 ms ± 41.7 ms per loop (mean ± std. dev. of 7 runs, 1 loop each)\n",
      "\n"
     ]
    }
   ],
   "source": [
    "# test larger batch size\n",
    "x_ = X_8236_1_1024_in_memory\n",
    "y_ = y_8236\n",
    "ds    = NumpyDataset(x_, y_)\n",
    "dl    = torch.utils.data.DataLoader(dataset=ds, batch_size=128)\n",
    "xb,yb = next(iter(dl))\n",
    "print(f'shape: {str(x_.shape):20}   numel: {len(x_.ravel()):12,}   bs: {len(xb)}')\n",
    "%timeit cycle_dl(dl)\n",
    "print()\n",
    "\n",
    "ds    = NumpyDataset(x_, y_)\n",
    "dl    = torch.utils.data.DataLoader(dataset=ds, batch_size=1280)\n",
    "xb,yb = next(iter(dl))\n",
    "print(f'shape: {str(x_.shape):20}   numel: {len(x_.ravel()):12,}   bs: {len(xb)}')\n",
    "%timeit cycle_dl(dl)\n",
    "print()"
   ]
  },
  {
   "cell_type": "markdown",
   "metadata": {
    "hidden": true
   },
   "source": [
    "**Key learning:** \n",
    "\n",
    "The number of dimensions or length of the time series doesn't have a significant impact on dataloader's performance. \n",
    "\n",
    "Performance is mostly determined by the number of samples, not the number of batches."
   ]
  },
  {
   "cell_type": "markdown",
   "metadata": {
    "hidden": true
   },
   "source": [
    "Pytorch native dataloader is pretty fast, although it misses these 3 requirements: \n",
    "\n",
    "* In memory or on disk np.arrays\n",
    "* Use item tfms and/ or batch tfms\n",
    "* Show batch (with tfms)\n",
    "\n",
    "I'll modify the default_collate to allow np.memmap as well. This shouldn't have any impact on performance."
   ]
  },
  {
   "cell_type": "code",
   "execution_count": null,
   "metadata": {
    "hidden": true
   },
   "outputs": [],
   "source": [
    "def dataloader(dataset,\n",
    "               batch_size=1,\n",
    "               shuffle=False,\n",
    "               sampler=None,\n",
    "               batch_sampler=None,\n",
    "               num_workers=0,\n",
    "               collate_fn=np_collate,\n",
    "               pin_memory=False,\n",
    "               drop_last=False,\n",
    "               timeout=0,\n",
    "               worker_init_fn=None,\n",
    "               multiprocessing_context=None):\n",
    "\n",
    "    return torch.utils.data.DataLoader(\n",
    "        dataset,\n",
    "        batch_size=batch_size,\n",
    "        shuffle=shuffle,\n",
    "        sampler=sampler,\n",
    "        batch_sampler=batch_sampler,\n",
    "        num_workers=num_workers,\n",
    "        collate_fn=collate_fn,\n",
    "        pin_memory=pin_memory,\n",
    "        drop_last=drop_last,\n",
    "        timeout=timeout,\n",
    "        worker_init_fn=worker_init_fn,\n",
    "        multiprocessing_context=multiprocessing_context)\n",
    "\n",
    "\n",
    "NumpyDataset.dataloader = dataloader"
   ]
  },
  {
   "cell_type": "code",
   "execution_count": null,
   "metadata": {
    "hidden": true
   },
   "outputs": [],
   "source": [
    "# test in memory vs on disk arrays\n",
    "x_ = X_8236_1_1024_in_memory\n",
    "y_ = y_8236\n",
    "ds    = NumpyDataset(x_, y_)\n",
    "dl    = torch.utils.data.DataLoader(dataset=ds, batch_size=128)\n",
    "xb,yb = next(iter(dl))\n",
    "print(f'shape: {str(x_.shape):20}   numel: {len(x_.ravel()):12,}   bs: {len(xb)}')\n",
    "%timeit cycle_dl(dl)\n",
    "print()\n",
    "\n",
    "x_ = X_8236_1_1024_in_memory\n",
    "y_ = y_8236\n",
    "ds    = NumpyDataset(x_, y_)\n",
    "dl    = ds.dataloader(batch_size=128)\n",
    "xb,yb = next(iter(dl))\n",
    "print(f'shape: {str(x_.shape):20}   numel: {len(x_.ravel()):12,}   bs: {len(xb)}')\n",
    "%timeit cycle_dl(dl)\n",
    "print()\n",
    "\n",
    "x_ = X_8236_1_1024_on_disk\n",
    "y_ = y_8236\n",
    "ds    = NumpyDataset(x_, y_)\n",
    "dl    = ds.dataloader(batch_size=128)\n",
    "xb,yb = next(iter(dl))\n",
    "print(f'shape: {str(x_.shape):20}   numel: {len(x_.ravel()):12,}   bs: {len(xb)}')\n",
    "%timeit cycle_dl(dl)\n",
    "print()"
   ]
  },
  {
   "cell_type": "markdown",
   "metadata": {
    "hidden": true
   },
   "source": [
    "**Key learnings:**\n",
    "\n",
    "- The updated collate function (that allows memmap conversion into a tensor) doesn't negetively impact performance when used with np.ndarrays\n",
    "\n",
    "- data is on disk is 40% slower than in memory, so it's better to pass data in memory if possible. However, performance is still good with data on disk.\n",
    "\n",
    "\n",
    "So we can now meet 3 of the requirements, but cannot still use tfms or show_batch."
   ]
  },
  {
   "cell_type": "code",
   "execution_count": null,
   "metadata": {
    "hidden": true
   },
   "outputs": [],
   "source": [
    "#conversion to TS tensor\n",
    "class TSDataset(torch.utils.data.Dataset):\n",
    "    def __init__(self, X, y=None):\n",
    "        self.X, self.y = X, y\n",
    "        \n",
    "    def __getitem__(self, idx):\n",
    "        if self.y is None: return (self.X[idx], )\n",
    "        else: return (TSTensor(self.X[idx]), self.y[idx])\n",
    "\n",
    "    def __len__(self):\n",
    "        return len(self.X)\n",
    "    \n",
    "TSDataset.dataloader = dataloader"
   ]
  },
  {
   "cell_type": "code",
   "execution_count": null,
   "metadata": {
    "hidden": true
   },
   "outputs": [],
   "source": [
    "# Prior conversion to TSTensor\n",
    "x_ = X_8236_1_1024_on_disk\n",
    "y_ = y_8236\n",
    "\n",
    "ds    = NumpyDataset(x_, y_)\n",
    "dl    = ds.dataloader(batch_size=128)\n",
    "xb,yb = next(iter(dl))\n",
    "print(f'shape: {str(x_.shape):20}   numel: {len(x_.ravel()):12,}   bs: {len(xb)}')\n",
    "%timeit cycle_dl(dl)\n",
    "print()\n",
    "\n",
    "ds    = TSDataset(x_, y_)\n",
    "dl    = ds.dataloader(batch_size=128)\n",
    "xb,yb = next(iter(dl))\n",
    "print(f'shape: {str(x_.shape):20}   numel: {len(x_.ravel()):12,}   bs: {len(xb)}')\n",
    "%timeit cycle_dl(dl)\n",
    "print()"
   ]
  },
  {
   "cell_type": "markdown",
   "metadata": {
    "hidden": true
   },
   "source": [
    "Conversion to TSTensor makes it is 30-40% slower, so it doesn't seem useful."
   ]
  },
  {
   "cell_type": "markdown",
   "metadata": {
    "heading_collapsed": true
   },
   "source": [
    "### Factory method"
   ]
  },
  {
   "cell_type": "code",
   "execution_count": null,
   "metadata": {
    "hidden": true
   },
   "outputs": [],
   "source": [
    "x_ = X_starlight_in_memory\n",
    "y_ = y_starlight\n",
    "dls = TSDataLoaders.from_numpy(x_, y_, splitter=IndexSplitter(splits[1]), bs=64, val_bs=128)\n",
    "xb,yb = next(iter(dls.valid))\n",
    "print(f'shape: {str(x_.shape):20}   numel: {len(x_.ravel()):12,}   bs: {len(xb)}')\n",
    "%timeit cycle_dl(dls.valid)"
   ]
  },
  {
   "cell_type": "markdown",
   "metadata": {
    "heading_collapsed": true
   },
   "source": [
    "### Datablock"
   ]
  },
  {
   "cell_type": "code",
   "execution_count": null,
   "metadata": {
    "hidden": true
   },
   "outputs": [],
   "source": [
    "x_ = X_starlight_in_memory\n",
    "y_ = y_starlight\n",
    "getters = [ItemGetter(0), ItemGetter(1)]\n",
    "dblock = DataBlock(blocks=(TSTensorBlock, CategoryBlock),\n",
    "                   getters=getters,\n",
    "                   splitter=IndexSplitter(splits[1]),\n",
    "                   item_tfms=None,\n",
    "                   batch_tfms=None)\n",
    "source = itemify(x_, y_)\n",
    "dls = dblock.dataloaders(source, bs=64, val_bs=128)\n",
    "xb,yb = next(iter(dls.valid))\n",
    "print(f'shape: {str(x_.shape):20}   numel: {len(x_.ravel()):12,}   bs: {len(xb)}')\n",
    "%timeit cycle_dl(dls.valid)"
   ]
  },
  {
   "cell_type": "markdown",
   "metadata": {
    "heading_collapsed": true
   },
   "source": [
    "### Datasets + DataLoaders"
   ]
  },
  {
   "cell_type": "code",
   "execution_count": null,
   "metadata": {
    "hidden": true
   },
   "outputs": [],
   "source": [
    "class NumpyDatasets(FilteredBase):\n",
    "    \"A dataset that creates a tuple from each `tfms`, passed thru `item_tfms`\"\n",
    "    def __init__(self, X=None, y=None, items=None, tfms=None, tls=None, n_inp=None, dl_type=None, **kwargs):\n",
    "        super().__init__(dl_type=dl_type)\n",
    "\n",
    "        #New 4 lines of code\n",
    "        if tls is None:\n",
    "            if items is None: items = itemify(X,) if y is None else itemify(X,y)\n",
    "            assert (tfms is None or len(items[0]) == len(tfms)), f\"n_tfms ({len(tfms)}) doesn't match n_items ({len(items[0])})\"\n",
    "            tfms = None if tfms is None else [[ItemGetter(i)] + L(tfms[i]) for i in range(len(items[0]))]\n",
    "        \n",
    "        self.tls = L(tls if tls else [TfmdLists(items, t, **kwargs) for t in L(ifnone(tfms,[None]))])\n",
    "        self.n_inp = (1 if len(self.tls)==1 else len(self.tls)-1) if n_inp is None else n_inp\n",
    "\n",
    "    def __getitem__(self, it):\n",
    "        res = tuple([tl[it] for tl in self.tls])\n",
    "        return res if is_indexer(it) else list(zip(*res))\n",
    "\n",
    "    def __getattr__(self,k): return gather_attrs(self, k, 'tls')\n",
    "    def __dir__(self): return super().__dir__() + gather_attr_names(self, 'tls')\n",
    "    def __len__(self): return len(self.tls[0])\n",
    "    def __iter__(self): return (self[i] for i in range(len(self)))\n",
    "    def __repr__(self): return coll_repr(self)\n",
    "    def decode(self, o, full=True): return tuple(tl.decode(o_, full=full) for o_,tl in zip(o,tuplify(self.tls, match=o)))\n",
    "    def subset(self, i): return type(self)(tls=L(tl.subset(i) for tl in self.tls), n_inp=self.n_inp)\n",
    "    def _new(self, items, *args, **kwargs): return super()._new(items, tfms=self.tfms, do_setup=False, **kwargs)\n",
    "    def overlapping_splits(self): return self.tls[0].overlapping_splits()\n",
    "    @property\n",
    "    def splits(self): return self.tls[0].splits\n",
    "    @property\n",
    "    def split_idx(self): return self.tls[0].tfms.split_idx\n",
    "    @property\n",
    "    def items(self): return self.tls[0].items\n",
    "    @items.setter\n",
    "    def items(self, v):\n",
    "        for tl in self.tls: tl.items = v\n",
    "\n",
    "    def show(self, o, ctx=None, **kwargs):\n",
    "        for o_,tl in zip(o,self.tls): ctx = tl.show(o_, ctx=ctx, **kwargs)\n",
    "        return ctx\n",
    "\n",
    "    def new_empty(self):\n",
    "        tls = [tl._new([], split_idx=tl.split_idx) for tl in self.tls]\n",
    "        return type(self)(tls=tls, n_inp=self.n_inp)\n",
    "\n",
    "    @contextmanager\n",
    "    def set_split_idx(self, i):\n",
    "        old_split_idx = self.split_idx\n",
    "        for tl in self.tls: tl.tfms.split_idx = i\n",
    "        yield self\n",
    "        for tl in self.tls: tl.tfms.split_idx = old_split_idx"
   ]
  },
  {
   "cell_type": "code",
   "execution_count": null,
   "metadata": {
    "hidden": true
   },
   "outputs": [],
   "source": [
    "x_ = X_starlight_in_memory\n",
    "y_ = y_starlight\n",
    "\n",
    "tfms  = [[ToTSTensor], [Categorize()]]\n",
    "dsets = NumpyDatasets(x_, y_, tfms=tfms, splits=splits)\n",
    "dls   = DataLoaders.from_dsets(dsets.train, dsets.valid, bs=32, val_bs=128)\n",
    "xb,yb = next(iter(dls.valid))\n",
    "print(f'shape: {str(x_.shape):20}   numel: {len(x_.ravel()):12,}   bs: {len(xb)}')\n",
    "%timeit cycle_dl(dls.valid)"
   ]
  },
  {
   "cell_type": "markdown",
   "metadata": {
    "hidden": true
   },
   "source": [
    "**Key insights:**\n",
    "\n",
    "- Both factory method, datablock API and NumpyDatasets + DataLoaders are all very slow compared to native Pytorch.\n",
    "- Fastai misses these requirements:\n",
    "\n",
    "    * In memory or on disk np.arrays\n",
    "    * Good performance"
   ]
  },
  {
   "cell_type": "markdown",
   "metadata": {},
   "source": [
    "### Hybrid approach"
   ]
  },
  {
   "cell_type": "markdown",
   "metadata": {},
   "source": [
    "This approach was suggested by Sylvain Gugger [here](https://forums.fast.ai/t/datablock-with-numpy-input/64848/2?u=oguiza):\n",
    "\n",
    "\n",
    "\"You can create a DataLoaders object from regular PyTorch datasets (though all the visualization methods like show_batch and show_results will fail).\""
   ]
  },
  {
   "cell_type": "code",
   "execution_count": null,
   "metadata": {},
   "outputs": [],
   "source": [
    "x_ = X_1000_1_1024_in_memory\n",
    "y_ = y_1000\n",
    "train_ds = NumpyDataset(x_, y_)\n",
    "\n",
    "x_ = X_8236_1_1024_in_memory\n",
    "y_ = y_8236\n",
    "valid_ds = NumpyDataset(x_, y_)\n",
    "dls = DataLoaders.from_dsets(train_ds, valid_ds, batch_size=128)\n",
    "xb,yb = next(iter(dls.valid))\n",
    "print(f'shape: {str(x_.shape):20}   numel: {len(x_.ravel()):12,}   bs: {len(xb)}')\n",
    "%timeit cycle_dl(dls.valid)"
   ]
  },
  {
   "cell_type": "code",
   "execution_count": 12,
   "metadata": {
    "ExecuteTime": {
     "end_time": "2020-03-31T17:34:09.668396Z",
     "start_time": "2020-03-31T17:34:09.648888Z"
    }
   },
   "outputs": [],
   "source": [
    "class TSDataset(torch.utils.data.Dataset):\n",
    "    def __init__(self, X, y=None, sel_vars=None, sel_steps=None):\n",
    "        self.X, self.y = X, y\n",
    "        self.sel_vars =  slice(None) if sel_vars is None else sel_vars\n",
    "        self.sel_steps =  slice(None) if sel_steps is None else sel_steps\n",
    "\n",
    "    def __getitem__(self, idx):\n",
    "        return (TSTensor(self.X[idx, self.sel_vars, self.sel_steps], )) if self.y is None \\\n",
    "        else (TSTensor(self.X[idx, self.sel_vars, self.sel_steps]), self.y[idx])\n",
    "\n",
    "    def __len__(self):\n",
    "        return len(self.X)"
   ]
  },
  {
   "cell_type": "code",
   "execution_count": null,
   "metadata": {},
   "outputs": [],
   "source": [
    "x_ = X_1000_1_1024_on_disk\n",
    "y_ = y_1000\n",
    "train_ds = TSDataset(x_, y_)\n",
    "\n",
    "x_ = X_8236_1_1024_on_disk\n",
    "y_ = y_8236\n",
    "valid_ds = TSDataset(x_, y_)\n",
    "dls = DataLoaders.from_dsets(train_ds, valid_ds, batch_size=128)\n",
    "xb,yb = next(iter(dls.valid))\n",
    "print(f'shape: {str(x_.shape):20}   numel: {len(x_.ravel()):12,}   bs: {len(xb)}')\n",
    "%timeit cycle_dl(dls.valid)"
   ]
  },
  {
   "cell_type": "markdown",
   "metadata": {},
   "source": [
    "This approach is certainly much faster than the default fastai v2. \n",
    "\n",
    "TSDataset has the additional benefit that allows you to use data on disk.\n",
    "\n",
    "However, it's still much slower than Pytorch dl."
   ]
  },
  {
   "cell_type": "code",
   "execution_count": 10,
   "metadata": {
    "ExecuteTime": {
     "end_time": "2020-03-31T17:31:16.834211Z",
     "start_time": "2020-03-31T17:31:13.898331Z"
    }
   },
   "outputs": [
    {
     "name": "stdout",
     "output_type": "stream",
     "text": [
      "shape: (8236, 1, 1024)        numel:    8,433,664   bs: 128\n",
      "367 ms ± 48.2 ms per loop (mean ± std. dev. of 7 runs, 1 loop each)\n"
     ]
    }
   ],
   "source": [
    "x_ = X_1000_1_1024_in_memory\n",
    "y_ = y_1000\n",
    "\n",
    "train_ds = NumpyDataset(x_, y_)\n",
    "train_dl = DataLoader(train_ds, bs=128, shuffle=True, drop_last=True)\n",
    "\n",
    "x_ = X_8236_1_1024_in_memory\n",
    "y_ = y_8236\n",
    "\n",
    "valid_ds = NumpyDataset(x_, y_)\n",
    "valid_dl = DataLoader(valid_ds, bs=128)\n",
    "\n",
    "dls   = DataLoaders(train_dl, valid_dl)\n",
    "xb,yb = next(iter(dls.valid))\n",
    "print(f'shape: {str(x_.shape):20}   numel: {len(x_.ravel()):12,}   bs: {len(xb)}')\n",
    "%timeit cycle_dl(dls.valid)"
   ]
  },
  {
   "cell_type": "markdown",
   "metadata": {},
   "source": [
    "This is **very fast**, but it has at least a couple problems: \n",
    "\n",
    "* it doesn't allow us to use show_batch. \n",
    "* it doesn't allow us to pass an array on disk\n",
    "\n",
    "Let's see how if we can fix that."
   ]
  },
  {
   "cell_type": "code",
   "execution_count": 14,
   "metadata": {
    "ExecuteTime": {
     "end_time": "2020-03-31T18:11:10.576958Z",
     "start_time": "2020-03-31T18:11:10.423860Z"
    }
   },
   "outputs": [],
   "source": [
    "class FloatTensor(TensorBase):\n",
    "    '''Returns a tensor of type float.int32 and class IntTensor'''\n",
    "    def __new__(cls, o, dtype=torch.float32, **kwargs): \n",
    "        res = tensor(o, dtype=dtype)\n",
    "        res.__class__ = cls\n",
    "        res._meta = kwargs\n",
    "        return res\n",
    "    \n",
    "    def __getitem__(self, idx):\n",
    "        res = super().__getitem__(idx)\n",
    "        return retain_type(res, self)\n",
    "\n",
    "    def __repr__(self):\n",
    "        if self.ndim == 0: return str(self.item())\n",
    "        else: return f'IntTensor(len:{len(self)})'\n",
    "\n",
    "    def show(self, ax=None, ctx=None, **kwargs):\n",
    "        ax = ifnone(ax,ctx)\n",
    "        if ax is None: fig, ax = plt.subplots(**kwargs)\n",
    "        ax.axis(xmin=0, xmax=self.shape[-1] - 1)\n",
    "        ax.set_title(self, weight='bold')\n",
    "        plt.tight_layout()\n",
    "        return ax\n",
    "\n",
    "class IntTensor(TensorBase):\n",
    "    '''Returns a tensor of type torch.int64 and class IntTensor'''\n",
    "    def __new__(cls, o, dtype=torch.int64, **kwargs): \n",
    "        res = tensor(o, dtype=dtype)\n",
    "        res.__class__ = cls\n",
    "        res._meta = kwargs\n",
    "        return res\n",
    "    \n",
    "    def __getitem__(self, idx):\n",
    "        res = super().__getitem__(idx)\n",
    "        return retain_type(res, self)\n",
    "\n",
    "    def __repr__(self):\n",
    "        if self.ndim == 0: return str(self.item())\n",
    "        else: return f'IntTensor(len:{len(self)})'\n",
    "\n",
    "    def show(self, ax=None, ctx=None, **kwargs):\n",
    "        ax = ifnone(ax,ctx)\n",
    "        if ax is None: fig, ax = plt.subplots(**kwargs)\n",
    "        ax.axis(xmin=0, xmax=self.shape[-1] - 1)\n",
    "        ax.set_title(self, weight='bold')\n",
    "        plt.tight_layout()\n",
    "        return ax\n",
    "\n",
    "\n",
    "class TSDataset(torch.utils.data.Dataset):\n",
    "    def __init__(self, X, y=None, y_class=IntTensor, sel_vars=None, sel_steps=None):\n",
    "        self.X, self.y = X, y\n",
    "        self.y_class = y_class\n",
    "        self.sel_vars =  slice(None) if sel_vars is None else sel_vars\n",
    "        self.sel_steps =  slice(None) if sel_steps is None else sel_steps\n",
    "        \n",
    "    def __getitem__(self, idx):\n",
    "        if self.y is None:  return (TSTensor(self.X[idx, self.sel_vars, self.sel_steps]), )\n",
    "        else:  return (TSTensor(self.X[idx, self.sel_vars, self.sel_steps]), self.y_class(self.y[idx]))\n",
    "\n",
    "    def __len__(self):\n",
    "        return len(self.X)\n",
    "\n",
    "    def __len__(self):\n",
    "        return len(self.X)\n",
    "\n",
    "    \n",
    "class TSDataLoaders(DataLoaders):\n",
    "    @classmethod\n",
    "    @delegates(DataLoaders.from_dblock)\n",
    "    def from_numpy(cls, X, y=None, splitter=None, valid_pct=0.2, seed=0, item_tfms=None, batch_tfms=None, **kwargs):\n",
    "        \"Create timeseries dataloaders from arrays (X and y, unless unlabeled)\"\n",
    "        if splitter is None: splitter = RandomSplitter(valid_pct=valid_pct, seed=seed)\n",
    "        getters = [ItemGetter(0), ItemGetter(1)] if y is not None else [ItemGetter(0)]\n",
    "        dblock = DataBlock(blocks=(TSTensorBlock, CategoryBlock),\n",
    "                           getters=getters,\n",
    "                           splitter=splitter,\n",
    "                           item_tfms=item_tfms,\n",
    "                           batch_tfms=batch_tfms)\n",
    "\n",
    "        source = itemify(X) if y is None else itemify(X,y)\n",
    "        return cls.from_dblock(dblock, source, **kwargs)\n",
    "\n",
    "    @delegates(plt.subplots)\n",
    "    def show_batch(self, b=None, max_n=9, nrows=3, ncols=3, figsize=(12, 10), **kwargs):\n",
    "        if b is None: b = self.one_batch()\n",
    "        b = L(zip(*b))\n",
    "        if nrows is None: \n",
    "            sqrt = math.sqrt(len(b))\n",
    "            rows = min(math.ceil(sqrt), len(b)) \n",
    "        if ncols is None: ncols = len(b) // rnows\n",
    "        fig, axs = plt.subplots(nrows=nrows, ncols=ncols, figsize=figsize,  **kwargs)\n",
    "        for tup, ax in zip(b[:nrows ** 2], [axs] if nrows == 1 else axs.flatten()): \n",
    "            show_tuple(tup, ax=ax)\n",
    "        plt.tight_layout()"
   ]
  },
  {
   "cell_type": "code",
   "execution_count": 15,
   "metadata": {
    "ExecuteTime": {
     "end_time": "2020-03-31T18:11:44.770603Z",
     "start_time": "2020-03-31T18:11:34.613360Z"
    }
   },
   "outputs": [
    {
     "name": "stdout",
     "output_type": "stream",
     "text": [
      "shape: (8236, 1, 1024)        numel:    8,433,664   bs: 128\n",
      "1.19 s ± 158 ms per loop (mean ± std. dev. of 7 runs, 1 loop each)\n"
     ]
    }
   ],
   "source": [
    "x_ = X_1000_1_1024_on_disk\n",
    "y_ = y_1000\n",
    "\n",
    "train_ds = TSDataset(x_, y_, y_class=IntTensor)\n",
    "train_dl = DataLoader(train_ds, bs=128, shuffle=True, drop_last=True)\n",
    "\n",
    "x_ = X_8236_1_1024_on_disk\n",
    "y_ = y_8236\n",
    "\n",
    "valid_ds = TSDataset(x_, y_, y_class=IntTensor)\n",
    "valid_dl = DataLoader(valid_ds, bs=128)\n",
    "\n",
    "dls   = TSDataLoaders(train_dl, valid_dl)\n",
    "xb,yb = next(iter(dls.valid))\n",
    "print(f'shape: {str(x_.shape):20}   numel: {len(x_.ravel()):12,}   bs: {len(xb)}')\n",
    "%timeit cycle_dl(dls.valid)"
   ]
  },
  {
   "cell_type": "code",
   "execution_count": 16,
   "metadata": {
    "ExecuteTime": {
     "end_time": "2020-03-31T18:12:06.194105Z",
     "start_time": "2020-03-31T18:11:55.208660Z"
    }
   },
   "outputs": [
    {
     "data": {
      "image/png": "[encoded data removed]",
      "text/plain": [
       "<Figure size 864x720 with 9 Axes>"
      ]
     },
     "metadata": {
      "needs_background": "light"
     },
     "output_type": "display_data"
    }
   ],
   "source": [
    "dls.show_batch()"
   ]
  },
  {
   "cell_type": "code",
   "execution_count": null,
   "metadata": {},
   "outputs": [],
   "source": []
  }
 ],
 "metadata": {
  "kernelspec": {
   "display_name": "Python 3",
   "language": "python",
   "name": "python3"
  },
  "language_info": {
   "codemirror_mode": {
    "name": "ipython",
    "version": 3
   },
   "file_extension": ".py",
   "mimetype": "text/x-python",
   "name": "python",
   "nbconvert_exporter": "python",
   "pygments_lexer": "ipython3",
   "version": "3.7.3"
  },
  "toc": {
   "base_numbering": 1,
   "nav_menu": {},
   "number_sections": true,
   "sideBar": true,
   "skip_h1_title": false,
   "title_cell": "Table of Contents",
   "title_sidebar": "Contents",
   "toc_cell": false,
   "toc_position": {},
   "toc_section_display": true,
   "toc_window_display": false
  }
 },
 "nbformat": 4,
 "nbformat_minor": 2
}

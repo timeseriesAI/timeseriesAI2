{
 "cells": [
  {
   "cell_type": "markdown",
   "metadata": {
    "colab_type": "text",
    "id": "-GPTq4Pa4CK6"
   },
   "source": [
    "created by Ignacio Oguiza - email: oguiza@gmail.com"
   ]
  },
  {
   "cell_type": "markdown",
   "metadata": {
    "colab_type": "text",
    "heading_collapsed": true,
    "id": "q5zvCtPaIvkU"
   },
   "source": [
    "## How to work with numpy arrays in fastai2: a time series classification example ⏳ "
   ]
  },
  {
   "cell_type": "markdown",
   "metadata": {
    "colab_type": "text",
    "hidden": true,
    "id": "3qjaXUSuIvkX"
   },
   "source": [
    "I'd like to share with you how you can work with (very large) numpy arrays in **fastai2** through a time series classification example. To be able to use fastai v2 I have a few requirements: \n",
    "\n",
    "\n",
    "* Use univariate and multivariate time series\n",
    "* Use labeled (X,y) and unlabeled (X,) datasets\n",
    "* Data may be already split in train/ valid\n",
    "* In-memory and on-disk np.arrays (np.memmap in case of larger than RAM data)\n",
    "* Slice the dataset (based on selected variables and/ or sequence steps)\n",
    "* Use item and batch tfms\n",
    "* Create batch with specified output types (TSTensor, TensorCategory, etc)\n",
    "* Show batch (with tfms)\n",
    "* Show results\n",
    "* Add test data and unlabeled datasets\n",
    "* Export and predict on new data\n",
    "* Equal or better performance than native Pytorch, fastai v1 & vanilla fastai v2\n",
    "\n",
    "These are pretty challanging. Let's see if fastai2 can meet them (with limited customization)."
   ]
  },
  {
   "cell_type": "markdown",
   "metadata": {
    "colab_type": "text",
    "heading_collapsed": true,
    "id": "OBW2olZbIvka"
   },
   "source": [
    "## Import libraries 📚"
   ]
  },
  {
   "cell_type": "code",
   "execution_count": 1,
   "metadata": {
    "ExecuteTime": {
     "end_time": "2020-04-05T21:03:34.645788Z",
     "start_time": "2020-04-05T21:03:34.553990Z"
    },
    "colab": {
     "base_uri": "https://localhost:8080/",
     "height": 1000
    },
    "colab_type": "code",
    "hidden": true,
    "id": "srz0mwuvIvkc",
    "outputId": "2c3c4989-f00c-4f19-d8ba-0f28f2068890"
   },
   "outputs": [],
   "source": [
    "import sys\n",
    "import os\n",
    "ISCOLAB = 'google.colab' in sys.modules\n",
    "if ISCOLAB:\n",
    "    if not os.path.isdir('/content/timeseriesAI2'):\n",
    "        !pip install git+https://github.com/fastai/fastai2 \n",
    "        !pip install git+https://github.com/fastai/fastcore \n",
    "        !pip install pyunpack\n",
    "        !pip install sktime\n",
    "        !git clone https://github.com/timeseriesAI/timeseriesAI2.git\n",
    "        %cd timeseriesAI2\n",
    "    else: \n",
    "        path = !pwd\n",
    "        if path != ['/content/timeseriesAI2']: \n",
    "            %cd timeseriesAI2\n",
    "        !pwd"
   ]
  },
  {
   "cell_type": "code",
   "execution_count": 0,
   "metadata": {
    "ExecuteTime": {
     "end_time": "2020-04-05T18:35:52.310344Z",
     "start_time": "2020-04-05T18:35:52.213318Z"
    },
    "colab": {},
    "colab_type": "code",
    "hidden": true,
    "id": "Kqq8BBL__k6N"
   },
   "outputs": [],
   "source": [
    "# # Uncomment if need to reload repo\n",
    "# %cd ..\n",
    "# !rm -rf timeseriesAI2\n",
    "\n",
    "# !git clone https://github.com/timeseriesAI/timeseriesAI2.git\n",
    "# %cd timeseriesAI2"
   ]
  },
  {
   "cell_type": "code",
   "execution_count": 13,
   "metadata": {
    "ExecuteTime": {
     "end_time": "2020-04-05T18:35:52.798064Z",
     "start_time": "2020-04-05T18:35:52.680180Z"
    },
    "colab": {
     "base_uri": "https://localhost:8080/",
     "height": 17
    },
    "colab_type": "code",
    "hidden": true,
    "id": "wuOxM-WJIvkq",
    "outputId": "c9b95778-3078-4240-8157-6274baa0db92"
   },
   "outputs": [
    {
     "data": {
      "text/html": [
       "<style>.container {width:95% !important; }</style>"
      ],
      "text/plain": [
       "<IPython.core.display.HTML object>"
      ]
     },
     "metadata": {
      "tags": []
     },
     "output_type": "display_data"
    }
   ],
   "source": [
    "from timeseries import *\n",
    "display(HTML(\"<style>.container {width:95% !important; }</style>\"))"
   ]
  },
  {
   "cell_type": "code",
   "execution_count": 16,
   "metadata": {
    "ExecuteTime": {
     "end_time": "2020-04-05T18:36:07.275305Z",
     "start_time": "2020-04-05T18:36:06.978681Z"
    },
    "colab": {
     "base_uri": "https://localhost:8080/",
     "height": 204
    },
    "colab_type": "code",
    "hidden": true,
    "id": "p0YwdQijzLJX",
    "outputId": "ff0521f8-fec6-4b5e-ff9d-d758ae1608c9"
   },
   "outputs": [
    {
     "name": "stdout",
     "output_type": "stream",
     "text": [
      "fastai2    : 0.0.17\n",
      "fastcore   : 0.1.17\n",
      "torch      : 1.4.0\n",
      "scipy      : 1.4.1\n",
      "numpy      : 1.18.2\n",
      "pandas     : 1.0.3\n",
      "path       : /content/drive/My Drive/BB\n",
      "Total RAM  : 12.72 GB\n",
      "Used RAM   :  0.65 GB\n",
      "n_cpus     : 2\n",
      "device     : cuda (Tesla P100-PCIE-16GB)\n"
     ]
    }
   ],
   "source": [
    "print('fastai2    :', fastai2.__version__)\n",
    "print('fastcore   :', fastcore.__version__)\n",
    "print('torch      :', torch.__version__)\n",
    "print('scipy      :', sp.__version__)\n",
    "print('numpy      :', np.__version__)\n",
    "print('pandas     :', pd.__version__)\n",
    "print(f'Total RAM  : {bytes2GB(psutil.virtual_memory().total):5.2f} GB')\n",
    "print(f'Used RAM   : {bytes2GB(psutil.virtual_memory().used):5.2f} GB')\n",
    "print('n_cpus     :', cpus)\n",
    "iscuda = torch.cuda.is_available()\n",
    "if iscuda: print('device     : {} ({})'.format(device, torch.cuda.get_device_name(0)))\n",
    "else: print('device     :', device)"
   ]
  },
  {
   "cell_type": "markdown",
   "metadata": {
    "colab_type": "text",
    "heading_collapsed": true,
    "id": "UH35-QcZIvlJ"
   },
   "source": [
    "## Load data 🔢"
   ]
  },
  {
   "cell_type": "code",
   "execution_count": 79,
   "metadata": {
    "ExecuteTime": {
     "end_time": "2020-04-05T18:36:08.279256Z",
     "start_time": "2020-04-05T18:36:07.285562Z"
    },
    "colab": {
     "base_uri": "https://localhost:8080/",
     "height": 153
    },
    "colab_type": "code",
    "hidden": true,
    "id": "vWoMUpdCIvlL",
    "outputId": "8c05f4a8-8662-4782-8ec8-f09de9db223f"
   },
   "outputs": [
    {
     "name": "stdout",
     "output_type": "stream",
     "text": [
      "Dataset: StarLightCurves\n",
      "Downloading and decompressing data to data/UCR/StarLightCurves...\n",
      "...data downloaded and decompressed\n",
      "X_train: (1000, 1, 1024)\n",
      "y_train: (1000,)\n",
      "X_valid: (8236, 1, 1024)\n",
      "y_valid: (8236,) \n",
      "\n"
     ]
    }
   ],
   "source": [
    "# dataset id\n",
    "dsid = 'StarLightCurves'\n",
    "X_train, y_train, X_valid, y_valid = get_UCR_data(dsid, parent_dir='./data/UCR/', verbose=True, on_disk=True)\n",
    "X_in_memory = np.concatenate((X_train, X_valid))\n",
    "y_in_memory = np.concatenate((y_train, y_valid))\n",
    "folder = './data/UCR'\n",
    "np.save(f'{folder}/{dsid}/X.npy', X_in_memory)\n",
    "np.save(f'{folder}/{dsid}/y.npy', y_in_memory)\n",
    "X_on_disk = np.load(f'{folder}/{dsid}/X.npy', mmap_mode='r')\n",
    "y_on_disk = np.load(f'{folder}/{dsid}/y.npy', mmap_mode='r')\n",
    "splits = (L(list(np.arange(len(X_train)))), L(list(np.arange(len(X_train), len(X_on_disk)))))"
   ]
  },
  {
   "cell_type": "markdown",
   "metadata": {
    "colab_type": "text",
    "heading_collapsed": true,
    "id": "J3omC6C74CM2"
   },
   "source": [
    "## Building block: NumpyTensor/ TSTensor 🧱"
   ]
  },
  {
   "cell_type": "markdown",
   "metadata": {
    "colab_type": "text",
    "hidden": true,
    "id": "I0SXbRVt4CM3"
   },
   "source": [
    "Since fastai is based on Pytorch, you'll need to somehow transform the numpy arrays to tensors at some point (NumpyTensor or TSTensor in our case). There's a transform function called ToNumpyTensor/ ToTSTensor that transforms an array into a tensor of type NumpyTensor/ TSTensor (which have a show method)."
   ]
  },
  {
   "cell_type": "code",
   "execution_count": 0,
   "metadata": {
    "ExecuteTime": {
     "end_time": "2020-04-05T18:47:04.393734Z",
     "start_time": "2020-04-05T18:47:04.078368Z"
    },
    "colab": {},
    "colab_type": "code",
    "hidden": true,
    "id": "QvdowrMK4CM5"
   },
   "outputs": [],
   "source": [
    "class NumpyTensor(TensorBase):\n",
    "\n",
    "    def __new__(cls, o, **kwargs): \n",
    "        res = ToTensor(o)\n",
    "        res.__class__ = cls\n",
    "        res._meta = kwargs\n",
    "        return res\n",
    "    \n",
    "    def __getitem__(self, idx):\n",
    "        res = super().__getitem__(idx)\n",
    "        return retain_type(res, self)\n",
    "\n",
    "    def show(self, ax=None, ctx=None, title=None, **kwargs):\n",
    "        ax = ifnone(ax,ctx)\n",
    "        if ax is None: fig, ax = plt.subplots(**kwargs)\n",
    "        ax.plot(self.T)\n",
    "        ax.axis(xmin=0, xmax=self.shape[-1] - 1)\n",
    "        ax.set_title(title, weight='bold')\n",
    "        plt.tight_layout()\n",
    "        return ax\n",
    "\n",
    "@Transform\n",
    "def ToNumpyTensor(o:np.ndarray): \n",
    "    return NumpyTensor(o)\n",
    "\n",
    "\n",
    "class TSTensor(TensorBase):\n",
    "    '''Returns a tensor of at least 2 dims of type torch.float32 and class TSTensor'''\n",
    "    def __new__(cls, o, dtype=torch.float32, **kwargs): \n",
    "        res = ToType(dtype)(To2DPlusTensor(o))\n",
    "        res.__class__ = cls\n",
    "        res._meta = kwargs\n",
    "        return res\n",
    "\n",
    "    @property\n",
    "    def vars(self): return self.shape[-2]\n",
    "\n",
    "    @property\n",
    "    def length(self): return self.shape[-1]\n",
    "    \n",
    "    def __getitem__(self, idx):\n",
    "        res = super().__getitem__(idx)\n",
    "        return retain_type(res, self)\n",
    "\n",
    "    def __repr__(self):\n",
    "        if self.ndim >= 3:   return f'TSTensor(samples:{self.shape[-3]}, vars:{self.shape[-2]}, len:{self.shape[-1]})'\n",
    "        elif self.ndim == 2: return f'TSTensor(vars:{self.shape[-2]}, len:{self.shape[-1]})'\n",
    "        elif self.ndim == 1: return f'TSTensor(len:{self.shape[-1]})'\n",
    "        else: return f'TSTensor(float)'\n",
    "\n",
    "    def show(self, ax=None, ctx=None, title=None, title_color='black', **kwargs):\n",
    "        ax = ifnone(ax,ctx)\n",
    "        if ax is None: fig, ax = plt.subplots(**kwargs)\n",
    "        ax.plot(self.T)\n",
    "        ax.axis(xmin=0, xmax=self.shape[-1] - 1)\n",
    "        ax.set_title(title, weight='bold', color=title_color)\n",
    "        plt.tight_layout()\n",
    "        return ax\n",
    "\n",
    "@Transform\n",
    "def ToTSTensor(o:np.ndarray, dtype=torch.float32, **kwargs): \n",
    "    \"\"\" Transforms input to tensor of dtype torch.float32\"\"\"\n",
    "    return TSTensor(o, dtype=dtype, **kwargs)"
   ]
  },
  {
   "cell_type": "code",
   "execution_count": 19,
   "metadata": {
    "ExecuteTime": {
     "end_time": "2020-04-05T18:45:56.920164Z",
     "start_time": "2020-04-05T18:45:55.949378Z"
    },
    "colab": {
     "base_uri": "https://localhost:8080/",
     "height": 297
    },
    "colab_type": "code",
    "hidden": true,
    "id": "D1IoxjQk4CNA",
    "outputId": "bcbc5544-492b-46fb-bd98-9fcdc5808e49"
   },
   "outputs": [
    {
     "data": {
      "image/png": "[encoded data removed]",
      "text/plain": [
       "<Figure size 432x288 with 1 Axes>"
      ]
     },
     "metadata": {
      "tags": []
     },
     "output_type": "display_data"
    }
   ],
   "source": [
    "nt = NumpyTensor(np.random.rand(4, 6))\n",
    "nt.show();"
   ]
  },
  {
   "cell_type": "code",
   "execution_count": 20,
   "metadata": {
    "ExecuteTime": {
     "end_time": "2020-04-05T18:46:51.547713Z",
     "start_time": "2020-04-05T18:46:50.695657Z"
    },
    "colab": {
     "base_uri": "https://localhost:8080/",
     "height": 297
    },
    "colab_type": "code",
    "hidden": true,
    "id": "R6ShXkic4CNL",
    "outputId": "ce323cf2-dcc8-49e8-9923-6fea8e8d8b25"
   },
   "outputs": [
    {
     "data": {
      "image/png": "[encoded data removed]",
      "text/plain": [
       "<Figure size 432x288 with 1 Axes>"
      ]
     },
     "metadata": {
      "tags": []
     },
     "output_type": "display_data"
    }
   ],
   "source": [
    "tstensor = TSTensor(np.random.rand(10, 3, 50))\n",
    "tstensor[0].show();"
   ]
  },
  {
   "cell_type": "markdown",
   "metadata": {
    "colab_type": "text",
    "heading_collapsed": true,
    "id": "8nvRSEZrIvlV"
   },
   "source": [
    "## Performance benchmarks ⏱"
   ]
  },
  {
   "cell_type": "markdown",
   "metadata": {
    "colab_type": "text",
    "hidden": true,
    "id": "ScoSJzcw4CNW"
   },
   "source": [
    "In fastai v2 there are multiple options to creaet a dataloaders. Let's see some of them and most importantly wheteher they meet our requirements.\n",
    "\n",
    "I will compare 2 processes: \n",
    "\n",
    "- cycle_dl: process to load the entire valid dataset (adapted from a function developed by Thomas Capelle (fastai's @tcapelle))\n",
    "- train model for 25 epochs"
   ]
  },
  {
   "cell_type": "markdown",
   "metadata": {
    "colab_type": "text",
    "heading_collapsed": true,
    "hidden": true,
    "id": "C5Um1xqaIvlX"
   },
   "source": [
    "### Generic Pytorch dataloader"
   ]
  },
  {
   "cell_type": "code",
   "execution_count": 0,
   "metadata": {
    "ExecuteTime": {
     "end_time": "2020-04-05T18:36:08.554907Z",
     "start_time": "2020-04-05T18:36:08.284904Z"
    },
    "colab": {},
    "colab_type": "code",
    "hidden": true,
    "id": "_hvOyRymIvlY"
   },
   "outputs": [],
   "source": [
    "# # Native Pytorch\n",
    "# class PytorchDataset():\n",
    "#     def __init__(self, X, y=None): self.X, self.y = torch.as_tensor(X), torch.as_tensor(y)\n",
    "#     def __getitem__(self, idx): return (self.X[idx], self.y[idx])\n",
    "#     def __len__(self): return len(self.X)"
   ]
  },
  {
   "cell_type": "code",
   "execution_count": 22,
   "metadata": {
    "colab": {
     "base_uri": "https://localhost:8080/",
     "height": 51
    },
    "colab_type": "code",
    "hidden": true,
    "id": "aeFHdH08UWv1",
    "outputId": "b9b9b864-3ec3-4b9a-a9f2-d2f716a1d19b"
   },
   "outputs": [
    {
     "name": "stdout",
     "output_type": "stream",
     "text": [
      "shape: 8236         bs: torch.Size([128, 1, 1024])\n",
      "10 loops, best of 3: 47.3 ms per loop\n"
     ]
    }
   ],
   "source": [
    "ds    = PytorchDataset(np.array(X_valid), np.array(y_valid).astype(int))\n",
    "dl    = torch.utils.data.DataLoader(ds, batch_size=128)\n",
    "xb,yb = next(iter(dl))\n",
    "print(f'shape: {str(len(ds)):10}   bs: {xb.shape}')\n",
    "%timeit cycle_dl(dl)"
   ]
  },
  {
   "cell_type": "markdown",
   "metadata": {
    "colab_type": "text",
    "hidden": true,
    "id": "JbmjOQ4AASCQ"
   },
   "source": [
    "This is the most simple dataset we can have. This doesn't allow us to perform any transforms, show_batch, etc. It cannot be used inside fastai.\n",
    "\n",
    "I've included it for reference, as this dataloader is pretty fast (around 50 ms to cycle the entire dataset). This will be difficult to beat 😅!"
   ]
  },
  {
   "cell_type": "markdown",
   "metadata": {
    "colab_type": "text",
    "heading_collapsed": true,
    "hidden": true,
    "id": "eghDOIQgIvls"
   },
   "source": [
    "### Fastai v1"
   ]
  },
  {
   "cell_type": "markdown",
   "metadata": {
    "colab_type": "text",
    "hidden": true,
    "id": "y3JalSKlIvlu"
   },
   "source": [
    "For comparison, I've run the same exact test in the same machine with fastai v1 timeseries code and these are the timings: : \n",
    "\n",
    "- cycle_dl:  1.01s\n",
    "- training time: 102 s\n",
    "\n",
    "This 102 seconds is what we'll try to beat."
   ]
  },
  {
   "cell_type": "markdown",
   "metadata": {
    "colab_type": "text",
    "heading_collapsed": true,
    "hidden": true,
    "id": "j9Rir4b64CNo"
   },
   "source": [
    "### Fastai v2:  Factory method"
   ]
  },
  {
   "cell_type": "code",
   "execution_count": 0,
   "metadata": {
    "ExecuteTime": {
     "end_time": "2020-04-05T18:55:39.450377Z",
     "start_time": "2020-04-05T18:55:39.089884Z"
    },
    "colab": {},
    "colab_type": "code",
    "hidden": true,
    "id": "7iUtNYJk4CNp"
   },
   "outputs": [],
   "source": [
    "class TSDataLoaders(DataLoaders):\n",
    "    @classmethod\n",
    "    @delegates(DataLoaders.from_dblock)\n",
    "    def from_numpy(cls, X, y=None, splitter=None, valid_pct=0.2, seed=0, item_tfms=None, batch_tfms=None, **kwargs):\n",
    "        \"Create timeseries dataloaders from arrays (X and y, unless unlabeled)\"\n",
    "        if splitter is None: splitter = RandomSplitter(valid_pct=valid_pct, seed=seed)\n",
    "        getters = [ItemGetter(0), ItemGetter(1)] if y is not None else [ItemGetter(0)]\n",
    "        dblock = DataBlock(blocks=(TSTensorBlock, CategoryBlock),\n",
    "                           getters=getters,\n",
    "                           splitter=splitter,\n",
    "                           item_tfms=item_tfms,\n",
    "                           batch_tfms=batch_tfms)\n",
    "\n",
    "        source = itemify(X) if y is None else itemify(X,y)\n",
    "        return cls.from_dblock(dblock, source, **kwargs)"
   ]
  },
  {
   "cell_type": "code",
   "execution_count": 24,
   "metadata": {
    "ExecuteTime": {
     "end_time": "2020-04-05T18:56:09.059551Z",
     "start_time": "2020-04-05T18:56:06.439333Z"
    },
    "colab": {
     "base_uri": "https://localhost:8080/",
     "height": 136
    },
    "colab_type": "code",
    "hidden": true,
    "id": "4UvtkJwN4CNu",
    "outputId": "0e30674f-e3b6-4664-faed-ce109c05bcce"
   },
   "outputs": [
    {
     "data": {
      "text/plain": [
       "(TSTensor(samples:128, vars:1, len:1024),\n",
       " TensorCategory([1, 2, 2, 0, 1, 2, 2, 2, 1, 2, 2, 2, 2, 2, 2, 0, 2, 2, 2, 0, 0, 2, 2, 2,\n",
       "         1, 0, 2, 0, 2, 1, 2, 2, 1, 2, 1, 1, 1, 1, 1, 2, 2, 0, 2, 2, 1, 0, 0, 2,\n",
       "         2, 2, 2, 1, 0, 0, 2, 2, 2, 2, 2, 2, 0, 0, 1, 2, 2, 1, 2, 2, 2, 0, 0, 2,\n",
       "         1, 1, 1, 2, 2, 1, 1, 1, 1, 2, 2, 2, 2, 2, 1, 1, 2, 1, 2, 2, 0, 2, 0, 2,\n",
       "         2, 2, 2, 2, 2, 2, 1, 1, 1, 2, 2, 2, 1, 0, 2, 2, 0, 2, 2, 1, 2, 1, 2, 2,\n",
       "         2, 2, 2, 2, 1, 2, 2, 0], device='cuda:0'))"
      ]
     },
     "execution_count": 24,
     "metadata": {
      "tags": []
     },
     "output_type": "execute_result"
    }
   ],
   "source": [
    "dls = TSDataLoaders.from_numpy(X_in_memory, y_in_memory, splitter=IndexSplitter(splits[1]), bs=64, val_bs=128)\n",
    "t = next(iter(dls.valid))\n",
    "t"
   ]
  },
  {
   "cell_type": "code",
   "execution_count": 25,
   "metadata": {
    "colab": {
     "base_uri": "https://localhost:8080/",
     "height": 51
    },
    "colab_type": "code",
    "hidden": true,
    "id": "0tqyW1BW4CN0",
    "outputId": "8258dfba-7464-41b5-94e9-78aba30f80f2"
   },
   "outputs": [
    {
     "name": "stdout",
     "output_type": "stream",
     "text": [
      "CPU times: user 85.3 ms, sys: 68.2 ms, total: 154 ms\n",
      "Wall time: 3.1 s\n"
     ]
    }
   ],
   "source": [
    "%time cycle_dl(dls.valid)"
   ]
  },
  {
   "cell_type": "code",
   "execution_count": 26,
   "metadata": {
    "colab": {
     "base_uri": "https://localhost:8080/",
     "height": 841
    },
    "colab_type": "code",
    "hidden": true,
    "id": "3TnXmY3W4CN7",
    "outputId": "dd01ed5e-cd97-424a-8471-8fbe4185553d"
   },
   "outputs": [
    {
     "data": {
      "text/html": [
       "<table border=\"1\" class=\"dataframe\">\n",
       "  <thead>\n",
       "    <tr style=\"text-align: left;\">\n",
       "      <th>epoch</th>\n",
       "      <th>train_loss</th>\n",
       "      <th>valid_loss</th>\n",
       "      <th>accuracy</th>\n",
       "      <th>time</th>\n",
       "    </tr>\n",
       "  </thead>\n",
       "  <tbody>\n",
       "    <tr>\n",
       "      <td>0</td>\n",
       "      <td>0.837353</td>\n",
       "      <td>0.994281</td>\n",
       "      <td>0.577222</td>\n",
       "      <td>00:05</td>\n",
       "    </tr>\n",
       "    <tr>\n",
       "      <td>1</td>\n",
       "      <td>0.654947</td>\n",
       "      <td>0.696642</td>\n",
       "      <td>0.817751</td>\n",
       "      <td>00:05</td>\n",
       "    </tr>\n",
       "    <tr>\n",
       "      <td>2</td>\n",
       "      <td>0.541449</td>\n",
       "      <td>0.404402</td>\n",
       "      <td>0.851991</td>\n",
       "      <td>00:05</td>\n",
       "    </tr>\n",
       "    <tr>\n",
       "      <td>3</td>\n",
       "      <td>0.448069</td>\n",
       "      <td>0.322836</td>\n",
       "      <td>0.890359</td>\n",
       "      <td>00:05</td>\n",
       "    </tr>\n",
       "    <tr>\n",
       "      <td>4</td>\n",
       "      <td>0.384269</td>\n",
       "      <td>0.488495</td>\n",
       "      <td>0.855877</td>\n",
       "      <td>00:05</td>\n",
       "    </tr>\n",
       "    <tr>\n",
       "      <td>5</td>\n",
       "      <td>0.330750</td>\n",
       "      <td>0.290492</td>\n",
       "      <td>0.857334</td>\n",
       "      <td>00:05</td>\n",
       "    </tr>\n",
       "    <tr>\n",
       "      <td>6</td>\n",
       "      <td>0.275016</td>\n",
       "      <td>0.415154</td>\n",
       "      <td>0.807552</td>\n",
       "      <td>00:05</td>\n",
       "    </tr>\n",
       "    <tr>\n",
       "      <td>7</td>\n",
       "      <td>0.238329</td>\n",
       "      <td>0.662122</td>\n",
       "      <td>0.856605</td>\n",
       "      <td>00:05</td>\n",
       "    </tr>\n",
       "    <tr>\n",
       "      <td>8</td>\n",
       "      <td>0.207812</td>\n",
       "      <td>0.200126</td>\n",
       "      <td>0.894973</td>\n",
       "      <td>00:05</td>\n",
       "    </tr>\n",
       "    <tr>\n",
       "      <td>9</td>\n",
       "      <td>0.183316</td>\n",
       "      <td>0.861149</td>\n",
       "      <td>0.620325</td>\n",
       "      <td>00:05</td>\n",
       "    </tr>\n",
       "    <tr>\n",
       "      <td>10</td>\n",
       "      <td>0.168310</td>\n",
       "      <td>0.179799</td>\n",
       "      <td>0.939170</td>\n",
       "      <td>00:05</td>\n",
       "    </tr>\n",
       "    <tr>\n",
       "      <td>11</td>\n",
       "      <td>0.156472</td>\n",
       "      <td>0.167702</td>\n",
       "      <td>0.944390</td>\n",
       "      <td>00:05</td>\n",
       "    </tr>\n",
       "    <tr>\n",
       "      <td>12</td>\n",
       "      <td>0.142884</td>\n",
       "      <td>0.210910</td>\n",
       "      <td>0.913307</td>\n",
       "      <td>00:05</td>\n",
       "    </tr>\n",
       "    <tr>\n",
       "      <td>13</td>\n",
       "      <td>0.131537</td>\n",
       "      <td>0.381688</td>\n",
       "      <td>0.847135</td>\n",
       "      <td>00:05</td>\n",
       "    </tr>\n",
       "    <tr>\n",
       "      <td>14</td>\n",
       "      <td>0.119727</td>\n",
       "      <td>0.294939</td>\n",
       "      <td>0.883074</td>\n",
       "      <td>00:05</td>\n",
       "    </tr>\n",
       "    <tr>\n",
       "      <td>15</td>\n",
       "      <td>0.109822</td>\n",
       "      <td>0.092543</td>\n",
       "      <td>0.977659</td>\n",
       "      <td>00:05</td>\n",
       "    </tr>\n",
       "    <tr>\n",
       "      <td>16</td>\n",
       "      <td>0.099957</td>\n",
       "      <td>0.181915</td>\n",
       "      <td>0.934191</td>\n",
       "      <td>00:05</td>\n",
       "    </tr>\n",
       "    <tr>\n",
       "      <td>17</td>\n",
       "      <td>0.093026</td>\n",
       "      <td>0.206263</td>\n",
       "      <td>0.915857</td>\n",
       "      <td>00:05</td>\n",
       "    </tr>\n",
       "    <tr>\n",
       "      <td>18</td>\n",
       "      <td>0.084780</td>\n",
       "      <td>0.126099</td>\n",
       "      <td>0.957139</td>\n",
       "      <td>00:05</td>\n",
       "    </tr>\n",
       "    <tr>\n",
       "      <td>19</td>\n",
       "      <td>0.079034</td>\n",
       "      <td>0.082277</td>\n",
       "      <td>0.974259</td>\n",
       "      <td>00:05</td>\n",
       "    </tr>\n",
       "    <tr>\n",
       "      <td>20</td>\n",
       "      <td>0.073877</td>\n",
       "      <td>0.075140</td>\n",
       "      <td>0.979359</td>\n",
       "      <td>00:05</td>\n",
       "    </tr>\n",
       "    <tr>\n",
       "      <td>21</td>\n",
       "      <td>0.069511</td>\n",
       "      <td>0.076274</td>\n",
       "      <td>0.979723</td>\n",
       "      <td>00:05</td>\n",
       "    </tr>\n",
       "    <tr>\n",
       "      <td>22</td>\n",
       "      <td>0.065129</td>\n",
       "      <td>0.074741</td>\n",
       "      <td>0.979602</td>\n",
       "      <td>00:05</td>\n",
       "    </tr>\n",
       "    <tr>\n",
       "      <td>23</td>\n",
       "      <td>0.061060</td>\n",
       "      <td>0.074206</td>\n",
       "      <td>0.978509</td>\n",
       "      <td>00:05</td>\n",
       "    </tr>\n",
       "    <tr>\n",
       "      <td>24</td>\n",
       "      <td>0.058087</td>\n",
       "      <td>0.073191</td>\n",
       "      <td>0.978630</td>\n",
       "      <td>00:05</td>\n",
       "    </tr>\n",
       "  </tbody>\n",
       "</table>"
      ],
      "text/plain": [
       "<IPython.core.display.HTML object>"
      ]
     },
     "metadata": {
      "tags": []
     },
     "output_type": "display_data"
    },
    {
     "name": "stdout",
     "output_type": "stream",
     "text": [
      "131.47627186775208\n"
     ]
    }
   ],
   "source": [
    "model = InceptionTime(X_in_memory.shape[-2], dls.c)\n",
    "learn = Learner(dls, model, metrics=accuracy)\n",
    "start = time.time()\n",
    "learn.fit_one_cycle(25, lr_max=1e-3)\n",
    "print(time.time() - start)"
   ]
  },
  {
   "cell_type": "markdown",
   "metadata": {
    "colab_type": "text",
    "hidden": true,
    "id": "5cLWA1wl4COC"
   },
   "source": [
    "This method is very easy to use, but it's pretty slow."
   ]
  },
  {
   "cell_type": "markdown",
   "metadata": {
    "colab_type": "text",
    "heading_collapsed": true,
    "hidden": true,
    "id": "vvntqhIY4COD"
   },
   "source": [
    "### Fastai v2:  Datablock API"
   ]
  },
  {
   "cell_type": "code",
   "execution_count": 0,
   "metadata": {
    "colab": {},
    "colab_type": "code",
    "hidden": true,
    "id": "WnHr7Et-4COE"
   },
   "outputs": [],
   "source": [
    "class TSTensorBlock():\n",
    "    \"A basic wrapper that links defaults transforms for the data block API\"\n",
    "    def __init__(self, type_tfms=None, item_tfms=None, batch_tfms=None, dl_type=None, dls_kwargs=None):\n",
    "        self.type_tfms  =              L(type_tfms)\n",
    "        self.item_tfms  = ToTSTensor + L(item_tfms)\n",
    "        self.batch_tfms =              L(batch_tfms)\n",
    "        self.dl_type,self.dls_kwargs = dl_type,({} if dls_kwargs is None else dls_kwargs)"
   ]
  },
  {
   "cell_type": "code",
   "execution_count": 28,
   "metadata": {
    "colab": {
     "base_uri": "https://localhost:8080/",
     "height": 51
    },
    "colab_type": "code",
    "hidden": true,
    "id": "OP4wpYBcgh-o",
    "outputId": "5079cfe9-3f88-45dc-ddb6-68956a619aaa"
   },
   "outputs": [
    {
     "name": "stdout",
     "output_type": "stream",
     "text": [
      "shape: 8236         bs: torch.Size([128, 1, 1024])\n",
      "1 loop, best of 3: 2.9 s per loop\n"
     ]
    }
   ],
   "source": [
    "getters = [ItemGetter(0), ItemGetter(1)]\n",
    "dblock = DataBlock(blocks=(TSTensorBlock, CategoryBlock()),\n",
    "                   getters=getters,\n",
    "                   splitter=IndexSplitter(splits[1]),\n",
    "                   item_tfms=None,\n",
    "                   batch_tfms=None)\n",
    "source = itemify(X_in_memory, y_in_memory)\n",
    "dls = dblock.dataloaders(source, bs=64, val_bs=128, num_workers=0)\n",
    "xb,yb = next(iter(dls.valid))\n",
    "print(f'shape: {str(len(dls.valid.dataset)):10}   bs: {xb.shape}')\n",
    "%timeit cycle_dl(dls.valid)"
   ]
  },
  {
   "cell_type": "markdown",
   "metadata": {
    "colab_type": "text",
    "hidden": true,
    "id": "CgA-r2UJNih0"
   },
   "source": [
    "So it takes > 3 s to cycle the entire dataloader. This is much slower than Pytorch simple model (although fastai v2 provides a lot more functionality!)."
   ]
  },
  {
   "cell_type": "code",
   "execution_count": 29,
   "metadata": {
    "colab": {
     "base_uri": "https://localhost:8080/",
     "height": 841
    },
    "colab_type": "code",
    "hidden": true,
    "id": "TU4dch2KJ-RI",
    "outputId": "184b1d1c-ca72-4a05-da98-5b5266c9dba2"
   },
   "outputs": [
    {
     "data": {
      "text/html": [
       "<table border=\"1\" class=\"dataframe\">\n",
       "  <thead>\n",
       "    <tr style=\"text-align: left;\">\n",
       "      <th>epoch</th>\n",
       "      <th>train_loss</th>\n",
       "      <th>valid_loss</th>\n",
       "      <th>accuracy</th>\n",
       "      <th>time</th>\n",
       "    </tr>\n",
       "  </thead>\n",
       "  <tbody>\n",
       "    <tr>\n",
       "      <td>0</td>\n",
       "      <td>0.915685</td>\n",
       "      <td>1.163003</td>\n",
       "      <td>0.205925</td>\n",
       "      <td>00:06</td>\n",
       "    </tr>\n",
       "    <tr>\n",
       "      <td>1</td>\n",
       "      <td>0.696181</td>\n",
       "      <td>0.682508</td>\n",
       "      <td>0.840335</td>\n",
       "      <td>00:06</td>\n",
       "    </tr>\n",
       "    <tr>\n",
       "      <td>2</td>\n",
       "      <td>0.576521</td>\n",
       "      <td>0.548695</td>\n",
       "      <td>0.846042</td>\n",
       "      <td>00:06</td>\n",
       "    </tr>\n",
       "    <tr>\n",
       "      <td>3</td>\n",
       "      <td>0.484599</td>\n",
       "      <td>0.519314</td>\n",
       "      <td>0.847620</td>\n",
       "      <td>00:06</td>\n",
       "    </tr>\n",
       "    <tr>\n",
       "      <td>4</td>\n",
       "      <td>0.400797</td>\n",
       "      <td>0.444016</td>\n",
       "      <td>0.904080</td>\n",
       "      <td>00:06</td>\n",
       "    </tr>\n",
       "    <tr>\n",
       "      <td>5</td>\n",
       "      <td>0.333865</td>\n",
       "      <td>0.312920</td>\n",
       "      <td>0.859276</td>\n",
       "      <td>00:06</td>\n",
       "    </tr>\n",
       "    <tr>\n",
       "      <td>6</td>\n",
       "      <td>0.286151</td>\n",
       "      <td>0.522545</td>\n",
       "      <td>0.753035</td>\n",
       "      <td>00:06</td>\n",
       "    </tr>\n",
       "    <tr>\n",
       "      <td>7</td>\n",
       "      <td>0.241434</td>\n",
       "      <td>0.294597</td>\n",
       "      <td>0.874454</td>\n",
       "      <td>00:06</td>\n",
       "    </tr>\n",
       "    <tr>\n",
       "      <td>8</td>\n",
       "      <td>0.208991</td>\n",
       "      <td>0.396088</td>\n",
       "      <td>0.854905</td>\n",
       "      <td>00:06</td>\n",
       "    </tr>\n",
       "    <tr>\n",
       "      <td>9</td>\n",
       "      <td>0.182598</td>\n",
       "      <td>0.123841</td>\n",
       "      <td>0.974259</td>\n",
       "      <td>00:06</td>\n",
       "    </tr>\n",
       "    <tr>\n",
       "      <td>10</td>\n",
       "      <td>0.162373</td>\n",
       "      <td>0.231752</td>\n",
       "      <td>0.912822</td>\n",
       "      <td>00:06</td>\n",
       "    </tr>\n",
       "    <tr>\n",
       "      <td>11</td>\n",
       "      <td>0.144294</td>\n",
       "      <td>0.261558</td>\n",
       "      <td>0.884046</td>\n",
       "      <td>00:06</td>\n",
       "    </tr>\n",
       "    <tr>\n",
       "      <td>12</td>\n",
       "      <td>0.133440</td>\n",
       "      <td>0.258920</td>\n",
       "      <td>0.891452</td>\n",
       "      <td>00:06</td>\n",
       "    </tr>\n",
       "    <tr>\n",
       "      <td>13</td>\n",
       "      <td>0.121858</td>\n",
       "      <td>0.128273</td>\n",
       "      <td>0.967339</td>\n",
       "      <td>00:06</td>\n",
       "    </tr>\n",
       "    <tr>\n",
       "      <td>14</td>\n",
       "      <td>0.112733</td>\n",
       "      <td>0.095428</td>\n",
       "      <td>0.972195</td>\n",
       "      <td>00:06</td>\n",
       "    </tr>\n",
       "    <tr>\n",
       "      <td>15</td>\n",
       "      <td>0.101174</td>\n",
       "      <td>0.120110</td>\n",
       "      <td>0.960418</td>\n",
       "      <td>00:06</td>\n",
       "    </tr>\n",
       "    <tr>\n",
       "      <td>16</td>\n",
       "      <td>0.093863</td>\n",
       "      <td>0.163610</td>\n",
       "      <td>0.939777</td>\n",
       "      <td>00:06</td>\n",
       "    </tr>\n",
       "    <tr>\n",
       "      <td>17</td>\n",
       "      <td>0.087019</td>\n",
       "      <td>0.086820</td>\n",
       "      <td>0.974624</td>\n",
       "      <td>00:06</td>\n",
       "    </tr>\n",
       "    <tr>\n",
       "      <td>18</td>\n",
       "      <td>0.079804</td>\n",
       "      <td>0.146938</td>\n",
       "      <td>0.947183</td>\n",
       "      <td>00:06</td>\n",
       "    </tr>\n",
       "    <tr>\n",
       "      <td>19</td>\n",
       "      <td>0.074611</td>\n",
       "      <td>0.084444</td>\n",
       "      <td>0.976202</td>\n",
       "      <td>00:06</td>\n",
       "    </tr>\n",
       "    <tr>\n",
       "      <td>20</td>\n",
       "      <td>0.069584</td>\n",
       "      <td>0.080663</td>\n",
       "      <td>0.977659</td>\n",
       "      <td>00:06</td>\n",
       "    </tr>\n",
       "    <tr>\n",
       "      <td>21</td>\n",
       "      <td>0.063934</td>\n",
       "      <td>0.081192</td>\n",
       "      <td>0.977659</td>\n",
       "      <td>00:06</td>\n",
       "    </tr>\n",
       "    <tr>\n",
       "      <td>22</td>\n",
       "      <td>0.058889</td>\n",
       "      <td>0.082983</td>\n",
       "      <td>0.976809</td>\n",
       "      <td>00:06</td>\n",
       "    </tr>\n",
       "    <tr>\n",
       "      <td>23</td>\n",
       "      <td>0.055177</td>\n",
       "      <td>0.081456</td>\n",
       "      <td>0.976445</td>\n",
       "      <td>00:06</td>\n",
       "    </tr>\n",
       "    <tr>\n",
       "      <td>24</td>\n",
       "      <td>0.053568</td>\n",
       "      <td>0.080544</td>\n",
       "      <td>0.977538</td>\n",
       "      <td>00:06</td>\n",
       "    </tr>\n",
       "  </tbody>\n",
       "</table>"
      ],
      "text/plain": [
       "<IPython.core.display.HTML object>"
      ]
     },
     "metadata": {
      "tags": []
     },
     "output_type": "display_data"
    },
    {
     "name": "stdout",
     "output_type": "stream",
     "text": [
      "159.8699984550476\n"
     ]
    }
   ],
   "source": [
    "model = InceptionTime(X_in_memory.shape[-2], dls.c)\n",
    "learn = Learner(dls, model, metrics=accuracy)\n",
    "start = time.time()\n",
    "learn.fit_one_cycle(25, lr_max=1e-3)\n",
    "print(time.time() - start)"
   ]
  },
  {
   "cell_type": "markdown",
   "metadata": {
    "colab_type": "text",
    "hidden": true,
    "id": "FDkLd5Z_9gfc"
   },
   "source": [
    "This is very slow compared to the native Pytorch, and even to fastai v1."
   ]
  },
  {
   "cell_type": "markdown",
   "metadata": {
    "colab_type": "text",
    "heading_collapsed": true,
    "hidden": true,
    "id": "DjtBvzhn9iZl"
   },
   "source": [
    "### Mixed Pytorch dataset + Fastai DataLoaders"
   ]
  },
  {
   "cell_type": "markdown",
   "metadata": {
    "colab_type": "text",
    "hidden": true,
    "id": "4rUFR5DFKW8f"
   },
   "source": [
    "\n",
    "\n",
    "Sylvain Gugger provided an alternative recommendation to use numpy arrays in this [post](https://forums.fast.ai/t/datablock-with-numpy-input/64848/2):\n",
    "\n",
    "\"You can create a DataLoaders object from regular PyTorch datasets (though all the visualization methods like show_batch and show_results will fail).\""
   ]
  },
  {
   "cell_type": "code",
   "execution_count": 30,
   "metadata": {
    "colab": {
     "base_uri": "https://localhost:8080/",
     "height": 51
    },
    "colab_type": "code",
    "hidden": true,
    "id": "lgCgZX6lIvl5",
    "outputId": "52601dd0-67d7-4b51-8d98-bc21587e3ad9"
   },
   "outputs": [
    {
     "name": "stdout",
     "output_type": "stream",
     "text": [
      "shape: 8236         bs: torch.Size([128, 1, 1024])\n",
      "1 loop, best of 3: 732 ms per loop\n"
     ]
    }
   ],
   "source": [
    "train_ds = PytorchDataset(np.array(X_train), np.array(y_train).astype(int) - 1)\n",
    "valid_ds = PytorchDataset(np.array(X_valid), np.array(y_valid).astype(int) - 1)\n",
    "dls = DataLoaders.from_dsets(train_ds, valid_ds, batch_size=128, num_workers=0, device=default_device())\n",
    "xb,yb = next(iter(dls.valid))\n",
    "print(f'shape: {str(len(dls.valid.dataset)):10}   bs: {xb.shape}')\n",
    "%timeit cycle_dl(dls.valid)"
   ]
  },
  {
   "cell_type": "code",
   "execution_count": 31,
   "metadata": {
    "colab": {
     "base_uri": "https://localhost:8080/",
     "height": 841
    },
    "colab_type": "code",
    "hidden": true,
    "id": "Vj5xki5cz74C",
    "outputId": "2cb43584-72ab-4313-e8b9-e519711e525e"
   },
   "outputs": [
    {
     "data": {
      "text/html": [
       "<table border=\"1\" class=\"dataframe\">\n",
       "  <thead>\n",
       "    <tr style=\"text-align: left;\">\n",
       "      <th>epoch</th>\n",
       "      <th>train_loss</th>\n",
       "      <th>valid_loss</th>\n",
       "      <th>accuracy</th>\n",
       "      <th>time</th>\n",
       "    </tr>\n",
       "  </thead>\n",
       "  <tbody>\n",
       "    <tr>\n",
       "      <td>0</td>\n",
       "      <td>0.919688</td>\n",
       "      <td>1.092619</td>\n",
       "      <td>0.577222</td>\n",
       "      <td>00:03</td>\n",
       "    </tr>\n",
       "    <tr>\n",
       "      <td>1</td>\n",
       "      <td>0.770745</td>\n",
       "      <td>1.043982</td>\n",
       "      <td>0.829043</td>\n",
       "      <td>00:03</td>\n",
       "    </tr>\n",
       "    <tr>\n",
       "      <td>2</td>\n",
       "      <td>0.663550</td>\n",
       "      <td>0.927209</td>\n",
       "      <td>0.826736</td>\n",
       "      <td>00:03</td>\n",
       "    </tr>\n",
       "    <tr>\n",
       "      <td>3</td>\n",
       "      <td>0.578279</td>\n",
       "      <td>0.966709</td>\n",
       "      <td>0.418407</td>\n",
       "      <td>00:03</td>\n",
       "    </tr>\n",
       "    <tr>\n",
       "      <td>4</td>\n",
       "      <td>0.518316</td>\n",
       "      <td>0.678894</td>\n",
       "      <td>0.655658</td>\n",
       "      <td>00:03</td>\n",
       "    </tr>\n",
       "    <tr>\n",
       "      <td>5</td>\n",
       "      <td>0.462508</td>\n",
       "      <td>0.429497</td>\n",
       "      <td>0.894609</td>\n",
       "      <td>00:03</td>\n",
       "    </tr>\n",
       "    <tr>\n",
       "      <td>6</td>\n",
       "      <td>0.414304</td>\n",
       "      <td>0.828079</td>\n",
       "      <td>0.554152</td>\n",
       "      <td>00:03</td>\n",
       "    </tr>\n",
       "    <tr>\n",
       "      <td>7</td>\n",
       "      <td>0.371559</td>\n",
       "      <td>0.374991</td>\n",
       "      <td>0.856484</td>\n",
       "      <td>00:03</td>\n",
       "    </tr>\n",
       "    <tr>\n",
       "      <td>8</td>\n",
       "      <td>0.334215</td>\n",
       "      <td>0.191663</td>\n",
       "      <td>0.950704</td>\n",
       "      <td>00:03</td>\n",
       "    </tr>\n",
       "    <tr>\n",
       "      <td>9</td>\n",
       "      <td>0.299644</td>\n",
       "      <td>0.143929</td>\n",
       "      <td>0.973895</td>\n",
       "      <td>00:03</td>\n",
       "    </tr>\n",
       "    <tr>\n",
       "      <td>10</td>\n",
       "      <td>0.269700</td>\n",
       "      <td>0.623604</td>\n",
       "      <td>0.855877</td>\n",
       "      <td>00:03</td>\n",
       "    </tr>\n",
       "    <tr>\n",
       "      <td>11</td>\n",
       "      <td>0.243278</td>\n",
       "      <td>0.168610</td>\n",
       "      <td>0.930185</td>\n",
       "      <td>00:03</td>\n",
       "    </tr>\n",
       "    <tr>\n",
       "      <td>12</td>\n",
       "      <td>0.221625</td>\n",
       "      <td>0.401001</td>\n",
       "      <td>0.854662</td>\n",
       "      <td>00:03</td>\n",
       "    </tr>\n",
       "    <tr>\n",
       "      <td>13</td>\n",
       "      <td>0.201956</td>\n",
       "      <td>0.113715</td>\n",
       "      <td>0.970981</td>\n",
       "      <td>00:03</td>\n",
       "    </tr>\n",
       "    <tr>\n",
       "      <td>14</td>\n",
       "      <td>0.183737</td>\n",
       "      <td>0.174187</td>\n",
       "      <td>0.934677</td>\n",
       "      <td>00:03</td>\n",
       "    </tr>\n",
       "    <tr>\n",
       "      <td>15</td>\n",
       "      <td>0.169459</td>\n",
       "      <td>0.097199</td>\n",
       "      <td>0.976688</td>\n",
       "      <td>00:03</td>\n",
       "    </tr>\n",
       "    <tr>\n",
       "      <td>16</td>\n",
       "      <td>0.155952</td>\n",
       "      <td>0.089996</td>\n",
       "      <td>0.979359</td>\n",
       "      <td>00:03</td>\n",
       "    </tr>\n",
       "    <tr>\n",
       "      <td>17</td>\n",
       "      <td>0.144608</td>\n",
       "      <td>0.147958</td>\n",
       "      <td>0.951068</td>\n",
       "      <td>00:03</td>\n",
       "    </tr>\n",
       "    <tr>\n",
       "      <td>18</td>\n",
       "      <td>0.133106</td>\n",
       "      <td>0.120177</td>\n",
       "      <td>0.963332</td>\n",
       "      <td>00:03</td>\n",
       "    </tr>\n",
       "    <tr>\n",
       "      <td>19</td>\n",
       "      <td>0.123908</td>\n",
       "      <td>0.098350</td>\n",
       "      <td>0.970860</td>\n",
       "      <td>00:03</td>\n",
       "    </tr>\n",
       "    <tr>\n",
       "      <td>20</td>\n",
       "      <td>0.115106</td>\n",
       "      <td>0.084798</td>\n",
       "      <td>0.978509</td>\n",
       "      <td>00:03</td>\n",
       "    </tr>\n",
       "    <tr>\n",
       "      <td>21</td>\n",
       "      <td>0.106969</td>\n",
       "      <td>0.079279</td>\n",
       "      <td>0.979116</td>\n",
       "      <td>00:03</td>\n",
       "    </tr>\n",
       "    <tr>\n",
       "      <td>22</td>\n",
       "      <td>0.100092</td>\n",
       "      <td>0.078297</td>\n",
       "      <td>0.978995</td>\n",
       "      <td>00:03</td>\n",
       "    </tr>\n",
       "    <tr>\n",
       "      <td>23</td>\n",
       "      <td>0.094172</td>\n",
       "      <td>0.078319</td>\n",
       "      <td>0.979237</td>\n",
       "      <td>00:03</td>\n",
       "    </tr>\n",
       "    <tr>\n",
       "      <td>24</td>\n",
       "      <td>0.089314</td>\n",
       "      <td>0.078534</td>\n",
       "      <td>0.980087</td>\n",
       "      <td>00:03</td>\n",
       "    </tr>\n",
       "  </tbody>\n",
       "</table>"
      ],
      "text/plain": [
       "<IPython.core.display.HTML object>"
      ]
     },
     "metadata": {
      "tags": []
     },
     "output_type": "display_data"
    },
    {
     "name": "stdout",
     "output_type": "stream",
     "text": [
      "90.98081159591675\n"
     ]
    }
   ],
   "source": [
    "model = InceptionTime(X_in_memory.shape[-2], len(np.unique(y_in_memory)))\n",
    "learn = Learner(dls, model, loss_func=nn.CrossEntropyLoss(), metrics=accuracy)\n",
    "start = time.time()\n",
    "learn.fit_one_cycle(25, lr_max=1e-3)\n",
    "print(time.time() - start)"
   ]
  },
  {
   "cell_type": "markdown",
   "metadata": {
    "colab_type": "text",
    "hidden": true,
    "id": "SBwRBHhzA_X2"
   },
   "source": [
    "This is definitely an improvement in terms of speed.\n",
    "\n",
    "It is now better than fastai v1, but still worse than Pytorch. "
   ]
  },
  {
   "cell_type": "markdown",
   "metadata": {
    "colab_type": "text",
    "heading_collapsed": true,
    "id": "p45nu7qPIvmD"
   },
   "source": [
    "## NumpyDatasets & NumpyDataLoader 🤩"
   ]
  },
  {
   "cell_type": "markdown",
   "metadata": {
    "colab_type": "text",
    "hidden": true,
    "id": "8dxF-Q1zBb9f"
   },
   "source": [
    "So far we we've seen fastai v2 is easy to use, but it's slow compared to v1 (in this example the Datablock API was 60% slower). \n",
    "\n",
    "There are at least 3 major differences between vision and time series - TS- (and numpy based data in general) that we can leverage to improve performance: \n",
    "\n",
    "1. Vision tipically requires some item preprocessing that is sometimes random. For example, when you randomly crop an image. Each time it'll return a different value. In my experience, most item transforms are **deterministic** (actually most impact the label only).\n",
    "\n",
    "2. In vision problems, you usually derive the image and label from a single item (path). In TS problems, it's common to have data already **split between X and y**.\n",
    "\n",
    "3. You can only create an image loading and processing them 1 at a time. However with numpy datasets, you can create a batch **processing all batch items** at the same time, just by slicing an array/ tensor. This is much faster.\n",
    "\n",
    "The first difference allows us to approach the datasets creation is a different way. Since the tfms will almost always deliver the same output, we can **preprocess** the item tfms at datasets initialization, and thus save this time in every epoch. As you'll see, this results in a much faster dataloder.\n",
    "\n",
    "It doesn't make much sense to have data already split (into X and y) to merge them in a single item, process them together, and separate again. It'd be easier to just apply the tfms independently to the inputs (X) and labels (y), and then simply slice them. Slicing is a much faster operation than applying a transform, and also allows a significant improvement in terms of speed.\n",
    "\n",
    "There's **no need to have a collate_fn to create a batch**. The fastest way to do it would be to simply use the batch indices to slice the preprocessed arrays/ tensors all at the same time. \n",
    "\n",
    "Based on this, I've created a NumpyDatasets and NumpyDataLoader that leverage the characteristics of numpy-based datasets.\n",
    "\n",
    "BTW, something important as well, is that NumpyDatasets allows the use of larger than RAM datasets, as data can be sliced directly from disk before loading in memory. "
   ]
  },
  {
   "cell_type": "code",
   "execution_count": 0,
   "metadata": {
    "ExecuteTime": {
     "end_time": "2020-04-05T19:06:22.526800Z",
     "start_time": "2020-04-05T19:06:21.466217Z"
    },
    "colab": {},
    "colab_type": "code",
    "hidden": true,
    "id": "6SHtLjZbIvmV"
   },
   "outputs": [],
   "source": [
    "class NumpyDatasets(Datasets):\n",
    "    \"A dataset that creates tuples from X (and y) and applies `item_tfms`\"\n",
    "    _xtype, _ytype = None, None # Expected X and y output types (torch.Tensor - default - or subclass)\n",
    "    def __init__(self, X=None, y=None, items=None, sel_vars=None, sel_steps=None, tfms=None, tls=None, n_inp=None, dl_type=None, \n",
    "                 preprocess=False, **kwargs):\n",
    "\n",
    "        if tls is None: items = ifnoneelse(y,tuple((X,)),tuple((X, y)))\n",
    "        self.tfms = L(ifnone(tfms,[None]*len(ifnone(tls,items))))\n",
    "        self.sel_vars = ifnone(sel_vars, slice(None))\n",
    "        self.sel_steps = ifnone(sel_steps,slice(None))\n",
    "        self.tls = L(tls if tls else [TfmdLists(item, t, **kwargs) for item,t in zip(items,self.tfms)])\n",
    "        self.n_inp = (1 if len(self.tls)==1 else len(self.tls)-1) if n_inp is None else n_inp\n",
    "        self.ptls = L([tl.items if is_none(tfm) else np.stack(tl[:]) if preprocess else tl for tl,tfm in zip(self.tls, self.tfms)])\n",
    "        self.preprocess = preprocess\n",
    "    \n",
    "    def __getitem__(self, it):\n",
    "        return tuple([typ(ptl[it][...,self.sel_vars, self.sel_steps] if i==0 else ptl[it]) for i,(ptl,typ) in enumerate(zip(self.ptls,self.types))])\n",
    "    \n",
    "    def subset(self, i): return type(self)(tls=L(tl.subset(i) for tl in self.tls), n_inp=self.n_inp, \n",
    "                                           preprocess=self.preprocess, tfms=self.tfms, sel_vars=self.sel_vars, sel_steps=self.sel_steps)\n",
    "    \n",
    "    def _new(self, X, *args, y=None, **kwargs): \n",
    "        items = ifnoneelse(y,tuple((X,)),tuple((X, y)))\n",
    "        return super()._new(items, tfms=self.tfms, do_setup=False, **kwargs)\n",
    "    \n",
    "    def show_at(self, idx, **kwargs):\n",
    "        self.show(self[idx], **kwargs)\n",
    "        plt.show()\n",
    "    @property\n",
    "    def vars(self): return self[0][0].shape[-2]\n",
    "    @property\n",
    "    def length(self): return self[0][0].shape[-1]\n",
    "    @property\n",
    "    def types(self):\n",
    "        if self.tls: \n",
    "            types = [type(tl[0]) if isinstance(tl[0], torch.Tensor) else torch.as_tensor for tl in self.tls]\n",
    "            if self._xtype is not None: types[0] = self._xtype\n",
    "            if len(types) == 2 and self._ytype is not None: types[1] = self._ytype\n",
    "            return types   \n",
    "    @property\n",
    "    def items(self): return tuple([tl.items for tl in self.tls])\n",
    "    @items.setter\n",
    "    def items(self, vs):\n",
    "        for tl,c in zip(self.tls, vs): tl.items = v\n",
    "\n",
    "\n",
    "class TSDatasets(NumpyDatasets):\n",
    "    \"A dataset that creates tuples from X (and y) and applies `item_tfms`\"\n",
    "    _xtype, _ytype = TSTensor, None # Expected X and y output types (torch.Tensor - default - or subclass)\n",
    "\n",
    "def add_ds(dsets, X, y=None, test_items=None, rm_tfms=None, with_labels=False):\n",
    "    \"Create test datasets from X (and y) using validation transforms of `dsets`\"\n",
    "    items = ifnoneelse(y,tuple((X,)),tuple((X, y)))\n",
    "    with_labels = ifnoneelse(y,False,True) \n",
    "    if isinstance(dsets, (Datasets, NumpyDatasets, TSDatasets)):\n",
    "        tls = dsets.tls if with_labels else dsets.tls[:dsets.n_inp]\n",
    "        new_tls = L([tl._new(item, split_idx=1) for tl,item in zip(tls, items)])\n",
    "        if rm_tfms is None: rm_tfms = [tl.infer_idx(get_first(item)) for tl,item in zip(new_tls, items)]\n",
    "        else:               rm_tfms = tuplify(rm_tfms, match=new_tls)\n",
    "        for i,j in enumerate(rm_tfms): new_tls[i].tfms.fs = new_tls[i].tfms.fs[j:]\n",
    "        if isinstance(dsets, (NumpyDatasets, TSDatasets)):\n",
    "            cls = dsets.__class__\n",
    "            return cls(tls=new_tls, n_inp=dsets.n_inp, preprocess=dsets.preprocess, tfms=dsets.tfms, sel_vars=dsets.sel_vars, sel_steps=dsets.sel_steps)\n",
    "        elif isinstance(dsets, Datasets): return Datasets(tls=new_tls)\n",
    "    elif isinstance(dsets, TfmdLists):\n",
    "        new_tl = dsets._new(items, split_idx=1)\n",
    "        if rm_tfms is None: rm_tfms = dsets.infer_idx(get_first(items))\n",
    "        new_tl.tfms.fs = new_tl.tfms.fs[rm_tfms:]\n",
    "        return new_tl\n",
    "    else: raise Exception(f\"This method requires using the fastai library to assemble your data.Expected a `Datasets` or a `TfmdLists` but got {dsets.__class__.__name__}\")\n",
    "\n",
    "@patch\n",
    "def add_test(self:NumpyDatasets, X, y=None, test_items=None, rm_tfms=None, with_labels=False):\n",
    "    return add_ds(self, X, y=y, test_items=test_items, rm_tfms=rm_tfms, with_labels=with_labels)\n",
    "\n",
    "@patch\n",
    "def add_unlabeled(self:NumpyDatasets, X, test_items=None, rm_tfms=None, with_labels=False):\n",
    "    return add_ds(self, X, y=None, test_items=test_items, rm_tfms=rm_tfms, with_labels=with_labels)"
   ]
  },
  {
   "cell_type": "code",
   "execution_count": 0,
   "metadata": {
    "ExecuteTime": {
     "end_time": "2020-04-05T19:06:23.245724Z",
     "start_time": "2020-04-05T19:06:22.927475Z"
    },
    "colab": {},
    "colab_type": "code",
    "hidden": true,
    "id": "KIt99RNME1yQ"
   },
   "outputs": [],
   "source": [
    "class NumpyDataLoader(TfmdDL):\n",
    "    do_item = noops\n",
    "    \n",
    "    def create_batch(self, b): return self.dataset[b]\n",
    "    \n",
    "    @property\n",
    "    def vars(self): return self.dataset[0][0].shape[-2]\n",
    "    \n",
    "    @property\n",
    "    def length(self): return self.dataset[0][0].shape[-1]\n",
    "\n",
    "    @delegates(plt.subplots)\n",
    "    def show_batch(self, b=None, ctxs=None, max_n=9, nrows=3, ncols=3, figsize=(16, 10), **kwargs):\n",
    "        b = self.one_batch()\n",
    "        db = self.decode_batch(b, max_n=max_n)\n",
    "        if figsize is None: figsize = (ncols*6, max_n//ncols*4)\n",
    "        if ctxs is None: ctxs = get_grid(min(len(db), nrows*ncols), nrows=None, ncols=ncols, figsize=figsize, **kwargs)\n",
    "        for i,ctx in enumerate(ctxs):\n",
    "            show_tuple(db[i], ctx=ctx)\n",
    "\n",
    "    @delegates(plt.subplots)\n",
    "    def show_results(self, b, preds, ctxs=None, max_n=9, nrows=3, ncols=3, figsize=(16, 10), **kwargs):\n",
    "        t = self.decode_batch(b, max_n=max_n)\n",
    "        p = self.decode_batch((b[0],preds), max_n=max_n)\n",
    "        if figsize is None: figsize = (ncols*6, max_n//ncols*4)\n",
    "        if ctxs is None: ctxs = get_grid(min(len(t), nrows*ncols), nrows=None, ncols=ncols, figsize=figsize, **kwargs)\n",
    "        for i,ctx in enumerate(ctxs): \n",
    "            title = f'True: {t[i][1]}\\nPred: {p[i][1]}'\n",
    "            color = 'green' if t[i][1] == p[i][1] else 'red'\n",
    "            t[i][0].show(ctx=ctx, title=title, title_color=color)\n",
    "\n",
    "@delegates(plt.subplots)\n",
    "def show_tuple(tup, **kwargs):\n",
    "    \"Display a timeseries plot from a decoded tuple\"\n",
    "    tup[0].show(title='unlabeled' if len(tup) == 1 else tup[1], **kwargs)\n",
    "    \n",
    "class TSDataLoader(NumpyDataLoader): pass"
   ]
  },
  {
   "cell_type": "code",
   "execution_count": 0,
   "metadata": {
    "ExecuteTime": {
     "end_time": "2020-04-05T19:06:24.100202Z",
     "start_time": "2020-04-05T19:06:23.812982Z"
    },
    "colab": {},
    "colab_type": "code",
    "hidden": true,
    "id": "qa4I5cEGuYmz"
   },
   "outputs": [],
   "source": [
    "bs = 128\n",
    "idx = np.random.randint(len(X_in_memory), size=bs)\n",
    "train_idx = np.random.randint(len(splits[0]), size=bs)\n",
    "valid_idx = np.random.randint(len(splits[1]), size=bs)"
   ]
  },
  {
   "cell_type": "code",
   "execution_count": 60,
   "metadata": {
    "ExecuteTime": {
     "end_time": "2020-04-05T19:06:37.673995Z",
     "start_time": "2020-04-05T19:06:25.527110Z"
    },
    "colab": {
     "base_uri": "https://localhost:8080/",
     "height": 330
    },
    "colab_type": "code",
    "hidden": true,
    "id": "lWrK75gKIvmk",
    "outputId": "f1853922-72ce-4dfc-f962-7c7dd1ed7d08"
   },
   "outputs": [
    {
     "name": "stdout",
     "output_type": "stream",
     "text": [
      "(TSTensor(vars:1, len:1024), TensorCategory(1))\n"
     ]
    },
    {
     "data": {
      "image/png": "[encoded data removed]",
      "text/plain": [
       "<Figure size 432x288 with 1 Axes>"
      ]
     },
     "metadata": {
      "tags": []
     },
     "output_type": "display_data"
    }
   ],
   "source": [
    "tfms = [None, [Categorize()]]\n",
    "# tfms = None\n",
    "# dsets = NumpyDatasets(X_on_disk, y_on_disk, tfms=tfms, sel_vars=None, sel_steps=None, splits=splits, preprocess=True)\n",
    "dsets = TSDatasets(X_in_memory, y_in_memory, sel_vars=None, sel_steps=None, tfms=tfms, splits=splits, preprocess=True)\n",
    "train_ds = dsets.train\n",
    "valid_ds = dsets.valid\n",
    "test_ds  = dsets.add_test(X_in_memory, y_in_memory)\n",
    "print(valid_ds[0])\n",
    "show_at(valid_ds, 0);"
   ]
  },
  {
   "cell_type": "code",
   "execution_count": 61,
   "metadata": {
    "ExecuteTime": {
     "end_time": "2020-04-05T19:06:37.970715Z",
     "start_time": "2020-04-05T19:06:37.679273Z"
    },
    "colab": {
     "base_uri": "https://localhost:8080/",
     "height": 85
    },
    "colab_type": "code",
    "hidden": true,
    "id": "nqL2GxGyIvmt",
    "outputId": "cc686d0a-4d20-4db2-dc4e-b1d9badc9508",
    "scrolled": false
   },
   "outputs": [
    {
     "data": {
      "text/plain": [
       "(TSTensor(samples:64, vars:1, len:1024),\n",
       " TensorCategory([2, 1, 2, 2, 2, 0, 2, 1, 1, 2, 2, 0, 1, 2, 2, 2, 0, 2, 2, 2, 2, 0, 0, 2,\n",
       "         0, 0, 1, 2, 1, 2, 0, 2, 2, 2, 2, 1, 0, 2, 1, 1, 1, 2, 1, 2, 1, 1, 2, 1,\n",
       "         1, 2, 1, 1, 2, 0, 2, 1, 1, 0, 2, 1, 2, 2, 2, 2]))"
      ]
     },
     "execution_count": 61,
     "metadata": {
      "tags": []
     },
     "output_type": "execute_result"
    }
   ],
   "source": [
    "train_dl = TSDataLoader(train_ds, bs=64, shuffle=True, drop_last=True, num_workers=0)\n",
    "valid_dl = TSDataLoader(valid_ds, bs=128, num_workers=0)\n",
    "dls = TSDataLoaders(train_dl, valid_dl)\n",
    "b = next(iter(dls.train))\n",
    "b"
   ]
  },
  {
   "cell_type": "code",
   "execution_count": 37,
   "metadata": {
    "ExecuteTime": {
     "end_time": "2020-04-05T19:08:17.060230Z",
     "start_time": "2020-04-05T19:08:08.330009Z"
    },
    "colab": {
     "base_uri": "https://localhost:8080/",
     "height": 729
    },
    "colab_type": "code",
    "hidden": true,
    "id": "hXQcDANmIvm4",
    "outputId": "f3fc9522-2b9b-42b1-d1dc-a112711bd41d",
    "scrolled": false
   },
   "outputs": [
    {
     "data": {
      "image/png": "[encoded data removed]",
      "text/plain": [
       "<Figure size 1152x720 with 9 Axes>"
      ]
     },
     "metadata": {
      "tags": []
     },
     "output_type": "display_data"
    }
   ],
   "source": [
    "dls.train.show_batch(sharey=True)"
   ]
  },
  {
   "cell_type": "markdown",
   "metadata": {
    "colab_type": "text",
    "hidden": true,
    "id": "fD6M5pwnFAn_"
   },
   "source": [
    "Let's first establish another benchmark. \n",
    "\n",
    "If we think of it, the fastest and simplest way to create a batch to be used in fastai v2 would be to:\n",
    "\n",
    "1. split the X and y between train and valid. This can be done at initialization. \n",
    "\n",
    "2. Slice the data based on random idx, cast the outputs to the expected classes, and create a tuple. \n",
    "\n",
    "This process takes about 150 µs. So it's very fast."
   ]
  },
  {
   "cell_type": "code",
   "execution_count": 39,
   "metadata": {
    "colab": {
     "base_uri": "https://localhost:8080/",
     "height": 136
    },
    "colab_type": "code",
    "hidden": true,
    "id": "FY4UjKKfXJEB",
    "outputId": "69cf0751-f629-4897-fd27-17c287006e39"
   },
   "outputs": [
    {
     "data": {
      "text/plain": [
       "(TSTensor(samples:128, vars:1, len:1024),\n",
       " TensorCategory([3, 3, 3, 3, 1, 3, 3, 1, 3, 3, 3, 1, 2, 3, 3, 3, 1, 2, 3, 3, 3, 2, 3, 2,\n",
       "         3, 3, 3, 3, 3, 2, 3, 3, 2, 3, 3, 2, 1, 3, 1, 3, 2, 1, 1, 2, 3, 2, 2, 3,\n",
       "         2, 3, 3, 3, 2, 3, 3, 2, 1, 2, 3, 2, 1, 2, 2, 1, 3, 3, 1, 3, 1, 3, 3, 3,\n",
       "         3, 1, 2, 3, 3, 2, 3, 3, 2, 3, 2, 3, 2, 1, 3, 3, 3, 3, 3, 3, 1, 2, 2, 1,\n",
       "         3, 2, 2, 3, 3, 3, 3, 2, 3, 3, 3, 2, 3, 3, 2, 2, 2, 1, 3, 3, 3, 3, 3, 3,\n",
       "         3, 2, 2, 2, 3, 3, 3, 2]))"
      ]
     },
     "execution_count": 39,
     "metadata": {
      "tags": []
     },
     "output_type": "execute_result"
    }
   ],
   "source": [
    "X_val = X_in_memory[splits[1]]\n",
    "y_val = y_in_memory[splits[1]].astype(int)\n",
    "tuple((TSTensor(X_val[valid_idx]), TensorCategory(y_val[valid_idx])))"
   ]
  },
  {
   "cell_type": "code",
   "execution_count": 40,
   "metadata": {
    "colab": {
     "base_uri": "https://localhost:8080/",
     "height": 34
    },
    "colab_type": "code",
    "hidden": true,
    "id": "JUYPbFa5XlTu",
    "outputId": "58bf0872-ac5b-4c58-f039-da3fe2058c63"
   },
   "outputs": [
    {
     "name": "stdout",
     "output_type": "stream",
     "text": [
      "10000 loops, best of 3: 166 µs per loop\n"
     ]
    }
   ],
   "source": [
    "%timeit tuple((TSTensor(X_val[valid_idx]), TensorCategory(y_val[valid_idx])))"
   ]
  },
  {
   "cell_type": "markdown",
   "metadata": {
    "colab_type": "text",
    "hidden": true,
    "id": "Wg25a-wGF_Zj"
   },
   "source": [
    "Let's see how does this compare to NumpyDatasets when tfms are not preprocessed:"
   ]
  },
  {
   "cell_type": "code",
   "execution_count": 41,
   "metadata": {
    "colab": {
     "base_uri": "https://localhost:8080/",
     "height": 136
    },
    "colab_type": "code",
    "hidden": true,
    "id": "gC2thB8AXFUz",
    "outputId": "932a39d2-1906-4ee5-e1dd-9d3ff0462d62"
   },
   "outputs": [
    {
     "data": {
      "text/plain": [
       "(TSTensor(samples:128, vars:1, len:1024),\n",
       " TensorCategory([2, 2, 2, 2, 0, 2, 2, 0, 2, 2, 2, 0, 1, 2, 2, 2, 0, 1, 2, 2, 2, 1, 2, 1,\n",
       "         2, 2, 2, 2, 2, 1, 2, 2, 1, 2, 2, 1, 0, 2, 0, 2, 1, 0, 0, 1, 2, 1, 1, 2,\n",
       "         1, 2, 2, 2, 1, 2, 2, 1, 0, 1, 2, 1, 0, 1, 1, 0, 2, 2, 0, 2, 0, 2, 2, 2,\n",
       "         2, 0, 1, 2, 2, 1, 2, 2, 1, 2, 1, 2, 1, 0, 2, 2, 2, 2, 2, 2, 0, 1, 1, 0,\n",
       "         2, 1, 1, 2, 2, 2, 2, 1, 2, 2, 2, 1, 2, 2, 1, 1, 1, 0, 2, 2, 2, 2, 2, 2,\n",
       "         2, 1, 1, 1, 2, 2, 2, 1]))"
      ]
     },
     "execution_count": 41,
     "metadata": {
      "tags": []
     },
     "output_type": "execute_result"
    }
   ],
   "source": [
    "valid_ds[valid_idx]"
   ]
  },
  {
   "cell_type": "code",
   "execution_count": 42,
   "metadata": {
    "colab": {
     "base_uri": "https://localhost:8080/",
     "height": 34
    },
    "colab_type": "code",
    "hidden": true,
    "id": "gkWhVnL_BPfs",
    "outputId": "79439e92-62de-43ce-c61d-3a586c918bb6"
   },
   "outputs": [
    {
     "name": "stdout",
     "output_type": "stream",
     "text": [
      "100 loops, best of 3: 12.3 ms per loop\n"
     ]
    }
   ],
   "source": [
    "# Preprocess = False\n",
    "dsets = TSDatasets(X_in_memory, y_in_memory, sel_vars=None, sel_steps=None, tfms=tfms, splits=splits, preprocess=False)\n",
    "valid_ds = dsets.valid\n",
    "valid_dl = TSDataLoader(valid_ds, bs=128, num_workers=0)\n",
    "%timeit valid_ds[valid_idx]"
   ]
  },
  {
   "cell_type": "markdown",
   "metadata": {
    "colab_type": "text",
    "hidden": true,
    "id": "8Kxh1iIFGS4u"
   },
   "source": [
    "This is about 100 times slower. This makes the dataloader almost 20 times slower than the simple Pytorch dataloder whe showed before."
   ]
  },
  {
   "cell_type": "code",
   "execution_count": 43,
   "metadata": {
    "colab": {
     "base_uri": "https://localhost:8080/",
     "height": 34
    },
    "colab_type": "code",
    "hidden": true,
    "id": "XfyNCitYIvnU",
    "outputId": "88a44827-b70d-4e8e-9531-941465945481"
   },
   "outputs": [
    {
     "name": "stdout",
     "output_type": "stream",
     "text": [
      "1 loop, best of 3: 779 ms per loop\n"
     ]
    }
   ],
   "source": [
    "%timeit cycle_dl(valid_dl)"
   ]
  },
  {
   "cell_type": "markdown",
   "metadata": {
    "colab_type": "text",
    "hidden": true,
    "id": "wcVGpzHQG3B4"
   },
   "source": [
    "Let's see how is performance when data is preprocessed:"
   ]
  },
  {
   "cell_type": "code",
   "execution_count": 64,
   "metadata": {
    "colab": {
     "base_uri": "https://localhost:8080/",
     "height": 34
    },
    "colab_type": "code",
    "hidden": true,
    "id": "ijN37_vWA6mq",
    "outputId": "a6f4695d-288f-4e67-e061-f89f0b79b356"
   },
   "outputs": [
    {
     "name": "stdout",
     "output_type": "stream",
     "text": [
      "1000 loops, best of 3: 428 µs per loop\n"
     ]
    }
   ],
   "source": [
    "# Preprocess = True\n",
    "dsets = TSDatasets(X_in_memory, y_in_memory, sel_vars=None, sel_steps=None, tfms=tfms, splits=splits, preprocess=True)\n",
    "valid_ds = dsets.valid\n",
    "valid_dl = TSDataLoader(valid_ds, bs=128, num_workers=0)\n",
    "%timeit valid_ds[valid_idx]"
   ]
  },
  {
   "cell_type": "markdown",
   "metadata": {
    "colab_type": "text",
    "hidden": true,
    "id": "dZtMFtbVHCrV"
   },
   "source": [
    "Since we only perform slicing and casting at batch creation time, performance is closer to the slicing and casting we showed before, and about 30 times faster than when not preprocessed. [link text](https:// [link text](https://))"
   ]
  },
  {
   "cell_type": "code",
   "execution_count": 65,
   "metadata": {
    "colab": {
     "base_uri": "https://localhost:8080/",
     "height": 34
    },
    "colab_type": "code",
    "hidden": true,
    "id": "wx_xvh43Ax90",
    "outputId": "dc4768ed-6ae5-430d-96fd-4795f77ed4a4"
   },
   "outputs": [
    {
     "name": "stdout",
     "output_type": "stream",
     "text": [
      "10 loops, best of 3: 47.5 ms per loop\n"
     ]
    }
   ],
   "source": [
    "%timeit cycle_dl(valid_dl)"
   ]
  },
  {
   "cell_type": "markdown",
   "metadata": {
    "colab_type": "text",
    "hidden": true,
    "id": "Ipl34JYu_tPk"
   },
   "source": [
    "😲 This is the same level of performance we had with the Pytorch dataloader, but much more flexible and with many additional benefits ❣️"
   ]
  },
  {
   "cell_type": "markdown",
   "metadata": {
    "colab_type": "text",
    "hidden": true,
    "id": "IYPtX0fy_yOZ"
   },
   "source": [
    "Let's now measure the timing with data on-disk instead of in memory."
   ]
  },
  {
   "cell_type": "code",
   "execution_count": 62,
   "metadata": {
    "colab": {
     "base_uri": "https://localhost:8080/",
     "height": 34
    },
    "colab_type": "code",
    "hidden": true,
    "id": "zAQYNTv7_hTY",
    "outputId": "68d028c6-86aa-4cbd-bc50-383480c1be48"
   },
   "outputs": [
    {
     "name": "stdout",
     "output_type": "stream",
     "text": [
      "1000 loops, best of 3: 426 µs per loop\n"
     ]
    }
   ],
   "source": [
    "# Preprocess = True\n",
    "dsets = TSDatasets(X_on_disk, y_on_disk, sel_vars=None, sel_steps=None, tfms=tfms, splits=splits, preprocess=True)\n",
    "valid_ds = dsets.valid\n",
    "valid_dl = TSDataLoader(valid_ds, bs=128, num_workers=0)\n",
    "%timeit valid_ds[valid_idx]"
   ]
  },
  {
   "cell_type": "code",
   "execution_count": 63,
   "metadata": {
    "colab": {
     "base_uri": "https://localhost:8080/",
     "height": 34
    },
    "colab_type": "code",
    "hidden": true,
    "id": "hp8xhyRo_huU",
    "outputId": "e2fb0b3b-cfa0-4388-c951-ed72ffa020a6"
   },
   "outputs": [
    {
     "name": "stdout",
     "output_type": "stream",
     "text": [
      "10 loops, best of 3: 46.8 ms per loop\n"
     ]
    }
   ],
   "source": [
    "%timeit cycle_dl(valid_dl)"
   ]
  },
  {
   "cell_type": "markdown",
   "metadata": {
    "colab_type": "text",
    "hidden": true,
    "id": "Jegc1i9ZAdZ6"
   },
   "source": [
    "⚠️ Good, there's no impact in batch creation when the data is on disk!"
   ]
  },
  {
   "cell_type": "markdown",
   "metadata": {
    "colab_type": "text",
    "hidden": true,
    "id": "wiJfL55gCdB8"
   },
   "source": [
    "\n",
    "\n",
    "Let's now compare the time to train the model."
   ]
  },
  {
   "cell_type": "code",
   "execution_count": 46,
   "metadata": {
    "colab": {
     "base_uri": "https://localhost:8080/",
     "height": 841
    },
    "colab_type": "code",
    "hidden": true,
    "id": "3zZIMFWD9eAy",
    "outputId": "7148937b-58a1-4e61-bdfd-e2c5cdc6ca40"
   },
   "outputs": [
    {
     "data": {
      "text/html": [
       "<table border=\"1\" class=\"dataframe\">\n",
       "  <thead>\n",
       "    <tr style=\"text-align: left;\">\n",
       "      <th>epoch</th>\n",
       "      <th>train_loss</th>\n",
       "      <th>valid_loss</th>\n",
       "      <th>accuracy</th>\n",
       "      <th>time</th>\n",
       "    </tr>\n",
       "  </thead>\n",
       "  <tbody>\n",
       "    <tr>\n",
       "      <td>0</td>\n",
       "      <td>0.751870</td>\n",
       "      <td>1.053626</td>\n",
       "      <td>0.758621</td>\n",
       "      <td>00:03</td>\n",
       "    </tr>\n",
       "    <tr>\n",
       "      <td>1</td>\n",
       "      <td>0.599645</td>\n",
       "      <td>0.756201</td>\n",
       "      <td>0.839728</td>\n",
       "      <td>00:03</td>\n",
       "    </tr>\n",
       "    <tr>\n",
       "      <td>2</td>\n",
       "      <td>0.491453</td>\n",
       "      <td>0.446792</td>\n",
       "      <td>0.851870</td>\n",
       "      <td>00:03</td>\n",
       "    </tr>\n",
       "    <tr>\n",
       "      <td>3</td>\n",
       "      <td>0.400276</td>\n",
       "      <td>0.767116</td>\n",
       "      <td>0.706168</td>\n",
       "      <td>00:03</td>\n",
       "    </tr>\n",
       "    <tr>\n",
       "      <td>4</td>\n",
       "      <td>0.330231</td>\n",
       "      <td>0.314700</td>\n",
       "      <td>0.863890</td>\n",
       "      <td>00:03</td>\n",
       "    </tr>\n",
       "    <tr>\n",
       "      <td>5</td>\n",
       "      <td>0.275218</td>\n",
       "      <td>0.421347</td>\n",
       "      <td>0.856727</td>\n",
       "      <td>00:03</td>\n",
       "    </tr>\n",
       "    <tr>\n",
       "      <td>6</td>\n",
       "      <td>0.231114</td>\n",
       "      <td>0.377880</td>\n",
       "      <td>0.857819</td>\n",
       "      <td>00:03</td>\n",
       "    </tr>\n",
       "    <tr>\n",
       "      <td>7</td>\n",
       "      <td>0.199246</td>\n",
       "      <td>0.920798</td>\n",
       "      <td>0.572972</td>\n",
       "      <td>00:03</td>\n",
       "    </tr>\n",
       "    <tr>\n",
       "      <td>8</td>\n",
       "      <td>0.170953</td>\n",
       "      <td>0.381311</td>\n",
       "      <td>0.829043</td>\n",
       "      <td>00:03</td>\n",
       "    </tr>\n",
       "    <tr>\n",
       "      <td>9</td>\n",
       "      <td>0.151902</td>\n",
       "      <td>0.159080</td>\n",
       "      <td>0.948883</td>\n",
       "      <td>00:03</td>\n",
       "    </tr>\n",
       "    <tr>\n",
       "      <td>10</td>\n",
       "      <td>0.135628</td>\n",
       "      <td>0.677940</td>\n",
       "      <td>0.717339</td>\n",
       "      <td>00:03</td>\n",
       "    </tr>\n",
       "    <tr>\n",
       "      <td>11</td>\n",
       "      <td>0.123871</td>\n",
       "      <td>0.102162</td>\n",
       "      <td>0.972195</td>\n",
       "      <td>00:03</td>\n",
       "    </tr>\n",
       "    <tr>\n",
       "      <td>12</td>\n",
       "      <td>0.115433</td>\n",
       "      <td>0.290451</td>\n",
       "      <td>0.891816</td>\n",
       "      <td>00:03</td>\n",
       "    </tr>\n",
       "    <tr>\n",
       "      <td>13</td>\n",
       "      <td>0.109010</td>\n",
       "      <td>0.094683</td>\n",
       "      <td>0.974381</td>\n",
       "      <td>00:03</td>\n",
       "    </tr>\n",
       "    <tr>\n",
       "      <td>14</td>\n",
       "      <td>0.101306</td>\n",
       "      <td>0.093860</td>\n",
       "      <td>0.974016</td>\n",
       "      <td>00:03</td>\n",
       "    </tr>\n",
       "    <tr>\n",
       "      <td>15</td>\n",
       "      <td>0.092838</td>\n",
       "      <td>0.099845</td>\n",
       "      <td>0.967460</td>\n",
       "      <td>00:03</td>\n",
       "    </tr>\n",
       "    <tr>\n",
       "      <td>16</td>\n",
       "      <td>0.086559</td>\n",
       "      <td>0.084710</td>\n",
       "      <td>0.978388</td>\n",
       "      <td>00:03</td>\n",
       "    </tr>\n",
       "    <tr>\n",
       "      <td>17</td>\n",
       "      <td>0.082714</td>\n",
       "      <td>0.088123</td>\n",
       "      <td>0.973531</td>\n",
       "      <td>00:03</td>\n",
       "    </tr>\n",
       "    <tr>\n",
       "      <td>18</td>\n",
       "      <td>0.078018</td>\n",
       "      <td>0.083831</td>\n",
       "      <td>0.976809</td>\n",
       "      <td>00:03</td>\n",
       "    </tr>\n",
       "    <tr>\n",
       "      <td>19</td>\n",
       "      <td>0.073447</td>\n",
       "      <td>0.090206</td>\n",
       "      <td>0.973409</td>\n",
       "      <td>00:03</td>\n",
       "    </tr>\n",
       "    <tr>\n",
       "      <td>20</td>\n",
       "      <td>0.067350</td>\n",
       "      <td>0.081753</td>\n",
       "      <td>0.974988</td>\n",
       "      <td>00:03</td>\n",
       "    </tr>\n",
       "    <tr>\n",
       "      <td>21</td>\n",
       "      <td>0.061026</td>\n",
       "      <td>0.077186</td>\n",
       "      <td>0.978873</td>\n",
       "      <td>00:03</td>\n",
       "    </tr>\n",
       "    <tr>\n",
       "      <td>22</td>\n",
       "      <td>0.057451</td>\n",
       "      <td>0.077353</td>\n",
       "      <td>0.978145</td>\n",
       "      <td>00:03</td>\n",
       "    </tr>\n",
       "    <tr>\n",
       "      <td>23</td>\n",
       "      <td>0.054316</td>\n",
       "      <td>0.076684</td>\n",
       "      <td>0.979116</td>\n",
       "      <td>00:03</td>\n",
       "    </tr>\n",
       "    <tr>\n",
       "      <td>24</td>\n",
       "      <td>0.051735</td>\n",
       "      <td>0.076970</td>\n",
       "      <td>0.978509</td>\n",
       "      <td>00:03</td>\n",
       "    </tr>\n",
       "  </tbody>\n",
       "</table>"
      ],
      "text/plain": [
       "<IPython.core.display.HTML object>"
      ]
     },
     "metadata": {
      "tags": []
     },
     "output_type": "display_data"
    },
    {
     "name": "stdout",
     "output_type": "stream",
     "text": [
      "96.44727444648743\n"
     ]
    }
   ],
   "source": [
    "# Preprocess = FALSE, Data in memory\n",
    "tfms  = [None, [Categorize()]]\n",
    "dsets = TSDatasets(X_in_memory, y_in_memory, tfms=tfms, splits=splits, preprocess=False)\n",
    "train_ds = dsets.train\n",
    "valid_ds = dsets.valid\n",
    "train_dl = TSDataLoader(train_ds, bs=64, shuffle=True, drop_last=True, num_workers=0)\n",
    "valid_dl = TSDataLoader(valid_ds, bs=128, num_workers=0)\n",
    "dls   = TSDataLoaders(train_dl, valid_dl, device=default_device())\n",
    "model = InceptionTime(dls.vars, dls.c)\n",
    "learn2 = Learner(dls, model, metrics=accuracy)\n",
    "start = time.time()\n",
    "learn2.fit_one_cycle(25, lr_max=1e-3)\n",
    "print(time.time() - start)"
   ]
  },
  {
   "cell_type": "markdown",
   "metadata": {
    "colab_type": "text",
    "hidden": true,
    "id": "ES4Ap4DG4CPx"
   },
   "source": [
    "⚠️ This NumpyDataLoader is already a bit faster than fastai v1. But we have not yet used preprocess = True. "
   ]
  },
  {
   "cell_type": "code",
   "execution_count": 47,
   "metadata": {
    "colab": {
     "base_uri": "https://localhost:8080/",
     "height": 841
    },
    "colab_type": "code",
    "hidden": true,
    "id": "HlyJF63YDbiO",
    "outputId": "e31ccdf6-6e1d-4184-9914-71f29cfa6dc1"
   },
   "outputs": [
    {
     "data": {
      "text/html": [
       "<table border=\"1\" class=\"dataframe\">\n",
       "  <thead>\n",
       "    <tr style=\"text-align: left;\">\n",
       "      <th>epoch</th>\n",
       "      <th>train_loss</th>\n",
       "      <th>valid_loss</th>\n",
       "      <th>accuracy</th>\n",
       "      <th>time</th>\n",
       "    </tr>\n",
       "  </thead>\n",
       "  <tbody>\n",
       "    <tr>\n",
       "      <td>0</td>\n",
       "      <td>0.915404</td>\n",
       "      <td>1.125292</td>\n",
       "      <td>0.142909</td>\n",
       "      <td>00:02</td>\n",
       "    </tr>\n",
       "    <tr>\n",
       "      <td>1</td>\n",
       "      <td>0.700481</td>\n",
       "      <td>0.693136</td>\n",
       "      <td>0.822001</td>\n",
       "      <td>00:02</td>\n",
       "    </tr>\n",
       "    <tr>\n",
       "      <td>2</td>\n",
       "      <td>0.582829</td>\n",
       "      <td>0.422659</td>\n",
       "      <td>0.845192</td>\n",
       "      <td>00:02</td>\n",
       "    </tr>\n",
       "    <tr>\n",
       "      <td>3</td>\n",
       "      <td>0.499683</td>\n",
       "      <td>0.334885</td>\n",
       "      <td>0.854662</td>\n",
       "      <td>00:02</td>\n",
       "    </tr>\n",
       "    <tr>\n",
       "      <td>4</td>\n",
       "      <td>0.434916</td>\n",
       "      <td>0.402401</td>\n",
       "      <td>0.853691</td>\n",
       "      <td>00:02</td>\n",
       "    </tr>\n",
       "    <tr>\n",
       "      <td>5</td>\n",
       "      <td>0.378504</td>\n",
       "      <td>0.302711</td>\n",
       "      <td>0.928485</td>\n",
       "      <td>00:02</td>\n",
       "    </tr>\n",
       "    <tr>\n",
       "      <td>6</td>\n",
       "      <td>0.320752</td>\n",
       "      <td>0.302610</td>\n",
       "      <td>0.856605</td>\n",
       "      <td>00:02</td>\n",
       "    </tr>\n",
       "    <tr>\n",
       "      <td>7</td>\n",
       "      <td>0.277516</td>\n",
       "      <td>2.266502</td>\n",
       "      <td>0.430549</td>\n",
       "      <td>00:02</td>\n",
       "    </tr>\n",
       "    <tr>\n",
       "      <td>8</td>\n",
       "      <td>0.241870</td>\n",
       "      <td>0.214236</td>\n",
       "      <td>0.887445</td>\n",
       "      <td>00:02</td>\n",
       "    </tr>\n",
       "    <tr>\n",
       "      <td>9</td>\n",
       "      <td>0.208952</td>\n",
       "      <td>0.164642</td>\n",
       "      <td>0.931399</td>\n",
       "      <td>00:02</td>\n",
       "    </tr>\n",
       "    <tr>\n",
       "      <td>10</td>\n",
       "      <td>0.179766</td>\n",
       "      <td>0.359766</td>\n",
       "      <td>0.859155</td>\n",
       "      <td>00:02</td>\n",
       "    </tr>\n",
       "    <tr>\n",
       "      <td>11</td>\n",
       "      <td>0.160233</td>\n",
       "      <td>0.157430</td>\n",
       "      <td>0.936134</td>\n",
       "      <td>00:02</td>\n",
       "    </tr>\n",
       "    <tr>\n",
       "      <td>12</td>\n",
       "      <td>0.143498</td>\n",
       "      <td>0.130361</td>\n",
       "      <td>0.959689</td>\n",
       "      <td>00:02</td>\n",
       "    </tr>\n",
       "    <tr>\n",
       "      <td>13</td>\n",
       "      <td>0.128436</td>\n",
       "      <td>0.166602</td>\n",
       "      <td>0.928606</td>\n",
       "      <td>00:02</td>\n",
       "    </tr>\n",
       "    <tr>\n",
       "      <td>14</td>\n",
       "      <td>0.116526</td>\n",
       "      <td>0.242779</td>\n",
       "      <td>0.905172</td>\n",
       "      <td>00:02</td>\n",
       "    </tr>\n",
       "    <tr>\n",
       "      <td>15</td>\n",
       "      <td>0.105549</td>\n",
       "      <td>0.100640</td>\n",
       "      <td>0.968796</td>\n",
       "      <td>00:02</td>\n",
       "    </tr>\n",
       "    <tr>\n",
       "      <td>16</td>\n",
       "      <td>0.096215</td>\n",
       "      <td>0.092117</td>\n",
       "      <td>0.974866</td>\n",
       "      <td>00:02</td>\n",
       "    </tr>\n",
       "    <tr>\n",
       "      <td>17</td>\n",
       "      <td>0.088042</td>\n",
       "      <td>0.083903</td>\n",
       "      <td>0.977295</td>\n",
       "      <td>00:02</td>\n",
       "    </tr>\n",
       "    <tr>\n",
       "      <td>18</td>\n",
       "      <td>0.081973</td>\n",
       "      <td>0.090257</td>\n",
       "      <td>0.971831</td>\n",
       "      <td>00:02</td>\n",
       "    </tr>\n",
       "    <tr>\n",
       "      <td>19</td>\n",
       "      <td>0.076448</td>\n",
       "      <td>0.080880</td>\n",
       "      <td>0.978388</td>\n",
       "      <td>00:02</td>\n",
       "    </tr>\n",
       "    <tr>\n",
       "      <td>20</td>\n",
       "      <td>0.069689</td>\n",
       "      <td>0.087437</td>\n",
       "      <td>0.975109</td>\n",
       "      <td>00:02</td>\n",
       "    </tr>\n",
       "    <tr>\n",
       "      <td>21</td>\n",
       "      <td>0.064745</td>\n",
       "      <td>0.079188</td>\n",
       "      <td>0.977659</td>\n",
       "      <td>00:02</td>\n",
       "    </tr>\n",
       "    <tr>\n",
       "      <td>22</td>\n",
       "      <td>0.061205</td>\n",
       "      <td>0.080163</td>\n",
       "      <td>0.976688</td>\n",
       "      <td>00:02</td>\n",
       "    </tr>\n",
       "    <tr>\n",
       "      <td>23</td>\n",
       "      <td>0.058182</td>\n",
       "      <td>0.082574</td>\n",
       "      <td>0.974866</td>\n",
       "      <td>00:02</td>\n",
       "    </tr>\n",
       "    <tr>\n",
       "      <td>24</td>\n",
       "      <td>0.055875</td>\n",
       "      <td>0.079433</td>\n",
       "      <td>0.976566</td>\n",
       "      <td>00:02</td>\n",
       "    </tr>\n",
       "  </tbody>\n",
       "</table>"
      ],
      "text/plain": [
       "<IPython.core.display.HTML object>"
      ]
     },
     "metadata": {
      "tags": []
     },
     "output_type": "display_data"
    },
    {
     "name": "stdout",
     "output_type": "stream",
     "text": [
      "73.96902513504028\n"
     ]
    }
   ],
   "source": [
    "# Preprocess = TRUE, Data in memory\n",
    "tfms  = [None, [Categorize()]]\n",
    "dsets = TSDatasets(X_in_memory, y_in_memory, tfms=tfms, splits=splits, preprocess=True)\n",
    "train_ds = dsets.train\n",
    "valid_ds = dsets.valid\n",
    "train_dl = TSDataLoader(train_ds, bs=64, shuffle=True, drop_last=True, num_workers=0)\n",
    "valid_dl = TSDataLoader(valid_ds, bs=128, num_workers=0)\n",
    "dls   = TSDataLoaders(train_dl, valid_dl, device=default_device())\n",
    "model = InceptionTime(dls.vars, dls.c)\n",
    "learn = Learner(dls, model, metrics=accuracy)\n",
    "start = time.time()\n",
    "learn.fit_one_cycle(25, lr_max=1e-3)\n",
    "print(time.time() - start)"
   ]
  },
  {
   "cell_type": "markdown",
   "metadata": {
    "colab_type": "text",
    "hidden": true,
    "id": "7st1Krjo4CP3"
   },
   "source": [
    "🍻 🎉 I think this is a great result. It means that just preprocessing the item transforms can reduce training time by almost 25%, and almost 50% from the generic datablock API. "
   ]
  },
  {
   "cell_type": "code",
   "execution_count": 48,
   "metadata": {
    "colab": {
     "base_uri": "https://localhost:8080/",
     "height": 841
    },
    "colab_type": "code",
    "hidden": true,
    "id": "gQMMrdeCCzzZ",
    "outputId": "89fdbe3e-ccc9-4ea9-dfcc-75e3baecb2f2"
   },
   "outputs": [
    {
     "data": {
      "text/html": [
       "<table border=\"1\" class=\"dataframe\">\n",
       "  <thead>\n",
       "    <tr style=\"text-align: left;\">\n",
       "      <th>epoch</th>\n",
       "      <th>train_loss</th>\n",
       "      <th>valid_loss</th>\n",
       "      <th>accuracy</th>\n",
       "      <th>time</th>\n",
       "    </tr>\n",
       "  </thead>\n",
       "  <tbody>\n",
       "    <tr>\n",
       "      <td>0</td>\n",
       "      <td>0.747235</td>\n",
       "      <td>1.052870</td>\n",
       "      <td>0.577222</td>\n",
       "      <td>00:03</td>\n",
       "    </tr>\n",
       "    <tr>\n",
       "      <td>1</td>\n",
       "      <td>0.591328</td>\n",
       "      <td>0.723365</td>\n",
       "      <td>0.835600</td>\n",
       "      <td>00:03</td>\n",
       "    </tr>\n",
       "    <tr>\n",
       "      <td>2</td>\n",
       "      <td>0.504973</td>\n",
       "      <td>0.470396</td>\n",
       "      <td>0.849684</td>\n",
       "      <td>00:03</td>\n",
       "    </tr>\n",
       "    <tr>\n",
       "      <td>3</td>\n",
       "      <td>0.424447</td>\n",
       "      <td>0.450539</td>\n",
       "      <td>0.846649</td>\n",
       "      <td>00:03</td>\n",
       "    </tr>\n",
       "    <tr>\n",
       "      <td>4</td>\n",
       "      <td>0.362723</td>\n",
       "      <td>0.727011</td>\n",
       "      <td>0.714060</td>\n",
       "      <td>00:03</td>\n",
       "    </tr>\n",
       "    <tr>\n",
       "      <td>5</td>\n",
       "      <td>0.311331</td>\n",
       "      <td>0.614699</td>\n",
       "      <td>0.856848</td>\n",
       "      <td>00:03</td>\n",
       "    </tr>\n",
       "    <tr>\n",
       "      <td>6</td>\n",
       "      <td>0.264204</td>\n",
       "      <td>0.325145</td>\n",
       "      <td>0.858426</td>\n",
       "      <td>00:03</td>\n",
       "    </tr>\n",
       "    <tr>\n",
       "      <td>7</td>\n",
       "      <td>0.222552</td>\n",
       "      <td>0.316215</td>\n",
       "      <td>0.856727</td>\n",
       "      <td>00:03</td>\n",
       "    </tr>\n",
       "    <tr>\n",
       "      <td>8</td>\n",
       "      <td>0.193642</td>\n",
       "      <td>0.262357</td>\n",
       "      <td>0.920228</td>\n",
       "      <td>00:03</td>\n",
       "    </tr>\n",
       "    <tr>\n",
       "      <td>9</td>\n",
       "      <td>0.174403</td>\n",
       "      <td>1.142636</td>\n",
       "      <td>0.854784</td>\n",
       "      <td>00:03</td>\n",
       "    </tr>\n",
       "    <tr>\n",
       "      <td>10</td>\n",
       "      <td>0.153089</td>\n",
       "      <td>0.209674</td>\n",
       "      <td>0.897766</td>\n",
       "      <td>00:03</td>\n",
       "    </tr>\n",
       "    <tr>\n",
       "      <td>11</td>\n",
       "      <td>0.138170</td>\n",
       "      <td>0.234683</td>\n",
       "      <td>0.904444</td>\n",
       "      <td>00:03</td>\n",
       "    </tr>\n",
       "    <tr>\n",
       "      <td>12</td>\n",
       "      <td>0.123951</td>\n",
       "      <td>0.162511</td>\n",
       "      <td>0.942084</td>\n",
       "      <td>00:03</td>\n",
       "    </tr>\n",
       "    <tr>\n",
       "      <td>13</td>\n",
       "      <td>0.112508</td>\n",
       "      <td>0.112818</td>\n",
       "      <td>0.966124</td>\n",
       "      <td>00:03</td>\n",
       "    </tr>\n",
       "    <tr>\n",
       "      <td>14</td>\n",
       "      <td>0.104023</td>\n",
       "      <td>0.163812</td>\n",
       "      <td>0.934070</td>\n",
       "      <td>00:03</td>\n",
       "    </tr>\n",
       "    <tr>\n",
       "      <td>15</td>\n",
       "      <td>0.097824</td>\n",
       "      <td>0.085275</td>\n",
       "      <td>0.977295</td>\n",
       "      <td>00:03</td>\n",
       "    </tr>\n",
       "    <tr>\n",
       "      <td>16</td>\n",
       "      <td>0.088504</td>\n",
       "      <td>0.085125</td>\n",
       "      <td>0.977173</td>\n",
       "      <td>00:03</td>\n",
       "    </tr>\n",
       "    <tr>\n",
       "      <td>17</td>\n",
       "      <td>0.079620</td>\n",
       "      <td>0.077181</td>\n",
       "      <td>0.979237</td>\n",
       "      <td>00:03</td>\n",
       "    </tr>\n",
       "    <tr>\n",
       "      <td>18</td>\n",
       "      <td>0.072577</td>\n",
       "      <td>0.078265</td>\n",
       "      <td>0.976688</td>\n",
       "      <td>00:03</td>\n",
       "    </tr>\n",
       "    <tr>\n",
       "      <td>19</td>\n",
       "      <td>0.067074</td>\n",
       "      <td>0.076417</td>\n",
       "      <td>0.978266</td>\n",
       "      <td>00:03</td>\n",
       "    </tr>\n",
       "    <tr>\n",
       "      <td>20</td>\n",
       "      <td>0.061895</td>\n",
       "      <td>0.084173</td>\n",
       "      <td>0.975474</td>\n",
       "      <td>00:03</td>\n",
       "    </tr>\n",
       "    <tr>\n",
       "      <td>21</td>\n",
       "      <td>0.056416</td>\n",
       "      <td>0.076991</td>\n",
       "      <td>0.977416</td>\n",
       "      <td>00:03</td>\n",
       "    </tr>\n",
       "    <tr>\n",
       "      <td>22</td>\n",
       "      <td>0.053027</td>\n",
       "      <td>0.074875</td>\n",
       "      <td>0.978630</td>\n",
       "      <td>00:03</td>\n",
       "    </tr>\n",
       "    <tr>\n",
       "      <td>23</td>\n",
       "      <td>0.051412</td>\n",
       "      <td>0.074256</td>\n",
       "      <td>0.978266</td>\n",
       "      <td>00:03</td>\n",
       "    </tr>\n",
       "    <tr>\n",
       "      <td>24</td>\n",
       "      <td>0.049001</td>\n",
       "      <td>0.074257</td>\n",
       "      <td>0.978388</td>\n",
       "      <td>00:03</td>\n",
       "    </tr>\n",
       "  </tbody>\n",
       "</table>"
      ],
      "text/plain": [
       "<IPython.core.display.HTML object>"
      ]
     },
     "metadata": {
      "tags": []
     },
     "output_type": "display_data"
    },
    {
     "name": "stdout",
     "output_type": "stream",
     "text": [
      "80.83068943023682\n"
     ]
    }
   ],
   "source": [
    "# Preprocess = TRUE, Data on disk\n",
    "tfms = [None, [Categorize()]]\n",
    "dsets = TSDatasets(X_on_disk, y_on_disk, tfms=tfms, splits=splits, preprocess=True)\n",
    "train_ds = dsets.train\n",
    "valid_ds = dsets.valid\n",
    "train_dl = TSDataLoader(train_ds, bs=64, shuffle=True, drop_last=True)\n",
    "valid_dl = TSDataLoader(valid_ds, bs=128)\n",
    "dls = TSDataLoaders(train_dl, valid_dl, device=default_device())\n",
    "model = InceptionTime(dls.vars, dls.c)\n",
    "learn = Learner(dls, model, metrics=accuracy)\n",
    "start = time.time()\n",
    "learn.fit_one_cycle(25, lr_max=1e-3)\n",
    "print(time.time() - start)"
   ]
  },
  {
   "cell_type": "markdown",
   "metadata": {
    "colab_type": "text",
    "hidden": true,
    "id": "aIfanvej4CP8"
   },
   "source": [
    "⚠️ This is also very important, as it means we can now train very large datasets with a good performance without loading data in memory. It takes around 10% longer."
   ]
  },
  {
   "cell_type": "markdown",
   "metadata": {
    "colab_type": "text",
    "hidden": true,
    "id": "8vsqTrvKDGVL"
   },
   "source": [
    "#### Predictions"
   ]
  },
  {
   "cell_type": "markdown",
   "metadata": {
    "colab_type": "text",
    "hidden": true,
    "id": "CA1KdYQ34CP8"
   },
   "source": [
    "NumpyDatasets and NumpyDataLoader share all the benefits of fastai v2:"
   ]
  },
  {
   "cell_type": "code",
   "execution_count": 111,
   "metadata": {
    "colab": {
     "base_uri": "https://localhost:8080/",
     "height": 142
    },
    "colab_type": "code",
    "hidden": true,
    "id": "8aZTHMYeINNl",
    "outputId": "690ca574-fe61-4ba4-f75a-9c81cf65d712"
   },
   "outputs": [
    {
     "data": {
      "text/html": [
       "<table border=\"1\" class=\"dataframe\">\n",
       "  <thead>\n",
       "    <tr style=\"text-align: left;\">\n",
       "      <th>epoch</th>\n",
       "      <th>train_loss</th>\n",
       "      <th>valid_loss</th>\n",
       "      <th>accuracy</th>\n",
       "      <th>time</th>\n",
       "    </tr>\n",
       "  </thead>\n",
       "  <tbody>\n",
       "    <tr>\n",
       "      <td>0</td>\n",
       "      <td>0.581624</td>\n",
       "      <td>0.932457</td>\n",
       "      <td>0.842885</td>\n",
       "      <td>00:02</td>\n",
       "    </tr>\n",
       "    <tr>\n",
       "      <td>1</td>\n",
       "      <td>0.453326</td>\n",
       "      <td>0.688576</td>\n",
       "      <td>0.503400</td>\n",
       "      <td>00:02</td>\n",
       "    </tr>\n",
       "    <tr>\n",
       "      <td>2</td>\n",
       "      <td>0.372161</td>\n",
       "      <td>0.459690</td>\n",
       "      <td>0.914157</td>\n",
       "      <td>00:02</td>\n",
       "    </tr>\n",
       "  </tbody>\n",
       "</table>"
      ],
      "text/plain": [
       "<IPython.core.display.HTML object>"
      ]
     },
     "metadata": {
      "tags": []
     },
     "output_type": "display_data"
    }
   ],
   "source": [
    "# Preprocess = TRUE, Data in memory\n",
    "tfms  = [None, [Categorize()]]\n",
    "dsets = TSDatasets(X_in_memory, y_in_memory, tfms=tfms, splits=splits, preprocess=True)\n",
    "train_dl = TSDataLoader(dsets.train, bs=64, shuffle=True, drop_last=True, num_workers=0)\n",
    "valid_dl = TSDataLoader(dsets.valid, bs=128, num_workers=0)\n",
    "dls   = TSDataLoaders(train_dl, valid_dl, device=default_device())\n",
    "model = InceptionTime(dls.vars, dls.c)\n",
    "learn = Learner(dls, model, metrics=accuracy)\n",
    "learn.fit_one_cycle(3, lr_max=1e-3)"
   ]
  },
  {
   "cell_type": "code",
   "execution_count": 112,
   "metadata": {
    "colab": {
     "base_uri": "https://localhost:8080/",
     "height": 729
    },
    "colab_type": "code",
    "hidden": true,
    "id": "zznzCDisYl-w",
    "outputId": "2b777af4-72e8-4282-b442-41192e499d40",
    "scrolled": true
   },
   "outputs": [
    {
     "data": {
      "text/html": [],
      "text/plain": [
       "<IPython.core.display.HTML object>"
      ]
     },
     "metadata": {
      "tags": []
     },
     "output_type": "display_data"
    },
    {
     "data": {
      "image/png": "[encoded data removed]",
      "text/plain": [
       "<Figure size 1152x720 with 9 Axes>"
      ]
     },
     "metadata": {
      "tags": []
     },
     "output_type": "display_data"
    }
   ],
   "source": [
    "learn.show_results(sharey=True)"
   ]
  },
  {
   "cell_type": "code",
   "execution_count": 116,
   "metadata": {
    "colab": {
     "base_uri": "https://localhost:8080/",
     "height": 170
    },
    "colab_type": "code",
    "hidden": true,
    "id": "ZVK9PMjJDgqS",
    "outputId": "246eb4dc-9f93-47e1-d8f8-d18cd0660302"
   },
   "outputs": [
    {
     "data": {
      "text/html": [],
      "text/plain": [
       "<IPython.core.display.HTML object>"
      ]
     },
     "metadata": {
      "tags": []
     },
     "output_type": "display_data"
    },
    {
     "data": {
      "text/html": [],
      "text/plain": [
       "<IPython.core.display.HTML object>"
      ]
     },
     "metadata": {
      "tags": []
     },
     "output_type": "display_data"
    },
    {
     "data": {
      "text/plain": [
       "(tensor([[0.0105, 0.9771, 0.0124],\n",
       "         [0.3660, 0.1821, 0.4519],\n",
       "         [0.3791, 0.2359, 0.3850],\n",
       "         ...,\n",
       "         [0.5156, 0.0777, 0.4067],\n",
       "         [0.0177, 0.9644, 0.0179],\n",
       "         [0.1892, 0.0643, 0.7465]]),\n",
       " tensor([1, 2, 2,  ..., 0, 1, 2]),\n",
       " tensor([1, 2, 2,  ..., 0, 1, 2]))"
      ]
     },
     "execution_count": 116,
     "metadata": {
      "tags": []
     },
     "output_type": "execute_result"
    }
   ],
   "source": [
    "train_probas, train_targets, train_preds = learn.get_preds(dl=train_dl, with_decoded=True)\n",
    "valid_probas, valid_targets, valid_preds = learn.get_preds(dl=valid_dl, with_decoded=True)\n",
    "valid_probas, valid_targets, valid_preds"
   ]
  },
  {
   "cell_type": "code",
   "execution_count": 92,
   "metadata": {
    "colab": {
     "base_uri": "https://localhost:8080/",
     "height": 311
    },
    "colab_type": "code",
    "hidden": true,
    "id": "Ikn0q270GuhV",
    "outputId": "e7159f39-e5e2-45ae-a077-f76dc0442d9e"
   },
   "outputs": [
    {
     "data": {
      "text/html": [],
      "text/plain": [
       "<IPython.core.display.HTML object>"
      ]
     },
     "metadata": {
      "tags": []
     },
     "output_type": "display_data"
    },
    {
     "data": {
      "image/png": "[encoded data removed]",
      "text/plain": [
       "<Figure size 432x288 with 1 Axes>"
      ]
     },
     "metadata": {
      "tags": []
     },
     "output_type": "display_data"
    }
   ],
   "source": [
    "interp = ClassificationInterpretation.from_learner(learn)\n",
    "interp.plot_confusion_matrix()"
   ]
  },
  {
   "cell_type": "markdown",
   "metadata": {
    "colab_type": "text",
    "hidden": true,
    "id": "y5F0V2qT4CQz"
   },
   "source": [
    "### Add additional labeled test data"
   ]
  },
  {
   "cell_type": "code",
   "execution_count": 97,
   "metadata": {
    "colab": {
     "base_uri": "https://localhost:8080/",
     "height": 136
    },
    "colab_type": "code",
    "hidden": true,
    "id": "jtrNSbovNOrs",
    "outputId": "e96c4dbb-6397-4de0-d097-0641e63e9469"
   },
   "outputs": [
    {
     "data": {
      "text/plain": [
       "(TSTensor(samples:128, vars:1, len:1024),\n",
       " TensorCategory([2, 2, 0, 2, 2, 1, 2, 1, 2, 2, 1, 2, 2, 2, 2, 2, 0, 1, 2, 1, 2, 0, 1, 0,\n",
       "         2, 2, 0, 2, 2, 2, 1, 2, 1, 1, 2, 0, 0, 1, 2, 0, 1, 2, 1, 2, 2, 1, 1, 2,\n",
       "         0, 0, 0, 2, 2, 2, 0, 2, 2, 2, 2, 1, 2, 2, 2, 0, 1, 2, 2, 2, 2, 1, 1, 2,\n",
       "         1, 0, 1, 2, 2, 1, 1, 2, 2, 1, 1, 1, 2, 0, 2, 2, 1, 1, 2, 0, 2, 2, 2, 1,\n",
       "         2, 2, 1, 2, 1, 1, 2, 1, 2, 1, 2, 0, 2, 2, 1, 2, 2, 2, 2, 2, 1, 2, 1, 1,\n",
       "         2, 2, 2, 2, 1, 2, 0, 2], device='cuda:0'))"
      ]
     },
     "execution_count": 97,
     "metadata": {
      "tags": []
     },
     "output_type": "execute_result"
    }
   ],
   "source": [
    "# Labeled test data\n",
    "test_ds = dsets.add_test(X_in_memory, y_in_memory)\n",
    "test_dl = learn.dls[1].new(test_ds)\n",
    "b = next(iter(test_dl))\n",
    "b"
   ]
  },
  {
   "cell_type": "code",
   "execution_count": 98,
   "metadata": {
    "colab": {
     "base_uri": "https://localhost:8080/",
     "height": 170
    },
    "colab_type": "code",
    "hidden": true,
    "id": "Pz1N_GP-4wuA",
    "outputId": "37abf543-3179-4e09-b2b9-e6e1d326abfe"
   },
   "outputs": [
    {
     "data": {
      "text/html": [],
      "text/plain": [
       "<IPython.core.display.HTML object>"
      ]
     },
     "metadata": {
      "tags": []
     },
     "output_type": "display_data"
    },
    {
     "data": {
      "text/plain": [
       "(tensor([[1.9730e-01, 5.5098e-03, 7.9719e-01],\n",
       "         [3.2836e-01, 1.1422e-03, 6.7050e-01],\n",
       "         [9.9672e-01, 4.1884e-04, 2.8661e-03],\n",
       "         ...,\n",
       "         [9.8399e-01, 8.2070e-04, 1.5189e-02],\n",
       "         [3.2956e-04, 9.9935e-01, 3.2196e-04],\n",
       "         [5.1287e-02, 4.6544e-03, 9.4406e-01]]),\n",
       " tensor([2, 2, 0,  ..., 0, 1, 2]),\n",
       " tensor([2, 2, 0,  ..., 0, 1, 2]))"
      ]
     },
     "execution_count": 98,
     "metadata": {
      "tags": []
     },
     "output_type": "execute_result"
    }
   ],
   "source": [
    "test_probas, test_targets, test_preds = learn.get_preds(dl=test_dl, with_decoded=True, save_preds=None, save_targs=None)\n",
    "test_probas, test_targets, test_preds"
   ]
  },
  {
   "cell_type": "markdown",
   "metadata": {
    "colab_type": "text",
    "hidden": true,
    "id": "G1nhB2PA4CQ9"
   },
   "source": [
    "### Add additional unlabeled test data"
   ]
  },
  {
   "cell_type": "code",
   "execution_count": 99,
   "metadata": {
    "colab": {
     "base_uri": "https://localhost:8080/",
     "height": 34
    },
    "colab_type": "code",
    "hidden": true,
    "id": "XEcoPG179AAc",
    "outputId": "f149aeb1-daf6-43eb-9a4c-3fd5f939fc29"
   },
   "outputs": [
    {
     "data": {
      "text/plain": [
       "(TSTensor(samples:128, vars:1, len:1024),)"
      ]
     },
     "execution_count": 99,
     "metadata": {
      "tags": []
     },
     "output_type": "execute_result"
    }
   ],
   "source": [
    "# Unlabeled test data\n",
    "test_ds = dsets.add_test(X_in_memory)\n",
    "test_dl = learn.dls[1].new(test_ds)\n",
    "b = next(iter(test_dl))\n",
    "b"
   ]
  },
  {
   "cell_type": "code",
   "execution_count": 100,
   "metadata": {
    "colab": {
     "base_uri": "https://localhost:8080/",
     "height": 136
    },
    "colab_type": "code",
    "hidden": true,
    "id": "pxgxEajo9J5x",
    "outputId": "de9ef5cc-9956-4566-d3e9-4dfcd574fd7e"
   },
   "outputs": [
    {
     "data": {
      "text/html": [],
      "text/plain": [
       "<IPython.core.display.HTML object>"
      ]
     },
     "metadata": {
      "tags": []
     },
     "output_type": "display_data"
    },
    {
     "data": {
      "text/plain": [
       "tensor([[1.9730e-01, 5.5098e-03, 7.9719e-01],\n",
       "        [3.2836e-01, 1.1422e-03, 6.7050e-01],\n",
       "        [9.9672e-01, 4.1884e-04, 2.8661e-03],\n",
       "        ...,\n",
       "        [9.8399e-01, 8.2070e-04, 1.5189e-02],\n",
       "        [3.2956e-04, 9.9935e-01, 3.2196e-04],\n",
       "        [5.1287e-02, 4.6544e-03, 9.4406e-01]])"
      ]
     },
     "execution_count": 100,
     "metadata": {
      "tags": []
     },
     "output_type": "execute_result"
    }
   ],
   "source": [
    "test_probas, *_ = learn.get_preds(dl=test_dl, save_preds=None)\n",
    "test_probas"
   ]
  },
  {
   "cell_type": "markdown",
   "metadata": {
    "colab_type": "text",
    "hidden": true,
    "id": "RGoenZnC4CRJ"
   },
   "source": [
    "### Add additional unlabeled data"
   ]
  },
  {
   "cell_type": "code",
   "execution_count": 101,
   "metadata": {
    "colab": {
     "base_uri": "https://localhost:8080/",
     "height": 34
    },
    "colab_type": "code",
    "hidden": true,
    "id": "a24nKZRiOTpk",
    "outputId": "ef7b5e4b-116e-4a4c-b1ec-1d03c4645d34"
   },
   "outputs": [
    {
     "data": {
      "text/plain": [
       "(TSTensor(samples:128, vars:1, len:1024),)"
      ]
     },
     "execution_count": 101,
     "metadata": {
      "tags": []
     },
     "output_type": "execute_result"
    }
   ],
   "source": [
    "# Unlabeled dataset\n",
    "unlabeled_ds = dsets.add_unlabeled(X_in_memory)\n",
    "unlabeled_dl = learn.dls[1].new(unlabeled_ds)\n",
    "b = next(iter(unlabeled_dl))\n",
    "b"
   ]
  },
  {
   "cell_type": "code",
   "execution_count": 102,
   "metadata": {
    "colab": {
     "base_uri": "https://localhost:8080/",
     "height": 136
    },
    "colab_type": "code",
    "hidden": true,
    "id": "lNazOlUkTE5L",
    "outputId": "a09dcd7f-3f44-44b6-f042-70308d018c1a"
   },
   "outputs": [
    {
     "data": {
      "text/html": [],
      "text/plain": [
       "<IPython.core.display.HTML object>"
      ]
     },
     "metadata": {
      "tags": []
     },
     "output_type": "display_data"
    },
    {
     "data": {
      "text/plain": [
       "tensor([[1.9730e-01, 5.5098e-03, 7.9719e-01],\n",
       "        [3.2836e-01, 1.1422e-03, 6.7050e-01],\n",
       "        [9.9672e-01, 4.1884e-04, 2.8661e-03],\n",
       "        ...,\n",
       "        [9.8399e-01, 8.2070e-04, 1.5189e-02],\n",
       "        [3.2956e-04, 9.9935e-01, 3.2196e-04],\n",
       "        [5.1287e-02, 4.6544e-03, 9.4406e-01]])"
      ]
     },
     "execution_count": 102,
     "metadata": {
      "tags": []
     },
     "output_type": "execute_result"
    }
   ],
   "source": [
    "u_probas, *_ = learn.get_preds(dl=unlabeled_dl, save_preds=None)\n",
    "u_probas"
   ]
  },
  {
   "cell_type": "markdown",
   "metadata": {
    "colab_type": "text",
    "heading_collapsed": true,
    "id": "1h6Uahtp4CRT"
   },
   "source": [
    "## Conclusions 🧠"
   ]
  },
  {
   "cell_type": "markdown",
   "metadata": {
    "colab": {},
    "colab_type": "code",
    "hidden": true,
    "id": "Ru10GKCDHiXK"
   },
   "source": [
    "We now have a dataloader that works with numpy arrays and meets all the requirements we set at the beginning of this notebook. The key benefits are: \n",
    "\n",
    "* We can use it with numpy arrays (or anything that can be converted into np arrays) with **any number of dimensions**\n",
    "* Easy to use scikit-learn type of API (X, (y)), useful for **labeled and unlabeled datasets**\n",
    "* We can also use **larger than RAM datasets**, keeping data on disk.\n",
    "* It has all the benefits of being integrated with fastai v2: \n",
    "    * Use item and batch tfms\n",
    "    * Show batch (with tfms)\n",
    "    * Show results\n",
    "    * We can export the learner, and predict on new data\n",
    "* And almost 40% faster than fastai v1 and 50% faster than generic fastai v2 (for numpy arrays)"
   ]
  }
 ],
 "metadata": {
  "accelerator": "GPU",
  "colab": {
   "name": "02_DataLoaders_benchmark_update3.ipynb",
   "provenance": []
  },
  "kernelspec": {
   "display_name": "Python 3",
   "language": "python",
   "name": "python3"
  },
  "language_info": {
   "codemirror_mode": {
    "name": "ipython",
    "version": 3
   },
   "file_extension": ".py",
   "mimetype": "text/x-python",
   "name": "python",
   "nbconvert_exporter": "python",
   "pygments_lexer": "ipython3",
   "version": "3.7.3"
  },
  "toc": {
   "base_numbering": 1,
   "nav_menu": {},
   "number_sections": true,
   "sideBar": true,
   "skip_h1_title": false,
   "title_cell": "Table of Contents",
   "title_sidebar": "Contents",
   "toc_cell": false,
   "toc_position": {},
   "toc_section_display": true,
   "toc_window_display": false
  }
 },
 "nbformat": 4,
 "nbformat_minor": 1
}

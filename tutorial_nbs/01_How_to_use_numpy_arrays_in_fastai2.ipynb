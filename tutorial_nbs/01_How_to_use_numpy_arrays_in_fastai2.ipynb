{
 "cells": [
  {
   "cell_type": "markdown",
   "metadata": {},
   "source": [
    "created by Ignacio Oguiza - email: oguiza@gmail.com"
   ]
  },
  {
   "cell_type": "markdown",
   "metadata": {
    "colab_type": "text",
    "heading_collapsed": true,
    "id": "q5zvCtPaIvkU"
   },
   "source": [
    "## How to work with numpy arrays in fastai2: a time series classification example ⏳ "
   ]
  },
  {
   "cell_type": "markdown",
   "metadata": {
    "colab_type": "text",
    "hidden": true,
    "id": "3qjaXUSuIvkX"
   },
   "source": [
    "I'd like to share with you how you can work with (very large) numpy arrays in **fastai2** through a time series classification example. To be able to use fastai v2 I have a few requirements: \n",
    "\n",
    "\n",
    "* Use univariate and multivariate time series\n",
    "* Use labeled (X,y) and unlabeled (X,) datasets\n",
    "* Data may be already split in train/ valid\n",
    "* In-memory and on-disk np.arrays (np.memmap in case of larger than RAM data)\n",
    "* Slice the dataset (based on selected variables and/ or sequence steps)\n",
    "* Use item and batch tfms\n",
    "* Create batch with specified output types (TSTensor, TensorCategory, etc)\n",
    "* Show batch (with tfms)\n",
    "* Show results\n",
    "* Add test data and unlabeled datasets\n",
    "* Export and predict on new data\n",
    "* Equal or better performance than native Pytorch, fastai v1 & vanilla fastai v2\n",
    "\n",
    "These are pretty challanging. Let's see if fastai2 can meet them (with limited customization)."
   ]
  },
  {
   "cell_type": "markdown",
   "metadata": {
    "colab_type": "text",
    "heading_collapsed": true,
    "id": "OBW2olZbIvka"
   },
   "source": [
    "## Import libraries 📚"
   ]
  },
  {
   "cell_type": "code",
   "execution_count": 2,
   "metadata": {
    "ExecuteTime": {
     "end_time": "2020-04-05T18:35:50.169912Z",
     "start_time": "2020-04-05T18:35:50.061139Z"
    },
    "hidden": true
   },
   "outputs": [],
   "source": [
    "%reload_ext autoreload\n",
    "%autoreload 2"
   ]
  },
  {
   "cell_type": "code",
   "execution_count": 3,
   "metadata": {
    "ExecuteTime": {
     "end_time": "2020-04-05T18:35:51.191508Z",
     "start_time": "2020-04-05T18:35:51.008148Z"
    },
    "colab": {
     "base_uri": "https://localhost:8080/",
     "height": 51
    },
    "colab_type": "code",
    "hidden": true,
    "id": "srz0mwuvIvkc",
    "outputId": "a996861e-e986-4b02-ff4b-c478f78c2b10"
   },
   "outputs": [],
   "source": [
    "import sys\n",
    "import os\n",
    "ISCOLAB = 'google.colab' in sys.modules\n",
    "if ISCOLAB:\n",
    "    if not os.path.isdir('/content/timeseriesAI2'):\n",
    "        !pip install git+https://github.com/fastai/fastai2 \n",
    "        !pip install git+https://github.com/fastai/fastcore \n",
    "        !pip install pyunpack\n",
    "        !pip install sktime\n",
    "        !git clone https://github.com/timeseriesAI/timeseriesAI2.git\n",
    "        %cd timeseriesAI2\n",
    "    else: \n",
    "        path = !pwd\n",
    "        if path != ['/content/timeseriesAI2']: \n",
    "            %cd timeseriesAI2\n",
    "        !pwd"
   ]
  },
  {
   "cell_type": "code",
   "execution_count": 4,
   "metadata": {
    "ExecuteTime": {
     "end_time": "2020-04-05T18:35:52.310344Z",
     "start_time": "2020-04-05T18:35:52.213318Z"
    },
    "colab": {},
    "colab_type": "code",
    "hidden": true,
    "id": "Kqq8BBL__k6N"
   },
   "outputs": [],
   "source": [
    "# # Uncomment if need to reload repo\n",
    "# %cd ..\n",
    "# !rm -rf timeseriesAI2\n",
    "\n",
    "# !git clone https://github.com/timeseriesAI/timeseriesAI2.git\n",
    "# %cd timeseriesAI2"
   ]
  },
  {
   "cell_type": "code",
   "execution_count": 5,
   "metadata": {
    "ExecuteTime": {
     "end_time": "2020-04-05T18:35:52.798064Z",
     "start_time": "2020-04-05T18:35:52.680180Z"
    },
    "colab": {
     "base_uri": "https://localhost:8080/",
     "height": 17
    },
    "colab_type": "code",
    "hidden": true,
    "id": "wuOxM-WJIvkq",
    "outputId": "c8f6d6dd-c67d-4e22-94cd-dc78b898c145"
   },
   "outputs": [
    {
     "data": {
      "text/html": [
       "<style>.container {width:95% !important; }</style>"
      ],
      "text/plain": [
       "<IPython.core.display.HTML object>"
      ]
     },
     "metadata": {},
     "output_type": "display_data"
    }
   ],
   "source": [
    "from IPython.display import display, HTML\n",
    "display(HTML(\"<style>.container {width:95% !important; }</style>\"))"
   ]
  },
  {
   "cell_type": "code",
   "execution_count": 6,
   "metadata": {
    "ExecuteTime": {
     "end_time": "2020-04-05T18:35:53.842408Z",
     "start_time": "2020-04-05T18:35:53.744233Z"
    },
    "colab": {},
    "colab_type": "code",
    "hidden": true,
    "id": "o6e_jq-HIvk3"
   },
   "outputs": [],
   "source": [
    "# from fastai2.torch_core import *\n",
    "# from fastai2.data.all import *\n",
    "# from fastai2.vision.all import *\n",
    "# from fastai2.learner import *\n",
    "# from fastai2.metrics import *\n",
    "# from fastai2.callback.all import *"
   ]
  },
  {
   "cell_type": "code",
   "execution_count": 7,
   "metadata": {
    "ExecuteTime": {
     "end_time": "2020-04-05T18:36:06.972394Z",
     "start_time": "2020-04-05T18:35:55.119955Z"
    },
    "colab": {},
    "colab_type": "code",
    "hidden": true,
    "id": "2J-hbSMKIvk_"
   },
   "outputs": [],
   "source": [
    "from timeseries.imports import *\n",
    "from timeseries.utils import *\n",
    "from timeseries.data import *\n",
    "from timeseries.core import *\n",
    "from timeseries.models import *"
   ]
  },
  {
   "cell_type": "code",
   "execution_count": 8,
   "metadata": {
    "ExecuteTime": {
     "end_time": "2020-04-05T18:36:07.275305Z",
     "start_time": "2020-04-05T18:36:06.978681Z"
    },
    "colab": {
     "base_uri": "https://localhost:8080/",
     "height": 204
    },
    "colab_type": "code",
    "hidden": true,
    "id": "p0YwdQijzLJX",
    "outputId": "7a3d13d1-0fe8-41ea-ca09-44ab3adb2005"
   },
   "outputs": [
    {
     "name": "stdout",
     "output_type": "stream",
     "text": [
      "fastai2    : 0.0.16\n",
      "fastcore   : 0.1.17\n",
      "torch      : 1.4.0\n",
      "scipy      : 1.3.1\n",
      "numpy      : 1.18.1\n",
      "pandas     : 0.25.1\n",
      "path       : data/trading/BB\n",
      "Total RAM  :  8.00 GB\n",
      "Used RAM   :  3.83 GB\n",
      "n_cpus     : 8\n",
      "device     : cpu\n"
     ]
    }
   ],
   "source": [
    "print('fastai2    :', fastai2.__version__)\n",
    "print('fastcore   :', fastcore.__version__)\n",
    "print('torch      :', torch.__version__)\n",
    "print('scipy      :', sp.__version__)\n",
    "print('numpy      :', np.__version__)\n",
    "print('pandas     :', pd.__version__)\n",
    "PATH = Path(\"/content/drive/My Drive/BB\") if ISCOLAB else Path('data/trading/BB')\n",
    "print('path       :', PATH)\n",
    "print(f'Total RAM  : {bytes2GB(psutil.virtual_memory().total):5.2f} GB')\n",
    "print(f'Used RAM   : {bytes2GB(psutil.virtual_memory().used):5.2f} GB')\n",
    "print('n_cpus     :', cpus)\n",
    "iscuda = torch.cuda.is_available()\n",
    "if iscuda: print('device     : {} ({})'.format(device, torch.cuda.get_device_name(0)))\n",
    "else: print('device     :', device)"
   ]
  },
  {
   "cell_type": "markdown",
   "metadata": {
    "colab_type": "text",
    "heading_collapsed": true,
    "id": "UH35-QcZIvlJ"
   },
   "source": [
    "## Load data 🔢"
   ]
  },
  {
   "cell_type": "code",
   "execution_count": 9,
   "metadata": {
    "ExecuteTime": {
     "end_time": "2020-04-05T18:36:08.279256Z",
     "start_time": "2020-04-05T18:36:07.285562Z"
    },
    "colab": {
     "base_uri": "https://localhost:8080/",
     "height": 119
    },
    "colab_type": "code",
    "hidden": true,
    "id": "vWoMUpdCIvlL",
    "outputId": "7f40b731-2025-4f1a-ff7e-ea0f8e9a02a0"
   },
   "outputs": [
    {
     "name": "stdout",
     "output_type": "stream",
     "text": [
      "Dataset: StarLightCurves\n",
      "X_train: (1000, 1, 1024)\n",
      "y_train: (1000,)\n",
      "X_valid: (8236, 1, 1024)\n",
      "y_valid: (8236,) \n",
      "\n"
     ]
    }
   ],
   "source": [
    "# dataset id\n",
    "dsid = 'StarLightCurves'\n",
    "X_train, y_train, X_valid, y_valid = get_UCR_data(dsid, parent_dir='./data/UCR/', verbose=True, on_disk=True)\n",
    "X_in_memory = np.concatenate((X_train, X_valid))\n",
    "y_in_memory = np.concatenate((y_train, y_valid))\n",
    "folder = './data/UCR'\n",
    "np.save(f'{folder}/{dsid}/X.npy', X_in_memory)\n",
    "np.save(f'{folder}/{dsid}/y.npy', y_in_memory)\n",
    "X_on_disk = np.load(f'{folder}/{dsid}/X.npy', mmap_mode='r')\n",
    "y_on_disk = np.load(f'{folder}/{dsid}/y.npy', mmap_mode='r')\n",
    "splits = (L(list(np.arange(len(X_train)))), L(list(np.arange(len(X_train), len(X_on_disk)))))"
   ]
  },
  {
   "cell_type": "markdown",
   "metadata": {
    "heading_collapsed": true
   },
   "source": [
    "## Building block: TSTensor 🧱"
   ]
  },
  {
   "cell_type": "markdown",
   "metadata": {
    "hidden": true
   },
   "source": [
    "Since fastai is based on Pytorch, you'll need to somehow transform the numpy arrays to tensors at some point (Tensor or TSTensor in our case). There's a transform function called ToTensor/ ToTSTensor that transforms an array into a tensor of type Tensor/ TSTensor (which has a show method)."
   ]
  },
  {
   "cell_type": "code",
   "execution_count": 17,
   "metadata": {
    "ExecuteTime": {
     "end_time": "2020-04-05T18:47:04.393734Z",
     "start_time": "2020-04-05T18:47:04.078368Z"
    },
    "hidden": true
   },
   "outputs": [],
   "source": [
    "class NumpyTensor(TensorBase):\n",
    "\n",
    "    def __new__(cls, o, **kwargs): \n",
    "        res = ToTensor(o)\n",
    "        res.__class__ = cls\n",
    "        res._meta = kwargs\n",
    "        return res\n",
    "    \n",
    "    def __getitem__(self, idx):\n",
    "        res = super().__getitem__(idx)\n",
    "        return retain_type(res, self)\n",
    "\n",
    "    def show(self, ax=None, ctx=None, title=None, **kwargs):\n",
    "        ax = ifnone(ax,ctx)\n",
    "        if ax is None: fig, ax = plt.subplots(**kwargs)\n",
    "        ax.plot(self.T)\n",
    "        ax.axis(xmin=0, xmax=self.shape[-1] - 1)\n",
    "        ax.set_title(title, weight='bold')\n",
    "        plt.tight_layout()\n",
    "        return ax\n",
    "\n",
    "@Transform\n",
    "def ToNumpyTensor(o:np.ndarray): \n",
    "    return NumpyTensor(o)\n",
    "\n",
    "\n",
    "class TSTensor(TensorBase):\n",
    "    '''Returns a tensor of at least 2 dims of type torch.float32 and class TSTensor'''\n",
    "    def __new__(cls, o, dtype=torch.float32, **kwargs): \n",
    "        res = ToType(dtype)(To2DPlusTensor(o))\n",
    "        res.__class__ = cls\n",
    "        res._meta = kwargs\n",
    "        return res\n",
    "\n",
    "    @property\n",
    "    def vars(self): return self.shape[-2]\n",
    "\n",
    "    @property\n",
    "    def length(self): return self.shape[-1]\n",
    "    \n",
    "    def __getitem__(self, idx):\n",
    "        res = super().__getitem__(idx)\n",
    "        return retain_type(res, self)\n",
    "\n",
    "    def __repr__(self):\n",
    "        if self.ndim >= 3:   return f'TSTensor(samples:{self.shape[-3]}, vars:{self.shape[-2]}, len:{self.shape[-1]})'\n",
    "        elif self.ndim == 2: return f'TSTensor(vars:{self.shape[-2]}, len:{self.shape[-1]})'\n",
    "        elif self.ndim == 1: return f'TSTensor(len:{self.shape[-1]})'\n",
    "        else: return f'TSTensor(float)'\n",
    "\n",
    "    def show(self, ax=None, ctx=None, title=None, title_color='black', **kwargs):\n",
    "        ax = ifnone(ax,ctx)\n",
    "        if ax is None: fig, ax = plt.subplots(**kwargs)\n",
    "        ax.plot(self.T)\n",
    "        ax.axis(xmin=0, xmax=self.shape[-1] - 1)\n",
    "        ax.set_title(title, weight='bold', color=title_color)\n",
    "        plt.tight_layout()\n",
    "        return ax\n",
    "\n",
    "@Transform\n",
    "def ToTSTensor(o:np.ndarray, dtype=torch.float32, **kwargs): \n",
    "    \"\"\" Transforms input to tensor of dtype torch.float32\"\"\"\n",
    "    return TSTensor(o, dtype=dtype, **kwargs)"
   ]
  },
  {
   "cell_type": "code",
   "execution_count": 14,
   "metadata": {
    "ExecuteTime": {
     "end_time": "2020-04-05T18:45:56.920164Z",
     "start_time": "2020-04-05T18:45:55.949378Z"
    },
    "hidden": true
   },
   "outputs": [
    {
     "data": {
      "image/png": "[encoded data removed]",
      "text/plain": [
       "<Figure size 432x288 with 1 Axes>"
      ]
     },
     "metadata": {
      "needs_background": "light"
     },
     "output_type": "display_data"
    }
   ],
   "source": [
    "nt = NumpyTensor(np.random.rand(4, 6))\n",
    "nt.show();"
   ]
  },
  {
   "cell_type": "code",
   "execution_count": 16,
   "metadata": {
    "ExecuteTime": {
     "end_time": "2020-04-05T18:46:51.547713Z",
     "start_time": "2020-04-05T18:46:50.695657Z"
    },
    "hidden": true
   },
   "outputs": [
    {
     "data": {
      "image/png": "[encoded data removed]",
      "text/plain": [
       "<Figure size 432x288 with 1 Axes>"
      ]
     },
     "metadata": {
      "needs_background": "light"
     },
     "output_type": "display_data"
    }
   ],
   "source": [
    "tstensor = TSTensor(np.random.rand(10, 3, 50))\n",
    "tstensor[0].show();"
   ]
  },
  {
   "cell_type": "markdown",
   "metadata": {
    "colab_type": "text",
    "heading_collapsed": true,
    "id": "8nvRSEZrIvlV"
   },
   "source": [
    "## Performance benchmarks ⏱"
   ]
  },
  {
   "cell_type": "markdown",
   "metadata": {
    "hidden": true
   },
   "source": [
    "In fastai v2 there are multiple options to creaet a dataloaders. Let's see some of them and most importantly wheteher they meet our requirements.\n",
    "\n",
    "I will compare 2 processes: \n",
    "\n",
    "- cycle_dl: process to load the entire valid dataset (adapted from a function developed by Thomas Capelle (fastai's @tcapelle))\n",
    "- train model for 25 epochs"
   ]
  },
  {
   "cell_type": "markdown",
   "metadata": {
    "colab_type": "text",
    "heading_collapsed": true,
    "hidden": true,
    "id": "C5Um1xqaIvlX"
   },
   "source": [
    "### Native Pytorch dataloader"
   ]
  },
  {
   "cell_type": "code",
   "execution_count": 10,
   "metadata": {
    "ExecuteTime": {
     "end_time": "2020-04-05T18:36:08.554907Z",
     "start_time": "2020-04-05T18:36:08.284904Z"
    },
    "colab": {},
    "colab_type": "code",
    "hidden": true,
    "id": "_hvOyRymIvlY"
   },
   "outputs": [],
   "source": [
    "# # Native Pytorch\n",
    "# class PytorchDataset():\n",
    "#     def __init__(self, X, y=None): self.X, self.y = torch.as_tensor(X), torch.as_tensor(y)\n",
    "#     def __getitem__(self, idx): return (self.X[idx], self.y[idx])\n",
    "#     def __len__(self): return len(self.X)"
   ]
  },
  {
   "cell_type": "code",
   "execution_count": 284,
   "metadata": {
    "colab": {
     "base_uri": "https://localhost:8080/",
     "height": 51
    },
    "colab_type": "code",
    "hidden": true,
    "id": "aeFHdH08UWv1",
    "outputId": "d53c6ad5-d8de-41e6-d735-3bd4a32c65b8"
   },
   "outputs": [
    {
     "name": "stdout",
     "output_type": "stream",
     "text": [
      "shape: 8236         bs: torch.Size([128, 1, 1024])\n",
      "10 loops, best of 3: 49.6 ms per loop\n"
     ]
    }
   ],
   "source": [
    "ds    = PytorchDataset(np.array(X_valid), np.array(y_valid).astype(int))\n",
    "dl    = torch.utils.data.DataLoader(ds, batch_size=128)\n",
    "xb,yb = next(iter(dl))\n",
    "print(f'shape: {str(len(ds)):10}   bs: {xb.shape}')\n",
    "%timeit cycle_dl(dl)"
   ]
  },
  {
   "cell_type": "markdown",
   "metadata": {
    "colab_type": "text",
    "hidden": true,
    "id": "JbmjOQ4AASCQ"
   },
   "source": [
    "This is the most simple dataset we can have. This doesn't allow us to perform any transforms, show_batch, etc. It cannot be used inside fastai.\n",
    "\n",
    "I've included it for reference, as this dataloader is pretty fast (around 50 ms to cycle the entire dataset). This will be difficult to beat 😅!"
   ]
  },
  {
   "cell_type": "markdown",
   "metadata": {
    "colab_type": "text",
    "heading_collapsed": true,
    "hidden": true,
    "id": "eghDOIQgIvls"
   },
   "source": [
    "### Fastai v1"
   ]
  },
  {
   "cell_type": "markdown",
   "metadata": {
    "colab_type": "text",
    "hidden": true,
    "id": "y3JalSKlIvlu"
   },
   "source": [
    "For comparison, I've run the same exact test in the same machine with fastai v1 timeseries code and these are the timings: : \n",
    "\n",
    "- cycle_dl:  1.01s\n",
    "- training time: 102 s\n",
    "\n",
    "This 102 seconds is what we'll try to beat."
   ]
  },
  {
   "cell_type": "markdown",
   "metadata": {
    "heading_collapsed": true,
    "hidden": true
   },
   "source": [
    "### Fastai v2:  Factory method"
   ]
  },
  {
   "cell_type": "code",
   "execution_count": 18,
   "metadata": {
    "ExecuteTime": {
     "end_time": "2020-04-05T18:55:39.450377Z",
     "start_time": "2020-04-05T18:55:39.089884Z"
    },
    "hidden": true
   },
   "outputs": [],
   "source": [
    "class TSDataLoaders(DataLoaders):\n",
    "    @classmethod\n",
    "    @delegates(DataLoaders.from_dblock)\n",
    "    def from_numpy(cls, X, y=None, splitter=None, valid_pct=0.2, seed=0, item_tfms=None, batch_tfms=None, **kwargs):\n",
    "        \"Create timeseries dataloaders from arrays (X and y, unless unlabeled)\"\n",
    "        if splitter is None: splitter = RandomSplitter(valid_pct=valid_pct, seed=seed)\n",
    "        getters = [ItemGetter(0), ItemGetter(1)] if y is not None else [ItemGetter(0)]\n",
    "        dblock = DataBlock(blocks=(TSTensorBlock, CategoryBlock),\n",
    "                           getters=getters,\n",
    "                           splitter=splitter,\n",
    "                           item_tfms=item_tfms,\n",
    "                           batch_tfms=batch_tfms)\n",
    "\n",
    "        source = itemify(X) if y is None else itemify(X,y)\n",
    "        return cls.from_dblock(dblock, source, **kwargs)"
   ]
  },
  {
   "cell_type": "code",
   "execution_count": 20,
   "metadata": {
    "ExecuteTime": {
     "end_time": "2020-04-05T18:56:09.059551Z",
     "start_time": "2020-04-05T18:56:06.439333Z"
    },
    "hidden": true
   },
   "outputs": [
    {
     "data": {
      "text/plain": [
       "(TSTensor(samples:128, vars:1, len:1024),\n",
       " TensorCategory([1, 2, 2, 0, 1, 2, 2, 2, 1, 2, 2, 2, 2, 2, 2, 0, 2, 2, 2, 0, 0, 2, 2, 2,\n",
       "         1, 0, 2, 0, 2, 1, 2, 2, 1, 2, 1, 1, 1, 1, 1, 2, 2, 0, 2, 2, 1, 0, 0, 2,\n",
       "         2, 2, 2, 1, 0, 0, 2, 2, 2, 2, 2, 2, 0, 0, 1, 2, 2, 1, 2, 2, 2, 0, 0, 2,\n",
       "         1, 1, 1, 2, 2, 1, 1, 1, 1, 2, 2, 2, 2, 2, 1, 1, 2, 1, 2, 2, 0, 2, 0, 2,\n",
       "         2, 2, 2, 2, 2, 2, 1, 1, 1, 2, 2, 2, 1, 0, 2, 2, 0, 2, 2, 1, 2, 1, 2, 2,\n",
       "         2, 2, 2, 2, 1, 2, 2, 0]))"
      ]
     },
     "execution_count": 20,
     "metadata": {},
     "output_type": "execute_result"
    }
   ],
   "source": [
    "dls = TSDataLoaders.from_numpy(X_in_memory, y_in_memory, splitter=IndexSplitter(splits[1]), bs=64, val_bs=128)\n",
    "t = next(iter(dls.valid))\n",
    "t"
   ]
  },
  {
   "cell_type": "code",
   "execution_count": null,
   "metadata": {
    "hidden": true
   },
   "outputs": [],
   "source": [
    "%time cycle_dl(dls.valid)"
   ]
  },
  {
   "cell_type": "code",
   "execution_count": null,
   "metadata": {
    "hidden": true
   },
   "outputs": [],
   "source": [
    "model = InceptionTime(X_in_memory.shape[-2], dls.c)\n",
    "learn = Learner(dls, model, metrics=accuracy)\n",
    "start = time.time()\n",
    "learn.fit_one_cycle(25, lr_max=1e-3)\n",
    "print(time.time() - start)"
   ]
  },
  {
   "cell_type": "markdown",
   "metadata": {
    "hidden": true
   },
   "source": [
    "This method is very easy to use, but it's pretty slow."
   ]
  },
  {
   "cell_type": "markdown",
   "metadata": {
    "heading_collapsed": true,
    "hidden": true
   },
   "source": [
    "### Fastai v2:  Datablock API"
   ]
  },
  {
   "cell_type": "code",
   "execution_count": null,
   "metadata": {
    "hidden": true
   },
   "outputs": [],
   "source": [
    "class TSTensorBlock():\n",
    "    \"A basic wrapper that links defaults transforms for the data block API\"\n",
    "    def __init__(self, type_tfms=None, item_tfms=None, batch_tfms=None, dl_type=None, dls_kwargs=None):\n",
    "        self.type_tfms  =              L(type_tfms)\n",
    "        self.item_tfms  = ToTSTensor + L(item_tfms)\n",
    "        self.batch_tfms =              L(batch_tfms)\n",
    "        self.dl_type,self.dls_kwargs = dl_type,({} if dls_kwargs is None else dls_kwargs)"
   ]
  },
  {
   "cell_type": "code",
   "execution_count": 16,
   "metadata": {
    "colab": {
     "base_uri": "https://localhost:8080/",
     "height": 51
    },
    "colab_type": "code",
    "hidden": true,
    "id": "OP4wpYBcgh-o",
    "outputId": "1a5707cc-cc32-4fa4-f31a-74d6a25b6e6d"
   },
   "outputs": [
    {
     "name": "stdout",
     "output_type": "stream",
     "text": [
      "shape: 8236         bs: torch.Size([128, 1, 1024])\n",
      "1 loop, best of 3: 3.03 s per loop\n"
     ]
    }
   ],
   "source": [
    "getters = [ItemGetter(0), ItemGetter(1)]\n",
    "dblock = DataBlock(blocks=(TSTensorBlock, CategoryBlock()),\n",
    "                   getters=getters,\n",
    "                   splitter=IndexSplitter(splits[1]),\n",
    "                   item_tfms=None,\n",
    "                   batch_tfms=None)\n",
    "source = itemify(X_in_memory, y_in_memory)\n",
    "dls = dblock.dataloaders(source, bs=64, val_bs=128, num_workers=0)\n",
    "xb,yb = next(iter(dls.valid))\n",
    "print(f'shape: {str(len(dls.valid.dataset)):10}   bs: {xb.shape}')\n",
    "%timeit cycle_dl(dls.valid)"
   ]
  },
  {
   "cell_type": "markdown",
   "metadata": {
    "colab_type": "text",
    "hidden": true,
    "id": "CgA-r2UJNih0"
   },
   "source": [
    "So it takes > 3 s to cycle the entire dataloader. This is much slower than Pytorch simple model (although fastai v2 provides a lot more functionality!)."
   ]
  },
  {
   "cell_type": "code",
   "execution_count": 17,
   "metadata": {
    "colab": {
     "base_uri": "https://localhost:8080/",
     "height": 841
    },
    "colab_type": "code",
    "hidden": true,
    "id": "TU4dch2KJ-RI",
    "outputId": "9836493e-487f-4626-bbe7-229de5ba2a77"
   },
   "outputs": [
    {
     "data": {
      "text/html": [
       "<table border=\"1\" class=\"dataframe\">\n",
       "  <thead>\n",
       "    <tr style=\"text-align: left;\">\n",
       "      <th>epoch</th>\n",
       "      <th>train_loss</th>\n",
       "      <th>valid_loss</th>\n",
       "      <th>accuracy</th>\n",
       "      <th>time</th>\n",
       "    </tr>\n",
       "  </thead>\n",
       "  <tbody>\n",
       "    <tr>\n",
       "      <td>0</td>\n",
       "      <td>0.667969</td>\n",
       "      <td>0.938211</td>\n",
       "      <td>0.577222</td>\n",
       "      <td>00:06</td>\n",
       "    </tr>\n",
       "    <tr>\n",
       "      <td>1</td>\n",
       "      <td>0.547302</td>\n",
       "      <td>0.660070</td>\n",
       "      <td>0.782904</td>\n",
       "      <td>00:06</td>\n",
       "    </tr>\n",
       "    <tr>\n",
       "      <td>2</td>\n",
       "      <td>0.468812</td>\n",
       "      <td>0.405052</td>\n",
       "      <td>0.839000</td>\n",
       "      <td>00:06</td>\n",
       "    </tr>\n",
       "    <tr>\n",
       "      <td>3</td>\n",
       "      <td>0.398324</td>\n",
       "      <td>0.374961</td>\n",
       "      <td>0.855148</td>\n",
       "      <td>00:06</td>\n",
       "    </tr>\n",
       "    <tr>\n",
       "      <td>4</td>\n",
       "      <td>0.346426</td>\n",
       "      <td>0.451791</td>\n",
       "      <td>0.856605</td>\n",
       "      <td>00:06</td>\n",
       "    </tr>\n",
       "    <tr>\n",
       "      <td>5</td>\n",
       "      <td>0.290318</td>\n",
       "      <td>0.191121</td>\n",
       "      <td>0.912215</td>\n",
       "      <td>00:06</td>\n",
       "    </tr>\n",
       "    <tr>\n",
       "      <td>6</td>\n",
       "      <td>0.243504</td>\n",
       "      <td>0.280189</td>\n",
       "      <td>0.862555</td>\n",
       "      <td>00:06</td>\n",
       "    </tr>\n",
       "    <tr>\n",
       "      <td>7</td>\n",
       "      <td>0.205608</td>\n",
       "      <td>0.177530</td>\n",
       "      <td>0.946576</td>\n",
       "      <td>00:06</td>\n",
       "    </tr>\n",
       "    <tr>\n",
       "      <td>8</td>\n",
       "      <td>0.176870</td>\n",
       "      <td>0.370253</td>\n",
       "      <td>0.861098</td>\n",
       "      <td>00:06</td>\n",
       "    </tr>\n",
       "    <tr>\n",
       "      <td>9</td>\n",
       "      <td>0.151356</td>\n",
       "      <td>0.106336</td>\n",
       "      <td>0.975838</td>\n",
       "      <td>00:06</td>\n",
       "    </tr>\n",
       "    <tr>\n",
       "      <td>10</td>\n",
       "      <td>0.135342</td>\n",
       "      <td>0.277712</td>\n",
       "      <td>0.881374</td>\n",
       "      <td>00:06</td>\n",
       "    </tr>\n",
       "    <tr>\n",
       "      <td>11</td>\n",
       "      <td>0.122346</td>\n",
       "      <td>0.172046</td>\n",
       "      <td>0.927513</td>\n",
       "      <td>00:06</td>\n",
       "    </tr>\n",
       "    <tr>\n",
       "      <td>12</td>\n",
       "      <td>0.114722</td>\n",
       "      <td>0.093336</td>\n",
       "      <td>0.977295</td>\n",
       "      <td>00:06</td>\n",
       "    </tr>\n",
       "    <tr>\n",
       "      <td>13</td>\n",
       "      <td>0.107705</td>\n",
       "      <td>0.105561</td>\n",
       "      <td>0.977052</td>\n",
       "      <td>00:06</td>\n",
       "    </tr>\n",
       "    <tr>\n",
       "      <td>14</td>\n",
       "      <td>0.098205</td>\n",
       "      <td>0.092506</td>\n",
       "      <td>0.978145</td>\n",
       "      <td>00:06</td>\n",
       "    </tr>\n",
       "    <tr>\n",
       "      <td>15</td>\n",
       "      <td>0.090343</td>\n",
       "      <td>0.084220</td>\n",
       "      <td>0.974502</td>\n",
       "      <td>00:06</td>\n",
       "    </tr>\n",
       "    <tr>\n",
       "      <td>16</td>\n",
       "      <td>0.081500</td>\n",
       "      <td>0.098026</td>\n",
       "      <td>0.969160</td>\n",
       "      <td>00:06</td>\n",
       "    </tr>\n",
       "    <tr>\n",
       "      <td>17</td>\n",
       "      <td>0.073065</td>\n",
       "      <td>0.077431</td>\n",
       "      <td>0.977780</td>\n",
       "      <td>00:06</td>\n",
       "    </tr>\n",
       "    <tr>\n",
       "      <td>18</td>\n",
       "      <td>0.067376</td>\n",
       "      <td>0.074994</td>\n",
       "      <td>0.977780</td>\n",
       "      <td>00:06</td>\n",
       "    </tr>\n",
       "    <tr>\n",
       "      <td>19</td>\n",
       "      <td>0.060252</td>\n",
       "      <td>0.080766</td>\n",
       "      <td>0.975959</td>\n",
       "      <td>00:06</td>\n",
       "    </tr>\n",
       "    <tr>\n",
       "      <td>20</td>\n",
       "      <td>0.057483</td>\n",
       "      <td>0.074771</td>\n",
       "      <td>0.977416</td>\n",
       "      <td>00:06</td>\n",
       "    </tr>\n",
       "    <tr>\n",
       "      <td>21</td>\n",
       "      <td>0.053818</td>\n",
       "      <td>0.074190</td>\n",
       "      <td>0.979237</td>\n",
       "      <td>00:06</td>\n",
       "    </tr>\n",
       "    <tr>\n",
       "      <td>22</td>\n",
       "      <td>0.049442</td>\n",
       "      <td>0.074104</td>\n",
       "      <td>0.978266</td>\n",
       "      <td>00:06</td>\n",
       "    </tr>\n",
       "    <tr>\n",
       "      <td>23</td>\n",
       "      <td>0.046356</td>\n",
       "      <td>0.073510</td>\n",
       "      <td>0.977902</td>\n",
       "      <td>00:06</td>\n",
       "    </tr>\n",
       "    <tr>\n",
       "      <td>24</td>\n",
       "      <td>0.042160</td>\n",
       "      <td>0.073432</td>\n",
       "      <td>0.978023</td>\n",
       "      <td>00:06</td>\n",
       "    </tr>\n",
       "  </tbody>\n",
       "</table>"
      ],
      "text/plain": [
       "<IPython.core.display.HTML object>"
      ]
     },
     "metadata": {
      "tags": []
     },
     "output_type": "display_data"
    },
    {
     "name": "stdout",
     "output_type": "stream",
     "text": [
      "161.63079595565796\n"
     ]
    }
   ],
   "source": [
    "model = InceptionTime(X_in_memory.shape[-2], dls.c)\n",
    "learn = Learner(dls, model, metrics=accuracy)\n",
    "start = time.time()\n",
    "learn.fit_one_cycle(25, lr_max=1e-3)\n",
    "print(time.time() - start)"
   ]
  },
  {
   "cell_type": "markdown",
   "metadata": {
    "colab_type": "text",
    "hidden": true,
    "id": "4rUFR5DFKW8f"
   },
   "source": [
    "This is very slow compared to the native Pytorch, and even to fastai v1.\n",
    "\n",
    "Sylvain Gugger provided an alternative recommendation to use numpy arrays in this [post](https://forums.fast.ai/t/datablock-with-numpy-input/64848/2):\n",
    "\n",
    "\"You can create a DataLoaders object from regular PyTorch datasets (though all the visualization methods like show_batch and show_results will fail).\""
   ]
  },
  {
   "cell_type": "code",
   "execution_count": 18,
   "metadata": {
    "colab": {
     "base_uri": "https://localhost:8080/",
     "height": 51
    },
    "colab_type": "code",
    "hidden": true,
    "id": "lgCgZX6lIvl5",
    "outputId": "559e555c-d5dd-4a64-e03e-35a161e503eb"
   },
   "outputs": [
    {
     "name": "stdout",
     "output_type": "stream",
     "text": [
      "shape: 8236         bs: torch.Size([128, 1, 1024])\n",
      "1 loop, best of 3: 751 ms per loop\n"
     ]
    }
   ],
   "source": [
    "train_ds = PytorchDataset(np.array(X_train), np.array(y_train).astype(int) - 1)\n",
    "valid_ds = PytorchDataset(np.array(X_valid), np.array(y_valid).astype(int) - 1)\n",
    "dls = DataLoaders.from_dsets(train_ds, valid_ds, batch_size=128, num_workers=0, device=default_device())\n",
    "xb,yb = next(iter(dls.valid))\n",
    "print(f'shape: {str(len(dls.valid.dataset)):10}   bs: {xb.shape}')\n",
    "%timeit cycle_dl(dls.valid)"
   ]
  },
  {
   "cell_type": "code",
   "execution_count": 11,
   "metadata": {
    "colab": {
     "base_uri": "https://localhost:8080/",
     "height": 841
    },
    "colab_type": "code",
    "hidden": true,
    "id": "Vj5xki5cz74C",
    "outputId": "7d252f4c-6ece-49ad-fab6-437074ae0537"
   },
   "outputs": [
    {
     "data": {
      "text/html": [
       "<table border=\"1\" class=\"dataframe\">\n",
       "  <thead>\n",
       "    <tr style=\"text-align: left;\">\n",
       "      <th>epoch</th>\n",
       "      <th>train_loss</th>\n",
       "      <th>valid_loss</th>\n",
       "      <th>accuracy</th>\n",
       "      <th>time</th>\n",
       "    </tr>\n",
       "  </thead>\n",
       "  <tbody>\n",
       "    <tr>\n",
       "      <td>0</td>\n",
       "      <td>0.915071</td>\n",
       "      <td>1.125882</td>\n",
       "      <td>0.142909</td>\n",
       "      <td>00:03</td>\n",
       "    </tr>\n",
       "    <tr>\n",
       "      <td>1</td>\n",
       "      <td>0.752208</td>\n",
       "      <td>1.067526</td>\n",
       "      <td>0.152380</td>\n",
       "      <td>00:03</td>\n",
       "    </tr>\n",
       "    <tr>\n",
       "      <td>2</td>\n",
       "      <td>0.641190</td>\n",
       "      <td>0.872242</td>\n",
       "      <td>0.787640</td>\n",
       "      <td>00:03</td>\n",
       "    </tr>\n",
       "    <tr>\n",
       "      <td>3</td>\n",
       "      <td>0.562946</td>\n",
       "      <td>0.650465</td>\n",
       "      <td>0.840214</td>\n",
       "      <td>00:03</td>\n",
       "    </tr>\n",
       "    <tr>\n",
       "      <td>4</td>\n",
       "      <td>0.497515</td>\n",
       "      <td>0.469241</td>\n",
       "      <td>0.848349</td>\n",
       "      <td>00:03</td>\n",
       "    </tr>\n",
       "    <tr>\n",
       "      <td>5</td>\n",
       "      <td>0.440871</td>\n",
       "      <td>0.658852</td>\n",
       "      <td>0.847135</td>\n",
       "      <td>00:03</td>\n",
       "    </tr>\n",
       "    <tr>\n",
       "      <td>6</td>\n",
       "      <td>0.395578</td>\n",
       "      <td>0.466469</td>\n",
       "      <td>0.856119</td>\n",
       "      <td>00:03</td>\n",
       "    </tr>\n",
       "    <tr>\n",
       "      <td>7</td>\n",
       "      <td>0.349685</td>\n",
       "      <td>0.240354</td>\n",
       "      <td>0.864133</td>\n",
       "      <td>00:03</td>\n",
       "    </tr>\n",
       "    <tr>\n",
       "      <td>8</td>\n",
       "      <td>0.314984</td>\n",
       "      <td>0.181429</td>\n",
       "      <td>0.950340</td>\n",
       "      <td>00:03</td>\n",
       "    </tr>\n",
       "    <tr>\n",
       "      <td>9</td>\n",
       "      <td>0.284552</td>\n",
       "      <td>0.762271</td>\n",
       "      <td>0.855877</td>\n",
       "      <td>00:03</td>\n",
       "    </tr>\n",
       "    <tr>\n",
       "      <td>10</td>\n",
       "      <td>0.258563</td>\n",
       "      <td>0.163779</td>\n",
       "      <td>0.945726</td>\n",
       "      <td>00:03</td>\n",
       "    </tr>\n",
       "    <tr>\n",
       "      <td>11</td>\n",
       "      <td>0.234426</td>\n",
       "      <td>0.359244</td>\n",
       "      <td>0.843492</td>\n",
       "      <td>00:03</td>\n",
       "    </tr>\n",
       "    <tr>\n",
       "      <td>12</td>\n",
       "      <td>0.214359</td>\n",
       "      <td>0.188050</td>\n",
       "      <td>0.911486</td>\n",
       "      <td>00:03</td>\n",
       "    </tr>\n",
       "    <tr>\n",
       "      <td>13</td>\n",
       "      <td>0.195160</td>\n",
       "      <td>0.122718</td>\n",
       "      <td>0.959932</td>\n",
       "      <td>00:03</td>\n",
       "    </tr>\n",
       "    <tr>\n",
       "      <td>14</td>\n",
       "      <td>0.179564</td>\n",
       "      <td>0.095697</td>\n",
       "      <td>0.978266</td>\n",
       "      <td>00:03</td>\n",
       "    </tr>\n",
       "    <tr>\n",
       "      <td>15</td>\n",
       "      <td>0.164684</td>\n",
       "      <td>0.102839</td>\n",
       "      <td>0.970617</td>\n",
       "      <td>00:03</td>\n",
       "    </tr>\n",
       "    <tr>\n",
       "      <td>16</td>\n",
       "      <td>0.151286</td>\n",
       "      <td>0.109201</td>\n",
       "      <td>0.969524</td>\n",
       "      <td>00:03</td>\n",
       "    </tr>\n",
       "    <tr>\n",
       "      <td>17</td>\n",
       "      <td>0.139821</td>\n",
       "      <td>0.124988</td>\n",
       "      <td>0.959811</td>\n",
       "      <td>00:03</td>\n",
       "    </tr>\n",
       "    <tr>\n",
       "      <td>18</td>\n",
       "      <td>0.130390</td>\n",
       "      <td>0.116384</td>\n",
       "      <td>0.967339</td>\n",
       "      <td>00:03</td>\n",
       "    </tr>\n",
       "    <tr>\n",
       "      <td>19</td>\n",
       "      <td>0.121863</td>\n",
       "      <td>0.117011</td>\n",
       "      <td>0.959568</td>\n",
       "      <td>00:03</td>\n",
       "    </tr>\n",
       "    <tr>\n",
       "      <td>20</td>\n",
       "      <td>0.113522</td>\n",
       "      <td>0.081849</td>\n",
       "      <td>0.978266</td>\n",
       "      <td>00:03</td>\n",
       "    </tr>\n",
       "    <tr>\n",
       "      <td>21</td>\n",
       "      <td>0.106154</td>\n",
       "      <td>0.081618</td>\n",
       "      <td>0.978509</td>\n",
       "      <td>00:03</td>\n",
       "    </tr>\n",
       "    <tr>\n",
       "      <td>22</td>\n",
       "      <td>0.099329</td>\n",
       "      <td>0.083097</td>\n",
       "      <td>0.976931</td>\n",
       "      <td>00:03</td>\n",
       "    </tr>\n",
       "    <tr>\n",
       "      <td>23</td>\n",
       "      <td>0.093371</td>\n",
       "      <td>0.081159</td>\n",
       "      <td>0.978388</td>\n",
       "      <td>00:03</td>\n",
       "    </tr>\n",
       "    <tr>\n",
       "      <td>24</td>\n",
       "      <td>0.087892</td>\n",
       "      <td>0.080224</td>\n",
       "      <td>0.978630</td>\n",
       "      <td>00:03</td>\n",
       "    </tr>\n",
       "  </tbody>\n",
       "</table>"
      ],
      "text/plain": [
       "<IPython.core.display.HTML object>"
      ]
     },
     "metadata": {
      "tags": []
     },
     "output_type": "display_data"
    },
    {
     "name": "stdout",
     "output_type": "stream",
     "text": [
      "92.82549476623535\n"
     ]
    }
   ],
   "source": [
    "model = InceptionTime(X_in_memory.shape[-2], len(np.unique(y_in_memory)))\n",
    "learn = Learner(dls, model, loss_func=nn.CrossEntropyLoss(), metrics=accuracy)\n",
    "start = time.time()\n",
    "learn.fit_one_cycle(25, lr_max=1e-3)\n",
    "print(time.time() - start)"
   ]
  },
  {
   "cell_type": "markdown",
   "metadata": {
    "colab_type": "text",
    "hidden": true,
    "id": "SBwRBHhzA_X2"
   },
   "source": [
    "This is definitely an improvement in terms of speed.\n",
    "\n",
    "It is now better than fastai v1, but still worse than Pytorch. "
   ]
  },
  {
   "cell_type": "markdown",
   "metadata": {
    "colab_type": "text",
    "heading_collapsed": true,
    "id": "p45nu7qPIvmD"
   },
   "source": [
    "## NumpyDatasets & NumpyDataLoader 🤩"
   ]
  },
  {
   "cell_type": "markdown",
   "metadata": {
    "colab_type": "text",
    "hidden": true,
    "id": "8dxF-Q1zBb9f"
   },
   "source": [
    "So far we we've seen fastai v2 is easy to use, but it's slow compared to v1 (in this example the Datablock API was 60% slower). \n",
    "\n",
    "There are at least 3 major differences between vision and time series - TS- (and numpy based data in general) that we can leverage to improve performance: \n",
    "\n",
    "1. Vision tipically requires some item preprocessing that is sometimes random. For example, when you randomly crop an image. Each time it'll return a different value. In my experience, most item transforms are **deterministic** (actually most impact the label only).\n",
    "\n",
    "2. In vision problems, you usually derive the image and label from a single item (path). In TS problems, it's common to have data already **split between X and y**.\n",
    "\n",
    "3. You can only create an image loading and processing them 1 at a time. However with numpy datasets, you can create a batch **processing all batch items** at the same time, just by slicing an array/ tensor. This is much faster.\n",
    "\n",
    "The first difference allows us to approach the datasets creation is a different way. Since the tfms will almost always deliver the same output, we can **preprocess** the item tfms at datasets initialization, and thus save this time in every epoch. As you'll see, this results in a much faster dataloder.\n",
    "\n",
    "It doesn't make much sense to have data already split (into X and y) to merge them in a single item, process them together, and separate again. It'd be easier to just apply the tfms independently to the inputs (X) and labels (y), and then simply slice them. Slicing is a much faster operation than applying a transform, and also allows a significant improvement in terms of speed.\n",
    "\n",
    "There's **no need to have a collate_fn to create a batch**. The fastest way to do it would be to simply use the batch indices to slice the preprocessed arrays/ tensors all at the same time. \n",
    "\n",
    "Based on this, I've created a NumpyDatasets and NumpyDataLoader that leverage the characteristics of numpy-based datasets.\n",
    "\n",
    "BTW, something important as well, is that NumpyDatasets allows the use of larger than RAM datasets, as data can be sliced directly from disk before loading in memory. "
   ]
  },
  {
   "cell_type": "code",
   "execution_count": 21,
   "metadata": {
    "ExecuteTime": {
     "end_time": "2020-04-05T19:06:22.526800Z",
     "start_time": "2020-04-05T19:06:21.466217Z"
    },
    "colab": {},
    "colab_type": "code",
    "hidden": true,
    "id": "6SHtLjZbIvmV"
   },
   "outputs": [],
   "source": [
    "class NumpyDatasets(Datasets):\n",
    "    \"A dataset that creates tuples from X (and y) and applies `item_tfms`\"\n",
    "    _xtype, _ytype = None, None # Expected X and y output types (torch.Tensor - default - or subclass)\n",
    "    def __init__(self, X=None, y=None, items=None, sel_vars=None, sel_steps=None, tfms=None, tls=None, n_inp=None, dl_type=None, \n",
    "                 preprocess=False, **kwargs):\n",
    "\n",
    "        if tls is None: items = ifnoneelse(y,tuple((X,)),tuple((X, y)))\n",
    "        self.tfms = L(ifnone(tfms,[None]*len(ifnone(tls,items))))\n",
    "        self.sel_vars = slice(None) if sel_vars is None else sel_vars\n",
    "        self.sel_steps = slice(None) if sel_steps is None else sel_steps\n",
    "        self.tls = L(tls if tls else [TfmdLists(item, t, **kwargs) for item,t in zip(items,self.tfms)])\n",
    "        self.n_inp = (1 if len(self.tls)==1 else len(self.tls)-1) if n_inp is None else n_inp\n",
    "        self.ptls = L([tl.items if is_none(tfm) else np.stack(tl[:]) if preprocess else tl for tl,tfm in zip(self.tls, self.tfms)])\n",
    "        self.preprocess = preprocess\n",
    "    \n",
    "    def __getitem__(self, it):\n",
    "        return tuple([typ(ptl[it][...,self.sel_vars, self.sel_steps] if i==0 else ptl[it]) for i,(ptl,typ) in enumerate(zip(self.ptls,self.types))])\n",
    "    \n",
    "    def subset(self, i): return type(self)(tls=L(tl.subset(i) for tl in self.tls), n_inp=self.n_inp, \n",
    "                                           preprocess=self.preprocess, tfms=self.tfms, sel_vars=self.sel_vars, sel_steps=self.sel_steps)\n",
    "    \n",
    "    def _new(self, X, *args, y=None, **kwargs): \n",
    "        items = ifnone(items,ifnoneelse(y,tuple((X,)),tuple((X, y))))\n",
    "        return super()._new(items, tfms=self.tfms, do_setup=False, **kwargs)\n",
    "    \n",
    "    @property\n",
    "    def vars(self): return self[0][0].shape[-2]\n",
    "\n",
    "    @property\n",
    "    def length(self): return self[0][0].shape[-1]\n",
    "\n",
    "    @property\n",
    "    def types(self):\n",
    "        if self.tls: \n",
    "            types = [type(tl[0]) if isinstance(tl[0], torch.Tensor) else torch.as_tensor for tl in self.tls]\n",
    "            if self._xtype is not None: types[0] = self._xtype\n",
    "            if len(types) == 2 and self._ytype is not None: types[1] = self._ytype\n",
    "            return types \n",
    "\n",
    "\n",
    "class TSDatasets(NumpyDatasets):\n",
    "    \"A dataset that creates tuples from X (and y) and applies `item_tfms`\"\n",
    "    _xtype, _ytype = TSTensor, None # Expected X and y output types (torch.Tensor - default - or subclass)\n",
    "\n",
    "def add_ds(dsets, X, y=None, test_items=None, rm_tfms=None, with_labels=False):\n",
    "    \"Create test datasets from X (and y) using validation transforms of `dsets`\"\n",
    "    items = tuple((X,)) if y is None else tuple((X, y))\n",
    "    with_labels = False if y is None else True\n",
    "    if isinstance(dsets, (Datasets, NumpyDatasets, TSDatasets)):\n",
    "        tls = dsets.tls if with_labels else dsets.tls[:dsets.n_inp]\n",
    "        new_tls = L([tl._new(item, split_idx=1) for tl,item in zip(tls, items)])\n",
    "        if rm_tfms is None: rm_tfms = [tl.infer_idx(get_first(item)) for tl,item in zip(new_tls, items)]\n",
    "        else:               rm_tfms = tuplify(rm_tfms, match=new_tls)\n",
    "        for i,j in enumerate(rm_tfms): new_tls[i].tfms.fs = new_tls[i].tfms.fs[j:]\n",
    "        if isinstance(dsets, (NumpyDatasets, TSDatasets)):\n",
    "            cls = dsets.__class__\n",
    "            return cls(tls=new_tls, n_inp=dsets.n_inp, preprocess=dsets.preprocess, tfms=dsets.tfms, sel_vars=dsets.sel_vars, sel_steps=dsets.sel_steps)\n",
    "        elif isinstance(dsets, Datasets): return Datasets(tls=new_tls)\n",
    "    elif isinstance(dsets, TfmdLists):\n",
    "        new_tl = dsets._new(items, split_idx=1)\n",
    "        if rm_tfms is None: rm_tfms = dsets.infer_idx(get_first(items))\n",
    "        new_tl.tfms.fs = new_tl.tfms.fs[rm_tfms:]\n",
    "        return new_tl\n",
    "    else: raise Exception(f\"This method requires using the fastai library to assemble your data.Expected a `Datasets` or a `TfmdLists` but got {dsets.__class__.__name__}\")\n",
    "\n",
    "def add_test(dsets, X, y=None, test_items=None, rm_tfms=None, with_labels=False):\n",
    "    return add_ds(dsets, X, y=y, test_items=test_items, rm_tfms=rm_tfms, with_labels=with_labels)\n",
    "\n",
    "NumpyDatasets.add_test = add_test\n",
    "\n",
    "def add_unlabeled(dsets, X, test_items=None, rm_tfms=None, with_labels=False):\n",
    "    return add_ds(dsets, X, y=None, test_items=test_items, rm_tfms=rm_tfms, with_labels=with_labels)\n",
    "\n",
    "NumpyDatasets.add_unlabeled = add_unlabeled"
   ]
  },
  {
   "cell_type": "code",
   "execution_count": 22,
   "metadata": {
    "ExecuteTime": {
     "end_time": "2020-04-05T19:06:23.245724Z",
     "start_time": "2020-04-05T19:06:22.927475Z"
    },
    "colab": {},
    "colab_type": "code",
    "hidden": true,
    "id": "KIt99RNME1yQ"
   },
   "outputs": [],
   "source": [
    "class NumpyDataLoader(TfmdDL):\n",
    "    do_item = noops\n",
    "    \n",
    "    def create_batch(self, b): return self.dataset[b]\n",
    "    \n",
    "    @property\n",
    "    def vars(self): return self.dataset[0][0].shape[-2]\n",
    "    \n",
    "    @property\n",
    "    def length(self): return self.dataset[0][0].shape[-1]\n",
    "\n",
    "    @delegates(plt.subplots)\n",
    "    def show_batch(self, b=None, ctxs=None, max_n=9, nrows=3, ncols=3, figsize=(16, 10), **kwargs):\n",
    "        b = self.one_batch()\n",
    "        db = self.decode_batch(b, max_n=max_n)\n",
    "        if figsize is None: figsize = (ncols*6, max_n//ncols*4)\n",
    "        if ctxs is None: ctxs = get_grid(min(len(db), nrows*ncols), nrows=None, ncols=ncols, figsize=figsize, **kwargs)\n",
    "        for i,ctx in enumerate(ctxs):\n",
    "            show_tuple(db[i], ctx=ctx)\n",
    "\n",
    "    @delegates(plt.subplots)\n",
    "    def show_results(self, b, preds, ctxs=None, max_n=9, nrows=3, ncols=3, figsize=(16, 10), **kwargs):\n",
    "        t = self.decode_batch(b, max_n=max_n)\n",
    "        p = self.decode_batch((b[0],preds), max_n=max_n)\n",
    "        if figsize is None: figsize = (ncols*6, max_n//ncols*4)\n",
    "        if ctxs is None: ctxs = get_grid(min(len(t), nrows*ncols), nrows=None, ncols=ncols, figsize=figsize, **kwargs)\n",
    "        for i,ctx in enumerate(ctxs): \n",
    "            title = f'True: {t[i][1]}\\nPred: {p[i][1]}'\n",
    "            color = 'green' if t[i][1] == p[i][1] else 'red'\n",
    "            t[i][0].show(ctx=ctx, title=title, title_color=color)\n",
    "\n",
    "\n",
    "@delegates(plt.subplots)\n",
    "def show_tuple(tup, **kwargs):\n",
    "    \"Display a timeseries plot from a decoded tuple\"\n",
    "    tup[0].show(title='unlabeled' if len(tup) == 1 else tup[1], **kwargs)\n",
    "    \n",
    "class TSDataLoader(NumpyDataLoader): pass"
   ]
  },
  {
   "cell_type": "code",
   "execution_count": 23,
   "metadata": {
    "ExecuteTime": {
     "end_time": "2020-04-05T19:06:24.100202Z",
     "start_time": "2020-04-05T19:06:23.812982Z"
    },
    "colab": {},
    "colab_type": "code",
    "hidden": true,
    "id": "qa4I5cEGuYmz"
   },
   "outputs": [],
   "source": [
    "bs = 128\n",
    "idx = np.random.randint(len(X_in_memory), size=bs)\n",
    "train_idx = np.random.randint(len(splits[0]), size=bs)\n",
    "valid_idx = np.random.randint(len(splits[1]), size=bs)"
   ]
  },
  {
   "cell_type": "code",
   "execution_count": 24,
   "metadata": {
    "ExecuteTime": {
     "end_time": "2020-04-05T19:06:37.673995Z",
     "start_time": "2020-04-05T19:06:25.527110Z"
    },
    "colab": {
     "base_uri": "https://localhost:8080/",
     "height": 330
    },
    "colab_type": "code",
    "hidden": true,
    "id": "lWrK75gKIvmk",
    "outputId": "dae7e15a-5683-4735-8cb3-21d7b3c2a220"
   },
   "outputs": [
    {
     "name": "stdout",
     "output_type": "stream",
     "text": [
      "(TSTensor(vars:1, len:1024), TensorCategory(1))\n"
     ]
    },
    {
     "data": {
      "image/png": "[encoded data removed]",
      "text/plain": [
       "<Figure size 432x288 with 1 Axes>"
      ]
     },
     "metadata": {
      "needs_background": "light"
     },
     "output_type": "display_data"
    }
   ],
   "source": [
    "tfms = [None, [Categorize()]]\n",
    "# tfms = None\n",
    "# dsets = NumpyDatasets(X_on_disk, y_on_disk, tfms=tfms, sel_vars=None, sel_steps=None, splits=splits, preprocess=True)\n",
    "dsets = TSDatasets(X_in_memory, y_in_memory, sel_vars=None, sel_steps=None, tfms=tfms, splits=splits, preprocess=True)\n",
    "train_ds = dsets.train\n",
    "valid_ds = dsets.valid\n",
    "test_ds  = dsets.add_test(X_in_memory, y_in_memory)\n",
    "print(valid_ds[0])\n",
    "show_at(valid_ds, 0);"
   ]
  },
  {
   "cell_type": "code",
   "execution_count": 25,
   "metadata": {
    "ExecuteTime": {
     "end_time": "2020-04-05T19:06:37.970715Z",
     "start_time": "2020-04-05T19:06:37.679273Z"
    },
    "colab": {
     "base_uri": "https://localhost:8080/",
     "height": 85
    },
    "colab_type": "code",
    "hidden": true,
    "id": "nqL2GxGyIvmt",
    "outputId": "c654ff66-afa5-463b-9590-a9960ba1c89a",
    "scrolled": false
   },
   "outputs": [
    {
     "data": {
      "text/plain": [
       "(TSTensor(samples:64, vars:1, len:1024),\n",
       " TensorCategory([1, 0, 2, 2, 2, 0, 2, 2, 2, 2, 2, 0, 1, 2, 2, 1, 2, 1, 2, 0, 1, 2, 2, 2,\n",
       "         0, 2, 2, 1, 2, 1, 2, 1, 1, 2, 2, 2, 2, 0, 2, 2, 2, 0, 2, 2, 1, 2, 1, 2,\n",
       "         1, 1, 2, 2, 2, 2, 0, 2, 2, 1, 2, 0, 2, 2, 2, 1]))"
      ]
     },
     "execution_count": 25,
     "metadata": {},
     "output_type": "execute_result"
    }
   ],
   "source": [
    "train_dl = TSDataLoader(train_ds, bs=64, shuffle=True, drop_last=True, num_workers=0)\n",
    "valid_dl = TSDataLoader(valid_ds, bs=128, num_workers=0)\n",
    "dls = TSDataLoaders(train_dl, valid_dl)\n",
    "b = next(iter(dls.train))\n",
    "b"
   ]
  },
  {
   "cell_type": "code",
   "execution_count": 27,
   "metadata": {
    "ExecuteTime": {
     "end_time": "2020-04-05T19:08:17.060230Z",
     "start_time": "2020-04-05T19:08:08.330009Z"
    },
    "colab": {
     "base_uri": "https://localhost:8080/",
     "height": 729
    },
    "colab_type": "code",
    "hidden": true,
    "id": "hXQcDANmIvm4",
    "outputId": "dbe4e2ab-f4d3-46f8-c4e4-f2ae795bc42f",
    "scrolled": false
   },
   "outputs": [
    {
     "data": {
      "image/png": "[encoded data removed]",
      "text/plain": [
       "<Figure size 1152x720 with 9 Axes>"
      ]
     },
     "metadata": {
      "needs_background": "light"
     },
     "output_type": "display_data"
    }
   ],
   "source": [
    "dls.train.show_batch(sharey=True)"
   ]
  },
  {
   "cell_type": "markdown",
   "metadata": {
    "colab_type": "text",
    "hidden": true,
    "id": "fD6M5pwnFAn_"
   },
   "source": [
    "Let's first establish another benchmark. \n",
    "\n",
    "If we think of it, the fastest and simplest way to create a batch to be used in fastai v2 would be to:\n",
    "\n",
    "1. split the X and y between train and valid. This can be done at initialization. \n",
    "\n",
    "2. Slice the data based on random idx, cast the outputs to the expected classes, and create a tuple. \n",
    "\n",
    "This process takes about 150 µs. So it's very fast."
   ]
  },
  {
   "cell_type": "code",
   "execution_count": 41,
   "metadata": {
    "colab": {
     "base_uri": "https://localhost:8080/",
     "height": 136
    },
    "colab_type": "code",
    "hidden": true,
    "id": "FY4UjKKfXJEB",
    "outputId": "15c8ffec-e600-4bc9-9b13-38bb2c7979a1"
   },
   "outputs": [
    {
     "data": {
      "text/plain": [
       "(TSTensor(samples:128, vars:1, len:1024),\n",
       " TensorCategory([3, 3, 2, 3, 3, 1, 2, 2, 3, 3, 1, 2, 3, 2, 3, 2, 3, 3, 3, 2, 3, 3, 3, 3,\n",
       "         3, 3, 3, 2, 2, 3, 3, 3, 1, 2, 3, 2, 2, 3, 3, 3, 3, 3, 3, 2, 1, 3, 3, 3,\n",
       "         2, 3, 1, 3, 1, 3, 3, 3, 3, 2, 1, 3, 3, 3, 2, 3, 3, 2, 3, 3, 2, 3, 3, 3,\n",
       "         2, 2, 2, 3, 3, 3, 3, 3, 3, 2, 3, 3, 3, 3, 3, 1, 3, 1, 3, 3, 3, 3, 3, 3,\n",
       "         3, 1, 1, 3, 2, 3, 2, 2, 2, 3, 3, 2, 3, 1, 2, 1, 2, 1, 3, 3, 3, 1, 3, 2,\n",
       "         3, 3, 3, 3, 2, 3, 3, 3]))"
      ]
     },
     "execution_count": 41,
     "metadata": {
      "tags": []
     },
     "output_type": "execute_result"
    }
   ],
   "source": [
    "X_val = X_in_memory[splits[1]]\n",
    "y_val = y_in_memory[splits[1]]\n",
    "tuple((TSTensor(X_val[valid_idx]), TensorCategory(y_val[valid_idx])))"
   ]
  },
  {
   "cell_type": "code",
   "execution_count": 42,
   "metadata": {
    "colab": {
     "base_uri": "https://localhost:8080/",
     "height": 34
    },
    "colab_type": "code",
    "hidden": true,
    "id": "JUYPbFa5XlTu",
    "outputId": "3f71b4bd-ce7c-4454-f5be-1d41f49098a5"
   },
   "outputs": [
    {
     "name": "stdout",
     "output_type": "stream",
     "text": [
      "10000 loops, best of 3: 165 µs per loop\n"
     ]
    }
   ],
   "source": [
    "%timeit tuple((TSTensor(X_val[valid_idx]), TensorCategory(y_val[valid_idx])))"
   ]
  },
  {
   "cell_type": "markdown",
   "metadata": {
    "colab_type": "text",
    "hidden": true,
    "id": "Wg25a-wGF_Zj"
   },
   "source": [
    "Let's see how does this compare to NumpyDatasets when tfms are not preprocessed:"
   ]
  },
  {
   "cell_type": "code",
   "execution_count": 43,
   "metadata": {
    "colab": {
     "base_uri": "https://localhost:8080/",
     "height": 136
    },
    "colab_type": "code",
    "hidden": true,
    "id": "gC2thB8AXFUz",
    "outputId": "fd7d4bc8-9da2-4b13-ade6-89a3aaa184c6"
   },
   "outputs": [
    {
     "data": {
      "text/plain": [
       "(TSTensor(samples:128, vars:1, len:1024),\n",
       " TensorCategory([2, 2, 1, 2, 2, 0, 1, 1, 2, 2, 0, 1, 2, 1, 2, 1, 2, 2, 2, 1, 2, 2, 2, 2,\n",
       "         2, 2, 2, 1, 1, 2, 2, 2, 0, 1, 2, 1, 1, 2, 2, 2, 2, 2, 2, 1, 0, 2, 2, 2,\n",
       "         1, 2, 0, 2, 0, 2, 2, 2, 2, 1, 0, 2, 2, 2, 1, 2, 2, 1, 2, 2, 1, 2, 2, 2,\n",
       "         1, 1, 1, 2, 2, 2, 2, 2, 2, 1, 2, 2, 2, 2, 2, 0, 2, 0, 2, 2, 2, 2, 2, 2,\n",
       "         2, 0, 0, 2, 1, 2, 1, 1, 1, 2, 2, 1, 2, 0, 1, 0, 1, 0, 2, 2, 2, 0, 2, 1,\n",
       "         2, 2, 2, 2, 1, 2, 2, 2]))"
      ]
     },
     "execution_count": 43,
     "metadata": {
      "tags": []
     },
     "output_type": "execute_result"
    }
   ],
   "source": [
    "valid_ds[valid_idx]"
   ]
  },
  {
   "cell_type": "code",
   "execution_count": 46,
   "metadata": {
    "colab": {
     "base_uri": "https://localhost:8080/",
     "height": 34
    },
    "colab_type": "code",
    "hidden": true,
    "id": "gkWhVnL_BPfs",
    "outputId": "5f2fef2e-d048-4fee-d4ac-71b37cfa5429"
   },
   "outputs": [
    {
     "name": "stdout",
     "output_type": "stream",
     "text": [
      "100 loops, best of 3: 12.8 ms per loop\n"
     ]
    }
   ],
   "source": [
    "# Preprocess = False\n",
    "dsets = TSDatasets(X_in_memory, y_in_memory, sel_vars=None, sel_steps=None, tfms=tfms, splits=splits, preprocess=False)\n",
    "valid_ds = dsets.valid\n",
    "valid_dl = TSDataLoader(valid_ds, bs=128, num_workers=0)\n",
    "%timeit valid_ds[valid_idx]"
   ]
  },
  {
   "cell_type": "markdown",
   "metadata": {
    "colab_type": "text",
    "hidden": true,
    "id": "8Kxh1iIFGS4u"
   },
   "source": [
    "This is about 100 times slower. This makes the dataloader almost 20 times slower than the simple Pytorch dataloder whe showed before."
   ]
  },
  {
   "cell_type": "code",
   "execution_count": 0,
   "metadata": {
    "colab": {
     "base_uri": "https://localhost:8080/",
     "height": 34
    },
    "colab_type": "code",
    "hidden": true,
    "id": "XfyNCitYIvnU",
    "outputId": "767ae2d5-2a11-498a-9d48-107f87646dad"
   },
   "outputs": [
    {
     "name": "stdout",
     "output_type": "stream",
     "text": [
      "1 loop, best of 3: 929 ms per loop\n"
     ]
    }
   ],
   "source": [
    "%timeit cycle_dl(valid_dl)"
   ]
  },
  {
   "cell_type": "markdown",
   "metadata": {
    "colab_type": "text",
    "hidden": true,
    "id": "wcVGpzHQG3B4"
   },
   "source": [
    "Let's see how is performance when data is preprocessed:"
   ]
  },
  {
   "cell_type": "code",
   "execution_count": 44,
   "metadata": {
    "colab": {
     "base_uri": "https://localhost:8080/",
     "height": 34
    },
    "colab_type": "code",
    "hidden": true,
    "id": "ijN37_vWA6mq",
    "outputId": "821c1bf7-2608-42d5-852d-c8a6ced84588"
   },
   "outputs": [
    {
     "name": "stdout",
     "output_type": "stream",
     "text": [
      "1000 loops, best of 3: 442 µs per loop\n"
     ]
    }
   ],
   "source": [
    "# Preprocess = True\n",
    "dsets = TSDatasets(X_in_memory, y_in_memory, sel_vars=None, sel_steps=None, tfms=tfms, splits=splits, preprocess=True)\n",
    "valid_ds = dsets.valid\n",
    "valid_dl = TSDataLoader(valid_ds, bs=128, num_workers=0)\n",
    "%timeit valid_ds[valid_idx]"
   ]
  },
  {
   "cell_type": "markdown",
   "metadata": {
    "colab_type": "text",
    "hidden": true,
    "id": "dZtMFtbVHCrV"
   },
   "source": [
    "Since we only perform slicing and casting at batch creation time, performance is closer to the slicing and casting we showed before, and about 30 times faster than when not preprocessed. [link text](https:// [link text](https://))"
   ]
  },
  {
   "cell_type": "code",
   "execution_count": 61,
   "metadata": {
    "colab": {
     "base_uri": "https://localhost:8080/",
     "height": 34
    },
    "colab_type": "code",
    "hidden": true,
    "id": "_4LZfwAN83vw",
    "outputId": "2c3745d9-f122-4427-eaa1-57e398ad2cad"
   },
   "outputs": [
    {
     "name": "stdout",
     "output_type": "stream",
     "text": [
      "10 loops, best of 3: 49.6 ms per loop\n"
     ]
    }
   ],
   "source": [
    "%timeit cycle_dl(valid_dl)"
   ]
  },
  {
   "cell_type": "markdown",
   "metadata": {
    "colab_type": "text",
    "hidden": true,
    "id": "wiJfL55gCdB8"
   },
   "source": [
    "😲 This is the same level of performance we had with the Pytorch dataloader, but much more flexible and with many additional benefits ❣️\n",
    "\n",
    "Let's now compare the time to train the model."
   ]
  },
  {
   "cell_type": "code",
   "execution_count": 286,
   "metadata": {
    "colab": {
     "base_uri": "https://localhost:8080/",
     "height": 841
    },
    "colab_type": "code",
    "hidden": true,
    "id": "3zZIMFWD9eAy",
    "outputId": "098cc668-ca80-45eb-8f3d-8bac26e0ef00"
   },
   "outputs": [
    {
     "data": {
      "text/html": [
       "<table border=\"1\" class=\"dataframe\">\n",
       "  <thead>\n",
       "    <tr style=\"text-align: left;\">\n",
       "      <th>epoch</th>\n",
       "      <th>train_loss</th>\n",
       "      <th>valid_loss</th>\n",
       "      <th>accuracy</th>\n",
       "      <th>time</th>\n",
       "    </tr>\n",
       "  </thead>\n",
       "  <tbody>\n",
       "    <tr>\n",
       "      <td>0</td>\n",
       "      <td>0.711755</td>\n",
       "      <td>1.013949</td>\n",
       "      <td>0.577222</td>\n",
       "      <td>00:03</td>\n",
       "    </tr>\n",
       "    <tr>\n",
       "      <td>1</td>\n",
       "      <td>0.572842</td>\n",
       "      <td>0.647487</td>\n",
       "      <td>0.843613</td>\n",
       "      <td>00:03</td>\n",
       "    </tr>\n",
       "    <tr>\n",
       "      <td>2</td>\n",
       "      <td>0.483877</td>\n",
       "      <td>0.435641</td>\n",
       "      <td>0.853205</td>\n",
       "      <td>00:03</td>\n",
       "    </tr>\n",
       "    <tr>\n",
       "      <td>3</td>\n",
       "      <td>0.395426</td>\n",
       "      <td>1.202036</td>\n",
       "      <td>0.852841</td>\n",
       "      <td>00:03</td>\n",
       "    </tr>\n",
       "    <tr>\n",
       "      <td>4</td>\n",
       "      <td>0.329816</td>\n",
       "      <td>0.352012</td>\n",
       "      <td>0.846042</td>\n",
       "      <td>00:03</td>\n",
       "    </tr>\n",
       "    <tr>\n",
       "      <td>5</td>\n",
       "      <td>0.272237</td>\n",
       "      <td>0.223510</td>\n",
       "      <td>0.923264</td>\n",
       "      <td>00:03</td>\n",
       "    </tr>\n",
       "    <tr>\n",
       "      <td>6</td>\n",
       "      <td>0.226219</td>\n",
       "      <td>0.178971</td>\n",
       "      <td>0.933463</td>\n",
       "      <td>00:03</td>\n",
       "    </tr>\n",
       "    <tr>\n",
       "      <td>7</td>\n",
       "      <td>0.204350</td>\n",
       "      <td>0.288009</td>\n",
       "      <td>0.878946</td>\n",
       "      <td>00:03</td>\n",
       "    </tr>\n",
       "    <tr>\n",
       "      <td>8</td>\n",
       "      <td>0.179450</td>\n",
       "      <td>0.128417</td>\n",
       "      <td>0.973531</td>\n",
       "      <td>00:03</td>\n",
       "    </tr>\n",
       "    <tr>\n",
       "      <td>9</td>\n",
       "      <td>0.156347</td>\n",
       "      <td>0.124633</td>\n",
       "      <td>0.969888</td>\n",
       "      <td>00:03</td>\n",
       "    </tr>\n",
       "    <tr>\n",
       "      <td>10</td>\n",
       "      <td>0.138996</td>\n",
       "      <td>0.170063</td>\n",
       "      <td>0.948033</td>\n",
       "      <td>00:03</td>\n",
       "    </tr>\n",
       "    <tr>\n",
       "      <td>11</td>\n",
       "      <td>0.128926</td>\n",
       "      <td>0.162784</td>\n",
       "      <td>0.936984</td>\n",
       "      <td>00:03</td>\n",
       "    </tr>\n",
       "    <tr>\n",
       "      <td>12</td>\n",
       "      <td>0.120760</td>\n",
       "      <td>0.114826</td>\n",
       "      <td>0.963453</td>\n",
       "      <td>00:03</td>\n",
       "    </tr>\n",
       "    <tr>\n",
       "      <td>13</td>\n",
       "      <td>0.109639</td>\n",
       "      <td>0.115649</td>\n",
       "      <td>0.972924</td>\n",
       "      <td>00:03</td>\n",
       "    </tr>\n",
       "    <tr>\n",
       "      <td>14</td>\n",
       "      <td>0.102075</td>\n",
       "      <td>0.210321</td>\n",
       "      <td>0.918407</td>\n",
       "      <td>00:03</td>\n",
       "    </tr>\n",
       "    <tr>\n",
       "      <td>15</td>\n",
       "      <td>0.098107</td>\n",
       "      <td>0.128123</td>\n",
       "      <td>0.957868</td>\n",
       "      <td>00:03</td>\n",
       "    </tr>\n",
       "    <tr>\n",
       "      <td>16</td>\n",
       "      <td>0.092863</td>\n",
       "      <td>0.089145</td>\n",
       "      <td>0.973167</td>\n",
       "      <td>00:03</td>\n",
       "    </tr>\n",
       "    <tr>\n",
       "      <td>17</td>\n",
       "      <td>0.088834</td>\n",
       "      <td>0.090549</td>\n",
       "      <td>0.974381</td>\n",
       "      <td>00:03</td>\n",
       "    </tr>\n",
       "    <tr>\n",
       "      <td>18</td>\n",
       "      <td>0.083401</td>\n",
       "      <td>0.147687</td>\n",
       "      <td>0.945483</td>\n",
       "      <td>00:03</td>\n",
       "    </tr>\n",
       "    <tr>\n",
       "      <td>19</td>\n",
       "      <td>0.077534</td>\n",
       "      <td>0.091183</td>\n",
       "      <td>0.973531</td>\n",
       "      <td>00:03</td>\n",
       "    </tr>\n",
       "    <tr>\n",
       "      <td>20</td>\n",
       "      <td>0.071605</td>\n",
       "      <td>0.085319</td>\n",
       "      <td>0.974381</td>\n",
       "      <td>00:03</td>\n",
       "    </tr>\n",
       "    <tr>\n",
       "      <td>21</td>\n",
       "      <td>0.066868</td>\n",
       "      <td>0.083760</td>\n",
       "      <td>0.974502</td>\n",
       "      <td>00:03</td>\n",
       "    </tr>\n",
       "    <tr>\n",
       "      <td>22</td>\n",
       "      <td>0.063443</td>\n",
       "      <td>0.084300</td>\n",
       "      <td>0.974502</td>\n",
       "      <td>00:03</td>\n",
       "    </tr>\n",
       "    <tr>\n",
       "      <td>23</td>\n",
       "      <td>0.059913</td>\n",
       "      <td>0.083749</td>\n",
       "      <td>0.974016</td>\n",
       "      <td>00:03</td>\n",
       "    </tr>\n",
       "    <tr>\n",
       "      <td>24</td>\n",
       "      <td>0.056510</td>\n",
       "      <td>0.083728</td>\n",
       "      <td>0.974016</td>\n",
       "      <td>00:03</td>\n",
       "    </tr>\n",
       "  </tbody>\n",
       "</table>"
      ],
      "text/plain": [
       "<IPython.core.display.HTML object>"
      ]
     },
     "metadata": {
      "tags": []
     },
     "output_type": "display_data"
    },
    {
     "name": "stdout",
     "output_type": "stream",
     "text": [
      "98.03326082229614\n"
     ]
    }
   ],
   "source": [
    "# Preprocess = FALSE, Data in memory\n",
    "tfms  = [None, [Categorize()]]\n",
    "dsets = TSDatasets(X_in_memory, y_in_memory, tfms=tfms, splits=splits, preprocess=False)\n",
    "train_ds = dsets.train\n",
    "valid_ds = dsets.valid\n",
    "train_dl = TSDataLoader(train_ds, bs=64, shuffle=True, drop_last=True, num_workers=0)\n",
    "valid_dl = TSDataLoader(valid_ds, bs=128, num_workers=0)\n",
    "dls   = TSDataLoaders(train_dl, valid_dl, device=default_device())\n",
    "model = InceptionTime(dls.vars, dls.c)\n",
    "learn2 = Learner(dls, model, metrics=accuracy)\n",
    "start = time.time()\n",
    "learn2.fit_one_cycle(25, lr_max=1e-3)\n",
    "print(time.time() - start)"
   ]
  },
  {
   "cell_type": "markdown",
   "metadata": {
    "hidden": true
   },
   "source": [
    "⚠️ This NumpyDataLoader is already a bit faster than fastai v1. But we have not yet used preprocess = True. "
   ]
  },
  {
   "cell_type": "code",
   "execution_count": 63,
   "metadata": {
    "colab": {
     "base_uri": "https://localhost:8080/",
     "height": 841
    },
    "colab_type": "code",
    "hidden": true,
    "id": "HlyJF63YDbiO",
    "outputId": "dee8675a-80d7-4db9-d4ab-bdf537b02d7b"
   },
   "outputs": [
    {
     "data": {
      "text/html": [
       "<table border=\"1\" class=\"dataframe\">\n",
       "  <thead>\n",
       "    <tr style=\"text-align: left;\">\n",
       "      <th>epoch</th>\n",
       "      <th>train_loss</th>\n",
       "      <th>valid_loss</th>\n",
       "      <th>accuracy</th>\n",
       "      <th>time</th>\n",
       "    </tr>\n",
       "  </thead>\n",
       "  <tbody>\n",
       "    <tr>\n",
       "      <td>0</td>\n",
       "      <td>0.835611</td>\n",
       "      <td>1.038498</td>\n",
       "      <td>0.577222</td>\n",
       "      <td>00:02</td>\n",
       "    </tr>\n",
       "    <tr>\n",
       "      <td>1</td>\n",
       "      <td>0.667096</td>\n",
       "      <td>0.729662</td>\n",
       "      <td>0.837664</td>\n",
       "      <td>00:02</td>\n",
       "    </tr>\n",
       "    <tr>\n",
       "      <td>2</td>\n",
       "      <td>0.554115</td>\n",
       "      <td>0.503784</td>\n",
       "      <td>0.852720</td>\n",
       "      <td>00:02</td>\n",
       "    </tr>\n",
       "    <tr>\n",
       "      <td>3</td>\n",
       "      <td>0.465944</td>\n",
       "      <td>0.498262</td>\n",
       "      <td>0.856241</td>\n",
       "      <td>00:02</td>\n",
       "    </tr>\n",
       "    <tr>\n",
       "      <td>4</td>\n",
       "      <td>0.396884</td>\n",
       "      <td>0.292383</td>\n",
       "      <td>0.917557</td>\n",
       "      <td>00:02</td>\n",
       "    </tr>\n",
       "    <tr>\n",
       "      <td>5</td>\n",
       "      <td>0.330362</td>\n",
       "      <td>0.341773</td>\n",
       "      <td>0.856484</td>\n",
       "      <td>00:02</td>\n",
       "    </tr>\n",
       "    <tr>\n",
       "      <td>6</td>\n",
       "      <td>0.279558</td>\n",
       "      <td>0.254410</td>\n",
       "      <td>0.878825</td>\n",
       "      <td>00:02</td>\n",
       "    </tr>\n",
       "    <tr>\n",
       "      <td>7</td>\n",
       "      <td>0.239170</td>\n",
       "      <td>0.257100</td>\n",
       "      <td>0.868747</td>\n",
       "      <td>00:02</td>\n",
       "    </tr>\n",
       "    <tr>\n",
       "      <td>8</td>\n",
       "      <td>0.206538</td>\n",
       "      <td>1.570402</td>\n",
       "      <td>0.410879</td>\n",
       "      <td>00:02</td>\n",
       "    </tr>\n",
       "    <tr>\n",
       "      <td>9</td>\n",
       "      <td>0.181974</td>\n",
       "      <td>0.357201</td>\n",
       "      <td>0.853205</td>\n",
       "      <td>00:02</td>\n",
       "    </tr>\n",
       "    <tr>\n",
       "      <td>10</td>\n",
       "      <td>0.160331</td>\n",
       "      <td>0.322088</td>\n",
       "      <td>0.869597</td>\n",
       "      <td>00:02</td>\n",
       "    </tr>\n",
       "    <tr>\n",
       "      <td>11</td>\n",
       "      <td>0.144679</td>\n",
       "      <td>0.173053</td>\n",
       "      <td>0.951311</td>\n",
       "      <td>00:02</td>\n",
       "    </tr>\n",
       "    <tr>\n",
       "      <td>12</td>\n",
       "      <td>0.129412</td>\n",
       "      <td>0.102612</td>\n",
       "      <td>0.977173</td>\n",
       "      <td>00:02</td>\n",
       "    </tr>\n",
       "    <tr>\n",
       "      <td>13</td>\n",
       "      <td>0.117753</td>\n",
       "      <td>0.111909</td>\n",
       "      <td>0.969281</td>\n",
       "      <td>00:02</td>\n",
       "    </tr>\n",
       "    <tr>\n",
       "      <td>14</td>\n",
       "      <td>0.108471</td>\n",
       "      <td>0.123615</td>\n",
       "      <td>0.973167</td>\n",
       "      <td>00:02</td>\n",
       "    </tr>\n",
       "    <tr>\n",
       "      <td>15</td>\n",
       "      <td>0.097449</td>\n",
       "      <td>0.173412</td>\n",
       "      <td>0.928242</td>\n",
       "      <td>00:02</td>\n",
       "    </tr>\n",
       "    <tr>\n",
       "      <td>16</td>\n",
       "      <td>0.091480</td>\n",
       "      <td>0.115261</td>\n",
       "      <td>0.969524</td>\n",
       "      <td>00:02</td>\n",
       "    </tr>\n",
       "    <tr>\n",
       "      <td>17</td>\n",
       "      <td>0.086015</td>\n",
       "      <td>0.081621</td>\n",
       "      <td>0.975595</td>\n",
       "      <td>00:02</td>\n",
       "    </tr>\n",
       "    <tr>\n",
       "      <td>18</td>\n",
       "      <td>0.078484</td>\n",
       "      <td>0.077357</td>\n",
       "      <td>0.978752</td>\n",
       "      <td>00:02</td>\n",
       "    </tr>\n",
       "    <tr>\n",
       "      <td>19</td>\n",
       "      <td>0.072547</td>\n",
       "      <td>0.076637</td>\n",
       "      <td>0.979966</td>\n",
       "      <td>00:02</td>\n",
       "    </tr>\n",
       "    <tr>\n",
       "      <td>20</td>\n",
       "      <td>0.067222</td>\n",
       "      <td>0.075753</td>\n",
       "      <td>0.977902</td>\n",
       "      <td>00:02</td>\n",
       "    </tr>\n",
       "    <tr>\n",
       "      <td>21</td>\n",
       "      <td>0.061848</td>\n",
       "      <td>0.074690</td>\n",
       "      <td>0.979723</td>\n",
       "      <td>00:02</td>\n",
       "    </tr>\n",
       "    <tr>\n",
       "      <td>22</td>\n",
       "      <td>0.058142</td>\n",
       "      <td>0.074326</td>\n",
       "      <td>0.978873</td>\n",
       "      <td>00:02</td>\n",
       "    </tr>\n",
       "    <tr>\n",
       "      <td>23</td>\n",
       "      <td>0.054669</td>\n",
       "      <td>0.075354</td>\n",
       "      <td>0.978266</td>\n",
       "      <td>00:02</td>\n",
       "    </tr>\n",
       "    <tr>\n",
       "      <td>24</td>\n",
       "      <td>0.051165</td>\n",
       "      <td>0.074592</td>\n",
       "      <td>0.978145</td>\n",
       "      <td>00:02</td>\n",
       "    </tr>\n",
       "  </tbody>\n",
       "</table>"
      ],
      "text/plain": [
       "<IPython.core.display.HTML object>"
      ]
     },
     "metadata": {
      "tags": []
     },
     "output_type": "display_data"
    },
    {
     "name": "stdout",
     "output_type": "stream",
     "text": [
      "74.28572797775269\n"
     ]
    }
   ],
   "source": [
    "# Preprocess = TRUE, Data in memory\n",
    "tfms  = [None, [Categorize()]]\n",
    "dsets = TSDatasets(X_in_memory, y_in_memory, tfms=tfms, splits=splits, preprocess=True)\n",
    "train_ds = dsets.train\n",
    "valid_ds = dsets.valid\n",
    "train_dl = TSDataLoader(train_ds, bs=64, shuffle=True, drop_last=True, num_workers=0)\n",
    "valid_dl = TSDataLoader(valid_ds, bs=128, num_workers=0)\n",
    "dls   = TSDataLoaders(train_dl, valid_dl, device=default_device())\n",
    "model = InceptionTime(dls.vars, dls.c)\n",
    "learn = Learner(dls, model, metrics=accuracy)\n",
    "start = time.time()\n",
    "learn.fit_one_cycle(25, lr_max=1e-3)\n",
    "print(time.time() - start)"
   ]
  },
  {
   "cell_type": "markdown",
   "metadata": {
    "hidden": true
   },
   "source": [
    "🍻 🎉 I think this is a great result. It means that just preprocessing the item transforms can reduce training time by almost 25%, and almost 50% from the generic datablock API. "
   ]
  },
  {
   "cell_type": "code",
   "execution_count": 62,
   "metadata": {
    "colab": {
     "base_uri": "https://localhost:8080/",
     "height": 841
    },
    "colab_type": "code",
    "hidden": true,
    "id": "gQMMrdeCCzzZ",
    "outputId": "822355b0-2d8a-4401-d80f-28a7a17cb9e7"
   },
   "outputs": [
    {
     "data": {
      "text/html": [
       "<table border=\"1\" class=\"dataframe\">\n",
       "  <thead>\n",
       "    <tr style=\"text-align: left;\">\n",
       "      <th>epoch</th>\n",
       "      <th>train_loss</th>\n",
       "      <th>valid_loss</th>\n",
       "      <th>accuracy</th>\n",
       "      <th>time</th>\n",
       "    </tr>\n",
       "  </thead>\n",
       "  <tbody>\n",
       "    <tr>\n",
       "      <td>0</td>\n",
       "      <td>0.803100</td>\n",
       "      <td>1.085054</td>\n",
       "      <td>0.374211</td>\n",
       "      <td>00:03</td>\n",
       "    </tr>\n",
       "    <tr>\n",
       "      <td>1</td>\n",
       "      <td>0.635497</td>\n",
       "      <td>0.690007</td>\n",
       "      <td>0.841064</td>\n",
       "      <td>00:03</td>\n",
       "    </tr>\n",
       "    <tr>\n",
       "      <td>2</td>\n",
       "      <td>0.535171</td>\n",
       "      <td>0.459494</td>\n",
       "      <td>0.851991</td>\n",
       "      <td>00:03</td>\n",
       "    </tr>\n",
       "    <tr>\n",
       "      <td>3</td>\n",
       "      <td>0.448712</td>\n",
       "      <td>0.707463</td>\n",
       "      <td>0.498057</td>\n",
       "      <td>00:03</td>\n",
       "    </tr>\n",
       "    <tr>\n",
       "      <td>4</td>\n",
       "      <td>0.381802</td>\n",
       "      <td>0.645756</td>\n",
       "      <td>0.624089</td>\n",
       "      <td>00:03</td>\n",
       "    </tr>\n",
       "    <tr>\n",
       "      <td>5</td>\n",
       "      <td>0.327073</td>\n",
       "      <td>1.450277</td>\n",
       "      <td>0.838878</td>\n",
       "      <td>00:03</td>\n",
       "    </tr>\n",
       "    <tr>\n",
       "      <td>6</td>\n",
       "      <td>0.277469</td>\n",
       "      <td>0.564345</td>\n",
       "      <td>0.855512</td>\n",
       "      <td>00:03</td>\n",
       "    </tr>\n",
       "    <tr>\n",
       "      <td>7</td>\n",
       "      <td>0.233669</td>\n",
       "      <td>0.339163</td>\n",
       "      <td>0.844585</td>\n",
       "      <td>00:03</td>\n",
       "    </tr>\n",
       "    <tr>\n",
       "      <td>8</td>\n",
       "      <td>0.202157</td>\n",
       "      <td>0.104090</td>\n",
       "      <td>0.976445</td>\n",
       "      <td>00:03</td>\n",
       "    </tr>\n",
       "    <tr>\n",
       "      <td>9</td>\n",
       "      <td>0.177261</td>\n",
       "      <td>0.106450</td>\n",
       "      <td>0.974745</td>\n",
       "      <td>00:03</td>\n",
       "    </tr>\n",
       "    <tr>\n",
       "      <td>10</td>\n",
       "      <td>0.155561</td>\n",
       "      <td>0.170951</td>\n",
       "      <td>0.944269</td>\n",
       "      <td>00:03</td>\n",
       "    </tr>\n",
       "    <tr>\n",
       "      <td>11</td>\n",
       "      <td>0.138705</td>\n",
       "      <td>0.139594</td>\n",
       "      <td>0.951190</td>\n",
       "      <td>00:03</td>\n",
       "    </tr>\n",
       "    <tr>\n",
       "      <td>12</td>\n",
       "      <td>0.124836</td>\n",
       "      <td>0.117577</td>\n",
       "      <td>0.969767</td>\n",
       "      <td>00:03</td>\n",
       "    </tr>\n",
       "    <tr>\n",
       "      <td>13</td>\n",
       "      <td>0.112698</td>\n",
       "      <td>0.118674</td>\n",
       "      <td>0.964910</td>\n",
       "      <td>00:03</td>\n",
       "    </tr>\n",
       "    <tr>\n",
       "      <td>14</td>\n",
       "      <td>0.101750</td>\n",
       "      <td>0.090322</td>\n",
       "      <td>0.972681</td>\n",
       "      <td>00:03</td>\n",
       "    </tr>\n",
       "    <tr>\n",
       "      <td>15</td>\n",
       "      <td>0.091346</td>\n",
       "      <td>0.092220</td>\n",
       "      <td>0.975595</td>\n",
       "      <td>00:03</td>\n",
       "    </tr>\n",
       "    <tr>\n",
       "      <td>16</td>\n",
       "      <td>0.083035</td>\n",
       "      <td>0.097603</td>\n",
       "      <td>0.971710</td>\n",
       "      <td>00:03</td>\n",
       "    </tr>\n",
       "    <tr>\n",
       "      <td>17</td>\n",
       "      <td>0.075770</td>\n",
       "      <td>0.083896</td>\n",
       "      <td>0.976202</td>\n",
       "      <td>00:03</td>\n",
       "    </tr>\n",
       "    <tr>\n",
       "      <td>18</td>\n",
       "      <td>0.070672</td>\n",
       "      <td>0.091644</td>\n",
       "      <td>0.972681</td>\n",
       "      <td>00:03</td>\n",
       "    </tr>\n",
       "    <tr>\n",
       "      <td>19</td>\n",
       "      <td>0.066415</td>\n",
       "      <td>0.081926</td>\n",
       "      <td>0.975352</td>\n",
       "      <td>00:03</td>\n",
       "    </tr>\n",
       "    <tr>\n",
       "      <td>20</td>\n",
       "      <td>0.061556</td>\n",
       "      <td>0.076621</td>\n",
       "      <td>0.978388</td>\n",
       "      <td>00:03</td>\n",
       "    </tr>\n",
       "    <tr>\n",
       "      <td>21</td>\n",
       "      <td>0.056361</td>\n",
       "      <td>0.076004</td>\n",
       "      <td>0.978266</td>\n",
       "      <td>00:03</td>\n",
       "    </tr>\n",
       "    <tr>\n",
       "      <td>22</td>\n",
       "      <td>0.052485</td>\n",
       "      <td>0.074891</td>\n",
       "      <td>0.978266</td>\n",
       "      <td>00:03</td>\n",
       "    </tr>\n",
       "    <tr>\n",
       "      <td>23</td>\n",
       "      <td>0.049864</td>\n",
       "      <td>0.074722</td>\n",
       "      <td>0.978145</td>\n",
       "      <td>00:03</td>\n",
       "    </tr>\n",
       "    <tr>\n",
       "      <td>24</td>\n",
       "      <td>0.047988</td>\n",
       "      <td>0.074864</td>\n",
       "      <td>0.977780</td>\n",
       "      <td>00:03</td>\n",
       "    </tr>\n",
       "  </tbody>\n",
       "</table>"
      ],
      "text/plain": [
       "<IPython.core.display.HTML object>"
      ]
     },
     "metadata": {
      "tags": []
     },
     "output_type": "display_data"
    },
    {
     "name": "stdout",
     "output_type": "stream",
     "text": [
      "82.3660249710083\n"
     ]
    }
   ],
   "source": [
    "# Preprocess = TRUE, Data on disk\n",
    "tfms = [None, [Categorize()]]\n",
    "dsets = TSDatasets(X_on_disk, y_on_disk, tfms=tfms, splits=splits, preprocess=True)\n",
    "train_ds = dsets.train\n",
    "valid_ds = dsets.valid\n",
    "train_dl = TSDataLoader(train_ds, bs=64, shuffle=True, drop_last=True)\n",
    "valid_dl = TSDataLoader(valid_ds, bs=128)\n",
    "dls = TSDataLoaders(train_dl, valid_dl, device=default_device())\n",
    "model = InceptionTime(dls.vars, dls.c)\n",
    "learn = Learner(dls, model, metrics=accuracy)\n",
    "start = time.time()\n",
    "learn.fit_one_cycle(25, lr_max=1e-3)\n",
    "print(time.time() - start)"
   ]
  },
  {
   "cell_type": "markdown",
   "metadata": {
    "hidden": true
   },
   "source": [
    "⚠️ This is also very important, as it means we can now train very large datasets with a good performance without loading data in memory. It takes around 10% longer."
   ]
  },
  {
   "cell_type": "markdown",
   "metadata": {
    "hidden": true
   },
   "source": [
    "NumpyDatasets and NumpyDataLoader share all the benefits of fastai v2:"
   ]
  },
  {
   "cell_type": "code",
   "execution_count": 26,
   "metadata": {
    "colab": {
     "base_uri": "https://localhost:8080/",
     "height": 873
    },
    "colab_type": "code",
    "hidden": true,
    "id": "zznzCDisYl-w",
    "outputId": "159aeb7a-c7e5-4726-dfe6-9c1ea12ed1c5",
    "scrolled": true
   },
   "outputs": [
    {
     "data": {
      "text/html": [],
      "text/plain": [
       "<IPython.core.display.HTML object>"
      ]
     },
     "metadata": {
      "tags": []
     },
     "output_type": "display_data"
    },
    {
     "data": {
      "image/png": "[encoded data removed]",
      "text/plain": [
       "<Figure size 1296x864 with 9 Axes>"
      ]
     },
     "metadata": {
      "tags": []
     },
     "output_type": "display_data"
    }
   ],
   "source": [
    "learn.show_results(sharey=True)"
   ]
  },
  {
   "cell_type": "markdown",
   "metadata": {
    "heading_collapsed": true
   },
   "source": [
    "## End-to-end process 🏁"
   ]
  },
  {
   "cell_type": "markdown",
   "metadata": {
    "hidden": true
   },
   "source": [
    "We are now goind to show the end-to-end process including: \n",
    "\n",
    "* data loading\n",
    "* datasets & dataloaders creation\n",
    "* training\n",
    "* getting predictions\n",
    "* exporting the learner and datasets\n",
    "* reloading the learner and datasets\n",
    "* adding additional data\n",
    "* creating predictions for new data"
   ]
  },
  {
   "cell_type": "markdown",
   "metadata": {
    "hidden": true
   },
   "source": [
    "### Data loading"
   ]
  },
  {
   "cell_type": "markdown",
   "metadata": {
    "hidden": true
   },
   "source": [
    "In this notebook, we'll use one of the most widely used time series classification databases: UEA & UCR Time Series Classification Repository. As of Sep 2019 it contains 128 univariate datasets and 30 multivariate datasets.\n",
    "\n",
    "In the case of UCR data it's very easy to get data loaded. Let's select a dataset. You can modify this and select any one from the previous lists (univariate of multivariate).\n",
    "\n",
    "This framework I'm using can deal with numpy arrays on disk (np.memmap). If you are not familiar with them, you may want to take a look at the 00_How_to_efficiently_work_with_very_large_numpy_arrays.ipynb I've also shared."
   ]
  },
  {
   "cell_type": "code",
   "execution_count": 29,
   "metadata": {
    "ExecuteTime": {
     "end_time": "2020-04-05T19:24:51.999050Z",
     "start_time": "2020-04-05T19:24:51.646404Z"
    },
    "hidden": true
   },
   "outputs": [
    {
     "name": "stdout",
     "output_type": "stream",
     "text": [
      "['ACSF1',\n",
      " 'Adiac',\n",
      " 'AllGestureWiimoteX',\n",
      " 'AllGestureWiimoteY',\n",
      " 'AllGestureWiimoteZ',\n",
      " 'ArrowHead',\n",
      " 'Beef',\n",
      " 'BeetleFly',\n",
      " 'BirdChicken',\n",
      " 'BME',\n",
      " 'Car',\n",
      " 'CBF',\n",
      " 'Chinatown',\n",
      " 'ChlorineConcentration',\n",
      " 'CinCECGTorso',\n",
      " 'Coffee',\n",
      " 'Computers',\n",
      " 'CricketX',\n",
      " 'CricketY',\n",
      " 'CricketZ',\n",
      " 'Crop',\n",
      " 'DiatomSizeReduction',\n",
      " 'DistalPhalanxOutlineAgeGroup',\n",
      " 'DistalPhalanxOutlineCorrect',\n",
      " 'DistalPhalanxTW',\n",
      " 'DodgerLoopDay',\n",
      " 'DodgerLoopGame',\n",
      " 'DodgerLoopWeekend',\n",
      " 'Earthquakes',\n",
      " 'ECG200',\n",
      " 'ECG5000',\n",
      " 'ECGFiveDays',\n",
      " 'ElectricDevices',\n",
      " 'EOGHorizontalSignal',\n",
      " 'EOGVerticalSignal',\n",
      " 'EthanolLevel',\n",
      " 'FaceAll',\n",
      " 'FaceFour',\n",
      " 'FacesUCR',\n",
      " 'FiftyWords',\n",
      " 'Fish',\n",
      " 'FordA',\n",
      " 'FordB',\n",
      " 'FreezerRegularTrain',\n",
      " 'FreezerSmallTrain',\n",
      " 'Fungi',\n",
      " 'GestureMidAirD1',\n",
      " 'GestureMidAirD2',\n",
      " 'GestureMidAirD3',\n",
      " 'GesturePebbleZ1',\n",
      " 'GesturePebbleZ2',\n",
      " 'GunPoint',\n",
      " 'GunPointAgeSpan',\n",
      " 'GunPointMaleVersusFemale',\n",
      " 'GunPointOldVersusYoung',\n",
      " 'Ham',\n",
      " 'HandOutlines',\n",
      " 'Haptics',\n",
      " 'Herring',\n",
      " 'HouseTwenty',\n",
      " 'InlineSkate',\n",
      " 'InsectEPGRegularTrain',\n",
      " 'InsectEPGSmallTrain',\n",
      " 'InsectWingbeatSound',\n",
      " 'ItalyPowerDemand',\n",
      " 'LargeKitchenAppliances',\n",
      " 'Lightning2',\n",
      " 'Lightning7',\n",
      " 'Mallat',\n",
      " 'Meat',\n",
      " 'MedicalImages',\n",
      " 'MelbournePedestrian',\n",
      " 'MiddlePhalanxOutlineAgeGroup',\n",
      " 'MiddlePhalanxOutlineCorrect',\n",
      " 'MiddlePhalanxTW',\n",
      " 'MixedShapesRegularTrain',\n",
      " 'MixedShapesSmallTrain',\n",
      " 'MoteStrain',\n",
      " 'NonInvasiveFetalECGThorax1',\n",
      " 'NonInvasiveFetalECGThorax2',\n",
      " 'OliveOil',\n",
      " 'OSULeaf',\n",
      " 'PhalangesOutlinesCorrect',\n",
      " 'Phoneme',\n",
      " 'PickupGestureWiimoteZ',\n",
      " 'PigAirwayPressure',\n",
      " 'PigArtPressure',\n",
      " 'PigCVP',\n",
      " 'PLAID',\n",
      " 'Plane',\n",
      " 'PowerCons',\n",
      " 'ProximalPhalanxOutlineAgeGroup',\n",
      " 'ProximalPhalanxOutlineCorrect',\n",
      " 'ProximalPhalanxTW',\n",
      " 'RefrigerationDevices',\n",
      " 'Rock',\n",
      " 'ScreenType',\n",
      " 'SemgHandGenderCh2',\n",
      " 'SemgHandMovementCh2',\n",
      " 'SemgHandSubjectCh2',\n",
      " 'ShakeGestureWiimoteZ',\n",
      " 'ShapeletSim',\n",
      " 'ShapesAll',\n",
      " 'SmallKitchenAppliances',\n",
      " 'SmoothSubspace',\n",
      " 'SonyAIBORobotSurface1',\n",
      " 'SonyAIBORobotSurface2',\n",
      " 'StarLightCurves',\n",
      " 'Strawberry',\n",
      " 'SwedishLeaf',\n",
      " 'Symbols',\n",
      " 'SyntheticControl',\n",
      " 'ToeSegmentation1',\n",
      " 'ToeSegmentation2',\n",
      " 'Trace',\n",
      " 'TwoLeadECG',\n",
      " 'TwoPatterns',\n",
      " 'UMD',\n",
      " 'UWaveGestureLibraryAll',\n",
      " 'UWaveGestureLibraryX',\n",
      " 'UWaveGestureLibraryY',\n",
      " 'UWaveGestureLibraryZ',\n",
      " 'Wafer',\n",
      " 'Wine',\n",
      " 'WordSynonyms',\n",
      " 'Worms',\n",
      " 'WormsTwoClass',\n",
      " 'Yoga']\n"
     ]
    }
   ],
   "source": [
    "pprint.pprint(get_UCR_univariate_list())"
   ]
  },
  {
   "cell_type": "code",
   "execution_count": 30,
   "metadata": {
    "ExecuteTime": {
     "end_time": "2020-04-05T19:25:06.104505Z",
     "start_time": "2020-04-05T19:25:05.779898Z"
    },
    "hidden": true,
    "scrolled": true
   },
   "outputs": [
    {
     "name": "stdout",
     "output_type": "stream",
     "text": [
      "['ArticularyWordRecognition',\n",
      " 'AtrialFibrillation',\n",
      " 'BasicMotions',\n",
      " 'CharacterTrajectories',\n",
      " 'Cricket',\n",
      " 'DuckDuckGeese',\n",
      " 'EigenWorms',\n",
      " 'Epilepsy',\n",
      " 'ERing',\n",
      " 'EthanolConcentration',\n",
      " 'FaceDetection',\n",
      " 'FingerMovements',\n",
      " 'HandMovementDirection',\n",
      " 'Handwriting',\n",
      " 'Heartbeat',\n",
      " 'InsectWingbeat',\n",
      " 'JapaneseVowels',\n",
      " 'Libras',\n",
      " 'LSST',\n",
      " 'MotorImagery',\n",
      " 'NATOPS',\n",
      " 'PEMS-SF',\n",
      " 'PenDigits',\n",
      " 'PhonemeSpectra',\n",
      " 'RacketSports',\n",
      " 'SelfRegulationSCP1',\n",
      " 'SelfRegulationSCP2',\n",
      " 'SpokenArabicDigits',\n",
      " 'StandWalkJump',\n",
      " 'UWaveGestureLibrary']\n"
     ]
    }
   ],
   "source": [
    "pprint.pprint(get_UCR_multivariate_list())"
   ]
  },
  {
   "cell_type": "code",
   "execution_count": null,
   "metadata": {
    "hidden": true
   },
   "outputs": [],
   "source": [
    "dsid = 'NATOPS'\n",
    "X_train, y_train, X_valid, y_valid = get_UCR_data(dsid, parent_dir='./data/UCR/', verbose=True, on_disk=True)\n",
    "X_in_memory = np.concatenate((X_train, X_valid))\n",
    "y_in_memory = np.concatenate((y_train, y_valid))\n",
    "folder = './data/UCR'\n",
    "np.save(f'{folder}/{dsid}/X.npy', X_in_memory)\n",
    "np.save(f'{folder}/{dsid}/y.npy', y_in_memory)\n",
    "X_on_disk = np.load(f'{folder}/{dsid}/X.npy', mmap_mode='r')\n",
    "y_on_disk = np.load(f'{folder}/{dsid}/y.npy', mmap_mode='r')\n",
    "splits = (L(list(np.arange(len(X_train)))), L(list(np.arange(len(X_train), len(X_on_disk)))))"
   ]
  },
  {
   "cell_type": "markdown",
   "metadata": {
    "hidden": true
   },
   "source": [
    "### Dataloaders creation"
   ]
  },
  {
   "cell_type": "code",
   "execution_count": null,
   "metadata": {
    "hidden": true
   },
   "outputs": [],
   "source": [
    "tfms  = [None, [Categorize()]]\n",
    "dsets = TSDatasets(X_in_memory, y_in_memory, tfms=tfms, splits=splits, preprocess=True)\n",
    "train_ds = dsets.train\n",
    "valid_ds = dsets.valid\n",
    "train_dl = TSDataLoader(train_ds, bs=64, shuffle=True, drop_last=True, num_workers=0)\n",
    "valid_dl = TSDataLoader(valid_ds, bs=128, num_workers=0)\n",
    "dls   = TSDataLoaders(train_dl, valid_dl, device=default_device())"
   ]
  },
  {
   "cell_type": "markdown",
   "metadata": {
    "hidden": true
   },
   "source": [
    "### Training"
   ]
  },
  {
   "cell_type": "code",
   "execution_count": 237,
   "metadata": {
    "colab": {
     "base_uri": "https://localhost:8080/",
     "height": 159
    },
    "colab_type": "code",
    "hidden": true,
    "id": "3TA8zBLnXj5a",
    "outputId": "6a48d32e-8d3c-43d1-e857-8223af953eb0",
    "scrolled": true
   },
   "outputs": [
    {
     "data": {
      "text/html": [
       "<table border=\"1\" class=\"dataframe\">\n",
       "  <thead>\n",
       "    <tr style=\"text-align: left;\">\n",
       "      <th>epoch</th>\n",
       "      <th>train_loss</th>\n",
       "      <th>valid_loss</th>\n",
       "      <th>accuracy</th>\n",
       "      <th>time</th>\n",
       "    </tr>\n",
       "  </thead>\n",
       "  <tbody>\n",
       "    <tr>\n",
       "      <td>0</td>\n",
       "      <td>0.608039</td>\n",
       "      <td>0.875217</td>\n",
       "      <td>0.767120</td>\n",
       "      <td>00:02</td>\n",
       "    </tr>\n",
       "    <tr>\n",
       "      <td>1</td>\n",
       "      <td>0.438873</td>\n",
       "      <td>0.729845</td>\n",
       "      <td>0.558038</td>\n",
       "      <td>00:02</td>\n",
       "    </tr>\n",
       "    <tr>\n",
       "      <td>2</td>\n",
       "      <td>0.347714</td>\n",
       "      <td>0.340342</td>\n",
       "      <td>0.847256</td>\n",
       "      <td>00:02</td>\n",
       "    </tr>\n",
       "  </tbody>\n",
       "</table>"
      ],
      "text/plain": [
       "<IPython.core.display.HTML object>"
      ]
     },
     "metadata": {
      "tags": []
     },
     "output_type": "display_data"
    },
    {
     "name": "stdout",
     "output_type": "stream",
     "text": [
      "8.937021017074585\n"
     ]
    }
   ],
   "source": [
    "model = InceptionTime(dls.vars, dls.c)\n",
    "learn = Learner(dls, model, metrics=accuracy)\n",
    "learn.fit_one_cycle(25, lr_max=1e-3)"
   ]
  },
  {
   "cell_type": "markdown",
   "metadata": {
    "hidden": true
   },
   "source": [
    "### Predict"
   ]
  },
  {
   "cell_type": "code",
   "execution_count": 241,
   "metadata": {
    "colab": {
     "base_uri": "https://localhost:8080/",
     "height": 170
    },
    "colab_type": "code",
    "hidden": true,
    "id": "gCzOKfQIUr9I",
    "outputId": "2e758544-fd4d-453e-8c81-2cbae8602702"
   },
   "outputs": [
    {
     "data": {
      "text/html": [],
      "text/plain": [
       "<IPython.core.display.HTML object>"
      ]
     },
     "metadata": {
      "tags": []
     },
     "output_type": "display_data"
    },
    {
     "data": {
      "text/html": [],
      "text/plain": [
       "<IPython.core.display.HTML object>"
      ]
     },
     "metadata": {
      "tags": []
     },
     "output_type": "display_data"
    },
    {
     "data": {
      "text/plain": [
       "(tensor([[0.0233, 0.9468, 0.0299],\n",
       "         [0.1551, 0.0867, 0.7582],\n",
       "         [0.1619, 0.0739, 0.7642],\n",
       "         ...,\n",
       "         [0.2072, 0.0259, 0.7669],\n",
       "         [0.0265, 0.9401, 0.0334],\n",
       "         [0.0343, 0.0141, 0.9516]]),\n",
       " tensor([1, 2, 2,  ..., 0, 1, 2]),\n",
       " tensor([1, 2, 2,  ..., 2, 1, 2]))"
      ]
     },
     "execution_count": 241,
     "metadata": {
      "tags": []
     },
     "output_type": "execute_result"
    }
   ],
   "source": [
    "train_probas, train_targets, train_preds = learn.get_preds(ds_idx=0, with_decoded=True, save_preds=None, save_targs=None)\n",
    "valid_probas, valid_targets, valid_preds = learn.get_preds(ds_idx=1, with_decoded=True, save_preds=None, save_targs=None)\n",
    "valid_probas, valid_targets, valid_preds"
   ]
  },
  {
   "cell_type": "markdown",
   "metadata": {
    "hidden": true
   },
   "source": [
    "### Export learner and datasets"
   ]
  },
  {
   "cell_type": "code",
   "execution_count": 0,
   "metadata": {
    "colab": {},
    "colab_type": "code",
    "hidden": true,
    "id": "tYlMDNiC0jkO"
   },
   "outputs": [],
   "source": [
    "# Save the dataset\n",
    "dsets_fname = 'dsets'\n",
    "torch.save(dsets, dsets_fname)\n",
    "\n",
    "# Saves the model along with optimizer\n",
    "save_fname = 'learner'\n",
    "learn.save(save_fname)\n",
    "\n",
    "# Export learn without the items (data) and the optimizer state for inference\n",
    "export_fname = 'export.pkl'\n",
    "learn.export(export_fname)"
   ]
  },
  {
   "cell_type": "code",
   "execution_count": 0,
   "metadata": {
    "colab": {},
    "colab_type": "code",
    "hidden": true,
    "id": "CsZTX9dC1u9N"
   },
   "outputs": [],
   "source": [
    "del dsets, learn"
   ]
  },
  {
   "cell_type": "markdown",
   "metadata": {
    "hidden": true
   },
   "source": [
    "### Reload learner and datasets"
   ]
  },
  {
   "cell_type": "code",
   "execution_count": 0,
   "metadata": {
    "colab": {},
    "colab_type": "code",
    "hidden": true,
    "id": "F0Wt1mvQkimu"
   },
   "outputs": [],
   "source": [
    "\n",
    "# Let's build the learner again\n",
    "dsets_fname = 'dsets'\n",
    "save_fname = 'learner'\n",
    "export_fname = 'export.pkl'\n",
    "\n",
    "dsets = torch.load(dsets_fname)\n",
    "learn = load_learner(export_fname, cpu=False)\n",
    "learn.load(save_fname)\n",
    "learn.dls[0].dataset = dsets.train\n",
    "learn.dls[1].dataset = dsets.valid"
   ]
  },
  {
   "cell_type": "code",
   "execution_count": 242,
   "metadata": {
    "colab": {
     "base_uri": "https://localhost:8080/",
     "height": 34
    },
    "colab_type": "code",
    "hidden": true,
    "id": "FMnYkdn-rJhy",
    "outputId": "7ed6608e-4522-49c8-aa9e-c8237d49a0c0"
   },
   "outputs": [
    {
     "data": {
      "text/plain": [
       "tensor(0.8473)"
      ]
     },
     "execution_count": 242,
     "metadata": {
      "tags": []
     },
     "output_type": "execute_result"
    }
   ],
   "source": [
    "(valid_targets == valid_preds).float().mean()"
   ]
  },
  {
   "cell_type": "markdown",
   "metadata": {
    "hidden": true
   },
   "source": [
    "⚠️ This is the same accuracy we got in the trained model, which means we've been able to export and reload it successfully!"
   ]
  },
  {
   "cell_type": "markdown",
   "metadata": {
    "hidden": true
   },
   "source": [
    "### Add additional labeled test data"
   ]
  },
  {
   "cell_type": "code",
   "execution_count": 271,
   "metadata": {
    "colab": {
     "base_uri": "https://localhost:8080/",
     "height": 136
    },
    "colab_type": "code",
    "hidden": true,
    "id": "jtrNSbovNOrs",
    "outputId": "26b211cd-66f1-4d07-9a5f-843e17cc4178"
   },
   "outputs": [
    {
     "data": {
      "text/plain": [
       "(TSTensor(samples:128, vars:1, len:1024),\n",
       " TensorCategory([2, 2, 0, 2, 2, 1, 2, 1, 2, 2, 1, 2, 2, 2, 2, 2, 0, 1, 2, 1, 2, 0, 1, 0,\n",
       "         2, 2, 0, 2, 2, 2, 1, 2, 1, 1, 2, 0, 0, 1, 2, 0, 1, 2, 1, 2, 2, 1, 1, 2,\n",
       "         0, 0, 0, 2, 2, 2, 0, 2, 2, 2, 2, 1, 2, 2, 2, 0, 1, 2, 2, 2, 2, 1, 1, 2,\n",
       "         1, 0, 1, 2, 2, 1, 1, 2, 2, 1, 1, 1, 2, 0, 2, 2, 1, 1, 2, 0, 2, 2, 2, 1,\n",
       "         2, 2, 1, 2, 1, 1, 2, 1, 2, 1, 2, 0, 2, 2, 1, 2, 2, 2, 2, 2, 1, 2, 1, 1,\n",
       "         2, 2, 2, 2, 1, 2, 0, 2], device='cuda:0'))"
      ]
     },
     "execution_count": 271,
     "metadata": {
      "tags": []
     },
     "output_type": "execute_result"
    }
   ],
   "source": [
    "# Labeled test data\n",
    "# Let's first delete the datasets and learner\n",
    "del dsets, learn\n",
    "\n",
    "# Let's build the learner again\n",
    "dsets_fname = 'dsets'\n",
    "save_fname = 'learner'\n",
    "export_fname = 'export.pkl'\n",
    "\n",
    "dsets = torch.load(dsets_fname)\n",
    "learn = load_learner(export_fname, cpu=False)\n",
    "learn.load(save_fname)\n",
    "\n",
    "# And now we load a new dataset\n",
    "test_ds = dsets.add_test(X_in_memory, y_in_memory)\n",
    "test_dl = learn.dls[1].new(test_ds)\n",
    "b = next(iter(test_dl))\n",
    "b"
   ]
  },
  {
   "cell_type": "code",
   "execution_count": 272,
   "metadata": {
    "colab": {
     "base_uri": "https://localhost:8080/",
     "height": 170
    },
    "colab_type": "code",
    "hidden": true,
    "id": "Pz1N_GP-4wuA",
    "outputId": "9bd3b33a-93c8-436a-906e-2f8288bbaa77"
   },
   "outputs": [
    {
     "data": {
      "text/html": [],
      "text/plain": [
       "<IPython.core.display.HTML object>"
      ]
     },
     "metadata": {
      "tags": []
     },
     "output_type": "display_data"
    },
    {
     "data": {
      "text/plain": [
       "(tensor([[0.0707, 0.0150, 0.9143],\n",
       "         [0.2448, 0.0234, 0.7318],\n",
       "         [0.2458, 0.0253, 0.7289],\n",
       "         ...,\n",
       "         [0.2072, 0.0259, 0.7669],\n",
       "         [0.0265, 0.9401, 0.0334],\n",
       "         [0.0343, 0.0141, 0.9516]]),\n",
       " tensor([2, 2, 0,  ..., 0, 1, 2]),\n",
       " tensor([2, 2, 2,  ..., 2, 1, 2]))"
      ]
     },
     "execution_count": 272,
     "metadata": {
      "tags": []
     },
     "output_type": "execute_result"
    }
   ],
   "source": [
    "test_probas, test_targets, test_preds = learn.get_preds(dl=test_dl, with_decoded=True, save_preds=None, save_targs=None)\n",
    "test_probas, test_targets, test_preds"
   ]
  },
  {
   "cell_type": "markdown",
   "metadata": {
    "hidden": true
   },
   "source": [
    "### Add additional unlabeled test data"
   ]
  },
  {
   "cell_type": "code",
   "execution_count": 273,
   "metadata": {
    "colab": {
     "base_uri": "https://localhost:8080/",
     "height": 34
    },
    "colab_type": "code",
    "hidden": true,
    "id": "XEcoPG179AAc",
    "outputId": "c34ce962-82c7-4c6e-b6e9-40e114c8dc5a"
   },
   "outputs": [
    {
     "data": {
      "text/plain": [
       "(TSTensor(samples:128, vars:1, len:1024),)"
      ]
     },
     "execution_count": 273,
     "metadata": {
      "tags": []
     },
     "output_type": "execute_result"
    }
   ],
   "source": [
    "# Unlabeled test data\n",
    "# Let's first delete the datasets and learner\n",
    "del dsets, learn\n",
    "\n",
    "# Let's build the learner again\n",
    "dsets_fname = 'dsets'\n",
    "save_fname = 'learner'\n",
    "export_fname = 'export.pkl'\n",
    "\n",
    "dsets = torch.load(dsets_fname)\n",
    "learn = load_learner(export_fname, cpu=False)\n",
    "learn.load(save_fname)\n",
    "\n",
    "# And now we load a new dataset\n",
    "test_ds = dsets.add_test(X_in_memory)\n",
    "test_dl = learn.dls[1].new(test_ds)\n",
    "b = next(iter(test_dl))\n",
    "b"
   ]
  },
  {
   "cell_type": "code",
   "execution_count": 274,
   "metadata": {
    "colab": {
     "base_uri": "https://localhost:8080/",
     "height": 136
    },
    "colab_type": "code",
    "hidden": true,
    "id": "pxgxEajo9J5x",
    "outputId": "71aa52e7-1c54-4904-cc0b-e1cebe52c85d"
   },
   "outputs": [
    {
     "data": {
      "text/html": [],
      "text/plain": [
       "<IPython.core.display.HTML object>"
      ]
     },
     "metadata": {
      "tags": []
     },
     "output_type": "display_data"
    },
    {
     "data": {
      "text/plain": [
       "tensor([[0.0707, 0.0150, 0.9143],\n",
       "        [0.2448, 0.0234, 0.7318],\n",
       "        [0.2458, 0.0253, 0.7289],\n",
       "        ...,\n",
       "        [0.2072, 0.0259, 0.7669],\n",
       "        [0.0265, 0.9401, 0.0334],\n",
       "        [0.0343, 0.0141, 0.9516]])"
      ]
     },
     "execution_count": 274,
     "metadata": {
      "tags": []
     },
     "output_type": "execute_result"
    }
   ],
   "source": [
    "test_probas, *_ = learn.get_preds(dl=test_dl, save_preds=None)\n",
    "test_probas"
   ]
  },
  {
   "cell_type": "markdown",
   "metadata": {
    "hidden": true
   },
   "source": [
    "### Add additional unlabeled data"
   ]
  },
  {
   "cell_type": "code",
   "execution_count": 275,
   "metadata": {
    "colab": {
     "base_uri": "https://localhost:8080/",
     "height": 34
    },
    "colab_type": "code",
    "hidden": true,
    "id": "a24nKZRiOTpk",
    "outputId": "77272374-b26b-42d6-cbd3-6e7bfdb54b40"
   },
   "outputs": [
    {
     "data": {
      "text/plain": [
       "(TSTensor(samples:128, vars:1, len:1024),)"
      ]
     },
     "execution_count": 275,
     "metadata": {
      "tags": []
     },
     "output_type": "execute_result"
    }
   ],
   "source": [
    "# Unlabeled dataset\n",
    "# Let's first delete the datasets and learner\n",
    "del dsets, learn\n",
    "\n",
    "# Let's build the learner again\n",
    "dsets_fname = 'dsets'\n",
    "save_fname = 'learner'\n",
    "export_fname = 'export.pkl'\n",
    "\n",
    "dsets = torch.load(dsets_fname)\n",
    "learn = load_learner(export_fname, cpu=False)\n",
    "learn.load(save_fname)\n",
    "\n",
    "# And now we load a new datasets\n",
    "unlabeled_ds = dsets.add_unlabeled(X_in_memory)\n",
    "unlabeled_dl = learn.dls[1].new(unlabeled_ds)\n",
    "b = next(iter(unlabeled_dl))\n",
    "b"
   ]
  },
  {
   "cell_type": "code",
   "execution_count": 276,
   "metadata": {
    "colab": {
     "base_uri": "https://localhost:8080/",
     "height": 136
    },
    "colab_type": "code",
    "hidden": true,
    "id": "lNazOlUkTE5L",
    "outputId": "75c2d858-76c8-4811-8536-e028a2625015"
   },
   "outputs": [
    {
     "data": {
      "text/html": [],
      "text/plain": [
       "<IPython.core.display.HTML object>"
      ]
     },
     "metadata": {
      "tags": []
     },
     "output_type": "display_data"
    },
    {
     "data": {
      "text/plain": [
       "tensor([[0.0707, 0.0150, 0.9143],\n",
       "        [0.2448, 0.0234, 0.7318],\n",
       "        [0.2458, 0.0253, 0.7289],\n",
       "        ...,\n",
       "        [0.2072, 0.0259, 0.7669],\n",
       "        [0.0265, 0.9401, 0.0334],\n",
       "        [0.0343, 0.0141, 0.9516]])"
      ]
     },
     "execution_count": 276,
     "metadata": {
      "tags": []
     },
     "output_type": "execute_result"
    }
   ],
   "source": [
    "u_probas, *_ = learn.get_preds(dl=unlabeled_dl, save_preds=None)\n",
    "u_probas"
   ]
  },
  {
   "cell_type": "markdown",
   "metadata": {
    "heading_collapsed": true
   },
   "source": [
    "## Conclusions 🧠"
   ]
  },
  {
   "cell_type": "markdown",
   "metadata": {
    "colab": {},
    "colab_type": "code",
    "hidden": true,
    "id": "Ru10GKCDHiXK"
   },
   "source": [
    "We now have a dataloader that works with numpy arrays and meets all the requirements we set at the beginning of this notebook. The key benefits are: \n",
    "\n",
    "* We can use it with numpy arrays (or anything that can be converted into np arrays) with **any number of dimensions**\n",
    "* Easy to use scikit-learn type of API (X, (y)), useful for **labeled and unlabeled datasets**\n",
    "* We can also use **larger than RAM datasets**, keeping data on disk.\n",
    "* It has all the benefits of being integrated with fastai v2: \n",
    "    * Use item and batch tfms\n",
    "    * Show batch (with tfms)\n",
    "    * Show results\n",
    "    * We can export the learner, and predict on new data\n",
    "* And almost 40% faster than fastai v1 and 50% faster than generic fastai v2 (for numpy arrays)"
   ]
  }
 ],
 "metadata": {
  "accelerator": "GPU",
  "colab": {
   "name": "02_DataLoaders_benchmark_update3.ipynb",
   "provenance": []
  },
  "kernelspec": {
   "display_name": "Python 3",
   "language": "python",
   "name": "python3"
  },
  "language_info": {
   "codemirror_mode": {
    "name": "ipython",
    "version": 3
   },
   "file_extension": ".py",
   "mimetype": "text/x-python",
   "name": "python",
   "nbconvert_exporter": "python",
   "pygments_lexer": "ipython3",
   "version": "3.7.3"
  },
  "toc": {
   "base_numbering": 1,
   "nav_menu": {},
   "number_sections": true,
   "sideBar": true,
   "skip_h1_title": false,
   "title_cell": "Table of Contents",
   "title_sidebar": "Contents",
   "toc_cell": false,
   "toc_position": {},
   "toc_section_display": true,
   "toc_window_display": false
  }
 },
 "nbformat": 4,
 "nbformat_minor": 1
}
